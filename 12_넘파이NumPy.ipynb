{
 "cells": [
  {
   "cell_type": "markdown",
   "id": "d477f914",
   "metadata": {},
   "source": [
    "# NumPy 넘파이 (25.06.12 오후수업)\n",
    "\n",
    "\n",
    "### 라이브러리 설치\t\n",
    "1. pip install ipykernel\n",
    "2. pip install notebook\n",
    "3. pip install pillow\n",
    "4. pip install matplotlib"
   ]
  },
  {
   "cell_type": "markdown",
   "id": "b460ea79",
   "metadata": {},
   "source": [
    "### NumPy 이미지 예시\n",
    "\n",
    "![NumPy 설명 이미지](image/Numpy_nature.png)\n"
   ]
  },
  {
   "cell_type": "code",
   "execution_count": 8,
   "id": "8b0926c5",
   "metadata": {},
   "outputs": [],
   "source": [
    "import numpy as np  #numpy의 별칭 np"
   ]
  },
  {
   "cell_type": "markdown",
   "id": "d6627dd2",
   "metadata": {},
   "source": [
    "# 넘파이의 사용\n",
    "\n",
    "1. 데이터 분석 프로젝트 : 수치형 데이터의 요약, 통계, 시각화\n",
    "2. 이미지 처리 프로젝트 : 이미지 분석\n",
    "3. 게임, 시뮬레이션 프로그램 : 수치 시뮬레이션 등을 구현\n",
    "4. 머신러닝 / 딥러닝 모델 프로젝트 : 금융데이터, 의료데이터, 실험데이터, 센서데이터"
   ]
  },
  {
   "cell_type": "code",
   "execution_count": 9,
   "id": "37ae9292",
   "metadata": {},
   "outputs": [
    {
     "data": {
      "text/plain": [
       "[[120, 135, 150, 145], [100, 110, 140, 130], [90, 100, 95, 105]]"
      ]
     },
     "execution_count": 9,
     "metadata": {},
     "output_type": "execute_result"
    }
   ],
   "source": [
    "import numpy as np\n",
    "\n",
    "data = [\n",
    "    [120, 135, 150, 145],  # 제품A\n",
    "    [100, 110, 140, 130],  # 제품B\n",
    "    [90, 100, 95, 105] ]\n",
    "\n",
    "data"
   ]
  },
  {
   "cell_type": "code",
   "execution_count": 10,
   "id": "d9f9649c",
   "metadata": {},
   "outputs": [
    {
     "data": {
      "text/plain": [
       "array([550, 480, 390])"
      ]
     },
     "execution_count": 10,
     "metadata": {},
     "output_type": "execute_result"
    }
   ],
   "source": [
    "sales_data = np.array(data)\n",
    "np.sum(sales_data, axis=1)"
   ]
  },
  {
   "cell_type": "code",
   "execution_count": 11,
   "id": "2652e41b",
   "metadata": {},
   "outputs": [
    {
     "data": {
      "text/plain": [
       "array([7650, 8500, 9575, 9425])"
      ]
     },
     "execution_count": 11,
     "metadata": {},
     "output_type": "execute_result"
    }
   ],
   "source": [
    "profit_per_unit = np.array([20,30,25])\n",
    "total_sales = np.dot(profit_per_unit,sales_data)\n",
    "total_sales # 총 판매 금액"
   ]
  },
  {
   "cell_type": "markdown",
   "id": "73ea2815",
   "metadata": {},
   "source": [
    "# 이미지 처리\n",
    "\n",
    "pip install pillow"
   ]
  },
  {
   "cell_type": "code",
   "execution_count": 12,
   "id": "bae3a149",
   "metadata": {},
   "outputs": [
    {
     "ename": "FileNotFoundError",
     "evalue": "[Errno 2] No such file or directory: 'C:\\\\githome\\\\3week-hipython\\\\image\\\\gom1.jpg'",
     "output_type": "error",
     "traceback": [
      "\u001b[31m---------------------------------------------------------------------------\u001b[39m",
      "\u001b[31mFileNotFoundError\u001b[39m                         Traceback (most recent call last)",
      "\u001b[36mCell\u001b[39m\u001b[36m \u001b[39m\u001b[32mIn[12]\u001b[39m\u001b[32m, line 4\u001b[39m\n\u001b[32m      1\u001b[39m \u001b[38;5;28;01mimport\u001b[39;00m\u001b[38;5;250m \u001b[39m\u001b[34;01mnumpy\u001b[39;00m\u001b[38;5;250m \u001b[39m\u001b[38;5;28;01mas\u001b[39;00m\u001b[38;5;250m \u001b[39m\u001b[34;01mnp\u001b[39;00m\n\u001b[32m      2\u001b[39m \u001b[38;5;28;01mfrom\u001b[39;00m\u001b[38;5;250m \u001b[39m\u001b[34;01mPIL\u001b[39;00m\u001b[38;5;250m \u001b[39m\u001b[38;5;28;01mimport\u001b[39;00m Image\n\u001b[32m----> \u001b[39m\u001b[32m4\u001b[39m img = Image.open(\u001b[33m'\u001b[39m\u001b[33mC:\u001b[39m\u001b[38;5;130;01m\\\\\u001b[39;00m\u001b[33mgithome\u001b[39m\u001b[38;5;130;01m\\\\\u001b[39;00m\u001b[33m3week-hipython\u001b[39m\u001b[38;5;130;01m\\\\\u001b[39;00m\u001b[33mimage\u001b[39m\u001b[38;5;130;01m\\\\\u001b[39;00m\u001b[33mgom1.jpg\u001b[39m\u001b[33m'\u001b[39m)\n\u001b[32m      5\u001b[39m img_ary = np.array(img)\n\u001b[32m      7\u001b[39m bright_img = np.clip(img_ary + \u001b[32m10\u001b[39m, \u001b[32m0\u001b[39m, \u001b[32m255\u001b[39m).astype(np.uint8)\n",
      "\u001b[36mFile \u001b[39m\u001b[32mc:\\Users\\Admin\\miniconda3\\Lib\\site-packages\\PIL\\Image.py:3505\u001b[39m, in \u001b[36mopen\u001b[39m\u001b[34m(fp, mode, formats)\u001b[39m\n\u001b[32m   3502\u001b[39m     filename = os.fspath(fp)\n\u001b[32m   3504\u001b[39m \u001b[38;5;28;01mif\u001b[39;00m filename:\n\u001b[32m-> \u001b[39m\u001b[32m3505\u001b[39m     fp = builtins.open(filename, \u001b[33m\"\u001b[39m\u001b[33mrb\u001b[39m\u001b[33m\"\u001b[39m)\n\u001b[32m   3506\u001b[39m     exclusive_fp = \u001b[38;5;28;01mTrue\u001b[39;00m\n\u001b[32m   3507\u001b[39m \u001b[38;5;28;01melse\u001b[39;00m:\n",
      "\u001b[31mFileNotFoundError\u001b[39m: [Errno 2] No such file or directory: 'C:\\\\githome\\\\3week-hipython\\\\image\\\\gom1.jpg'"
     ]
    }
   ],
   "source": [
    "import numpy as np\n",
    "from PIL import Image\n",
    "\n",
    "img = Image.open('C:\\\\githome\\\\3week-hipython\\\\image\\\\gom1.jpg')\n",
    "img_ary = np.array(img)\n",
    "\n",
    "bright_img = np.clip(img_ary + 10, 0, 255).astype(np.uint8)\n"
   ]
  },
  {
   "cell_type": "markdown",
   "id": "056307a9",
   "metadata": {},
   "source": [
    "# 데이터 시뮬레이션\n",
    "\n",
    "pip install matplotlib"
   ]
  },
  {
   "cell_type": "code",
   "execution_count": null,
   "id": "830f524d",
   "metadata": {},
   "outputs": [
    {
     "name": "stderr",
     "output_type": "stream",
     "text": [
      "c:\\Users\\Admin\\miniconda3\\Lib\\site-packages\\IPython\\core\\pylabtools.py:170: UserWarning: Glyph 50948 (\\N{HANGUL SYLLABLE WI}) missing from font(s) DejaVu Sans.\n",
      "  fig.canvas.print_figure(bytes_io, **kw)\n",
      "c:\\Users\\Admin\\miniconda3\\Lib\\site-packages\\IPython\\core\\pylabtools.py:170: UserWarning: Glyph 52824 (\\N{HANGUL SYLLABLE CI}) missing from font(s) DejaVu Sans.\n",
      "  fig.canvas.print_figure(bytes_io, **kw)\n",
      "c:\\Users\\Admin\\miniconda3\\Lib\\site-packages\\IPython\\core\\pylabtools.py:170: UserWarning: Glyph 47004 (\\N{HANGUL SYLLABLE RAEN}) missing from font(s) DejaVu Sans.\n",
      "  fig.canvas.print_figure(bytes_io, **kw)\n",
      "c:\\Users\\Admin\\miniconda3\\Lib\\site-packages\\IPython\\core\\pylabtools.py:170: UserWarning: Glyph 45924 (\\N{HANGUL SYLLABLE DEOM}) missing from font(s) DejaVu Sans.\n",
      "  fig.canvas.print_figure(bytes_io, **kw)\n",
      "c:\\Users\\Admin\\miniconda3\\Lib\\site-packages\\IPython\\core\\pylabtools.py:170: UserWarning: Glyph 50892 (\\N{HANGUL SYLLABLE WEO}) missing from font(s) DejaVu Sans.\n",
      "  fig.canvas.print_figure(bytes_io, **kw)\n",
      "c:\\Users\\Admin\\miniconda3\\Lib\\site-packages\\IPython\\core\\pylabtools.py:170: UserWarning: Glyph 53356 (\\N{HANGUL SYLLABLE KEU}) missing from font(s) DejaVu Sans.\n",
      "  fig.canvas.print_figure(bytes_io, **kw)\n",
      "c:\\Users\\Admin\\miniconda3\\Lib\\site-packages\\IPython\\core\\pylabtools.py:170: UserWarning: Glyph 44152 (\\N{HANGUL SYLLABLE GEOL}) missing from font(s) DejaVu Sans.\n",
      "  fig.canvas.print_figure(bytes_io, **kw)\n",
      "c:\\Users\\Admin\\miniconda3\\Lib\\site-packages\\IPython\\core\\pylabtools.py:170: UserWarning: Glyph 51020 (\\N{HANGUL SYLLABLE EUM}) missing from font(s) DejaVu Sans.\n",
      "  fig.canvas.print_figure(bytes_io, **kw)\n",
      "c:\\Users\\Admin\\miniconda3\\Lib\\site-packages\\IPython\\core\\pylabtools.py:170: UserWarning: Glyph 49688 (\\N{HANGUL SYLLABLE SU}) missing from font(s) DejaVu Sans.\n",
      "  fig.canvas.print_figure(bytes_io, **kw)\n"
     ]
    },
    {
     "data": {
      "image/png": "[encoded data removed]",
      "text/plain": [
       "<Figure size 640x480 with 1 Axes>"
      ]
     },
     "metadata": {},
     "output_type": "display_data"
    }
   ],
   "source": [
    "import numpy as np\n",
    "import matplotlib.pyplot as plt\n",
    "\n",
    "n_step = 1000\n",
    "step = np.random.choice([-1, 1], size=n_step)\n",
    "walk = np.cumsum(step)\n",
    "\n",
    "plt.plot(walk)\n",
    "plt.title(\"랜덤 워크 (Random Walk)\")\n",
    "plt.xlabel(\"걸음 수 (Step)\")       # ✅ X축 이름\n",
    "plt.ylabel(\"위치 (Position)\")     # ✅ Y축 이름\n",
    "plt.grid(True)\n",
    "plt.show()\n"
   ]
  },
  {
   "cell_type": "markdown",
   "id": "4a16bd51",
   "metadata": {},
   "source": [
    "# 넘파이의 행렬\n",
    "- rank 0 : 스칼라\n",
    "\n",
    "- rank 1 : 벡터\n",
    "```python\n",
    "벡터의 표기\n",
    "\n",
    "- 1차원 : (1,2,3,4) → (4, ) 로 표기한다\n",
    "    - 여기에 행이 아래로 늘어나면 (4,2)가 아니라 (2,4)가 된다.\n",
    "    - 뒤가 아니라 앞에 표기를 추가 → 수학에서는 3x4로 읽기 때문\n",
    "- 2차원 : (1,2,3,4)가 3행 있으면 → (3,4)로 표기한다.\n",
    "    - (3x4) 행x열  → (행,열) 로 표기\n",
    "- 3차원 : (1,2,3,4)가 3행 그리고 뒤로 2개가 늘어나면 → (2,3,4)로 앞에 추가해서 표기한다.\n",
    "- 4차원 이상 : 차원이 늘어날 수록 ( ) 안의 숫자는 앞으로 늘어난다\n",
    "\n",
    "```\n",
    "\n",
    "- rank 2 : 행렬\n",
    "\n",
    "- rank 3 ~ : 텐서"
   ]
  },
  {
   "cell_type": "markdown",
   "id": "2c9251ef",
   "metadata": {},
   "source": [
    "넘파이의 핵심 객체로, 동일한 자료형의 데이터를 메모리에 물리적으로 연속하여 할당하며 인덱스로 접근할 수 있다.  \n",
    "**이 배열은 Python의 기본 리스트와 비교하여 연산 속도가 빠르고 메모리 사용량이 적다**\n",
    "\n",
    "넘파이 배열은 랭크와 차원을 갖는다. 랭크는 배열의 차원 수를 의미하며, 차원은 배열의 각 축의 크기를 결정한다.\n",
    "\n",
    "| Rank | 이 름 | 정의 | 예시 |\n",
    "| --- | --- | --- | --- |\n",
    "| 0 | 스칼라(scalar) | 배열에서 값을 표현하는 가장 기본 단위\n",
    "스칼라에는 하나의 실수(Real number)를 담을 수 있음 | 7 |\n",
    "| 1 | 벡터(vector) | 스칼라(값) 여러 개를 나열 자료형(리스트,튜플) | [10,10] |\n",
    "| 2 | 행렬(matrix) | 1차원 배열을 여러 개 묶은 배열 | [[10,10], [15,15]] |\n",
    "| 3 | 3차원 텐서(Tensor) | 벡터의 집합 | [[[1,5,9],[2,6,10]],[[3,7,11],[4,8,12]]] |\n",
    "| 4 | N차원 텐서 | 3차원 이상의 배열은 모두 텐서 |  |\n",
    "\n",
    "ndarray는 넘파이의 다차원 배열 객체이다.\n",
    "\n",
    "- 자료형이 모두 같은 데이터를 담은 다차원 배열.\n",
    "- 정수 또는 실수(부동 소수점 수)를 저장.\n",
    "- 배열 데이터에도 순서가 있으므로 인덱싱과 슬라이싱이 가능."
   ]
  },
  {
   "cell_type": "code",
   "execution_count": null,
   "id": "9dd2b385",
   "metadata": {},
   "outputs": [],
   "source": [
    "import numpy as np\n",
    "# 배열 생성\n",
    "arr = np.array([[1, 2, 3],\n",
    "                [4, 5, 6],\n",
    "                [7, 8, 9]])\n",
    "\n",
    "# 배열의 속성 확인\n",
    "print('배열의 차원:', arr.ndim)         # 2\n",
    "print('배열의 형태:', arr.shape)        # (3, 3)\n",
    "print('배열의 크기:', arr.size)         # 9\n",
    "print('배열의 데이터 타입:', arr.dtype) # int64\n",
    "print('배열 요소의 크기:', arr.itemsize) # 8 (바이트)\n",
    "print('배열의 strides:', arr.strides)   # (24, 8)"
   ]
  },
  {
   "cell_type": "code",
   "execution_count": null,
   "id": "d49bb80d",
   "metadata": {},
   "outputs": [],
   "source": [
    "tensor_list = [[[1,2,3,4],\n",
    "                [1,2,3,4],\n",
    "                [1,2,3,4]],  #4,3,4 > 2,3,4  > 3,4,2\n",
    "#                [[1,2,3,4],[1,2,3,4],[1,2,3,4]],\n",
    "#                [[1,2,3,4],[1,2,3,4],[1,2,3,4]], \n",
    "                [[1,2,3,4],[1,2,3,4],[1,2,3,4]]]\n",
    "type(tensor_list)"
   ]
  },
  {
   "cell_type": "code",
   "execution_count": null,
   "id": "3a7408c5",
   "metadata": {},
   "outputs": [],
   "source": [
    "arr1 = np.array(tensor_list)\n",
    "type(arr1)"
   ]
  },
  {
   "cell_type": "code",
   "execution_count": null,
   "id": "4ff29391",
   "metadata": {},
   "outputs": [],
   "source": [
    "arr1.shape #x,y,z > 면,행,열\n"
   ]
  },
  {
   "cell_type": "markdown",
   "id": "aea469ed",
   "metadata": {},
   "source": [
    "# 25.06.13(금) 오전수업\n",
    "\n",
    "## 배열의 속성\n",
    "\n",
    "| **속성** | **설명** |\n",
    "| --- | --- |\n",
    "| ndim | 배열의 차원 수를 나타내는 정수 - 랭크 |\n",
    "| shape | 각 차원의 크기를 나타내는 튜플 (예: (3,4)는 3행 4열) |\n",
    "| size | 배열의 전체 원소 개수 |\n",
    "| dtype | 배열 원소의 데이터 타입 (int32, float64 등) |\n",
    "| itemsize | 각 원소의 크기(바이트) |\n",
    "| strides | 각 차원을 이동할 때 필요한 바이트 수 |\n",
    "| data | 실제 배열 원소가 저장된 메모리 버퍼 |"
   ]
  },
  {
   "cell_type": "code",
   "execution_count": null,
   "id": "685081ba",
   "metadata": {},
   "outputs": [],
   "source": [
    "# 배열 생성\n",
    "arr = np.array([[1, 2, 3],\n",
    "                [4, 5, 6],\n",
    "                [7, 8, 9]])\n",
    "\n",
    "# 배열의 속성 확인\n",
    "print('배열의 차원:', arr.ndim)         # 2\n",
    "print('배열의 형태:', arr.shape)        # (3, 3)\n",
    "print('배열의 크기:', arr.size)         # 9\n",
    "print('배열의 데이터 타입:', arr.dtype) # int64\n",
    "print('배열 요소의 크기:', arr.itemsize) # 8 (바이트)\n",
    "print('배열의 strides:', arr.strides)   # (24, 8)"
   ]
  },
  {
   "cell_type": "code",
   "execution_count": null,
   "id": "48642d52",
   "metadata": {},
   "outputs": [],
   "source": [
    "arr1 = np.array(tensor_list) \n",
    "arr1"
   ]
  },
  {
   "cell_type": "code",
   "execution_count": null,
   "id": "587616a1",
   "metadata": {},
   "outputs": [],
   "source": [
    "arr1.shape # x,y,z > 면, 행, 열 z,x,y 순으로 적용된다."
   ]
  },
  {
   "cell_type": "code",
   "execution_count": null,
   "id": "fd84a0aa",
   "metadata": {},
   "outputs": [],
   "source": [
    "# type 변환\n",
    "list2 = [1,2,4,'5',10]\n",
    "type(list2)\n",
    "t_1 = np.array(list2)\n",
    "t_1.dtype, t_1"
   ]
  },
  {
   "cell_type": "code",
   "execution_count": null,
   "id": "dbbc87be",
   "metadata": {},
   "outputs": [],
   "source": [
    "np.array(list2,float).dtype"
   ]
  },
  {
   "cell_type": "markdown",
   "id": "8e0ed30a",
   "metadata": {},
   "source": [
    "# shape 속성"
   ]
  },
  {
   "cell_type": "code",
   "execution_count": null,
   "id": "74bdf5d8",
   "metadata": {},
   "outputs": [],
   "source": [
    "import numpy as np  # numpy 라이브러리를 불러옵니다. 배열(array) 처리에 유용한 라이브러리입니다.\n",
    "\n",
    "list2 = [1, 2, 3, 4, 5, 6, 7, 8]  # 1부터 8까지의 정수를 요소로 갖는 리스트를 생성합니다.\n",
    "t_2 = np.array(list2)  # 리스트를 NumPy 배열로 변환합니다.\n",
    "\n",
    "print(\"Shape:\", t_2.shape)   # 배열의 형태(모양)를 확인합니다. (8,)은 1차원 배열이며 요소가 8개임을 의미합니다.\n",
    "\n",
    "print(\"Dim:\", t_2.ndim)   # 배열의 차원 수를 확인합니다. 여기서는 1차원이므로 결과는 1이 됩니다.\n",
    "\n",
    "print(\"Shape:\", t_2.shape, \"Dim:\", t_2.ndim)"
   ]
  },
  {
   "cell_type": "markdown",
   "id": "7cf40bad",
   "metadata": {},
   "source": [
    "# 배열의 구조 변경"
   ]
  },
  {
   "cell_type": "code",
   "execution_count": null,
   "id": "db780f8c",
   "metadata": {},
   "outputs": [],
   "source": [
    "list3 = range(1,13)\n",
    "np.array(list3).reshape((3,4)) # 3행 4열\n"
   ]
  },
  {
   "cell_type": "code",
   "execution_count": null,
   "id": "4aecb86d",
   "metadata": {},
   "outputs": [],
   "source": [
    "list3 = range(1,13)\n",
    "\n",
    "np.array(list3).reshape((4,3)) # 4행 3열"
   ]
  },
  {
   "cell_type": "code",
   "execution_count": null,
   "id": "b15cea6f",
   "metadata": {},
   "outputs": [],
   "source": [
    "list4 = np.array([1,2,3])\n",
    "list4.reshape((1,3))"
   ]
  },
  {
   "cell_type": "code",
   "execution_count": null,
   "id": "f3b4d42c",
   "metadata": {},
   "outputs": [],
   "source": [
    "list4 = np.array([1,2,3])\n",
    "\n",
    "list4.reshape((3,1))"
   ]
  },
  {
   "cell_type": "code",
   "execution_count": null,
   "id": "a951eb96",
   "metadata": {},
   "outputs": [],
   "source": [
    "import numpy as np  # numpy 라이브러리를 불러옵니다. 배열(array) 처리에 유용한 라이브러리입니다.\n",
    "\n",
    "np.newaxis"
   ]
  },
  {
   "cell_type": "code",
   "execution_count": null,
   "id": "19e32174",
   "metadata": {},
   "outputs": [],
   "source": [
    "#list4.reshape(1,3))\n",
    "list4[np.newaxis, :]"
   ]
  },
  {
   "cell_type": "code",
   "execution_count": null,
   "id": "4f29e78d",
   "metadata": {},
   "outputs": [],
   "source": [
    "list4[ : , np.newaxis]"
   ]
  },
  {
   "cell_type": "markdown",
   "id": "09f7e232",
   "metadata": {},
   "source": [
    "## arange()\n",
    "\n",
    "range(시작, 끝,스탭)"
   ]
  },
  {
   "cell_type": "code",
   "execution_count": null,
   "id": "01b1d8ce",
   "metadata": {},
   "outputs": [],
   "source": [
    "np.arange(10)\n",
    "\n",
    "# array([0, 1, 2, 3, 4, 5, 6, 7, 8, 9]) 출력됨"
   ]
  },
  {
   "cell_type": "code",
   "execution_count": null,
   "id": "5bf791b8",
   "metadata": {},
   "outputs": [],
   "source": [
    "np.arange(-5,5)"
   ]
  },
  {
   "cell_type": "code",
   "execution_count": null,
   "id": "5469c265",
   "metadata": {},
   "outputs": [],
   "source": [
    "np.arange(0,5,0.5)"
   ]
  },
  {
   "cell_type": "code",
   "execution_count": null,
   "id": "24841055",
   "metadata": {},
   "outputs": [],
   "source": [
    "# arange 2행 3열 실습\n",
    "np.arange(1,7).reshape((2,3)).shape"
   ]
  },
  {
   "cell_type": "code",
   "execution_count": null,
   "id": "c68c62a8",
   "metadata": {},
   "outputs": [],
   "source": [
    "import numpy as np\n",
    "# arange 2행 3열 실습\n",
    "\n",
    "arr = np.arange(1, 7).reshape((2, 3))  # 1~6까지의 값을 2행 3열 배열로 생성\n",
    "print(\"배열 내용:\\n\", arr)              # 배열 자체 출력\n",
    "print(\"배열 형태:\", arr.shape)         # 배열의 shape 출력\n"
   ]
  },
  {
   "cell_type": "code",
   "execution_count": null,
   "id": "617b9942",
   "metadata": {},
   "outputs": [],
   "source": [
    "#2면 3행 5열\n",
    "np.arange(1, 25).reshape((2,3,4))"
   ]
  },
  {
   "cell_type": "code",
   "execution_count": null,
   "id": "e763bd9f",
   "metadata": {},
   "outputs": [],
   "source": [
    "#\n",
    "np.arange(1, 25).reshape((2,3,4)).reshape((24))\n"
   ]
  },
  {
   "cell_type": "code",
   "execution_count": null,
   "id": "70336300",
   "metadata": {},
   "outputs": [],
   "source": [
    "np.arange(1, 25).reshape((2,3,4)).reshape(-1) # 기본 차원으로 너가 알아서해 개념. -1"
   ]
  },
  {
   "cell_type": "code",
   "execution_count": null,
   "id": "faa14496",
   "metadata": {},
   "outputs": [],
   "source": [
    "import numpy as np\n",
    "\n",
    "# 1부터 24까지의 값을 가지는 배열을 생성하고, 이를 (2, 3, 4)의 3차원 배열로 변형\n",
    "arr = np.arange(1, 25).reshape((2, 3, 4))  # 총 원소 수는 2×3×4 = 24\n",
    "print(\"3차원 배열 (2면, 3행, 4열):\\n\", arr)\n",
    "\n",
    "# 이 배열을 다시 1차원 배열로 평탄화(flatten)하는 첫 번째 방법\n",
    "flat1 = arr.reshape((24))  # 직접 1차원으로 지정 (원소 24개)\n",
    "print(\"\\n1차원 배열 (reshape(24)):\\n\", flat1)\n",
    "\n",
    "# 이 배열을 다시 1차원 배열로 평탄화하는 두 번째 방법\n",
    "flat2 = arr.reshape(-1)  # -1은 '자동으로 계산해줘'라는 의미 (여기선 24로 계산됨)\n",
    "print(\"\\n1차원 배열 (reshape(-1)):\\n\", flat2)\n"
   ]
  },
  {
   "cell_type": "markdown",
   "id": "e7ed470c",
   "metadata": {},
   "source": [
    "# 배열의 생성\n",
    "\n",
    "넘파이 배열을 생성하는 가장 기본적인 방법은 파이썬 리스트를 np.array() 함수에 전달하는 것이다. \n",
    "\n",
    "그 외에도 np.zeros(), np.ones(), np.arange() 등의 특수한 함수들을 사용하여 다양한 형태의 배열을 생성할 수 있다."
   ]
  },
  {
   "cell_type": "code",
   "execution_count": null,
   "id": "d3b139e5",
   "metadata": {},
   "outputs": [],
   "source": [
    "#리스트로부터 배열 생성\n",
    "\n",
    "arr1 = np.array([1,2,3,4,5])\n",
    "print(arr1)"
   ]
  },
  {
   "cell_type": "code",
   "execution_count": null,
   "id": "ba665acb",
   "metadata": {},
   "outputs": [],
   "source": [
    "# 0으로 채워진 배열 생성\n",
    "\n",
    "arr2 = np.zeros(5)\n",
    "print(arr2)"
   ]
  },
  {
   "cell_type": "code",
   "execution_count": null,
   "id": "d56471b3",
   "metadata": {},
   "outputs": [],
   "source": [
    "# 1로 채워진 배열 생성\n",
    "arr3 = np.ones((3,3))\n",
    "print(arr3)"
   ]
  },
  {
   "cell_type": "code",
   "execution_count": null,
   "id": "ab5f7830",
   "metadata": {},
   "outputs": [],
   "source": [
    "# 1부터 10까지 2씩 증가하는 배열\n",
    "range_arr = np.arange(1,10,2)\n",
    "print(range_arr)"
   ]
  },
  {
   "cell_type": "code",
   "execution_count": null,
   "id": "eb8cd0fb",
   "metadata": {},
   "outputs": [],
   "source": [
    "# 0부터 100까지 5개의 숫자를 균등 간격으로 생성\n",
    "\n",
    "linspace_arr = np.linspace(0, 100,5)\n",
    "print(linspace_arr)"
   ]
  },
  {
   "cell_type": "code",
   "execution_count": null,
   "id": "ddfe70d2",
   "metadata": {},
   "outputs": [],
   "source": [
    "# 2행 3열의 랜덤 값 배열(0~1사이)\n",
    "random_arr = np.random.rand(2,3)\n",
    "print(random_arr)"
   ]
  },
  {
   "cell_type": "markdown",
   "id": "c0ac5667",
   "metadata": {},
   "source": [
    "2차원 배열은 행렬(matrix)의 형태로, 행과 열로 구성된 데이터 구조이다. \n",
    "\n",
    "넘파이에서는 리스트의 리스트를 사용하여 2차원 배열을 생성할 수 있다."
   ]
  },
  {
   "cell_type": "code",
   "execution_count": null,
   "id": "cd021dda",
   "metadata": {},
   "outputs": [],
   "source": [
    "# 2차원 배열 생성\n",
    "arr = np.array([[1,2],[3,4]])\n",
    "\n",
    "print(arr)"
   ]
  },
  {
   "cell_type": "markdown",
   "id": "137a8732",
   "metadata": {},
   "source": [
    "3차원 배열은 2차원 배열이 여러 개 쌓인 형태로, 깊이(depth), 행(row), 열(column)로 구성된다.\n",
    "\n",
    " 3차원 배열은 이미지 처리나 시계열 데이터 분석 등에서 자주 사용된다."
   ]
  },
  {
   "cell_type": "code",
   "execution_count": null,
   "id": "8ab5c121",
   "metadata": {},
   "outputs": [],
   "source": [
    "# 3차원 배열 생성\n",
    "import numpy as np\n",
    "\n",
    "arr_3d = np.array([[[1, 2], [3, 4]],\n",
    "                  [[5, 6], [7, 8]],\n",
    "                  [[9, 10], [11, 12]]])\n",
    "print(arr_3d)\n",
    "\n",
    "#배열의 shpae 확인\n",
    "print(arr_3d.shape) # (3,2,2) - 3개의 2x2행렬\n",
    "\n",
    "\n",
    "# - 3차원 배열은 3개의 2x2 행렬로 구성되어 있다.\n",
    "#     - 첫 번째 차원(3): 깊이 - 행렬의 개수\n",
    "#     - 두 번째 차원(2): 행 - 각 행렬의 행 개수\n",
    "#     - 세 번째 차원(2): 열 - 각 행렬의 열 개수\n",
    "    \n",
    "#     3차원 배열은 각 요소에 접근할 때 세 개의 인덱스가 필요하다. \n",
    "    \n",
    "#     예를 들어, arr_3d[0,1,1]은 첫 번째 행렬의 두 번째 행, 두 번째 열의 요소를 가리킨다."
   ]
  },
  {
   "cell_type": "markdown",
   "id": "8e620961",
   "metadata": {},
   "source": [
    "**단위행렬과 대각행렬의 생성**\n",
    "\n",
    "넘파이는 특수한 형태의 행렬을 생성하는 함수들을 제공한다. \n",
    "\n",
    "np.identity()는 단위행렬을, np.diag()는 대각행렬을 생성하는 데 사용된다."
   ]
  },
  {
   "cell_type": "code",
   "execution_count": null,
   "id": "e1ae0342",
   "metadata": {},
   "outputs": [],
   "source": [
    "# 3x3 단위행렬 생성\n",
    "identity_matrix = np.identity(3)\n",
    "print(identity_matrix)\n",
    "\n",
    "# 대각원소가 [1,2,3]인 대각행렬 생성\n",
    "diagonal_matrix = np.diag([1,2,3])\n",
    "print(\"대각원소\",diagonal_matrix)\n",
    "\n",
    "a = np.arange(9).reshape(3,3)\n",
    "diagonal_matrix_value = np.diag(a)\n",
    "print(\"예제3\",diagonal_matrix_value)"
   ]
  },
  {
   "cell_type": "markdown",
   "id": "84f60f86",
   "metadata": {},
   "source": [
    "- 단위행렬과 대각행렬의 특징\n",
    "    - 단위행렬(Identity Matrix)은 주대각선의 원소가 모두 1이고 나머지는 0인 정방행렬이다.\n",
    "    - 대각행렬(Diagonal Matrix)은 주대각선을 제외한 모든 원소가 0인 정방행렬이다.\n",
    "    - 이러한 특수한 행렬들은 선형대수학에서 중요한 역할을 하며, 행렬 연산을 단순화하는 데 사용된다."
   ]
  },
  {
   "cell_type": "markdown",
   "id": "1c9daf55",
   "metadata": {},
   "source": [
    "np.eye() 함수는 대각선이 1이고 나머지가 0인 2차원 배열을 생성하는 함수이다. \n",
    "\n",
    "identity() 함수와 유사하지만, 직사각형 행렬을 만들 수 있고 대각선의 위치를 조절할 수 있다는 점에서 더 유연하다."
   ]
  },
  {
   "cell_type": "code",
   "execution_count": null,
   "id": "2ec6d7c0",
   "metadata": {},
   "outputs": [],
   "source": [
    "# 3x3 단위행렬 생성(N=3)\n",
    "\n",
    "eye_matrix = np.eye(3)\n",
    "print(\"eye_matrix\",eye_matrix)\n",
    "\n",
    "# 4x3 직사각형 행렬 행성 ( N=4, M=3)\n",
    "rect_eye = np.eye(4,3)\n",
    "print(\"rect_eye\",rect_eye)\n",
    "\n",
    "# k 매개변수로 대각선 위치 조정 (k=1은 주대각선 위로 한 칸)\n",
    "shifted_eye = np.eye(3, k=1)\n",
    "print(\"shifted_eye\",shifted_eye)"
   ]
  },
  {
   "cell_type": "markdown",
   "id": "1a15f991",
   "metadata": {},
   "source": [
    "- np.eye() 함수의 주요 매개변수\n",
    "    - N: 출력 배열의 행 수\n",
    "    - M: 출력 배열의 열 수 (지정하지 않으면 N과 동일)\n",
    "    - k: 대각선의 위치 (0은 주대각선, 양수는 위로, 음수는 아래로 이동)\n",
    "    - dtype: 출력 배열의 데이터 타입 (기본값: float)\n",
    "\n",
    "\n",
    "- np.eye() 함수는 'identity matrix'(단위행렬)를 시각적으로 표현한 것이다.\n",
    "단위행렬의 모양이 마치 대각선에 '눈'(eye)이 있는 것처럼 보이기 때문이다. 대각선의 1들이 눈처럼 보이는 모양에서 유래했다."
   ]
  },
  {
   "cell_type": "markdown",
   "id": "cfe8e826",
   "metadata": {},
   "source": [
    "empty_like(), ones_like(), zeros_like(), full_like() 함수들은 기존 배열과 동일한 shape와 dtype을 가진 새로운 배열을 생성하는 데 사용된다."
   ]
  },
  {
   "cell_type": "code",
   "execution_count": null,
   "id": "de8ac1ad",
   "metadata": {},
   "outputs": [],
   "source": [
    "import numpy as np\n",
    "\n",
    "\n",
    "# 기존 배열\n",
    "arr = np.array([[1,2,3], [4,5,6]])\n",
    "print(\"arr\", arr)\n",
    "\n",
    "# empty_like(): 초기화되지 않은 배열 생성\n",
    "empty_arr = np.empty_like(arr)\n",
    "print(\"empty_arr\", empty_arr)\n",
    "\n",
    "# zeros_like() : 0으로 채워진 배열 생성\n",
    "zeros_arr = np.zeros_like(arr)\n",
    "print(\"zeros_arr\", zeros_arr)\n",
    "\n",
    "# ones_like() : 1로 채워진 배열 생성\n",
    "ones_arr = np.ones_like(arr)\n",
    "print(\"ones_arr\", ones_arr)\n",
    "\n",
    "# full_like() : 지정된 값으로 채워진 배열 생성\n",
    "full_arr = np.full_like(arr, 7) # 7로 채워진 배열\n",
    "print(full_arr)\n",
    "\n",
    "print(\"원본 배열의 shape:\", arr.shape)\n",
    "print(\"zeros_like 결과:\\n\", zeros_arr)\n",
    "print(\"ones_like 결과:\\n\", ones_arr)\n",
    "print(\"full_like 결과:\\n\", full_arr)\n",
    "\n"
   ]
  },
  {
   "cell_type": "markdown",
   "id": "e9530222",
   "metadata": {
    "vscode": {
     "languageId": "ini"
    }
   },
   "source": [
    "- _like() 함수들의 특징\n",
    "    - 기존 배열의 shape와 dtype을 그대로 복사하여 새로운 배열을 생성한다\n",
    "    - 메모리 재사용이 필요한 경우나 동일한 크기의 배열을 여러 개 생성해야 할 때 유용하다\n",
    "    - empty_like()는 메모리만 할당하고 초기화하지 않아 가장 빠르지만, 임의의 값이 들어있을 수 있다\n",
    "    - 데이터 타입을 변경하고 싶은 경우 dtype 매개변수를 사용할 수 있다"
   ]
  },
  {
   "cell_type": "markdown",
   "id": "6555f25b",
   "metadata": {},
   "source": [
    "# 넘파이의 난수 생성 함수\n",
    "\n",
    "np.random 패키지는 다양한 확률 분포에 따른 난수를 생성하는 함수들을 제공한다.\n",
    "\n",
    "- np.random 패키지의 주요 함수들\n",
    "    - rand(): 0과 1 사이의 균일 분포 난수 생성\n",
    "    - randn(): 표준 정규 분포(평균 0, 표준편차 1)의 난수 생성\n",
    "    - randint(): 지정된 범위 내의 정수 난수 생성\n",
    "    - seed(): 난수 생성을 위한 시드값 설정 (재현성 확보)\n",
    "    - shuffle(): 배열의 원소를 무작위로 섞음\n",
    "    - choice(): 주어진 1차원 배열에서 무작위로 샘플 추출"
   ]
  },
  {
   "cell_type": "code",
   "execution_count": null,
   "id": "0113b83a",
   "metadata": {},
   "outputs": [],
   "source": [
    "# 0과 1 사이의 균일 분포 난수\n",
    "random_uniform = np.random.rand(2, 3)  # 2x3 행렬\n",
    "print(random_uniform)\n",
    "\n",
    "# 표준 정규 분포 난수\n",
    "random_normal = np.random.randn(2, 3)  # 2x3 행렬\n",
    "print(random_normal)\n",
    "\n",
    "# 정수 난수 (최소값, 최대값-1, 크기)\n",
    "random_int = np.random.randint(0, 10, (2, 3))  # 0~9 사이의 정수로 된 2x3 행렬\n",
    "print(random_int)\n",
    "\n",
    "# 시드 설정 - 재현 가능한 난수 생성\n",
    "np.random.seed(42)\n",
    "random_seeded = np.random.rand(3)\n",
    "print(random_seeded)"
   ]
  },
  {
   "cell_type": "markdown",
   "id": "be1deef9",
   "metadata": {},
   "source": [
    "# 데이터 분석에서의 난수 생성 활용 사례\n",
    "\n",
    "- 난수 생성의 주요 활용 분야\n",
    "    - 데이터 샘플링: 큰 데이터셋에서 대표 샘플을 추출할 때 사용\n",
    "    - 교차 검증: 머신러닝 모델의 성능 평가를 위한 데이터 분할\n",
    "    - 시뮬레이션: 다양한 확률 분포를 따르는 가상 데이터 생성\n",
    "    - 랜덤 초기화: 신경망의 가중치 초기화 등에 활용"
   ]
  },
  {
   "cell_type": "code",
   "execution_count": null,
   "id": "48c0a28e",
   "metadata": {},
   "outputs": [],
   "source": [
    "# 1. 데이터 샘플링\n",
    "population = np.array([1, 2, 3, 4, 5, 6, 7, 8, 9, 10])\n",
    "samples = np.random.choice(population, size=5, replace=False)\n",
    "print(\"무작위 샘플:\", samples)\n",
    "\n",
    "# 2. 데이터 셔플링\n",
    "data = np.arange(10)\n",
    "np.random.shuffle(data)\n",
    "print(\"셔플된 데이터:\", data)\n",
    "\n",
    "# 3. 확률 분포에 따른 데이터 생성\n",
    "# 정규 분포 (평균=0, 표준편차=1)\n",
    "normal_dist = np.random.normal(0, 1, 1000)\n",
    "\n",
    "# 이항 분포 (n=10, p=0.5)\n",
    "binomial_dist = np.random.binomial(n=10, p=0.5, size=1000)\n",
    "\n",
    "# 포아송 분포 (lambda=2)\n",
    "poisson_dist = np.random.poisson(lam=2, size=1000)"
   ]
  },
  {
   "cell_type": "markdown",
   "id": "cda99880",
   "metadata": {},
   "source": [
    "**dtype 속성과 데이터 타입**\n",
    "\n",
    "NumPy 배열의 모든 요소는 동일한 데이터 타입을 가져야 하며, 이는 dtype 속성으로 확인할 수 있다. \n",
    "\n",
    "dtype은 배열의 메모리 사용량과 연산 효율성에 직접적인 영향을 미친다."
   ]
  },
  {
   "cell_type": "code",
   "execution_count": null,
   "id": "e6d55a15",
   "metadata": {},
   "outputs": [
    {
     "name": "stdout",
     "output_type": "stream",
     "text": [
      "정수 배열의 dtype: int32\n",
      "실수 배열의 dtype: float64\n",
      "불리언 배열의 dtype: bool\n"
     ]
    }
   ],
   "source": [
    "import numpy as np\n",
    "\n",
    "# 다양한 데이터 타입의 배열 생성\n",
    "# dtype 속성 : np.in32 상수, 'int32'문자열 형식으로 지정\n",
    "int_array = np.array([1,2,3], dtype=np.int32)\n",
    "float_array = np.array([1.0, 2.0, 3.0], dtype=np.float64)\n",
    "bool_array = np.array([True, False, True], dtype=np.bool_)\n",
    "\n",
    "print(\"정수 배열의 dtype:\", int_array.dtype)\n",
    "print(\"실수 배열의 dtype:\", float_array.dtype)\n",
    "print(\"불리언 배열의 dtype:\", bool_array.dtype)"
   ]
  },
  {
   "cell_type": "markdown",
   "id": "0f6f2a2b",
   "metadata": {},
   "source": [
    "---\n",
    "\n",
    "\n",
    "### **NumPy의 주요 데이터 타입들**\n",
    "\n",
    "| 분류 | 데이터 타입 |\n",
    "| --- | --- |\n",
    "| 정수형 | int8, int16, int32, int64, uint8, uint16, uint32, uint64 |\n",
    "| 실수형 | float16, float32, float64, float128 |\n",
    "| 복소수형 | complex64, complex128 |\n",
    "| 불리언 | bool_ |\n",
    "| 문자열 | string_, unicode_ |\n",
    "- int16, int32, int64는 배열의 크기에 따라 선택: 작은 범위의 정수(-32,768 ~ 32,767)는 int16을, 중간 범위(-2^31 ~ 2^31-1)는 int32를, 매우 큰 정수는 int64를 사용\n",
    "- 메모리 최적화: 이미지 처리에서 픽셀 값(0-255)을 저장할 때는 uint8을 사용하여 메모리 효율성 확보\n",
    "- 성능 고려: 대규모 계산에서는 필요한 최소 비트 수의 데이터 타입을 선택하여 처리 속도 향상\n",
    "- float32는 단정도(single precision) 부동소수점으로, 메모리 효율성이 중요한 대규모 수치 연산이나 딥러닝에서 주로 사용됩니다.\n",
    "- float64는 배정도(double precision) 부동소수점으로, 높은 정밀도가 필요한 과학 계산이나 금융 계산에서 사용됩니다.\n",
    "\n",
    "\n",
    "데이터 타입 변환은 astype() 메서드를 사용하여 수행할 수 있다:\n",
    "***데이터 타입 변환 예제***\n",
    "```python\n",
    "float_arr = np.array([1.1, 2.2, 3.3])\n",
    "int_arr = float_arr.astype(np.int32)  # 실수를 정수로 변환\n",
    "print(\"변환 전:\", float_arr, float_arr.dtype)\n",
    "print(\"변환 후:\", int_arr, int_arr.dtype)\n",
    "```\n",
    "\n",
    "---"
   ]
  },
  {
   "cell_type": "markdown",
   "id": "8537c618",
   "metadata": {},
   "source": [
    "## 배열의 구조 변경\n",
    "\n",
    " **arange()** 함수를 사용하여 정수 간격의 균일한 값을 갖는 배열을 생성하고, \n",
    "\n",
    "**reshape()** 함수를 활용하여 생성된 배열의 차원과 형태를 자유롭게 변경하여 생성한다.\n",
    "\n",
    "```python\n",
    "# 1차원 배열 생성\n",
    "a = np.arange(12)\n",
    "print(a)  # [ 0  1  2  3  4  5  6  7  8  9 10 11]\n",
    "\n",
    "# 2차원 배열로 변환 (3x4)\n",
    "b = a.reshape(3, 4)\n",
    "print(b)\n",
    "# [[ 0  1  2  3]\n",
    "#  [ 4  5  6  7]\n",
    "#  [ 8  9 10 11]]\n",
    "\n",
    "# 3차원 배열로 변환 (2x2x3)\n",
    "c = a.reshape(2, 2, 3)\n",
    "print(c)\n",
    "# [[[ 0  1  2]\n",
    "#   [ 3  4  5]]\n",
    "#  [[ 6  7  8]\n",
    "#   [ 9 10 11]]]\n",
    "```\n",
    "\n",
    "위의 예제는 arange() 함수로 0부터 11까지의 1차원 배열을 생성한 후, reshape() 함수를 사용하여 2차원(3x4), 3차원(2x2x3) 배열로 변환하는 과정을 보여준다.\n",
    "\n",
    "![image.png](attachment:0c4175c9-d0d7-49e9-b7ff-ba8ca06e6345:image.png)\n",
    "\n",
    "4차원 배열은 다음과 같이 3차원 배열이 여러 개 모인 형태를 가진다:\n",
    "\n",
    "```python\n",
    "# 4x3x4x3 행렬 생성\n",
    "arr_4d_example = np.arange(144).reshape(4, 3, 4, 3)\n",
    "print(arr_4d_example.shape)  # (4, 3, 4, 3)\n",
    "print(arr_4d_example)\n",
    "```\n",
    "\n",
    "- 이 4차원 배열의 구조는 다음과 같다:\n",
    "    - 첫 번째 차원(4): 4개의 블록\n",
    "    - 두 번째 차원(3): 각 블록 내 3개의 행렬\n",
    "    - 세 번째 차원(4): 각 행렬의 4개 행\n",
    "    - 네 번째 차원(3): 각 행의 3개 열\n",
    "    \n",
    "    이렇게 생성된 배열은 총 144개(4 × 3 × 4 × 3)의 요소를 포함한다.\n",
    "    \n",
    "\n",
    "4차원 이상의 배열은 과학 계산, 딥러닝 등 고차원 데이터를 다루는 분야에서 주로 사용된다.\n",
    "\n",
    "--- \n",
    "# 배열 연산\n",
    "\n",
    "### **배열과 스칼라(상수) 간의 연산**\n",
    "\n",
    "**배열⟨연산자⟩상수** 또는 **상수⟨연산자⟩배열**의 형태로 수행됩니다.\n",
    "\n",
    "예를 들어, arr이라는 배열이 있을 때 다음과 같은 연산이 가능합니다:\n",
    "\n",
    "```python\n",
    "import numpy as np\n",
    "\n",
    "arr = np.array([1, 2, 3, 4, 5])\n",
    "print(arr + 2)  # [3, 4, 5, 6, 7]\n",
    "print(arr * 3)  # [3, 6, 9, 12, 15]\n",
    "print(2 ** arr)  # [2, 4, 8, 16, 32]\n",
    "```\n",
    "\n",
    "이러한 연산은 배열의 각 요소에 대해 독립적으로 적용되며, 파이썬의 일반적인 for 루프를 사용하는 것보다 훨씬 효율적입니다.\n",
    "\n",
    "### 기본 산술 연산\n",
    "\n",
    "NumPy는 배열 간의 기본적인 산술 연산을 매우 효율적으로 수행할 수 있다.\n",
    "\n",
    "```python\n",
    "# 기본 산술 연산 예제\n",
    "arr1 = np.array([1, 2, 3, 4])\n",
    "arr2 = np.array([5, 6, 7, 8])\n",
    "\n",
    "# 덧셈\n",
    "print(\"덧셈:\", arr1 + arr2)  # [6 8 10 12]\n",
    "\n",
    "# 뺄셈\n",
    "print(\"뺄셈:\", arr2 - arr1)  # [4 4 4 4]\n",
    "\n",
    "# 곱셈\n",
    "print(\"곱셈:\", arr1 * arr2)  # [5 12 21 32]\n",
    "\n",
    "# 나눗셈\n",
    "print(\"나눗셈:\", arr2 / arr1)  # [5. 3. 2.33... 2.]\n",
    "\n",
    "# 제곱\n",
    "print(\"제곱:\", np.square(arr1))  # [1 4 9 16]\n",
    "\n",
    "# 제곱근\n",
    "print(\"제곱근:\", np.sqrt(arr1))  # [1. 1.41421356 1.73205081 2.]\n",
    "\n",
    "# 지수\n",
    "print(\"지수:\", np.exp(arr1))  # [2.71828183 7.3890561 20.08553692 54.59815003]\n",
    "\n",
    "# 로그\n",
    "print(\"로그:\", np.log(arr1))  # [0. 0.69314718 1.09861229 1.38629436]\n",
    "```\n",
    "\n",
    "이러한 산술 연산들은 배열의 각 요소에 대해 병렬적으로 수행되며, 파이썬의 일반적인 반복문보다 훨씬 빠른 성능을 제공한다.\n",
    "\n",
    "**배열 간의 사칙연산(덧셈, 뺄셈, 곱셈, 나눗셈)을 수행할 때는** \n",
    "\n",
    "기본적으로 두 배열의 shape이 동일해야 한다. \n",
    "\n",
    "shape이 다른 경우에는 브로드캐스팅 규칙이 적용되지 않는 한 오류가 발생한다.\n",
    "\n",
    "```python\n",
    "# shape이 같은 배열 간의 연산\n",
    "a = np.array([[1, 2], [3, 4]])\n",
    "b = np.array([[5, 6], [7, 8]])\n",
    "\n",
    "print(\"덧셈:\\n\", a + b)\n",
    "print(\"뺄셈:\\n\", a - b)\n",
    "print(\"곱셈:\\n\", a * b)\n",
    "print(\"나눗셈:\\n\", a / b)\n",
    "\n",
    "# shape이 다른 경우 오류 발생\n",
    "c = np.array([[1, 2, 3], [4, 5, 6]])  # shape: (2, 3)\n",
    "d = np.array([[1, 2], [3, 4]])        # shape: (2, 2)\n",
    "\n",
    "# 이 연산은 오류를 발생시킴\n",
    "# print(c + d)  # ValueError: operands could not be broadcast together\n",
    "```\n",
    "\n",
    "shape이 맞지 않는 배열 간의 연산을 수행하려면, reshape() 함수를 사용하여 배열의 shape을 먼저 맞추거나, 브로드캐스팅 규칙에 부합하도록 배열을 수정해야 한다.\n",
    "\n",
    "행렬 곱셈을 수행하려면 첫 번째 행렬의 열 수와 두 번째 행렬의 행 수가 일치해야 한다\n",
    "\n",
    "--- \n",
    "\n",
    "### **비교 연산**\n",
    "\n",
    "NumPy 배열에서는 비교 연산자(==, !=, >, <, >=, <=)를 사용하여 배열의 각 요소에 대해 개별적인 비교를 수행한다. 이러한 비교는 요소별로 이루어지며, 배열의 모든 요소에 대해 동시에 적용된다.\n",
    "\n",
    "비교 연산의 결과는 True와 False 값으로 구성된 불리언(Boolean) 배열로 반환되며, 이는 데이터 필터링이나 조건부 연산에 매우 유용하게 활용된다.\n",
    "\n",
    "```python\n",
    "# 비교 연산 예제\n",
    "arr1 = np.array([1, 2, 3, 4, 5])\n",
    "arr2 = np.array([1, 3, 3, 0, 5])\n",
    "\n",
    "# 같음 비교\n",
    "print(\"같음:\", arr1 == arr2)  # [ True False  True False  True]\n",
    "\n",
    "# 크기 비교\n",
    "print(\"더 큼:\", arr1 > arr2)  # [False False False  True False]\n",
    "print(\"더 작음:\", arr1 < arr2)  # [False  True False False False]\n",
    "\n",
    "# 논리 연산 결합\n",
    "mask = (arr1 >= 3) & (arr2 <= 4)\n",
    "print(\"복합 조건:\", mask)  # [False False  True False False]\n",
    "\n",
    "# 비교 결과를 이용한 필터링\n",
    "filtered = arr1[arr1 > 3]\n",
    "print(\"3보다 큰 값:\", filtered)  # [4 5]\n",
    "```\n",
    "\n",
    "이러한 비교 연산은 벡터화되어 수행되므로, 대규모 데이터셋에서도 효율적인 처리가 가능하다.\n",
    "\n",
    "--- \n"
   ]
  },
  {
   "cell_type": "markdown",
   "id": "639bb783",
   "metadata": {},
   "source": [
    "## 요소별 연산 > element wise"
   ]
  },
  {
   "cell_type": "code",
   "execution_count": null,
   "id": "f257307d",
   "metadata": {},
   "outputs": [],
   "source": [
    "lst_data = [1,2,3,4]\n",
    "a1 = np.array(lst_data)\n",
    "a1 + 2 # 사칙연산"
   ]
  },
  {
   "cell_type": "code",
   "execution_count": null,
   "id": "f89b283b",
   "metadata": {},
   "outputs": [],
   "source": [
    "a2 = np.array([2,2,2,3])\n",
    "a1 + a2"
   ]
  },
  {
   "cell_type": "code",
   "execution_count": null,
   "id": "a5bdb29d",
   "metadata": {},
   "outputs": [],
   "source": [
    "a3 = np.array([1,2]) # g행렬의 shape이 같아야 요소별 연산이 된다.\n",
    "# a1 * a3"
   ]
  },
  {
   "cell_type": "markdown",
   "id": "78320a1f",
   "metadata": {},
   "source": [
    "## 브로드캐스팅\n",
    "\n",
    "크기가 다른 배열에서 작은 쪽이 큰 쪽에 맞춰 크기를 확장하는 기능\n",
    "\n",
    "사칙연산에 적용"
   ]
  },
  {
   "cell_type": "code",
   "execution_count": null,
   "id": "d6450d23",
   "metadata": {},
   "outputs": [],
   "source": [
    "a_array = np.arange(3)\n",
    "b_array = np.arange(3)[:,np.newaxis]\n",
    "b_array, a_array"
   ]
  },
  {
   "cell_type": "code",
   "execution_count": null,
   "id": "6f188a8d",
   "metadata": {},
   "outputs": [],
   "source": [
    "print(\"더하기\",b_array + a_array)\n",
    "print(\"빼기\",b_array - a_array)\n",
    "print(\"곱하기\",b_array * a_array)\n",
    "print(\"나누기\",b_array / a_array)\n",
    "\n"
   ]
  },
  {
   "cell_type": "markdown",
   "id": "dfd71825",
   "metadata": {},
   "source": [
    "벡터화 연산과 일반 Python 반복문의 성능 차이를 비교\n",
    "\n",
    ">벡터화 연산은 C로 구현된 NumPy의 내부 루프를 사용하기 때문에 일반 Python 반복문보다 훨씬 빠르다. 대규모 데이터셋을 다룰 때는 항상 벡터화된 연산을 사용하는 것이 좋다."
   ]
  },
  {
   "cell_type": "code",
   "execution_count": null,
   "id": "888dfba5",
   "metadata": {},
   "outputs": [],
   "source": [
    "#일반 python 반복문 vs Numpy 벡터화 연산비교\n",
    "\n",
    "import numpy as np\n",
    "import time\n",
    "\n",
    "# 큰 배열 생성\n",
    "size = 100000\n",
    "arr1 = np.array(range(size))\n",
    "arr2 = np.array(range(size))\n",
    "result_list = [0] * size\n",
    "\n",
    "# python 반복문 방식\n",
    "start_time = time.time()\n",
    "for i in range(size):\n",
    "    result_list[i] = arr1[i] + arr2[i]\n",
    "python_time = time.time() - start_time\n",
    "\n",
    "# Numpy 벡터화 연산 방식\n",
    "start_time = time.time()\n",
    "result_numpy = arr1 + arr2\n",
    "numpy_time = time.time() - start_time\n",
    "\n",
    "print(f\"Python 반복문 실행 기간: {python_time:.4f}초\")\n",
    "print(f\"Numpy 벡터화 연산 실행 시간: {numpy_time:.4f}초\")\n",
    "print(f\"속도 향상: {python_time/numpy_time:.1f}배\")"
   ]
  },
  {
   "cell_type": "markdown",
   "id": "dc37cfb8",
   "metadata": {},
   "source": [
    "# 넘파이의 유니버설 함수(Universal Functions, ufunc)\n",
    "\n",
    "유니버설 함수는 NumPy 배열의 요소별 연산을 수행하는 특수한 함수들이다. 이러한 함수들은 배열의 각 요소에 대해 독립적으로 연산을 수행하며, 매우 효율적으로 구현되어 있다.\n",
    "\n",
    "주요 유니버설 함수들:\n",
    "\n",
    "- **수학 함수:** np.add(), np.subtract(), np.multiply(), np.divide(), np.power(), np.mod()\n",
    "- **삼각 함수:** np.sin(), np.cos(), np.tan()\n",
    "- **지수와 로그 함수:** np.exp(), np.log(), np.log10()\n",
    "- **비교 함수:** np.greater(), np.less(), np.equal()"
   ]
  },
  {
   "cell_type": "markdown",
   "id": "9d171545",
   "metadata": {},
   "source": [
    "## 배열의 결합, 연결\n",
    "\n",
    "concatenate(), vstack(), hstack()"
   ]
  },
  {
   "cell_type": "code",
   "execution_count": null,
   "id": "caabb0ad",
   "metadata": {},
   "outputs": [],
   "source": []
  },
  {
   "cell_type": "code",
   "execution_count": null,
   "id": "a0273c30",
   "metadata": {},
   "outputs": [],
   "source": [
    "v1 = np.array([1,2,3])\n",
    "v2 = np.array([4,5,6,7])\n",
    "np.concatenate([v1,v2])"
   ]
  },
  {
   "cell_type": "code",
   "execution_count": null,
   "id": "bad4606b",
   "metadata": {},
   "outputs": [],
   "source": [
    "np.concatenate([v1,v2], axis=0)"
   ]
  },
  {
   "cell_type": "code",
   "execution_count": null,
   "id": "fd7ad35f",
   "metadata": {},
   "outputs": [],
   "source": [
    "grid = np.array([[1,2,3],[1,2,3]])\n",
    "np.concatenate([grid,grid], axis=1)"
   ]
  },
  {
   "cell_type": "code",
   "execution_count": null,
   "id": "125ab68b",
   "metadata": {},
   "outputs": [],
   "source": [
    "np.concatenate([grid,grid], axis=0)"
   ]
  },
  {
   "cell_type": "code",
   "execution_count": null,
   "id": "84120119",
   "metadata": {},
   "outputs": [],
   "source": [
    "np.vstack((v1,v1))"
   ]
  },
  {
   "cell_type": "code",
   "execution_count": null,
   "id": "1e35026e",
   "metadata": {},
   "outputs": [],
   "source": [
    "np.hstack((v1,v2))"
   ]
  },
  {
   "cell_type": "markdown",
   "id": "a71c0da8",
   "metadata": {},
   "source": [
    "# 인덱싱\n",
    "\n",
    "## 축 인덱싱\n",
    "\n",
    "axis=0\n",
    "\n",
    "axis=1\n",
    "\n",
    "axis=2.."
   ]
  },
  {
   "cell_type": "code",
   "execution_count": null,
   "id": "53dd2dd0",
   "metadata": {},
   "outputs": [
    {
     "data": {
      "text/plain": [
       "np.int64(21)"
      ]
     },
     "execution_count": 3,
     "metadata": {},
     "output_type": "execute_result"
    }
   ],
   "source": [
    "arr_2d = np.array([[1,2,3],[4,5,6]])\n",
    "np.sum(arr_2d,)\n"
   ]
  },
  {
   "cell_type": "code",
   "execution_count": null,
   "id": "277f22cf",
   "metadata": {},
   "outputs": [
    {
     "data": {
      "text/plain": [
       "array([5, 7, 9])"
      ]
     },
     "execution_count": 4,
     "metadata": {},
     "output_type": "execute_result"
    }
   ],
   "source": [
    "np.sum(arr_2d, axis=0)\n"
   ]
  },
  {
   "cell_type": "code",
   "execution_count": null,
   "id": "2a0da481",
   "metadata": {},
   "outputs": [
    {
     "data": {
      "text/plain": [
       "array([ 6, 15])"
      ]
     },
     "execution_count": 5,
     "metadata": {},
     "output_type": "execute_result"
    }
   ],
   "source": [
    "np.sum(arr_2d, axis=1)\n"
   ]
  },
  {
   "cell_type": "markdown",
   "id": "848d7e2d",
   "metadata": {},
   "source": [
    "## 배열의 인덱싱\n",
    "\n",
    "배열[행인덱스, 열인덱스]"
   ]
  },
  {
   "cell_type": "code",
   "execution_count": null,
   "id": "47756dd2",
   "metadata": {},
   "outputs": [
    {
     "data": {
      "text/plain": [
       "(np.int64(1), np.int64(5))"
      ]
     },
     "execution_count": 6,
     "metadata": {},
     "output_type": "execute_result"
    }
   ],
   "source": [
    "arr = np.array([1,2,3,4,5])\n",
    "arr[0], arr[-1]"
   ]
  },
  {
   "cell_type": "code",
   "execution_count": null,
   "id": "977506d0",
   "metadata": {},
   "outputs": [],
   "source": [
    "arr_2d"
   ]
  },
  {
   "cell_type": "code",
   "execution_count": null,
   "id": "d10427b0",
   "metadata": {},
   "outputs": [],
   "source": [
    "arr_2d[0,1], arr_2d[0,-1]"
   ]
  },
  {
   "cell_type": "code",
   "execution_count": null,
   "id": "97438cc3",
   "metadata": {},
   "outputs": [],
   "source": [
    "arr_2d[1,1] = 10"
   ]
  },
  {
   "cell_type": "code",
   "execution_count": null,
   "id": "2497323e",
   "metadata": {},
   "outputs": [],
   "source": [
    "arr_2d"
   ]
  },
  {
   "cell_type": "markdown",
   "id": "dc38baed",
   "metadata": {},
   "source": [
    "## 슬라이싱\n",
    "\n",
    "- [:]  전체\n",
    "- [0:n] 0~n-1까지\n",
    "- [:5] 0~4까지\n",
    "\n",
    "리스트와 차이점\n",
    "- 리스트 : 복사본을 리턴\n",
    "- 배열 : 원본 배열의 뷰 -> 복사x, 원본에도 영향을 미친다.\n",
    "- 슬라이싱.copy()\n"
   ]
  },
  {
   "cell_type": "code",
   "execution_count": null,
   "id": "b28bea37",
   "metadata": {},
   "outputs": [],
   "source": [
    "x = np.arange(10)\n",
    "x"
   ]
  },
  {
   "cell_type": "code",
   "execution_count": null,
   "id": "f87c4db1",
   "metadata": {},
   "outputs": [],
   "source": [
    "x[:5]"
   ]
  },
  {
   "cell_type": "code",
   "execution_count": null,
   "id": "0732e75a",
   "metadata": {},
   "outputs": [
    {
     "ename": "NameError",
     "evalue": "name 'x' is not defined",
     "output_type": "error",
     "traceback": [
      "\u001b[31m---------------------------------------------------------------------------\u001b[39m",
      "\u001b[31mNameError\u001b[39m                                 Traceback (most recent call last)",
      "\u001b[36mCell\u001b[39m\u001b[36m \u001b[39m\u001b[32mIn[7]\u001b[39m\u001b[32m, line 1\u001b[39m\n\u001b[32m----> \u001b[39m\u001b[32m1\u001b[39m x[\u001b[32m4\u001b[39m:\u001b[32m7\u001b[39m]\n",
      "\u001b[31mNameError\u001b[39m: name 'x' is not defined"
     ]
    }
   ],
   "source": [
    "x[4:7]"
   ]
  },
  {
   "cell_type": "code",
   "execution_count": null,
   "id": "d4bfecb3",
   "metadata": {},
   "outputs": [],
   "source": [
    "new_x = x[4:7]\n",
    "new_x"
   ]
  },
  {
   "cell_type": "code",
   "execution_count": null,
   "id": "072fd552",
   "metadata": {},
   "outputs": [],
   "source": [
    "new_x[0]=100\n",
    "new_x, x  #view , 뷰의 값 변경 -> 원본의 값도 변경"
   ]
  },
  {
   "cell_type": "code",
   "execution_count": null,
   "id": "15aaf427",
   "metadata": {},
   "outputs": [],
   "source": [
    "new_x1 = x[4:7].copy()\n",
    "new_x1[0]=200\n",
    "new_x1, x"
   ]
  },
  {
   "cell_type": "markdown",
   "id": "39988ac9",
   "metadata": {},
   "source": [
    "# 인덱싱 연습하기 ( 12-1 파일로 이동)"
   ]
  },
  {
   "cell_type": "code",
   "execution_count": 13,
   "id": "488c39be",
   "metadata": {},
   "outputs": [
    {
     "name": "stdout",
     "output_type": "stream",
     "text": [
      "원본 4x4 배열:\n",
      "[[ 0  1  2  3]\n",
      " [ 4  5  6  7]\n",
      " [ 8  9 10 11]\n",
      " [12 13 14 15]]\n",
      "------------------------------\n"
     ]
    }
   ],
   "source": [
    "import numpy as np\n",
    "\n",
    "# 기준이 될 4x4 배열 생성 (이미지와 동일하게 0부터 15까지의 숫자로 채움)\n",
    "arr_2d = np.arange(16).reshape((4, 4))\n",
    "\n",
    "print(\"원본 4x4 배열:\")\n",
    "print(arr_2d)\n",
    "print(\"-\" * 30)"
   ]
  },
  {
   "cell_type": "code",
   "execution_count": null,
   "id": "e32a44fc",
   "metadata": {},
   "outputs": [],
   "source": [
    "# 첫 번째 행 전체\n"
   ]
  },
  {
   "cell_type": "code",
   "execution_count": null,
   "id": "ee767838",
   "metadata": {},
   "outputs": [],
   "source": [
    "# 마지막 열 전체\n"
   ]
  },
  {
   "cell_type": "code",
   "execution_count": null,
   "id": "346b0b72",
   "metadata": {},
   "outputs": [],
   "source": [
    "# 첫 번째 행과 마지막 행만 선택, 각 행의 첫번째 열, 마지막 열 선택\n"
   ]
  },
  {
   "cell_type": "code",
   "execution_count": null,
   "id": "0ede0a91",
   "metadata": {},
   "outputs": [],
   "source": [
    "# 짝수 인덱스 행(0번째, 2번째 행), 홀수 인덱스 열 선택\n"
   ]
  },
  {
   "cell_type": "code",
   "execution_count": null,
   "id": "ca1d3dcd",
   "metadata": {},
   "outputs": [],
   "source": [
    "#위의 3차원 행렬을 작성하세요\n"
   ]
  },
  {
   "cell_type": "code",
   "execution_count": null,
   "id": "70411ee4",
   "metadata": {},
   "outputs": [],
   "source": [
    "# 2번째 층 선택\n"
   ]
  },
  {
   "cell_type": "code",
   "execution_count": null,
   "id": "18b7b18b",
   "metadata": {},
   "outputs": [],
   "source": [
    "#네번째행, 두번째 열 원소 선택, 1차원 배열로 작성\n"
   ]
  },
  {
   "cell_type": "code",
   "execution_count": null,
   "id": "af97f9b4",
   "metadata": {},
   "outputs": [],
   "source": [
    "#배열의 첫 두 층, 마지막 두 행, 마지막 두 열 선택\n"
   ]
  },
  {
   "cell_type": "code",
   "execution_count": null,
   "id": "19993063",
   "metadata": {},
   "outputs": [],
   "source": [
    "#짝수 인덱스층, 모든행의 세번째열 선택\n"
   ]
  },
  {
   "cell_type": "code",
   "execution_count": 14,
   "id": "64c28226",
   "metadata": {},
   "outputs": [],
   "source": [
    "#세번째 층, 두번째 행에서 네번째 행, 홀수 인덱스 열"
   ]
  },
  {
   "cell_type": "code",
   "execution_count": null,
   "id": "2212c03a",
   "metadata": {},
   "outputs": [],
   "source": []
  }
 ],
 "metadata": {
  "kernelspec": {
   "display_name": "base",
   "language": "python",
   "name": "python3"
  },
  "language_info": {
   "codemirror_mode": {
    "name": "ipython",
    "version": 3
   },
   "file_extension": ".py",
   "mimetype": "text/x-python",
   "name": "python",
   "nbconvert_exporter": "python",
   "pygments_lexer": "ipython3",
   "version": "3.12.1"
  }
 },
 "nbformat": 4,
 "nbformat_minor": 5
}
