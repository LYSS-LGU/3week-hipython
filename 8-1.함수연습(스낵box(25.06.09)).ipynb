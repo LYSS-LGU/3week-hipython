{
 "cells": [
  {
   "cell_type": "markdown",
   "id": "1bcf7ba0-1b5f-413f-aa47-8c6954d47c38",
   "metadata": {},
   "source": [
    "# 간식박스 관리프로그램 (함수기반)\n"
   ]
  },
  {
   "cell_type": "code",
   "execution_count": null,
   "id": "301c6e50-52a3-480d-8375-174ca6de135e",
   "metadata": {},
   "outputs": [],
   "source": [
    "# 함수 도출 - 기능의 세부화, 함수를 정의\n",
    "# 함수 구현\n",
    "# 문제점 - 오류처리 , 예외처리"
   ]
  },
  {
   "cell_type": "code",
   "execution_count": null,
   "id": "8e8bb237-11cb-4550-8c54-6db7400707be",
   "metadata": {},
   "outputs": [],
   "source": [
    "# 관리프로그램 crud 처리\n",
    "# 1. 간식박스 생성 create\n",
    "# 2. 간식세트 포장 *2 update\n",
    "# 3. 간식박스 미리보기(3개만) read\n",
    "# 4. 간식삭제 delete\n",
    "# 5. 간식찾기 search\n",
    "# 6. 간식박스 전체보기 read"
   ]
  },
  {
   "cell_type": "code",
   "execution_count": 19,
   "id": "56248f59-6d32-4e45-8b1c-80d482255b70",
   "metadata": {},
   "outputs": [],
   "source": [
    "#1. 간식박스 생성 create\n",
    "def make_snack_box():\n",
    "    snack_box = ['초코파이']\n",
    "    new_snack = input('먹고 싶은 간식을 추가하세요. 단, 쉼표(,)로 연결하세요').split(',')\n",
    "    snack_box += new_snack"
   ]
  },
  {
   "cell_type": "code",
   "execution_count": 20,
   "id": "44ca9d4b-aeac-474a-ac6e-e2e8b10a6258",
   "metadata": {},
   "outputs": [],
   "source": [
    "#2.간식세트 포장 *2 update\n",
    "def multiply_snack_box(snack_box) :\n",
    "    qty = int(input('간식박스 몇 세트로 포장할까요? 예: 2-> 2box'))\n",
    "    return snack_box * qty"
   ]
  },
  {
   "cell_type": "code",
   "execution_count": 22,
   "id": "f2047c00-cf1d-4e05-b78c-19e6a5c941ce",
   "metadata": {},
   "outputs": [],
   "source": [
    "#6. 간식박스 전체보기 read\n",
    "def display_snack_box(snack_box):\n",
    "    print(f'{snack_box[::-1]}, 총 {len(snack_box)}개 입니다.')"
   ]
  },
  {
   "cell_type": "code",
   "execution_count": null,
   "id": "a7883c2a-84dc-4d83-b00e-7ba097e53aeb",
   "metadata": {},
   "outputs": [],
   "source": [
    "#3. 간식박스 미리보기(3개만) read - signature\n",
    "def preview_snack_box(snack_box):\n",
    "    preview = ','.join(snack_box[:3])\n",
    "    print(f'선택하신 간식은 {preview]등 입니다.')"
   ]
  },
  {
   "cell_type": "code",
   "execution_count": 25,
   "id": "a4d3e71d-f26b-4dd9-a915-04c8d55bde60",
   "metadata": {},
   "outputs": [],
   "source": [
    "#4. 간식삭제 delete\n",
    "def remove_snack_box(snack_box):\n",
    "    #예외처리\n",
    "    if not snack_box:\n",
    "        print('간식박스가 비어 있어요')\n",
    "        return\n",
    "        \n",
    "    display_snack_box()\n",
    "    \n",
    "    msg = f'혹시 빼고싶은 간식이 있으면 번호를 입력하세요 (0~{len(snack_box)-1})'\n",
    "    snack_no = int(input(msg))\n",
    "    \n",
    "    #snack_no validation\n",
    "    \n",
    "    del snack_box[snack_no]\n",
    "    return snack_box"
   ]
  },
  {
   "cell_type": "code",
   "execution_count": 26,
   "id": "33778005-3e3b-43ac-8554-b48fefa65cc0",
   "metadata": {},
   "outputs": [],
   "source": [
    "#5. 간식찾기 search\n",
    "def search_snack(snack_box):\n",
    "    snack_name = input('찾고 싶은 간식을 입력하세요')\n",
    "    print('있어요' if snack_name in snack_box else '없어요')"
   ]
  },
  {
   "cell_type": "code",
   "execution_count": 32,
   "id": "e8f273ff-0f29-48c3-8db9-366724fbf029",
   "metadata": {},
   "outputs": [],
   "source": [
    "# 7. 간식박스 요약 summarize\n",
    "def summarize_snacks(snack_box):\n",
    "    summary = {}\n",
    "    for snack in snack_box:\n",
    "        summary[snack] = summary.get(snack, 0) + 1\n",
    "\n",
    "    print(\"\\n📦 간식박스 정리\")\n",
    "    for snack, qty in summary.items():\n",
    "        print(f\"- {snack} : {qty}개\")\n"
   ]
  },
  {
   "cell_type": "code",
   "execution_count": 27,
   "id": "825314e9-ab47-4752-8dcf-ce66d0079164",
   "metadata": {},
   "outputs": [
    {
     "ename": "KeyboardInterrupt",
     "evalue": "Interrupted by user",
     "output_type": "error",
     "traceback": [
      "\u001b[31m---------------------------------------------------------------------------\u001b[39m",
      "\u001b[31mKeyboardInterrupt\u001b[39m                         Traceback (most recent call last)",
      "\u001b[36mCell\u001b[39m\u001b[36m \u001b[39m\u001b[32mIn[27]\u001b[39m\u001b[32m, line 1\u001b[39m\n\u001b[32m----> \u001b[39m\u001b[32m1\u001b[39m box = make_snack_box()\n\u001b[32m      2\u001b[39m \u001b[38;5;28mprint\u001b[39m(\u001b[33m\"\u001b[39m\u001b[33m간식박스가 만들어졌어요\u001b[39m\u001b[33m\"\u001b[39m)\n\u001b[32m      3\u001b[39m display_snack_box(box)\n",
      "\u001b[36mCell\u001b[39m\u001b[36m \u001b[39m\u001b[32mIn[19]\u001b[39m\u001b[32m, line 4\u001b[39m, in \u001b[36mmake_snack_box\u001b[39m\u001b[34m()\u001b[39m\n\u001b[32m      2\u001b[39m \u001b[38;5;28;01mdef\u001b[39;00m\u001b[38;5;250m \u001b[39m\u001b[34mmake_snack_box\u001b[39m():\n\u001b[32m      3\u001b[39m     snack_box = [\u001b[33m'\u001b[39m\u001b[33m초코파이\u001b[39m\u001b[33m'\u001b[39m]\n\u001b[32m----> \u001b[39m\u001b[32m4\u001b[39m     new_snack = \u001b[38;5;28minput\u001b[39m(\u001b[33m'\u001b[39m\u001b[33m먹고 싶은 간식을 추가하세요. 단, 쉼표(,)로 연결하세요\u001b[39m\u001b[33m'\u001b[39m).split(\u001b[33m'\u001b[39m\u001b[33m,\u001b[39m\u001b[33m'\u001b[39m)\n\u001b[32m      5\u001b[39m     snack_box += new_snack\n",
      "\u001b[36mFile \u001b[39m\u001b[32m~\\miniconda3\\Lib\\site-packages\\ipykernel\\kernelbase.py:1282\u001b[39m, in \u001b[36mKernel.raw_input\u001b[39m\u001b[34m(self, prompt)\u001b[39m\n\u001b[32m   1280\u001b[39m     msg = \u001b[33m\"\u001b[39m\u001b[33mraw_input was called, but this frontend does not support input requests.\u001b[39m\u001b[33m\"\u001b[39m\n\u001b[32m   1281\u001b[39m     \u001b[38;5;28;01mraise\u001b[39;00m StdinNotImplementedError(msg)\n\u001b[32m-> \u001b[39m\u001b[32m1282\u001b[39m \u001b[38;5;28;01mreturn\u001b[39;00m \u001b[38;5;28mself\u001b[39m._input_request(\n\u001b[32m   1283\u001b[39m     \u001b[38;5;28mstr\u001b[39m(prompt),\n\u001b[32m   1284\u001b[39m     \u001b[38;5;28mself\u001b[39m._parent_ident[\u001b[33m\"\u001b[39m\u001b[33mshell\u001b[39m\u001b[33m\"\u001b[39m],\n\u001b[32m   1285\u001b[39m     \u001b[38;5;28mself\u001b[39m.get_parent(\u001b[33m\"\u001b[39m\u001b[33mshell\u001b[39m\u001b[33m\"\u001b[39m),\n\u001b[32m   1286\u001b[39m     password=\u001b[38;5;28;01mFalse\u001b[39;00m,\n\u001b[32m   1287\u001b[39m )\n",
      "\u001b[36mFile \u001b[39m\u001b[32m~\\miniconda3\\Lib\\site-packages\\ipykernel\\kernelbase.py:1325\u001b[39m, in \u001b[36mKernel._input_request\u001b[39m\u001b[34m(self, prompt, ident, parent, password)\u001b[39m\n\u001b[32m   1322\u001b[39m \u001b[38;5;28;01mexcept\u001b[39;00m \u001b[38;5;167;01mKeyboardInterrupt\u001b[39;00m:\n\u001b[32m   1323\u001b[39m     \u001b[38;5;66;03m# re-raise KeyboardInterrupt, to truncate traceback\u001b[39;00m\n\u001b[32m   1324\u001b[39m     msg = \u001b[33m\"\u001b[39m\u001b[33mInterrupted by user\u001b[39m\u001b[33m\"\u001b[39m\n\u001b[32m-> \u001b[39m\u001b[32m1325\u001b[39m     \u001b[38;5;28;01mraise\u001b[39;00m \u001b[38;5;167;01mKeyboardInterrupt\u001b[39;00m(msg) \u001b[38;5;28;01mfrom\u001b[39;00m\u001b[38;5;250m \u001b[39m\u001b[38;5;28;01mNone\u001b[39;00m\n\u001b[32m   1326\u001b[39m \u001b[38;5;28;01mexcept\u001b[39;00m \u001b[38;5;167;01mException\u001b[39;00m:\n\u001b[32m   1327\u001b[39m     \u001b[38;5;28mself\u001b[39m.log.warning(\u001b[33m\"\u001b[39m\u001b[33mInvalid Message:\u001b[39m\u001b[33m\"\u001b[39m, exc_info=\u001b[38;5;28;01mTrue\u001b[39;00m)\n",
      "\u001b[31mKeyboardInterrupt\u001b[39m: Interrupted by user"
     ]
    },
    {
     "name": "stdin",
     "output_type": "stream",
     "text": [
      "먹고 싶은 간식을 추가하세요. 단, 쉼표(,)로 연결하세요 1\n"
     ]
    }
   ],
   "source": [
    "box = make_snack_box()\n",
    "print(\"간식박스가 만들어졌어요\")\n",
    "display_snack_box(box)\n",
    "box = multiply_snack_box(box)\n",
    "display_snack_box(box)\n",
    "\n",
    "# 검색후 삭제기능\n",
    "serarch_snack(box)\n",
    "remove_snack_box(box)\n",
    "\n",
    "display_snack_box(box)"
   ]
  },
  {
   "cell_type": "code",
   "execution_count": 35,
   "id": "6c660221-4d7f-4fde-9df1-77355bc7af51",
   "metadata": {},
   "outputs": [],
   "source": []
  },
  {
   "cell_type": "markdown",
   "id": "f0d6e59a-84aa-4f61-a55a-43c8262c9d0e",
   "metadata": {},
   "source": [
    "# 메뉴 형식으로 구조를 개편"
   ]
  },
  {
   "cell_type": "code",
   "execution_count": 33,
   "id": "f39f3bd6-ef41-4a8b-832e-f34f266738b5",
   "metadata": {},
   "outputs": [],
   "source": [
    "# 선택, 반복"
   ]
  },
  {
   "cell_type": "code",
   "execution_count": 51,
   "id": "e1a88c29-6b52-4958-a343-5a2fb002a735",
   "metadata": {},
   "outputs": [],
   "source": [
    "# -- 공통 유틸리티 함수\n",
    "\n",
    "def get_valid_text_input(msg):\n",
    "    user_input = input('😆'+ msg).strip()\n",
    "    if not user_input :\n",
    "        print('😆 입력값을 확인하세요')\n",
    "        return None\n",
    "    return user_input\n",
    "\n",
    "#숫자검증\n",
    "def get_valid_number_input(msg, min_no=1, max_no=5):\n",
    "    #숫자체크\n",
    "    try : \n",
    "        number = int(input(msg))\n",
    "        if number < min_no :\n",
    "            print(f'{min_no}이상 숫자를 입력하세요')\n",
    "            return None\n",
    "        elif number > max_no:\n",
    "            print(f'{max_no}이하 숫자를 입력하세요')\n",
    "            return None\n",
    "        else:\n",
    "            return number\n",
    "    except ValueError:\n",
    "        print('숫자로 입력하세요.')\n",
    "        return None"
   ]
  },
  {
   "cell_type": "code",
   "execution_count": 41,
   "id": "ac9f9016-e68d-42fe-b171-931f2ed54dd9",
   "metadata": {},
   "outputs": [],
   "source": [
    "#-- 기본 함수 정의\n",
    "#1. 간식박스 생성 create\n",
    "def make_snack_box():\n",
    "    snack_box = ['초코파이']\n",
    "    make_msg = '먹고 싶은 간식을 추가하세요.  단, 쉼표(,)로 연결하세요'\n",
    "    new_snack = get_valid_text_input(make_msg).split(',')\n",
    "    snack_box += new_snack\n",
    "    return snack_box\n",
    "    \n",
    "#2. 간식세트 포장 *2 update\n",
    "def multiply_snack_box(snack_box) :\n",
    "    mul_msg = '간식박스 몇 세트로 포장할까요? 예: 2 -> 2box'\n",
    "    qty = get_valid_number_input(mul_msg, 2, 5)\n",
    "    return snack_box * qty\n",
    "\n",
    "#6. 간식박스 전체보기 read\n",
    "def display_snack_box(snack_box):\n",
    "    print(f'{snack_box[::-1]}, 총 {len(snack_box)}개 입니다. ')\n",
    "\n",
    "#3. 간식박스 미리보기(3개만) read - signature\n",
    "def preview_snack_box(snack_box):\n",
    "    preview = ','.join(snack_box[:3])\n",
    "    print(f'선택하신 간식은 {preview}등 입니다.')\n",
    "\n",
    "#4. 간식삭제 delete\n",
    "def remove_snack_box(snack_box):\n",
    "    #예외처리\n",
    "    if not snack_box:\n",
    "        print('간식박스가 비어 있어요')\n",
    "        return\n",
    "        \n",
    "    display_snack_box(snack_box)\n",
    "\n",
    "    snack_cnt = len(snack_box)-1\n",
    "    rem_msg = f'혹시 빼고싶은 간식이 있으면 번호를 입력하세요 (0~{snack_cnt})'\n",
    "    snack_no = get_valid_number_input(rem_msg, 0, snack_cnt)\n",
    "    \n",
    "    del snack_box[snack_no]\n",
    "    return snack_box\n",
    "\n",
    "#5. 간식찾기 search\n",
    "def search_snack(snack_box):\n",
    "    search_msg = '찾고 싶은 간식을 입력하세요'\n",
    "    snack_name = get_valid_text_input(search_msg)\n",
    "    print('있어요' if snack_name in snack_box else '없어요')\n",
    "\n",
    "#7. 간식박스 요약\n",
    "def summarize_snacks(snack_box):\n",
    "    summary = {}\n",
    "    for snack in snack_box:\n",
    "        summary[snack] = summary.get(snack,0)+1\n",
    "\n",
    "    print('간식박스 정리')\n",
    "    for snack, qty in summary.items():\n",
    "        print(f'- {snack} : {qty}개')\n",
    "    "
   ]
  },
  {
   "cell_type": "code",
   "execution_count": 43,
   "id": "74570f20-6820-4ee2-89ac-538b17db0a58",
   "metadata": {},
   "outputs": [],
   "source": [
    "#서비스의 흐름 - 선택과 반복\n",
    "def run_menu_program():\n",
    "    snack_box = []\n",
    "    while True:\n",
    "        print('간식박스 관리 프로그램 메뉴')\n",
    "        print('1. 간식박스 생성')\n",
    "        print('2. 세트 생성')\n",
    "        print('3. 세트 미리보기')\n",
    "        print('4. 간식 삭제')\n",
    "        print('5. 간식 검색')\n",
    "        print('6. 간식박스 요약')\n",
    "        print('7. 최종 간식박스 확인')\n",
    "\n",
    "        menu_msg = '원하는 메뉴 번호를 입력하세요 : '\n",
    "        choice = str(get_valid_number_input(menu_msg, 1, 7))\n",
    "        \n",
    "        if choice == '1':\n",
    "            snack_box = make_snack_box()\n",
    "        elif choice == '2':\n",
    "            snack_box = multiply_snack_box(snack_box)\n",
    "        elif choice == '3':\n",
    "            preview_snack_box(snack_box)\n",
    "        elif choice == '4':\n",
    "            remove_snack_box(snack_box)\n",
    "        elif choice == '5':\n",
    "            search_snack(snack_box)\n",
    "        elif choice == '6': \n",
    "            summarize_snacks(snack_box)\n",
    "        elif choice == '7':\n",
    "            display_snack_box(snack_box)"
   ]
  },
  {
   "cell_type": "code",
   "execution_count": 44,
   "id": "6427eeb4-5f4f-4824-ab05-513aad540a58",
   "metadata": {},
   "outputs": [
    {
     "name": "stdout",
     "output_type": "stream",
     "text": [
      "간식박스 관리 프로그램 메뉴\n",
      "1. 간식박스 생성\n",
      "2. 세트 생성\n",
      "3. 세트 미리보기\n",
      "4. 간식 삭제\n",
      "5. 간식 검색\n",
      "6. 간식박스 요약\n",
      "7. 최종 간식박스 확인\n"
     ]
    },
    {
     "ename": "NameError",
     "evalue": "name 'get_valid_number_input' is not defined",
     "output_type": "error",
     "traceback": [
      "\u001b[31m---------------------------------------------------------------------------\u001b[39m",
      "\u001b[31mNameError\u001b[39m                                 Traceback (most recent call last)",
      "\u001b[36mCell\u001b[39m\u001b[36m \u001b[39m\u001b[32mIn[44]\u001b[39m\u001b[32m, line 2\u001b[39m\n\u001b[32m      1\u001b[39m \u001b[38;5;66;03m# 실행\u001b[39;00m\n\u001b[32m----> \u001b[39m\u001b[32m2\u001b[39m run_menu_program()\n",
      "\u001b[36mCell\u001b[39m\u001b[36m \u001b[39m\u001b[32mIn[43]\u001b[39m\u001b[32m, line 15\u001b[39m, in \u001b[36mrun_menu_program\u001b[39m\u001b[34m()\u001b[39m\n\u001b[32m     12\u001b[39m \u001b[38;5;28mprint\u001b[39m(\u001b[33m'\u001b[39m\u001b[33m7. 최종 간식박스 확인\u001b[39m\u001b[33m'\u001b[39m)\n\u001b[32m     14\u001b[39m menu_msg = \u001b[33m'\u001b[39m\u001b[33m원하는 메뉴 번호를 입력하세요 : \u001b[39m\u001b[33m'\u001b[39m\n\u001b[32m---> \u001b[39m\u001b[32m15\u001b[39m choice = \u001b[38;5;28mstr\u001b[39m(get_valid_number_input(menu_msg, \u001b[32m1\u001b[39m, \u001b[32m7\u001b[39m))\n\u001b[32m     17\u001b[39m \u001b[38;5;28;01mif\u001b[39;00m choice == \u001b[33m'\u001b[39m\u001b[33m1\u001b[39m\u001b[33m'\u001b[39m:\n\u001b[32m     18\u001b[39m     snack_box = make_snack_box()\n",
      "\u001b[31mNameError\u001b[39m: name 'get_valid_number_input' is not defined"
     ]
    }
   ],
   "source": [
    "# 실행\n",
    "run_menu_program()"
   ]
  },
  {
   "cell_type": "code",
   "execution_count": 49,
   "id": "7cc65fcd-d227-4a8b-9543-7ffc57ac8d0e",
   "metadata": {},
   "outputs": [
    {
     "name": "stdin",
     "output_type": "stream",
     "text": [
      "먹고 싶은 간식을 추가하세요 (쉼표로 구분):  사이다\n"
     ]
    },
    {
     "name": "stdout",
     "output_type": "stream",
     "text": [
      "✅ 간식박스가 만들어졌어요!\n",
      "📦 간식박스 전체: ['사이다', '콜라', '사이다', '초코파이']\n",
      "총 4개입니다.\n"
     ]
    },
    {
     "name": "stdin",
     "output_type": "stream",
     "text": [
      "간식박스를 몇 세트로 포장할까요? 예: 2 →  3\n"
     ]
    },
    {
     "name": "stdout",
     "output_type": "stream",
     "text": [
      "✅ 간식박스를 포장했어요!\n",
      "📦 간식박스 전체: ['사이다', '콜라', '사이다', '초코파이', '사이다', '콜라', '사이다', '초코파이', '사이다', '콜라', '사이다', '초코파이']\n",
      "총 12개입니다.\n",
      "🍭 간식 미리보기 (앞에서 3개): ['초코파이', '사이다', '콜라']\n",
      "📦 현재 간식박스: ['초코파이', '사이다', '콜라', '사이다', '초코파이', '사이다', '콜라', '사이다', '초코파이', '사이다', '콜라', '사이다']\n"
     ]
    },
    {
     "name": "stdin",
     "output_type": "stream",
     "text": [
      "삭제할 간식 이름을 입력하세요:  초코파이\n"
     ]
    },
    {
     "name": "stdout",
     "output_type": "stream",
     "text": [
      "✅ '초코파이' 간식을 삭제했습니다.\n",
      "📦 간식박스 전체: ['사이다', '콜라', '사이다', '초코파이', '사이다', '콜라', '사이다', '초코파이', '사이다', '콜라', '사이다']\n",
      "총 11개입니다.\n"
     ]
    },
    {
     "name": "stdin",
     "output_type": "stream",
     "text": [
      "찾고 싶은 간식을 입력하세요:  사이다\n"
     ]
    },
    {
     "name": "stdout",
     "output_type": "stream",
     "text": [
      "🔍 '사이다'은(는) 간식박스에 있습니다.\n",
      "\n",
      "📝 간식박스 요약\n",
      "- 사이다: 6개\n",
      "- 콜라: 3개\n",
      "- 초코파이: 2개\n"
     ]
    }
   ],
   "source": [
    "# -- 공통 유틸 함수\n",
    "\n",
    "# 사용자로부터 문자열 입력을 받아 유효한지 확인하는 함수\n",
    "def get_valid_text_input(msg):\n",
    "    user_input = input(msg).strip()  # 입력받고 양쪽 공백 제거\n",
    "    if not user_input:\n",
    "        print(\"❗ 입력값이 비어 있습니다.\")  # 공백이거나 아무것도 입력 안 했을 때\n",
    "        return None\n",
    "    return user_input  # 정상 입력이면 반환\n",
    "\n",
    "# 사용자로부터 정수 입력을 받아 유효한지 확인하는 함수\n",
    "def get_valid_int_input(msg, min_val=1):\n",
    "    user_input = input(msg).strip()\n",
    "    if not user_input.isdigit():  # 입력이 숫자인지 확인\n",
    "        print(\"❗ 숫자를 입력해야 합니다.\")\n",
    "        return None\n",
    "    num = int(user_input)\n",
    "    if num < min_val:  # 최소값보다 작은지 체크\n",
    "        print(f\"❗ 최소 {min_val} 이상의 숫자를 입력해주세요.\")\n",
    "        return None\n",
    "    return num  # 정상 숫자 입력이면 정수로 반환\n",
    "\n",
    "\n",
    "# 1. 간식박스 생성 (Create)\n",
    "def make_snack_box():\n",
    "    snack_box = ['초코파이', '사이다', '콜라']  # 기본 간식 3개\n",
    "    # 새 간식 추가 입력 받기\n",
    "    new_snack_input = get_valid_text_input(\"먹고 싶은 간식을 추가하세요 (쉼표로 구분): \")\n",
    "    if new_snack_input:\n",
    "        # 쉼표로 구분된 간식들을 리스트로 변환, 빈 항목은 제거\n",
    "        new_snacks = [item.strip() for item in new_snack_input.split(',') if item.strip()]\n",
    "        snack_box += new_snacks  # 간식박스에 추가\n",
    "    return snack_box\n",
    "\n",
    "\n",
    "# 2. 간식박스 포장 (*n) (Update)\n",
    "def multiply_snack_box(snack_box):\n",
    "    # 몇 세트로 포장할지 숫자 입력 받기\n",
    "    qty = get_valid_int_input(\"간식박스를 몇 세트로 포장할까요? 예: 2 → \")\n",
    "    if qty:\n",
    "        return snack_box * qty  # 리스트 곱셈으로 포장 세트 만들기\n",
    "    return snack_box  # 잘못된 입력이면 원래 박스 반환\n",
    "\n",
    "\n",
    "# 3. 간식박스 미리보기 (Read 일부)\n",
    "def preview_snack_box(snack_box):\n",
    "    # 간식 리스트에서 앞의 3개만 미리보기로 출력\n",
    "    print(\"🍭 간식 미리보기 (앞에서 3개):\", snack_box[:3])\n",
    "\n",
    "\n",
    "# 4. 간식 삭제 (Delete)\n",
    "def remove_snack_box(snack_box):\n",
    "    if not snack_box:\n",
    "        print(\"❗ 간식박스가 비어 있습니다.\")  # 삭제할 게 없을 때\n",
    "        return snack_box\n",
    "\n",
    "    print(\"📦 현재 간식박스:\", snack_box)\n",
    "    # 삭제할 간식 이름 입력 받기\n",
    "    target = get_valid_text_input(\"삭제할 간식 이름을 입력하세요: \")\n",
    "    if target in snack_box:\n",
    "        snack_box.remove(target)  # 해당 간식 삭제\n",
    "        print(f\"✅ '{target}' 간식을 삭제했습니다.\")\n",
    "    else:\n",
    "        print(f\"❌ '{target}' 간식은 박스에 없습니다.\")  # 없는 간식 처리\n",
    "    return snack_box\n",
    "\n",
    "\n",
    "# 5. 간식 찾기 (Search)\n",
    "def search_snack(snack_box):\n",
    "    # 찾고 싶은 간식 입력 받기\n",
    "    keyword = get_valid_text_input(\"찾고 싶은 간식을 입력하세요: \")\n",
    "    if keyword:\n",
    "        if keyword in snack_box:\n",
    "            print(f\"🔍 '{keyword}'은(는) 간식박스에 있습니다.\")\n",
    "        else:\n",
    "            print(f\"❌ '{keyword}'은(는) 없습니다.\")\n",
    "\n",
    "\n",
    "# 6. 간식박스 전체보기 (Read 전체)\n",
    "def display_snack_box(snack_box):\n",
    "    # 간식 리스트를 역순으로 보여주기\n",
    "    print(\"📦 간식박스 전체:\", snack_box[::-1])\n",
    "    print(f\"총 {len(snack_box)}개입니다.\")\n",
    "\n",
    "\n",
    "# 7. 간식 요약 (중복 간식 개수 정리)\n",
    "def summarize_snacks(snack_box):\n",
    "    print(\"\\n📝 간식박스 요약\")\n",
    "    summary = {}\n",
    "    # 같은 간식이 몇 개 있는지 카운트\n",
    "    for snack in snack_box:\n",
    "        summary[snack] = summary.get(snack, 0) + 1\n",
    "    # 결과 출력\n",
    "    for name, qty in summary.items():\n",
    "        print(f\"- {name}: {qty}개\")\n",
    "\n",
    "\n",
    "box = make_snack_box()\n",
    "print(\"✅ 간식박스가 만들어졌어요!\")\n",
    "display_snack_box(box)\n",
    "\n",
    "box = multiply_snack_box(box)\n",
    "print(\"✅ 간식박스를 포장했어요!\")\n",
    "display_snack_box(box)\n",
    "\n",
    "preview_snack_box(box)\n",
    "box = remove_snack_box(box)\n",
    "display_snack_box(box)\n",
    "search_snack(box)\n",
    "summarize_snacks(box)\n"
   ]
  },
  {
   "cell_type": "code",
   "execution_count": 48,
   "id": "7273e347-4407-408d-8215-9a0436969a81",
   "metadata": {},
   "outputs": [
    {
     "name": "stdin",
     "output_type": "stream",
     "text": [
      "먹고 싶은 간식을 추가하세요 (쉼표로 구분):  사이다\n"
     ]
    },
    {
     "name": "stdout",
     "output_type": "stream",
     "text": [
      "✅ 간식박스가 만들어졌어요!\n",
      "📦 간식박스 전체: ['사이다', '콜라', '사이다', '초코파이']\n",
      "총 4개입니다.\n"
     ]
    },
    {
     "name": "stdin",
     "output_type": "stream",
     "text": [
      "간식박스를 몇 세트로 포장할까요? 예: 2 →  사이다, 초코파이\n"
     ]
    },
    {
     "name": "stdout",
     "output_type": "stream",
     "text": [
      "❗ 숫자를 입력해야 합니다.\n",
      "✅ 간식박스를 포장했어요!\n",
      "📦 간식박스 전체: ['사이다', '콜라', '사이다', '초코파이']\n",
      "총 4개입니다.\n",
      "🍭 간식 미리보기 (앞에서 3개): ['초코파이', '사이다', '콜라']\n",
      "📦 현재 간식박스: ['초코파이', '사이다', '콜라', '사이다']\n"
     ]
    },
    {
     "name": "stdin",
     "output_type": "stream",
     "text": [
      "삭제할 간식 이름을 입력하세요:  사이다\n"
     ]
    },
    {
     "name": "stdout",
     "output_type": "stream",
     "text": [
      "✅ '사이다' 간식을 삭제했습니다.\n",
      "📦 간식박스 전체: ['사이다', '콜라', '초코파이']\n",
      "총 3개입니다.\n"
     ]
    },
    {
     "name": "stdin",
     "output_type": "stream",
     "text": [
      "찾고 싶은 간식을 입력하세요:  1\n"
     ]
    },
    {
     "name": "stdout",
     "output_type": "stream",
     "text": [
      "❌ '1'은(는) 없습니다.\n",
      "\n",
      "📝 간식박스 요약\n",
      "- 초코파이: 1개\n",
      "- 콜라: 1개\n",
      "- 사이다: 1개\n"
     ]
    }
   ],
   "source": []
  }
 ],
 "metadata": {
  "kernelspec": {
   "display_name": "Python 3 (ipykernel)",
   "language": "python",
   "name": "python3"
  },
  "language_info": {
   "codemirror_mode": {
    "name": "ipython",
    "version": 3
   },
   "file_extension": ".py",
   "mimetype": "text/x-python",
   "name": "python",
   "nbconvert_exporter": "python",
   "pygments_lexer": "ipython3",
   "version": "3.12.1"
  }
 },
 "nbformat": 4,
 "nbformat_minor": 5
}
