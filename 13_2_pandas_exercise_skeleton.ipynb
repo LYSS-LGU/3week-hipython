{
  "cells": [
    {
      "cell_type": "markdown",
      "metadata": {
        "colab_type": "text",
        "id": "view-in-github"
      },
      "source": [
        "<a href=\"https://colab.research.google.com/github/zzhining/ml_basic/blob/main/pandas_exercise_skeleton.ipynb\" target=\"_parent\"><img src=\"https://colab.research.google.com/assets/colab-badge.svg\" alt=\"Open In Colab\"/></a>"
      ]
    },
    {
      "cell_type": "code",
      "execution_count": null,
      "metadata": {
        "id": "sb8ZMxouSyms"
      },
      "outputs": [],
      "source": [
        "import numpy as np\n",
        "import pandas as pd\n",
        "import matplotlib.pyplot as plt\n",
        "import seaborn as sns\n",
        "\n",
        "np.random.seed(0)"
      ]
    },
    {
      "cell_type": "markdown",
      "metadata": {
        "id": "Zuknp1H-Symv"
      },
      "source": [
        "# 과제 1\n",
        "## Q1. \n",
        "\n",
        "\n",
        "<div class=\"alert alert-success\">\n",
        "[문제1]     \n",
        "    \n",
        "insurance.csv'파일 읽어서 df에 할당하고, 상위 5개 항목 출력하기\n",
        "</div>\n",
        "\n",
        "------------\n",
        "\n",
        "[힌트]\n",
        "\n",
        "pd.read_csv()"
      ]
    },
    {
      "cell_type": "code",
      "execution_count": null,
      "metadata": {
        "id": "OiHmDWloSymx"
      },
      "outputs": [],
      "source": [
        "import pandas as pd\n",
        "\n",
        "# data\\insurance.csv 파일 읽어서 df에 저장\n",
        "df = pd.read_csv(\"data\\insurance.csv\")\n",
        "\n",
        "# 상위 5개 항목 출력\n",
        "print(df.head())"
      ]
    },
    {
      "cell_type": "markdown",
      "metadata": {
        "id": "CxaOfLkjSymx"
      },
      "source": [
        "## Q2. \n",
        "\n",
        "\n",
        "<div class=\"alert alert-success\">\n",
        "[문제2]     \n",
        "    \n",
        "df의 요약(평균, 4분위수, 전체 갯수 등)정보 확인하기\n",
        "</div>\n",
        "\n",
        "------------"
      ]
    },
    {
      "cell_type": "code",
      "execution_count": null,
      "metadata": {
        "id": "NcQL-hQMSymy"
      },
      "outputs": [],
      "source": [
        "print(df.describe())"
      ]
    },
    {
      "cell_type": "markdown",
      "metadata": {
        "id": "rlEU5FMSSymy"
      },
      "source": [
        "## Q3. \n",
        "\n",
        "\n",
        "<div class=\"alert alert-success\">\n",
        "[문제3]     \n",
        "    \n",
        "신규 컬럼(double bmi)을 생성하고, bmi의 2배가 되는 값을 할당하기\n",
        "</div>\n",
        "\n",
        "------------"
      ]
    },
    {
      "cell_type": "code",
      "execution_count": null,
      "metadata": {
        "id": "HfrxyjKTSymy"
      },
      "outputs": [],
      "source": [
        "# bmi의 2배 값을 담은 새로운 열 생성\n",
        "df['double_bmi'] = df['bmi'] * 2\n",
        "\n",
        "# 확인\n",
        "print(df[['bmi', 'double_bmi']].head())"
      ]
    },
    {
      "cell_type": "markdown",
      "metadata": {
        "id": "1ZJWpJDjSymz"
      },
      "source": [
        "## Q4. \n",
        "\n",
        "\n",
        "<div class=\"alert alert-success\">\n",
        "[문제4]     \n",
        "    \n",
        "신규 컬럼(debt)을 생성하고, 0으로 채우기\n",
        "</div>\n",
        "\n",
        "------------"
      ]
    },
    {
      "cell_type": "code",
      "execution_count": null,
      "metadata": {
        "id": "yv2auFqQSymz"
      },
      "outputs": [],
      "source": [
        "df['debt'] = 0\n",
        "\n",
        "\n",
        "print(df[['debt']].head())\n"
      ]
    },
    {
      "cell_type": "markdown",
      "metadata": {
        "id": "6uVpBuNoSymz"
      },
      "source": [
        "## Q5. \n",
        "\n",
        "\n",
        "<div class=\"alert alert-success\">\n",
        "[문제5]     \n",
        "    \n",
        "debt에 0부터 값이 증가하도록 채우기\n",
        "</div>\n",
        "\n",
        "------------"
      ]
    },
    {
      "cell_type": "code",
      "execution_count": null,
      "metadata": {
        "id": "xwSSjn9bSym0"
      },
      "outputs": [],
      "source": [
        "import pandas as pd\n",
        "\n",
        "df['debt'] = range(len(df))\n",
        "\n",
        "print(df[['debt']].head(10))\n"
      ]
    },
    {
      "cell_type": "markdown",
      "metadata": {
        "id": "Nozo2vD4Sym0"
      },
      "source": [
        "## Q6. \n",
        "\n",
        "\n",
        "<div class=\"alert alert-success\">\n",
        "[문제6]     \n",
        "    \n",
        "1번 인덱스의 정보 출력\n",
        "</div>\n",
        "\n",
        "------------\n",
        "\n",
        "[힌트]\n",
        "iloc\n",
        "\n",
        "\n",
        "\n",
        "age                  18  \n",
        "sex                male  \n",
        "bmi               33.77  \n",
        "children              1  \n",
        "smoker               no  \n",
        "region        southeast  \n",
        "charges         1725.55  \n",
        "double bmi        67.54  \n",
        "debt                  1  "
      ]
    },
    {
      "cell_type": "code",
      "execution_count": null,
      "metadata": {
        "id": "MyX4-_qrSym0"
      },
      "outputs": [],
      "source": [
        "print(\"인덱스0======\",df.iloc[0])\n",
        "\n",
        "\n",
        "print(\"인덱스1======\",df.iloc[1])\n"
      ]
    },
    {
      "cell_type": "markdown",
      "metadata": {
        "id": "GAXMcD8CSym0"
      },
      "source": [
        "## Q7. \n",
        "\n",
        "\n",
        "<div class=\"alert alert-success\">\n",
        "[문제7]     \n",
        "    \n",
        "'double bmi'열 삭제하기\n",
        "</div>"
      ]
    },
    {
      "cell_type": "code",
      "execution_count": null,
      "metadata": {
        "id": "XawCoeJRSym1"
      },
      "outputs": [],
      "source": [
        "import pandas as pd\n",
        "df[\"double bmi\"] = df[\"bmi\"] * 2\n",
        "\n",
        "# 예시 DataFrame에서 double bmi 열 삭제\n",
        "df = df.drop(\"double bmi\", axis=1)  \n",
        "# 또는 df.drop(columns=[\"double bmi\"])\n",
        "# 또는 df.drop(\"double bmi\", axis=1, inplace=True) 필요하면 inplace=True를 써서 한 줄로 처리해도 돼:\n",
        "\n",
        "print(df.head())  # 삭제됐는지 확인\n",
        "\n"
      ]
    },
    {
      "cell_type": "markdown",
      "metadata": {
        "id": "VrbIHq_NSym1"
      },
      "source": [
        "## Q8. \n",
        "\n",
        "\n",
        "<div class=\"alert alert-success\">\n",
        "[문제8]     \n",
        "    \n",
        " 'age'열, 'sex'열만 출력하기\n",
        "</div>"
      ]
    },
    {
      "cell_type": "code",
      "execution_count": null,
      "metadata": {
        "id": "wWdFGo0cSym1"
      },
      "outputs": [],
      "source": [
        "print(df[[\"age\", \"sex\"]])\n"
      ]
    },
    {
      "cell_type": "code",
      "execution_count": null,
      "metadata": {},
      "outputs": [],
      "source": [
        "# 또는 변수로 따로 저장하고 싶다면:\n",
        "subset = df[[\"age\", \"sex\"]]\n",
        "print(subset)\n"
      ]
    },
    {
      "cell_type": "markdown",
      "metadata": {
        "id": "w3z2xK4CSym1"
      },
      "source": [
        "# 과제2\n",
        "## Q9.\n",
        "<div class=\"alert alert-success\">\n",
        "[문제9]     \n",
        "    \n",
        "나이를 1살씩 증가시키기\n",
        "</div>"
      ]
    },
    {
      "cell_type": "code",
      "execution_count": null,
      "metadata": {
        "id": "eIZkMPyRSym1"
      },
      "outputs": [],
      "source": [
        "print(\"변경 전:\", df[\"age\"].head())  # 먼저 복사해서 따로 저장하거나\n",
        "df[\"age\"] += 1\n",
        "print(\"변경 후:\", df[\"age\"].head())\n"
      ]
    },
    {
      "cell_type": "code",
      "execution_count": null,
      "metadata": {
        "id": "Vs_KuBbWSym1"
      },
      "outputs": [],
      "source": [
        "df[\"age\"] += 1\n"
      ]
    },
    {
      "cell_type": "markdown",
      "metadata": {
        "id": "YR7kdcd2Sym2"
      },
      "source": [
        "## Q10.\n",
        "<div class=\"alert alert-success\">\n",
        "[문제10]     \n",
        "    \n",
        "charges의 표시형식을 소수점 아래 2자리로 바꾸기\n",
        "</div>\n",
        "\n",
        "[힌트]\n",
        "\n",
        "함수 생성, 적용(apply/map)"
      ]
    },
    {
      "cell_type": "code",
      "execution_count": null,
      "metadata": {
        "id": "oca4eyx5Sym2"
      },
      "outputs": [],
      "source": [
        "# ✅ 방법 1: round()\n",
        "# 🔧 해결 방법: astype(float)으로 숫자로 변환 후 round() 사용\n",
        "\n",
        "# 문자열을 숫자로 변환한 뒤 소수점 둘째 자리로 반올림\n",
        "df[\"charges\"] = df[\"charges\"].astype(float).round(2)\n",
        "\n",
        "# 확인\n",
        "print(df[\"charges\"].head())\n",
        "\n",
        "\n",
        "# ✅ 방법 2: apply() + round 함수\n",
        "# df[\"charges\"] = df[\"charges\"].apply(lambda x: round(x, 2))\n",
        "# print(df[\"charges\"].head())\n",
        "\n",
        "# ✅ 방법 3: 문자열 포맷팅\n",
        "# df[\"charges\"] = df[\"charges\"].apply(lambda x: f\"{x:.2f}\")\n",
        "# print(df[\"charges\"].head())\n"
      ]
    },
    {
      "cell_type": "code",
      "execution_count": null,
      "metadata": {},
      "outputs": [],
      "source": [
        "print(\"✅ round 사용:\")\n",
        "print(df[\"charges\"].round(2).head())\n",
        "\n",
        "print(\"\\n✅ apply(lambda x: round(x, 2)) 사용:\")\n",
        "print(df[\"charges\"].apply(lambda x: round(x, 2)).head())\n",
        "\n",
        "print(\"\\n✅ 문자열 포맷:\")\n",
        "print(df[\"charges\"].apply(lambda x: f\"{x:.2f}\").head())\n"
      ]
    },
    {
      "cell_type": "markdown",
      "metadata": {
        "id": "fAWFG4KOSym2"
      },
      "source": [
        "## Q11.\n",
        "<div class=\"alert alert-success\">\n",
        "[문제11]     \n",
        "    \n",
        "컬럼 정렬(알파벳 순서대로) : age, bmi, charges... 순으로 정렬\n",
        "</div>\n",
        "\n",
        "[Hint]\n",
        "sort_index()\n"
      ]
    },
    {
      "cell_type": "code",
      "execution_count": null,
      "metadata": {
        "id": "XKS8Rhb8Sym2"
      },
      "outputs": [],
      "source": [
        "import pandas as pd\n",
        "\n",
        "# data\\insurance.csv 파일 읽어서 df에 저장\n",
        "df = pd.read_csv(\"data/insurance.csv\")\n",
        "\n",
        "df = df.sort_index(axis=1)\n",
        "\n",
        "\n",
        "print(df.columns)\n"
      ]
    },
    {
      "cell_type": "markdown",
      "metadata": {
        "id": "eBEljgBYSym2"
      },
      "source": [
        "## Q12.\n",
        "<div class=\"alert alert-success\">\n",
        "[문제12]     \n",
        "    \n",
        "값 정렬(age) : 나이 순으로 정렬\n",
        "</div>\n",
        "\n",
        "[Hint]\n",
        "sort_values\n"
      ]
    },
    {
      "cell_type": "code",
      "execution_count": null,
      "metadata": {
        "id": "csbByWQJSym3"
      },
      "outputs": [],
      "source": [
        "df = df.sort_values(by=\"age\")\n",
        "\n",
        "# df = df.sort_values(by=\"age\", ascending=False) #내림차순 , ascending=False 추가\n",
        "\n",
        "print(df[[\"age\"]].head())\n"
      ]
    },
    {
      "cell_type": "markdown",
      "metadata": {
        "id": "CR_Nv2vhSym3"
      },
      "source": [
        "## Q13.\n",
        "<div class=\"alert alert-success\">\n",
        "[문제13]     \n",
        "    \n",
        "나이('age') 평균구하기\n",
        "</div>\n",
        "\n",
        "[Hint]\n",
        "mean"
      ]
    },
    {
      "cell_type": "code",
      "execution_count": null,
      "metadata": {
        "id": "NkTlb1O7Sym3"
      },
      "outputs": [],
      "source": [
        "average_age = df[\"age\"].mean()\n",
        "\n",
        "print(average_age.round(2))  # 평균을 소수점 둘째 자리까지\n"
      ]
    },
    {
      "cell_type": "markdown",
      "metadata": {
        "id": "9nD4NeOQSym3"
      },
      "source": [
        "## Q14.\n",
        "<div class=\"alert alert-success\">\n",
        "[문제14]     \n",
        "    \n",
        "보험료('charges')와 가장 상관관계가 높은 변수는?\n",
        "</div>\n",
        "\n",
        "[Hint]\n",
        " - 공분산: df.cov()\n",
        " - 상관계수: df.corr()"
      ]
    },
    {
      "cell_type": "code",
      "execution_count": null,
      "metadata": {
        "id": "vAOvFQ4gSym3"
      },
      "outputs": [],
      "source": [
        "correlations = df.corr(numeric_only=True) #숫자형 컬럼만 상관계수 계산\n",
        "\n",
        "print(correlations[\"charges\"].sort_values(ascending=False))"
      ]
    },
    {
      "cell_type": "code",
      "execution_count": null,
      "metadata": {
        "id": "yESJueu6Sym3"
      },
      "outputs": [],
      "source": [
        "df[\"smoker\"] = df[\"smoker\"].map({\"yes\": 1, \"no\": 0})\n",
        "correlations = df.corr(numeric_only=True)\n",
        "print(correlations[\"charges\"].sort_values(ascending=False))\n"
      ]
    },
    {
      "cell_type": "markdown",
      "metadata": {
        "id": "yzBCgRfGSym3"
      },
      "source": [
        "# 과제 3\n",
        "## Q15.\n",
        "<div class=\"alert alert-success\">\n",
        "[문제15]     \n",
        "    \n",
        " 남자, 여자가 각각 몇명있는지 구하기\n",
        "</div>\n",
        "\n",
        "[Hint]\n",
        "pd.value_counts\n"
      ]
    },
    {
      "cell_type": "code",
      "execution_count": 23,
      "metadata": {
        "id": "flvcVvOaSym4"
      },
      "outputs": [
        {
          "name": "stdout",
          "output_type": "stream",
          "text": [
            "sex\n",
            "male      676\n",
            "female    662\n",
            "Name: count, dtype: int64\n",
            "sex\n",
            "male      676\n",
            "female    662\n",
            "Name: count, dtype: int64\n"
          ]
        },
        {
          "name": "stderr",
          "output_type": "stream",
          "text": [
            "C:\\Users\\Admin\\AppData\\Local\\Temp\\ipykernel_18664\\2849007331.py:2: FutureWarning: pandas.value_counts is deprecated and will be removed in a future version. Use pd.Series(obj).value_counts() instead.\n",
            "  print(pd.value_counts(df[\"sex\"]))\n"
          ]
        }
      ],
      "source": [
        "# 방법 1: pandas 모듈의 최상위 함수 value_counts()를 직접 사용\n",
        "print(pd.value_counts(df[\"sex\"]))\n",
        "# → Series를 인자로 넘겨줌\n",
        "# → 내부적으로는 df[\"sex\"].value_counts()와 동일하게 동작\n",
        "# ✅ 하지만 이 방식은 비권장(deprecated 가능성 있음), 일반적으로는 잘 안 씀\n",
        "\n",
        "# 방법 2: Series 객체(df[\"sex\"])의 메서드 value_counts() 사용 (추천 방식)\n",
        "print(df[\"sex\"].value_counts())\n",
        "# → Series에서 바로 호출하는 메서드\n",
        "# → 가독성도 좋고, 코드 스타일 측면에서도 더 일반적이고 명확함\n",
        "# ✅ 실무 및 교육 자료에서도 이 방식이 더 널리 사용됨\n"
      ]
    },
    {
      "cell_type": "code",
      "execution_count": 24,
      "metadata": {
        "id": "d1LodzOGSym4"
      },
      "outputs": [
        {
          "name": "stdout",
          "output_type": "stream",
          "text": [
            "sex\n",
            "male      676\n",
            "female    662\n",
            "Name: count, dtype: int64\n"
          ]
        }
      ],
      "source": [
        "df[\"sex\"] = df[\"sex\"].str.lower()\n",
        "print(df[\"sex\"].value_counts())\n"
      ]
    },
    {
      "cell_type": "markdown",
      "metadata": {
        "id": "cS-6vyE3Sym4"
      },
      "source": [
        "## Q16.\n",
        "<div class=\"alert alert-success\">\n",
        "[문제16]     \n",
        "    \n",
        "자녀(children)가 3명인 데이터 출력하기\n",
        "</div>"
      ]
    },
    {
      "cell_type": "code",
      "execution_count": null,
      "metadata": {
        "id": "Xl3UyVeaSym4"
      },
      "outputs": [
        {
          "name": "stdout",
          "output_type": "stream",
          "text": [
            "      age     bmi      charges  children     region     sex  smoker\n",
            "1204   18  27.280  18223.45120         3  southeast  female       1\n",
            "369    18  30.400   3481.86800         3  northeast    male       0\n",
            "1195   19  27.930  18838.70366         3  northwest  female       0\n",
            "1186   20  35.625  37465.34375         3  northwest    male       1\n",
            "586    21  20.235   3861.20965         3  northeast    male       0\n",
            "...   ...     ...          ...       ...        ...     ...     ...\n",
            "480    63  41.325  15555.18875         3  northwest    male       0\n",
            "1079   63  33.660  15161.53440         3  southeast    male       0\n",
            "908    63  39.800  15170.06900         3  southwest    male       0\n",
            "378    64  30.115  16455.70785         3  northwest  female       0\n",
            "603    64  39.050  16085.12750         3  southeast  female       0\n",
            "\n",
            "[157 rows x 7 columns]\n",
            "      age     sex  children      charges\n",
            "1204   18  female         3  18223.45120\n",
            "369    18    male         3   3481.86800\n",
            "1195   19  female         3  18838.70366\n",
            "1186   20    male         3  37465.34375\n",
            "586    21    male         3   3861.20965\n",
            "...   ...     ...       ...          ...\n",
            "480    63    male         3  15555.18875\n",
            "1079   63    male         3  15161.53440\n",
            "908    63    male         3  15170.06900\n",
            "378    64  female         3  16455.70785\n",
            "603    64  female         3  16085.12750\n",
            "\n",
            "[157 rows x 4 columns]\n",
            "157\n"
          ]
        }
      ],
      "source": [
        "print(df[df[\"children\"] == 3])"
      ]
    },
    {
      "cell_type": "code",
      "execution_count": 31,
      "metadata": {
        "id": "7Kja-RUWSym4"
      },
      "outputs": [
        {
          "name": "stdout",
          "output_type": "stream",
          "text": [
            "      age     sex  children      charges\n",
            "1204   18  female         3  18223.45120\n",
            "369    18    male         3   3481.86800\n",
            "1195   19  female         3  18838.70366\n",
            "1186   20    male         3  37465.34375\n",
            "586    21    male         3   3861.20965\n",
            "...   ...     ...       ...          ...\n",
            "480    63    male         3  15555.18875\n",
            "1079   63    male         3  15161.53440\n",
            "908    63    male         3  15170.06900\n",
            "378    64  female         3  16455.70785\n",
            "603    64  female         3  16085.12750\n",
            "\n",
            "[157 rows x 4 columns]\n",
            "157\n"
          ]
        }
      ],
      "source": [
        "# 원하는 컬럼만 보려면 이렇게도 가능:\n",
        "print(df[df[\"children\"] == 3][[\"age\", \"sex\", \"children\", \"charges\"]])\n",
        "\n",
        "# .shape로 몇 명인지 개수도 확인할 수 있어:\n",
        "print(df[df[\"children\"] == 3].shape[0])  # 총 몇 명인지"
      ]
    },
    {
      "cell_type": "markdown",
      "metadata": {
        "id": "99JW6dm_Sym4"
      },
      "source": [
        "## Q16.\n",
        "<div class=\"alert alert-success\">\n",
        "[문제16]     \n",
        "    \n",
        "자녀(children)가  5명 이상인 데이터 출력하기\n",
        "</div>"
      ]
    },
    {
      "cell_type": "code",
      "execution_count": 33,
      "metadata": {},
      "outputs": [
        {
          "name": "stdout",
          "output_type": "stream",
          "text": [
            "      age     bmi      charges  children     region     sex  smoker\n",
            "32     19  28.600   4687.79700         5  southwest  female       0\n",
            "984    20  30.115   4915.05985         5  northeast    male       0\n",
            "166    20  37.000   4830.63000         5  southwest  female       0\n",
            "413    25  23.900   5080.09600         5  southwest    male       0\n",
            "1245   28  24.300   5615.36900         5  southwest    male       0\n",
            "71     31  28.500   6799.45800         5  northeast    male       0\n",
            "640    33  42.400   6666.24300         5  southwest    male       0\n",
            "877    33  33.440   6653.78860         5  southeast    male       0\n",
            "1130   39  23.870   8582.30230         5  southeast  female       0\n",
            "937    39  24.225   8965.79575         5  northwest  female       0\n",
            "969    39  34.320   8596.82780         5  southeast  female       0\n",
            "1085   39  18.300  19023.26000         5  southwest  female       1\n",
            "1116   41  29.640   9222.40260         5  northeast    male       0\n",
            "1272   43  25.520  14478.33015         5  southeast    male       0\n",
            "425    45  24.310   9788.86590         5  southeast    male       0\n",
            "932    46  25.800  10096.97000         5  southwest    male       0\n",
            "568    49  31.900  11552.90400         5  southwest  female       0\n",
            "438    52  46.750  12592.53450         5  southeast  female       0\n"
          ]
        }
      ],
      "source": [
        "print(df[df[\"children\"] >= 5])\n"
      ]
    },
    {
      "cell_type": "code",
      "execution_count": 36,
      "metadata": {},
      "outputs": [
        {
          "name": "stdout",
          "output_type": "stream",
          "text": [
            "18\n"
          ]
        }
      ],
      "source": [
        "# 인원 수만 알고 싶다면?\n",
        "print(df[df[\"children\"] >= 5].shape[0])\n"
      ]
    },
    {
      "cell_type": "code",
      "execution_count": 35,
      "metadata": {
        "id": "qgC9GcwMSym4"
      },
      "outputs": [
        {
          "name": "stdout",
          "output_type": "stream",
          "text": [
            "      age  children      charges\n",
            "32     19         5   4687.79700\n",
            "984    20         5   4915.05985\n",
            "166    20         5   4830.63000\n",
            "413    25         5   5080.09600\n",
            "1245   28         5   5615.36900\n",
            "71     31         5   6799.45800\n",
            "640    33         5   6666.24300\n",
            "877    33         5   6653.78860\n",
            "1130   39         5   8582.30230\n",
            "937    39         5   8965.79575\n",
            "969    39         5   8596.82780\n",
            "1085   39         5  19023.26000\n",
            "1116   41         5   9222.40260\n",
            "1272   43         5  14478.33015\n",
            "425    45         5   9788.86590\n",
            "932    46         5  10096.97000\n",
            "568    49         5  11552.90400\n",
            "438    52         5  12592.53450\n"
          ]
        }
      ],
      "source": [
        "# 컬럼 일부만 보고 싶다면?\n",
        "print(df[df[\"children\"] >= 5][[\"age\", \"children\", \"charges\"]])\n"
      ]
    },
    {
      "cell_type": "markdown",
      "metadata": {
        "id": "mHSF2EyZSym4"
      },
      "source": [
        "## Q17.\n",
        "<div class=\"alert alert-success\">\n",
        "[문제17]     \n",
        "    \n",
        " bmi가  17 미만인 데이터 출력하기\n",
        "</div>"
      ]
    },
    {
      "cell_type": "code",
      "execution_count": 38,
      "metadata": {},
      "outputs": [
        {
          "name": "stdout",
          "output_type": "stream",
          "text": [
            "      age     bmi     charges  children     region     sex  smoker\n",
            "172    18  15.960  1694.79640         0  northeast    male       0\n",
            "428    21  16.815  3167.45585         1  northeast  female       0\n",
            "1226   38  16.815  6640.54485         2  northeast    male       0\n"
          ]
        }
      ],
      "source": [
        "print(df[df[\"bmi\"] < 17])\n"
      ]
    },
    {
      "cell_type": "code",
      "execution_count": 41,
      "metadata": {},
      "outputs": [
        {
          "name": "stdout",
          "output_type": "stream",
          "text": [
            "3\n"
          ]
        }
      ],
      "source": [
        "# 몇 명인지 확인하고 싶으면?\n",
        "print(df[df[\"bmi\"] < 17].shape[0])\n"
      ]
    },
    {
      "cell_type": "code",
      "execution_count": 40,
      "metadata": {
        "id": "dCm_wjIJSym5"
      },
      "outputs": [
        {
          "name": "stdout",
          "output_type": "stream",
          "text": [
            "      age     bmi     charges\n",
            "172    18  15.960  1694.79640\n",
            "428    21  16.815  3167.45585\n",
            "1226   38  16.815  6640.54485\n"
          ]
        }
      ],
      "source": [
        "# 특정 컬럼만 보고 싶으면?\n",
        "print(df[df[\"bmi\"] < 17][[\"age\", \"bmi\", \"charges\"]])\n"
      ]
    },
    {
      "cell_type": "markdown",
      "metadata": {
        "id": "OZqzyKT3Sym5"
      },
      "source": [
        "# 과제 4 \n",
        "## Q18.\n",
        "<div class=\"alert alert-success\">\n",
        "[문제18]     \n",
        "    \n",
        "성별에 따른 보험료 평균\n",
        "</div>"
      ]
    },
    {
      "cell_type": "code",
      "execution_count": null,
      "metadata": {
        "id": "zEdlTV1LSym5"
      },
      "outputs": [],
      "source": []
    },
    {
      "cell_type": "markdown",
      "metadata": {
        "id": "F3nEGlBQSym5"
      },
      "source": [
        "## Q19.\n",
        "<div class=\"alert alert-success\">\n",
        "[문제19]     \n",
        "    \n",
        "흡연여부에 따른 보험료 평균\n",
        "</div>"
      ]
    },
    {
      "cell_type": "code",
      "execution_count": null,
      "metadata": {
        "id": "tIQBkdlLSym5"
      },
      "outputs": [],
      "source": []
    },
    {
      "cell_type": "markdown",
      "metadata": {
        "id": "-8u1gXqfSym5"
      },
      "source": [
        "## Q20.\n",
        "<div class=\"alert alert-success\">\n",
        "[문제20]     \n",
        "    \n",
        "지역별 보험료 평균\n",
        "</div>"
      ]
    },
    {
      "cell_type": "code",
      "execution_count": null,
      "metadata": {
        "id": "G7TN-B8MSym5"
      },
      "outputs": [],
      "source": []
    },
    {
      "cell_type": "markdown",
      "metadata": {
        "id": "PbWuGw9wSym5"
      },
      "source": [
        "## Q21.\n",
        "<div class=\"alert alert-success\">\n",
        "[문제21]     \n",
        "    \n",
        "흡연여부 + 지역별 데이터 평균\n",
        "</div>"
      ]
    },
    {
      "cell_type": "code",
      "execution_count": null,
      "metadata": {
        "id": "1D8GMqIJSym6"
      },
      "outputs": [],
      "source": []
    },
    {
      "cell_type": "markdown",
      "metadata": {
        "id": "14kuCN1rSym6"
      },
      "source": [
        "## Q22.\n",
        "<div class=\"alert alert-success\">\n",
        "[문제22]     \n",
        "    \n",
        " 흡연여부 + 지역별 데이터 평균에서 'charges' 만 츨력하기\n",
        "</div>"
      ]
    },
    {
      "cell_type": "code",
      "execution_count": null,
      "metadata": {
        "id": "tQZwgvwASym6"
      },
      "outputs": [],
      "source": []
    },
    {
      "cell_type": "markdown",
      "metadata": {
        "id": "jMvim1N3Sym6"
      },
      "source": [
        "## Q23.\n",
        "<div class=\"alert alert-success\">\n",
        "[문제23]     \n",
        "    \n",
        " 흡연여부 + 지역별 데이터 크기(size)\n",
        "</div>"
      ]
    },
    {
      "cell_type": "code",
      "execution_count": null,
      "metadata": {
        "id": "sEs_2N6lSym6"
      },
      "outputs": [],
      "source": []
    },
    {
      "cell_type": "markdown",
      "metadata": {
        "id": "Xecgqc-VSym6"
      },
      "source": [
        "## Q24.\n",
        "<div class=\"alert alert-success\">\n",
        "[문제24]     \n",
        "    \n",
        "smoker 여부에 따라, group_val 컬럼에 '흡연자', '비흡연자' 표시하기\n",
        "</div>"
      ]
    },
    {
      "cell_type": "code",
      "execution_count": null,
      "metadata": {
        "id": "N-HRlzW3Sym6"
      },
      "outputs": [],
      "source": []
    },
    {
      "cell_type": "code",
      "execution_count": null,
      "metadata": {
        "id": "RSdAOjzVSym6"
      },
      "outputs": [],
      "source": []
    },
    {
      "cell_type": "code",
      "execution_count": null,
      "metadata": {
        "id": "PvF5YaHPSym6"
      },
      "outputs": [],
      "source": []
    }
  ],
  "metadata": {
    "colab": {
      "include_colab_link": true,
      "provenance": []
    },
    "kernelspec": {
      "display_name": "base",
      "language": "python",
      "name": "python3"
    },
    "language_info": {
      "codemirror_mode": {
        "name": "ipython",
        "version": 3
      },
      "file_extension": ".py",
      "mimetype": "text/x-python",
      "name": "python",
      "nbconvert_exporter": "python",
      "pygments_lexer": "ipython3",
      "version": "3.12.1"
    },
    "toc": {
      "base_numbering": 1,
      "nav_menu": {},
      "number_sections": false,
      "sideBar": true,
      "skip_h1_title": false,
      "title_cell": "Table of Contents",
      "title_sidebar": "Contents",
      "toc_cell": false,
      "toc_position": {
        "height": "calc(100% - 180px)",
        "left": "10px",
        "top": "150px",
        "width": "332.547px"
      },
      "toc_section_display": true,
      "toc_window_display": true
    }
  },
  "nbformat": 4,
  "nbformat_minor": 0
}
