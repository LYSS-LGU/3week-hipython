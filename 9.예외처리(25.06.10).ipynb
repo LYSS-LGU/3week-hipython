{
 "cells": [
  {
   "cell_type": "markdown",
   "id": "9ee1a4ea-217a-415a-896f-6e18a0ded760",
   "metadata": {},
   "source": [
    "# 예외의 종류\n",
    "1. 문법오류 SyntaxError / NameError / TypeError\n",
    "   - https://docs.python.org/ko/3/library/exceptions.html#bltin-exceptions\n",
    "3. 논리오류\n",
    "4. 예외상황\n"
   ]
  },
  {
   "cell_type": "code",
   "execution_count": null,
   "id": "f53131dc-0fa3-4b74-b788-4d3dc088f1da",
   "metadata": {},
   "outputs": [],
   "source": [
    "while true\n",
    "    pirnt('hello')\n",
    "\n",
    "# SyntaxError: expected ':'"
   ]
  },
  {
   "cell_type": "markdown",
   "id": "2dd85735-2fe1-417b-beb6-bd44b3ab6df7",
   "metadata": {},
   "source": [
    "## try :\n",
    "\n",
    "## except"
   ]
  },
  {
   "cell_type": "code",
   "execution_count": null,
   "id": "eb5b1af1-81bc-41b7-bd30-33396dc9e074",
   "metadata": {},
   "outputs": [],
   "source": [
    "# 10/0 ZeroDivisionError: division by zero"
   ]
  },
  {
   "cell_type": "code",
   "execution_count": null,
   "id": "7efb8859-ba78-4a04-8a22-1a35ce5ad741",
   "metadata": {},
   "outputs": [],
   "source": [
    "def divide(m,n):\n",
    "    return m/n"
   ]
  },
  {
   "cell_type": "code",
   "execution_count": null,
   "id": "3dfb35fd-4039-4da2-a978-d5679c0fe972",
   "metadata": {},
   "outputs": [],
   "source": [
    "def divide(m,n):\n",
    "    try: \n",
    "        result = m/n\n",
    "    except ZeroDivisionError:\n",
    "        print(\"0으로 나눌 수 없습니다.\")     \n",
    "        return None\n",
    "    except : #특정 에러 지정안해주면 나머지 error 다 포함됨.\n",
    "        print('다른 에러가 발생했습니다.')\n",
    "        return None"
   ]
  },
  {
   "cell_type": "code",
   "execution_count": null,
   "id": "c4a0cb02-35d4-414a-9a1e-86736d02ce34",
   "metadata": {},
   "outputs": [],
   "source": [
    "result = divide(3,0)\n",
    "result"
   ]
  },
  {
   "cell_type": "code",
   "execution_count": 3,
   "id": "307081f1-d696-4b45-8a9f-97596ea0913e",
   "metadata": {},
   "outputs": [],
   "source": [
    "def divide(m, n, s):\n",
    "    try:\n",
    "        result = m/n\n",
    "        result += int(s)\n",
    "        return result\n",
    "    except (ValueError, ZeroDivisionError):\n",
    "        print('0으로 나눌수 없습니다')\n",
    "        return None\n",
    "    except : #나머지 모든 에러 받기\n",
    "        print('다른 에러가 발생했습니다.')\n",
    "        return None\n",
    "    finally:\n",
    "        print(\"항상 실행되는 코드입니다.\")\n",
    "    "
   ]
  },
  {
   "cell_type": "code",
   "execution_count": 2,
   "id": "02703043-f4b4-4569-a595-8a6a752d648e",
   "metadata": {},
   "outputs": [
    {
     "ename": "TypeError",
     "evalue": "divide() missing 1 required positional argument: 's'",
     "output_type": "error",
     "traceback": [
      "\u001b[31m---------------------------------------------------------------------------\u001b[39m",
      "\u001b[31mTypeError\u001b[39m                                 Traceback (most recent call last)",
      "\u001b[36mCell\u001b[39m\u001b[36m \u001b[39m\u001b[32mIn[2]\u001b[39m\u001b[32m, line 1\u001b[39m\n\u001b[32m----> \u001b[39m\u001b[32m1\u001b[39m result = divide(\u001b[32m3\u001b[39m,\u001b[32m0\u001b[39m)\n\u001b[32m      2\u001b[39m result\n",
      "\u001b[31mTypeError\u001b[39m: divide() missing 1 required positional argument: 's'"
     ]
    }
   ],
   "source": [
    "result = divide(3,0)\n",
    "result"
   ]
  },
  {
   "cell_type": "code",
   "execution_count": 4,
   "id": "f899cc85-4ab2-42a5-8644-b7d3100d4c2c",
   "metadata": {},
   "outputs": [
    {
     "name": "stdout",
     "output_type": "stream",
     "text": [
      "0으로 나눌수 없습니다\n",
      "항상 실행되는 코드입니다.\n"
     ]
    }
   ],
   "source": [
    "divide(3,2,'a')\n"
   ]
  },
  {
   "cell_type": "code",
   "execution_count": null,
   "id": "0c301f82-1d41-4a4d-821a-a8712ae8b197",
   "metadata": {},
   "outputs": [],
   "source": [
    "divide(None,0)"
   ]
  },
  {
   "cell_type": "markdown",
   "id": "fe0266a0-adf8-48f1-91ab-0c986b77ff35",
   "metadata": {},
   "source": [
    "# 예외 발생 여부와 관계없이 실행하는 코드\n",
    "```\n",
    "try:\n",
    "    ...\n",
    "except:\n",
    "    ...\n",
    "finally:\n",
    "    print(\"항상 실행되는 코드입니다.\")\n",
    "```"
   ]
  },
  {
   "cell_type": "markdown",
   "id": "07e883c6-349a-47e6-ad85-aeca4855d1e7",
   "metadata": {},
   "source": [
    "# 예외 발생시키기 "
   ]
  },
  {
   "cell_type": "code",
   "execution_count": null,
   "id": "86a1bf33-3c93-4da4-80f6-8ffe7f5fe1db",
   "metadata": {},
   "outputs": [],
   "source": [
    "raise TypeError(\"입력값오류\")"
   ]
  },
  {
   "cell_type": "code",
   "execution_count": null,
   "id": "5da50db3-f765-47d7-92e7-303083980024",
   "metadata": {},
   "outputs": [],
   "source": [
    "try:\n",
    "    raise TypeError(\"입력값오류\")\n",
    "except TypeError as e :\n",
    "    print(e.args)"
   ]
  },
  {
   "cell_type": "markdown",
   "id": "248c3059-e54c-4f0a-b016-89342bf2b536",
   "metadata": {},
   "source": [
    "# 내가 정의하는 예외\n",
    "\n",
    "1. 예외 클래스 작성 : 각 예외상황에 맞는 메시지를 작성\n",
    "2. 호출할 때 try.except 로 받아줍니다."
   ]
  },
  {
   "cell_type": "code",
   "execution_count": 7,
   "id": "4294c0d0-b8e7-476a-9da0-ec83584fc853",
   "metadata": {},
   "outputs": [],
   "source": [
    "class AgeException(Exception):\n",
    "    def __init__(self, msg):\n",
    "        self._message = msg\n",
    "\n",
    "def input_age():\n",
    "    age = int(input('나이를 입력하세요 : '))\n",
    "\n",
    "    if age < 0 :\n",
    "        raise AgeException('나이는 양수입니다.')\n",
    "    elif age > 150:\n",
    "        raise AgeException('150세 이상??')\n",
    "    else :\n",
    "        return age"
   ]
  },
  {
   "cell_type": "code",
   "execution_count": 9,
   "id": "a160023a-3ec7-4617-ba16-d874e99dbf25",
   "metadata": {},
   "outputs": [
    {
     "name": "stdin",
     "output_type": "stream",
     "text": [
      "나이를 입력하세요 :  20\n"
     ]
    },
    {
     "data": {
      "text/plain": [
       "20"
      ]
     },
     "execution_count": 9,
     "metadata": {},
     "output_type": "execute_result"
    }
   ],
   "source": [
    "input_age()"
   ]
  },
  {
   "cell_type": "code",
   "execution_count": 8,
   "id": "0ae020d4-7d28-45b8-8c79-82cfca557602",
   "metadata": {},
   "outputs": [
    {
     "name": "stdin",
     "output_type": "stream",
     "text": [
      "나이를 입력하세요 :  20\n"
     ]
    },
    {
     "name": "stdout",
     "output_type": "stream",
     "text": [
      "입력하신 나이는 20입니다.\n"
     ]
    }
   ],
   "source": [
    "try:\n",
    "    age = input_age()\n",
    "except AgeException as e:\n",
    "    print('\"오류발생시 작동합니다\"',e.args[0])\n",
    "else :\n",
    "    print(f'입력하신 나이는 {age}입니다.')"
   ]
  },
  {
   "cell_type": "code",
   "execution_count": null,
   "id": "bcd4284f-eddc-467b-a535-a2434bc14e39",
   "metadata": {},
   "outputs": [],
   "source": []
  },
  {
   "cell_type": "code",
   "execution_count": null,
   "id": "0f269f5f-2526-453d-b07a-c79214cf086c",
   "metadata": {},
   "outputs": [],
   "source": []
  },
  {
   "cell_type": "code",
   "execution_count": null,
   "id": "1ce54fc1-4c73-4cfa-a1b5-d02f658179ce",
   "metadata": {},
   "outputs": [],
   "source": []
  }
 ],
 "metadata": {
  "kernelspec": {
   "display_name": "Python 3 (ipykernel)",
   "language": "python",
   "name": "python3"
  },
  "language_info": {
   "codemirror_mode": {
    "name": "ipython",
    "version": 3
   },
   "file_extension": ".py",
   "mimetype": "text/x-python",
   "name": "python",
   "nbconvert_exporter": "python",
   "pygments_lexer": "ipython3",
   "version": "3.12.1"
  }
 },
 "nbformat": 4,
 "nbformat_minor": 5
}
