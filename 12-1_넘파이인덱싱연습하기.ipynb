{
 "cells": [
  {
   "cell_type": "markdown",
   "id": "6db22dfa",
   "metadata": {},
   "source": [
    "# 인덱싱 연습하기\n"
   ]
  },
  {
   "cell_type": "code",
   "execution_count": 10,
   "id": "fc5cbc7d",
   "metadata": {},
   "outputs": [
    {
     "name": "stdout",
     "output_type": "stream",
     "text": [
      "원본 4x4 배열:\n",
      "[[ 0  1  2  3]\n",
      " [ 4  5  6  7]\n",
      " [ 8  9 10 11]\n",
      " [12 13 14 15]]\n",
      "------------------------------\n"
     ]
    }
   ],
   "source": [
    "import numpy as np\n",
    "\n",
    "# 기준이 될 4x4 배열 생성 (이미지와 동일하게 0부터 15까지의 숫자로 채움)\n",
    "arr_2d = np.arange(16).reshape((4, 4))\n",
    "\n",
    "print(\"원본 4x4 배열:\")\n",
    "print(arr_2d)\n",
    "print(\"-\" * 30)"
   ]
  },
  {
   "cell_type": "code",
   "execution_count": 13,
   "id": "60a710cf",
   "metadata": {},
   "outputs": [
    {
     "name": "stdout",
     "output_type": "stream",
     "text": [
      "첫 번째 행:\n",
      "[0 1 2 3]\n"
     ]
    }
   ],
   "source": [
    "# 첫 번째 행 전체\n",
    "first_row = arr_2d[0, :]  \n",
    "\n",
    "print(\"첫 번째 행:\")\n",
    "print(first_row)"
   ]
  },
  {
   "cell_type": "code",
   "execution_count": null,
   "id": "0978c79b",
   "metadata": {},
   "outputs": [
    {
     "name": "stdout",
     "output_type": "stream",
     "text": [
      "마지막 열 전체:\n",
      "[ 3  7 11 15]\n"
     ]
    }
   ],
   "source": [
    "#마지막 열 전체\n",
    "last_row = arr_2d[:, -1]  \n",
    " # last_row = arr_2d[:, 3]\n",
    "print(\"마지막 열 전체:\")\n",
    "print(last_row)"
   ]
  },
  {
   "cell_type": "code",
   "execution_count": 17,
   "id": "ec3a93cf",
   "metadata": {},
   "outputs": [
    {
     "name": "stdout",
     "output_type": "stream",
     "text": [
      "원본 배열:\n",
      "[[ 0  1  2  3]\n",
      " [ 4  5  6  7]\n",
      " [ 8  9 10 11]\n",
      " [12 13 14 15]]\n",
      "------------------------------\n",
      "선택된 결과:\n",
      "[[ 0  3]\n",
      " [12 15]]\n"
     ]
    }
   ],
   "source": [
    "#첫 번째 행과 마지막 행만 선택, 각 행의 첫번째 열, 마지막 열 선택\n",
    "import numpy as np\n",
    "\n",
    "arr_2d = np.arange(16).reshape((4, 4))\n",
    "\n",
    "print(\"원본 배열:\")\n",
    "print(arr_2d)\n",
    "print(\"-\" * 30)\n",
    "\n",
    "# 첫 번째 행과 마지막 행에서 첫 번째 열, 마지막 열만 선택\n",
    "result = arr_2d[[0, -1], :][:, [0, -1]]\n",
    "\n",
    "print(\"선택된 결과:\")\n",
    "print(result)\n"
   ]
  },
  {
   "cell_type": "code",
   "execution_count": 5,
   "id": "13d45df1",
   "metadata": {},
   "outputs": [],
   "source": [
    "# 짝수 인덱스 행(0번째, 2번째 행), 홀수 인덱스 열 선택\n"
   ]
  },
  {
   "cell_type": "code",
   "execution_count": 6,
   "id": "9e95a0f3",
   "metadata": {},
   "outputs": [],
   "source": [
    "#위의 3차원 행렬을 작성하세요\n"
   ]
  },
  {
   "cell_type": "code",
   "execution_count": 7,
   "id": "f84db7ac",
   "metadata": {},
   "outputs": [],
   "source": [
    "# 2번째 층 선택\n"
   ]
  },
  {
   "cell_type": "code",
   "execution_count": null,
   "id": "786f3694",
   "metadata": {},
   "outputs": [],
   "source": [
    "#네번째행, 두번째 열 원소 선택, 1차원 배열로 작성\n"
   ]
  },
  {
   "cell_type": "code",
   "execution_count": null,
   "id": "466eef4d",
   "metadata": {},
   "outputs": [],
   "source": [
    "#배열의 첫 두 층, 마지막 두 행, 마지막 두 열 선택\n"
   ]
  },
  {
   "cell_type": "code",
   "execution_count": null,
   "id": "b2cebdc9",
   "metadata": {},
   "outputs": [],
   "source": [
    "#짝수 인덱스층, 모든행의 세번째열 선택\n"
   ]
  },
  {
   "cell_type": "code",
   "execution_count": 8,
   "id": "e8ca9a6f",
   "metadata": {},
   "outputs": [],
   "source": [
    "#세번째 층, 두번째 행에서 네번째 행, 홀수 인덱스 열"
   ]
  },
  {
   "cell_type": "code",
   "execution_count": null,
   "id": "e4c56c8d",
   "metadata": {},
   "outputs": [],
   "source": []
  }
 ],
 "metadata": {
  "kernelspec": {
   "display_name": "base",
   "language": "python",
   "name": "python3"
  },
  "language_info": {
   "codemirror_mode": {
    "name": "ipython",
    "version": 3
   },
   "file_extension": ".py",
   "mimetype": "text/x-python",
   "name": "python",
   "nbconvert_exporter": "python",
   "pygments_lexer": "ipython3",
   "version": "3.12.1"
  }
 },
 "nbformat": 4,
 "nbformat_minor": 5
}
