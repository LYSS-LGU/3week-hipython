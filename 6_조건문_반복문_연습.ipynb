{
 "cells": [
  {
   "cell_type": "markdown",
   "metadata": {
    "colab_type": "text",
    "id": "view-in-github"
   },
   "source": [
    "<a href=\"https://colab.research.google.com/github/zzhining/python_basic/blob/master/exercise/%EC%A1%B0%EA%B1%B4%EB%AC%B8_%EB%B0%98%EB%B3%B5%EB%AC%B8.ipynb\" target=\"_parent\"><img src=\"https://colab.research.google.com/assets/colab-badge.svg\" alt=\"Open In Colab\"/></a>"
   ]
  },
  {
   "cell_type": "markdown",
   "metadata": {
    "id": "aY8qecTDvJp-"
   },
   "source": [
    "1. 변수 number가 주어졌을 때, 숫자가 양수인지 음수인지 또는 0인지 판별하고, 해당 결과를 출력하는 코드를 작성하세요."
   ]
  },
  {
   "cell_type": "code",
   "execution_count": null,
   "metadata": {
    "id": "b6Yc9GKku74M"
   },
   "outputs": [],
   "source": [
    "number = -10"
   ]
  },
  {
   "cell_type": "code",
   "execution_count": 4,
   "metadata": {
    "id": "mloBcOpQvPZx"
   },
   "outputs": [
    {
     "name": "stdout",
     "output_type": "stream",
     "text": [
      "음수입니다.\n",
      "음수\n"
     ]
    }
   ],
   "source": [
    "#답을 작성하세요.\n",
    "\n",
    "number = -10\n",
    "\n",
    "if number > 0:\n",
    "    print(\"양수입니다.\")\n",
    "elif number < 0:\n",
    "    print(\"음수입니다.\")\n",
    "else :\n",
    "    print(\"0입니다.\")\n",
    "\n",
    "# 1줄 작성 방식\n",
    "print('양수' if number > 0 else '음수' if number < 0 else '0')"
   ]
  },
  {
   "cell_type": "markdown",
   "metadata": {
    "id": "QnHW5rjAvcmH"
   },
   "source": [
    "2. 변수 number가 주어졌을 때, 숫자가 짝수인지 홀수인지 판별하고, 해당 결과를 출력하는 코드를 작성하세요."
   ]
  },
  {
   "cell_type": "code",
   "execution_count": null,
   "metadata": {
    "id": "vdEd3HmYvmzZ"
   },
   "outputs": [],
   "source": [
    "number = 52"
   ]
  },
  {
   "cell_type": "code",
   "execution_count": 7,
   "metadata": {
    "id": "k0zrvO9DvcLy"
   },
   "outputs": [
    {
     "name": "stdout",
     "output_type": "stream",
     "text": [
      "짝수\n",
      "3의 배수\n",
      "100보다 큼\n"
     ]
    }
   ],
   "source": [
    "#답을 작성하세요.\n",
    "# [참일 때 값] if [조건] else [거짓일 때 값]\n",
    "\n",
    "number = 52\n",
    "\n",
    "print('짝수' if number % 2 == 0 else '홀수')\n",
    "\n",
    "# 연습: 3의 배수인지 아닌지\n",
    "number = 9\n",
    "print('3의 배수' if number % 3 == 0 else '3의 배수 아님')\n",
    "\n",
    "# 연습: 100보다 큰지 작은지\n",
    "number = 120\n",
    "print('100보다 큼' if number > 100 else '100 이하')\n"
   ]
  },
  {
   "cell_type": "markdown",
   "metadata": {
    "id": "3dbaqEFlv8JV"
   },
   "source": [
    "3. 변수 score가 주어졌을 때, 다음 기준에 따라 학점을 출력하는 코드를 작성하세요.\n",
    "- 90점 이상: A\n",
    "- 80점 이상 90점 미만: B\n",
    "- 70점 이상 80점 미만: C\n",
    "- 70점 미만: F"
   ]
  },
  {
   "cell_type": "code",
   "execution_count": 11,
   "metadata": {
    "id": "w30L_264wHG3"
   },
   "outputs": [
    {
     "name": "stdout",
     "output_type": "stream",
     "text": [
      "B\n",
      "B\n"
     ]
    }
   ],
   "source": [
    "#답을 작성하세요.\n",
    "\n",
    "score = 85\n",
    "\n",
    "if score >= 90:\n",
    "    print(\"A\")\n",
    "elif score >= 80:\n",
    "    print(\"B\")\n",
    "elif score >= 70:\n",
    "    print(\"C\")\n",
    "else:\n",
    "    print(\"F\")\n",
    "\n",
    "# 1줄로 나타내 보기\n",
    "print(\"A\" if score >= 90 else \"B\" if score >= 80 else \"C\" if score >= 70 else \"F\")"
   ]
  },
  {
   "cell_type": "markdown",
   "metadata": {
    "id": "s1PQZZ-xwSp-"
   },
   "source": [
    "4. 변수 price와 is_discount가 주어졌을 때, is_discount가 True이면 가격에 10% 할인을 적용하고, 그렇지 않으면 원래 가격을 출력하는 코드를 작성하세요."
   ]
  },
  {
   "cell_type": "code",
   "execution_count": null,
   "metadata": {
    "id": "_RCIZwfDwSSz"
   },
   "outputs": [],
   "source": [
    "price = 100\n",
    "is_discount = True"
   ]
  },
  {
   "cell_type": "code",
   "execution_count": 16,
   "metadata": {
    "id": "HaR5tBTywtvm"
   },
   "outputs": [
    {
     "name": "stdout",
     "output_type": "stream",
     "text": [
      "90.0\n",
      "81.0\n"
     ]
    }
   ],
   "source": [
    "#답을 작성하세요.\n",
    "price = 100\n",
    "is_discount = True\n",
    "\n",
    "if is_discount == True:\n",
    "    price = price*0.9\n",
    "print(price)\n",
    "\n",
    "price = price * 0.9 if is_discount else price\n",
    "print(price)"
   ]
  },
  {
   "cell_type": "markdown",
   "metadata": {
    "id": "_YUcYRgvx_LF"
   },
   "source": [
    "5. 반복문을 사용하여 1부터 10까지의 숫자를 출력하는 코드를 작성하세요."
   ]
  },
  {
   "cell_type": "code",
   "execution_count": 17,
   "metadata": {
    "id": "wai32pPIyGz8"
   },
   "outputs": [
    {
     "name": "stdout",
     "output_type": "stream",
     "text": [
      "1\n",
      "2\n",
      "3\n",
      "4\n",
      "5\n",
      "6\n",
      "7\n",
      "8\n",
      "9\n",
      "10\n"
     ]
    }
   ],
   "source": [
    "#답을 작성하세요.\n",
    "for i in range(1,11):\n",
    "    print(i)"
   ]
  },
  {
   "cell_type": "markdown",
   "metadata": {
    "id": "WWeLXpUEyXzR"
   },
   "source": [
    "6. 위 반복문(1~10) 숫자 중, 짝수의 값만 출력하는 코드를 작성하세요."
   ]
  },
  {
   "cell_type": "code",
   "execution_count": 25,
   "metadata": {
    "id": "9OeskZ2YyWqH"
   },
   "outputs": [
    {
     "name": "stdout",
     "output_type": "stream",
     "text": [
      "2\n",
      "4\n",
      "6\n",
      "8\n",
      "10\n"
     ]
    },
    {
     "data": {
      "text/plain": [
       "[1, 2, 3, 4, 5, 6, 7, 8, 9, 10]"
      ]
     },
     "execution_count": 25,
     "metadata": {},
     "output_type": "execute_result"
    }
   ],
   "source": [
    "#6. 답을 작성하세요.\n",
    "\n",
    "for i in range(1,11):\n",
    "    if i % 2 == 0: # 짝수인지 판별하는 조건\n",
    "        print(i)\n",
    "\n",
    "[i for i in range(1,11)]"
   ]
  },
  {
   "cell_type": "code",
   "execution_count": 26,
   "metadata": {},
   "outputs": [
    {
     "data": {
      "text/plain": [
       "[2, 4, 6, 8, 10]"
      ]
     },
     "execution_count": 26,
     "metadata": {},
     "output_type": "execute_result"
    }
   ],
   "source": [
    "#6. [i for i in range(1,11) if i%2 == 0]"
   ]
  },
  {
   "cell_type": "markdown",
   "metadata": {
    "id": "KvfAOYVOy6ns"
   },
   "source": [
    "7. 리스트 items와 변수 target이 주어졌을 때, for 반복문을 사용하여 target이 리스트에 있는지 확인하고, 결과를 출력하는 코드를 작성하세요."
   ]
  },
  {
   "cell_type": "code",
   "execution_count": null,
   "metadata": {
    "id": "Tew31WYozN_m"
   },
   "outputs": [],
   "source": [
    "items = [\"apple\", \"banana\", \"cherry\"]\n",
    "target = \"banana\""
   ]
  },
  {
   "cell_type": "code",
   "execution_count": 30,
   "metadata": {
    "id": "BBH00bf_zGxF"
   },
   "outputs": [
    {
     "name": "stdout",
     "output_type": "stream",
     "text": [
      "target 찾았습니다\n"
     ]
    }
   ],
   "source": [
    "#7.답을 작성하세요.\n",
    "\n",
    "items = [\"apple\", \"banana\", \"cherry\"]\n",
    "target = \"banana\"\n",
    "\n",
    "if target in items:\n",
    "    print(\"target\",\"찾았습니다\")\n",
    "else:\n",
    "    print(\"traget\",\"리스트에 없습니다\")\n"
   ]
  },
  {
   "cell_type": "code",
   "execution_count": 34,
   "metadata": {},
   "outputs": [
    {
     "name": "stdout",
     "output_type": "stream",
     "text": [
      "찾음\n"
     ]
    }
   ],
   "source": [
    "# 7.\n",
    "items = [\"apple\", \"banana\", \"cherry\"]\n",
    "target = \"banana\"\n",
    "\n",
    "found = False  # 초기 상태: 못 찾았다고 가정\n",
    "\n",
    "for item in items :\n",
    "    if item == target :\n",
    "        found = True\n",
    "        break\n",
    "\n",
    "if found :\n",
    "    print(\"찾음\")\n",
    "else:\n",
    "    print(\"없음\")"
   ]
  },
  {
   "cell_type": "code",
   "execution_count": 39,
   "metadata": {},
   "outputs": [
    {
     "data": {
      "text/plain": [
       "True"
      ]
     },
     "execution_count": 39,
     "metadata": {},
     "output_type": "execute_result"
    }
   ],
   "source": [
    "found = True if [item for item in items if item == target ]else False\n",
    "found"
   ]
  },
  {
   "cell_type": "code",
   "execution_count": 40,
   "metadata": {},
   "outputs": [
    {
     "data": {
      "text/plain": [
       "(False, True)"
      ]
     },
     "execution_count": 40,
     "metadata": {},
     "output_type": "execute_result"
    }
   ],
   "source": [
    "list_1 = []\n",
    "list_2 = [1,2,3]\n",
    "\n",
    "bool(list_1), bool(list_2)"
   ]
  },
  {
   "cell_type": "markdown",
   "metadata": {
    "id": "0bKxdqaJz6GY"
   },
   "source": [
    "8. for 반복문을 사용하여 구구단 2단의 결과물을 출력하는 코드를 작성하세요."
   ]
  },
  {
   "cell_type": "code",
   "execution_count": 35,
   "metadata": {
    "id": "9xKeBAxPz1pI"
   },
   "outputs": [
    {
     "name": "stdout",
     "output_type": "stream",
     "text": [
      "2 X 1 = 2\n",
      "2 X 2 = 2\n",
      "2 X 3 = 2\n",
      "2 X 4 = 2\n",
      "2 X 5 = 2\n",
      "2 X 6 = 2\n",
      "2 X 7 = 2\n",
      "2 X 8 = 2\n",
      "2 X 9 = 2\n"
     ]
    }
   ],
   "source": [
    "#답을 작성하세요.\n",
    "for i in range(1,10):\n",
    "    print(\"2 X\", i, \"=\", 2 * 1)"
   ]
  },
  {
   "cell_type": "markdown",
   "metadata": {
    "id": "s6d1hJv8xcdp"
   },
   "source": [
    "9. 나이에 따라 다음과 같은 입장료를 받고 있다고 할 때, 반복문을 이용하여 1세부터 13세까지의 전체 가격표를 만드는 코드를 작성하세요.\n",
    "\n",
    "- 3세 이하: 무료\n",
    "- 3세에서 5세: 5달러\n",
    "- 5세에서 9세: 10달러\n",
    "- 9세에서 12세: 12달러\n",
    "- 12세 이상: 사용할 수 없음 (프로그램 종료)"
   ]
  },
  {
   "cell_type": "code",
   "execution_count": 44,
   "metadata": {
    "id": "H9eQDDNhxR7P"
   },
   "outputs": [
    {
     "name": "stdout",
     "output_type": "stream",
     "text": [
      "1세: 무료\n",
      "2세: 무료\n",
      "3세: 무료\n",
      "4세: 5달러\n",
      "5세: 5달러\n",
      "6세: 10달러\n",
      "7세: 10달러\n",
      "8세: 10달러\n",
      "9세: 10달러\n",
      "10세: 12달러\n",
      "11세: 12달러\n",
      "12세: 12달러\n",
      "사용할 수 없음\n"
     ]
    }
   ],
   "source": [
    "#답을 작성하세요.\n",
    "for age in range(1,14): # 1세부터 13세까지 반복\n",
    "    if age <= 3:\n",
    "        print(f\"{age}세: 무료\")\n",
    "    elif age <= 5:\n",
    "        print(f\"{age}세: 5달러\")\n",
    "    elif age <= 9:\n",
    "        print(f\"{age}세: 10달러\")\n",
    "    elif age <=12:\n",
    "        print(f\"{age}세: 12달러\")\n",
    "    else:\n",
    "        print(\"사용할 수 없음\")\n",
    "        break # 12세 이상은 프로그램 종료"
   ]
  },
  {
   "cell_type": "code",
   "execution_count": 42,
   "metadata": {},
   "outputs": [
    {
     "name": "stdout",
     "output_type": "stream",
     "text": [
      "Object `무엇일까` not found.\n",
      "shirt\n"
     ]
    }
   ],
   "source": [
    "10. 다음 코드의 결과값은 무엇일까?\n",
    "\n",
    "a = \"Life is too short, you need python\"\n",
    "\n",
    "if \"wife\" in a:\n",
    "    print(\"wife\")\n",
    "\n",
    "elif \"python\" in a and \"you\" not in a:\n",
    "    print(\"python\")\n",
    "\n",
    "elif \"shirt\" not in a:\n",
    "    print(\"shirt\")\n",
    "\n",
    "elif \"need\" in a:\n",
    "    print(\"need\")\n",
    "\n",
    "else: print(\"none\")"
   ]
  },
  {
   "cell_type": "markdown",
   "metadata": {},
   "source": [
    "11. 휴대폰 번호 앞자리에 따라 통신사는 아래와 같이 구분된다.   \n",
    "사용자로부터 휴대전화 번호를 입력 받고, 통신사를 출력하는 프로그램을 작성하라.\n",
    "\n",
    "번호\t통신사  \n",
    "011\tSKT  \n",
    "016\tKT  \n",
    "019\tLGU  \n",
    "010\t알수없음\n",
    "\n",
    "```\n",
    "휴대전화 번호 입력: 011-345-1922\n",
    "당신은 SKT 사용자입니다.\n",
    "```\n"
   ]
  },
  {
   "cell_type": "code",
   "execution_count": 48,
   "metadata": {},
   "outputs": [
    {
     "name": "stdout",
     "output_type": "stream",
     "text": [
      "휴대전화 번호 입력: 010\n"
     ]
    },
    {
     "name": "stdout",
     "output_type": "stream",
     "text": [
      "당신은 010 통합정책 고객입니다.\n"
     ]
    }
   ],
   "source": [
    "# 11. \n",
    "phone = input(\"휴대전화 번호 입력:\")\n",
    "prefix = phone.split(\"-\")[0]\n",
    "\n",
    "if prefix == \"011\":\n",
    "    print(\"당신은 SKT 사용자입니다.\")\n",
    "elif prefix == \"016\":\n",
    "    print(\"당신은 KT 사용자입니다.\")\n",
    "elif prefix == \"019\":\n",
    "    print(\"당신은 LGU 사용자입니다.\")\n",
    "elif prefix == \"010\":\n",
    "    print(\"당신은 010 통합정책 고객입니다.\")"
   ]
  },
  {
   "cell_type": "code",
   "execution_count": 61,
   "metadata": {},
   "outputs": [
    {
     "name": "stdout",
     "output_type": "stream",
     "text": [
      "휴대전화 번호 입력: 000\n"
     ]
    },
    {
     "name": "stdout",
     "output_type": "stream",
     "text": [
      "알 수 없는 번호입니다.\n"
     ]
    }
   ],
   "source": [
    "# 11-1 딕셔너리 활용 print() 중복 줄이기\n",
    "phone = input(\"휴대전화 번호 입력:\")\n",
    "\n",
    "# 하이픈이 있으면 split(), 없으면 슬라이싱\n",
    "if \"-\" in phone:\n",
    "    prefix = phone.split(\"-\")[0]\n",
    "else:\n",
    "    prefix = phone[:3]\n",
    "    \n",
    "telcos = { \n",
    "    \"011\" : \"SKT\",\n",
    "    \"016\" : \"KT\",\n",
    "    \"019\" : \"LGU\",\n",
    "    \"010\" : \"010 통합정책 고객\"\n",
    "}\n",
    "\n",
    "if prefix in telcos:\n",
    "    print(f\"당신은 {telcos[prefix]} 사용자입니다.\")\n",
    "else:\n",
    "    print(\"알 수 없는 번호입니다.\")"
   ]
  },
  {
   "cell_type": "markdown",
   "metadata": {},
   "source": [
    "12. 주민등록번호는 13자리로 구성되는데 마지막 자리수는 주민등록번호의 유효성을 체크하는데 사용된다.  \n",
    "먼저 앞에서부터 12자리의 숫자에 2, 3, 4, 5, 6, 7, 8, 9, 2, 3, 4, 5를 차례로 곱한 뒤 그 값을 전부 더한다.    \n",
    "연산 결과 값을 11로 나누면 나머지가 나오는데 11에서 나머지를 뺀 값이 주민등록번호의 마지막 번호가 된다.  \n",
    "\n",
    "```\n",
    "  8 2 1 0 1 0 - 1 6 3 5 2 1 0\n",
    "x 2 3 4 5 6 7   8 9 2 3 4 5 \n",
    "-----------------------------\n",
    "1차 계산: (8*2 + 2*3 + 1*4 + 0*5 + 1*6 + 0*7 + 1*8 + 6*9 + 3*2 + 5*3 + 2*4 + 1*5) = (128 % 11) = 7\n",
    "2차 계산: 11 -7 = 4\n",
    "\n",
    ">> 주민등록번호: 821010-1635210\n",
    "유효하지 않은 주민등록번호입니다. \n",
    "\n",
    "\n",
    "```\n",
    "\n"
   ]
  },
  {
   "cell_type": "code",
   "execution_count": 76,
   "metadata": {},
   "outputs": [
    {
     "name": "stdout",
     "output_type": "stream",
     "text": [
      "주민등록번호 입력 (예: 123456-1234567): 123456789456\n"
     ]
    },
    {
     "name": "stdout",
     "output_type": "stream",
     "text": [
      "유효하지 않은 주민등록번호입니다.\n"
     ]
    }
   ],
   "source": [
    "# 12\n",
    "ssn = input(\"주민등록번호 입력 (예: 123456-1234567):\")\n",
    "ssn = ssn.replace(\"-\",\"\")\n",
    "\n",
    "# 가중치\n",
    "weights = [2,3,4,5,6,7,8,9,2,3,4,5]\n",
    "\n",
    "# 앞의 12자리 숫자에 대해 가중치를 곱하여줌\n",
    "total = 0\n",
    "for i in range(12):\n",
    "    total += int(ssn[i]) * weights[i]\n",
    "\n",
    "# 계산\n",
    "remainder = total % 11\n",
    "check_digit = 11 - remainder\n",
    "\n",
    "# 예외 처리 : 10 은 0, 11은 1로 예외 처리함\n",
    "if check_digit == 10:\n",
    "    check_digit = 0\n",
    "elif check_digit == 11:\n",
    "    check_digit = 1\n",
    "\n",
    "# 결과 비교\n",
    "if check_digit == int(ssn[-1]):\n",
    "    print(\"유효한 주민등록번호입니다.\")\n",
    "else:\n",
    "    print(\"유효하지 않은 주민등록번호입니다.\")"
   ]
  },
  {
   "cell_type": "code",
   "execution_count": 82,
   "metadata": {},
   "outputs": [
    {
     "name": "stdout",
     "output_type": "stream",
     "text": [
      "주민등록번호 입력 (예: 123456-1234567, 종료하려면 exit):  1\n"
     ]
    },
    {
     "name": "stdout",
     "output_type": "stream",
     "text": [
      "⚠️ 올바른 13자리 숫자를 입력해주세요.\n"
     ]
    },
    {
     "name": "stdout",
     "output_type": "stream",
     "text": [
      "주민등록번호 입력 (예: 123456-1234567, 종료하려면 exit):  2\n"
     ]
    },
    {
     "name": "stdout",
     "output_type": "stream",
     "text": [
      "⚠️ 올바른 13자리 숫자를 입력해주세요.\n"
     ]
    },
    {
     "name": "stdout",
     "output_type": "stream",
     "text": [
      "주민등록번호 입력 (예: 123456-1234567, 종료하려면 exit):  3\n"
     ]
    },
    {
     "name": "stdout",
     "output_type": "stream",
     "text": [
      "⚠️ 올바른 13자리 숫자를 입력해주세요.\n"
     ]
    },
    {
     "name": "stdout",
     "output_type": "stream",
     "text": [
      "주민등록번호 입력 (예: 123456-1234567, 종료하려면 exit):  4\n"
     ]
    },
    {
     "name": "stdout",
     "output_type": "stream",
     "text": [
      "⚠️ 올바른 13자리 숫자를 입력해주세요.\n"
     ]
    },
    {
     "name": "stdout",
     "output_type": "stream",
     "text": [
      "주민등록번호 입력 (예: 123456-1234567, 종료하려면 exit):  4\n"
     ]
    },
    {
     "name": "stdout",
     "output_type": "stream",
     "text": [
      "⚠️ 올바른 13자리 숫자를 입력해주세요.\n"
     ]
    },
    {
     "name": "stdout",
     "output_type": "stream",
     "text": [
      "주민등록번호 입력 (예: 123456-1234567, 종료하려면 exit):  5\n"
     ]
    },
    {
     "name": "stdout",
     "output_type": "stream",
     "text": [
      "⚠️ 올바른 13자리 숫자를 입력해주세요.\n"
     ]
    },
    {
     "name": "stdout",
     "output_type": "stream",
     "text": [
      "주민등록번호 입력 (예: 123456-1234567, 종료하려면 exit):  6\n"
     ]
    },
    {
     "name": "stdout",
     "output_type": "stream",
     "text": [
      "⚠️ 올바른 13자리 숫자를 입력해주세요.\n"
     ]
    },
    {
     "name": "stdout",
     "output_type": "stream",
     "text": [
      "주민등록번호 입력 (예: 123456-1234567, 종료하려면 exit):  exit\n"
     ]
    },
    {
     "name": "stdout",
     "output_type": "stream",
     "text": [
      "프로그램을 종료합니다.\n"
     ]
    }
   ],
   "source": [
    "# 12 -1 while 문 활용해보기\n",
    "# 주민등록번호 유효성 검사를 while 반복문으로 구현\n",
    "while True:\n",
    "    ssn = input(\"주민등록번호 입력 (예: 123456-1234567, 종료하려면 exit): \")\n",
    "    ssn = ssn.replace(\"-\", \"\")  # 하이픈(-) 제거해서 숫자만 남기기\n",
    "\n",
    "     # 여기 break 없으면 무한 루프된다. .strip() : 앞뒤 공백 제거까지 추가가능!\n",
    "    if ssn.lower() == \"exit\": # .lower 입력시 소문자로 변경해줌, 대소문자 구분없이 입력 가능\n",
    "        print(\"프로그램을 종료합니다.\")\n",
    "        break\n",
    "\n",
    "    # 길이가 13자리가 아니거나 숫자가 아닌 경우 예외 처리\n",
    "    if len(ssn) != 13 or not ssn.isdigit():\n",
    "        print(\"⚠️ 올바른 13자리 숫자를 입력해주세요.\")\n",
    "        continue  # 다시 입력받기 위해 반복문 처음으로 이동\n",
    "\n",
    "    # 유효성 검사용 가중치 목록\n",
    "    weights = [2, 3, 4, 5, 6, 7, 8, 9, 2, 3, 4, 5]\n",
    "\n",
    "    # 앞의 12자리에 가중치를 곱한 합계 구하기\n",
    "    total = 0\n",
    "    for i in range(12):\n",
    "        total += int(ssn[i]) * weights[i]\n",
    "\n",
    "    # 유효성 체크용 마지막 자리수 계산\n",
    "    remainder = total % 11\n",
    "    check_digit = 11 - remainder\n",
    "\n",
    "    # 예외 처리: 결과가 10이면 0, 11이면 1로 변경\n",
    "    if check_digit == 10:\n",
    "        check_digit = 0\n",
    "    elif check_digit == 11:\n",
    "        check_digit = 1\n",
    "\n",
    "    # 마지막 자리와 계산값 비교\n",
    "    if check_digit == int(ssn[-1]):\n",
    "        print(\"✅ 유효한 주민등록번호입니다.\")\n",
    "        break  # 올바른 입력이면 반복 종료\n",
    "    else:\n",
    "        print(\"❌ 유효하지 않은 주민등록번호입니다. 다시 입력해주세요.\")\n"
   ]
  },
  {
   "cell_type": "code",
   "execution_count": 85,
   "metadata": {},
   "outputs": [
    {
     "name": "stdout",
     "output_type": "stream",
     "text": [
      "주민등록번호 입력 (예: 123456-1234567, 종료하려면 exit):  exit\n"
     ]
    },
    {
     "name": "stdout",
     "output_type": "stream",
     "text": [
      "프로그램을 종료합니다.\n"
     ]
    }
   ],
   "source": [
    "# 12 -2 def 함수 활용하기\n",
    "# ✅ 맨 위에 함수 정의\n",
    "def calculate_check_digit(ssn):\n",
    "    VALIDATION_WEIGHTS = [2, 3, 4, 5, 6, 7, 8, 9, 2, 3, 4, 5]\n",
    "    total = sum(int(ssn[i]) * VALIDATION_WEIGHTS[i] for i in range(12))\n",
    "    check = 11 - (total % 11)\n",
    "    return 0 if check == 10 else 1 if check == 11 else check\n",
    "\n",
    "# ✅ 아래에 메인 루프 코드\n",
    "while True:\n",
    "    ssn = input(\"주민등록번호 입력 (예: 123456-1234567, 종료하려면 exit): \").strip()\n",
    "    ssn = ssn.replace(\"-\", \"\")\n",
    "\n",
    "    if ssn.lower() == \"exit\":\n",
    "        print(\"프로그램을 종료합니다.\")\n",
    "        break\n",
    "\n",
    "    if len(ssn) != 13 or not ssn.isdigit():\n",
    "        print(\"⚠️ 올바른 13자리 숫자를 입력해주세요.\")\n",
    "        continue\n",
    "\n",
    "    # ✅ 함수로 검증\n",
    "    if calculate_check_digit(ssn) == int(ssn[-1]):\n",
    "        print(\"✅ 유효한 주민등록번호입니다.\")\n",
    "        break\n",
    "    else:\n",
    "        print(\"❌ 유효하지 않은 주민등록번호입니다. 다시 입력해주세요.\")\n"
   ]
  },
  {
   "cell_type": "markdown",
   "metadata": {},
   "source": [
    "13. 아래 코드는 비트코인의 가격 정보를 딕셔너리로 가져오는 코드이다.\n",
    "```\n",
    "import requests\n",
    "btc = requests.get(\"https://api.bithumb.com/public/ticker/\").json()['data']\n",
    "```\n",
    "btc 딕셔너리 안에는 시가, 종가, 최고가, 최저가 등이 저장되어 있다.   \n",
    "최고가와 최저가의 차이를 변동폭으로 정의할 때 (시가 + 변동폭)이 최고가 보다 높을 경우 \"상승장\",  \n",
    "그렇지 않은 경우 \"하락장\" 문자열을 출력하라.\n",
    "```\n",
    "Key Name\tDescription\n",
    "opening_price\t최근 24시간 내 시작 거래금액\n",
    "closing_price\t최근 24시간 내 마지막 거래금액\n",
    "min_price\t최근 24시간 내 최저 거래금액\n",
    "max_price\t최근 24시간 내 최고 거래금액\n",
    "```"
   ]
  },
  {
   "cell_type": "code",
   "execution_count": 88,
   "metadata": {},
   "outputs": [
    {
     "name": "stdout",
     "output_type": "stream",
     "text": [
      "📈 상승장입니다.\n",
      "시가: 148687000.0, 최고가: 148900000.0, 변동폭: 1989000.0\n"
     ]
    }
   ],
   "source": [
    "#13\n",
    "import requests\n",
    "\n",
    "# 1. 비트코인 시세 데이터 받아오기\n",
    "btc = requests.get(\"https://api.bithumb.com/public/ticker/\").json()['data']\n",
    "\n",
    "# 2. 필요한 값 꺼내고 float형으로 변환\n",
    "opening_price = float(btc['opening_price'])\n",
    "max_price = float(btc['max_price'])\n",
    "min_price = float(btc['min_price'])\n",
    "\n",
    "# 3. 변동폭 계산\n",
    "fluctuation = max_price - min_price\n",
    "\n",
    "# 4. 조건에 따라 출력\n",
    "if opening_price + fluctuation > max_price:\n",
    "    print(\"📈 상승장입니다.\")\n",
    "else:\n",
    "    print(\"📉 하락장입니다.\")\n",
    "\n",
    "print(f\"시가: {opening_price}, 최고가: {max_price}, 변동폭: {fluctuation}\")\n"
   ]
  },
  {
   "cell_type": "markdown",
   "metadata": {},
   "source": [
    "14. 리스트에는 3일 간의 ohlc 데이터가 저장돼 있다. 시가에 매수해서 종가에 매도 했을 경우 총 수익금을 계산하라.\n",
    "\n",
    "```\n",
    "ohlc = [[\"open\", \"high\", \"low\", \"close\"],\n",
    "        [100, 110, 70, 100],\n",
    "        [200, 210, 180, 190],\n",
    "        [300, 310, 300, 310]]\n",
    "   ```\n",
    "\n",
    "1일차 수익 0원 (100 - 100), 2일차 수익 -10원 (190 - 200), 3일차 수익 10원 (310 - 300) 이다.\n",
    "\n",
    "`\n",
    "0\n",
    "`"
   ]
  },
  {
   "cell_type": "code",
   "execution_count": 89,
   "metadata": {},
   "outputs": [
    {
     "name": "stdout",
     "output_type": "stream",
     "text": [
      "0\n"
     ]
    }
   ],
   "source": [
    "ohlc = [[\"open\", \"high\", \"low\", \"close\"],\n",
    "        [100, 110, 70, 100],\n",
    "        [200, 210, 180, 190],\n",
    "        [300, 310, 300, 310]]\n",
    "\n",
    "total_profit = 0\n",
    "\n",
    "for day in ohlc[1:]:  # 첫 행은 헤더이므로 제외\n",
    "    open_price = day[0]\n",
    "    close_price = day[3]\n",
    "    profit = close_price - open_price\n",
    "    total_profit += profit\n",
    "\n",
    "print(total_profit)  # 출력: 0\n"
   ]
  }
 ],
 "metadata": {
  "colab": {
   "include_colab_link": true,
   "provenance": []
  },
  "kernelspec": {
   "display_name": "Python 3 (ipykernel)",
   "language": "python",
   "name": "python3"
  },
  "language_info": {
   "codemirror_mode": {
    "name": "ipython",
    "version": 3
   },
   "file_extension": ".py",
   "mimetype": "text/x-python",
   "name": "python",
   "nbconvert_exporter": "python",
   "pygments_lexer": "ipython3",
   "version": "3.12.1"
  }
 },
 "nbformat": 4,
 "nbformat_minor": 4
}
