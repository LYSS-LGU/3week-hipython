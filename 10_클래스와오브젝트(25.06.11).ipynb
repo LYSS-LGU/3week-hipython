{
 "cells": [
  {
   "cell_type": "markdown",
   "id": "c7ad86d9-9199-446e-bb28-0443c1d6a564",
   "metadata": {},
   "source": [
    "# 10_클래스와 오브젝트\n",
    "25.06.11(수)"
   ]
  },
  {
   "cell_type": "markdown",
   "id": "a96e4925-19ec-494d-8dff-8bbb10a8b218",
   "metadata": {},
   "source": [
    "# 파이썬으로 객체지향프로그래밍 OOP\n",
    "Object Oriented Programming\n",
    "\n",
    "파이썬으로 만드는 응용프로그램\n",
    "\n",
    "- 변수 : 전역, 지역\n",
    "- 함수: 기능을 구현하는 도구\n",
    "- 모듈: 함수의 모음, 변수의 모음 > .py\n",
    "- CRUD 의 구현 : Create, Read, Update, Delete\n",
    "\n",
    "### 클래스 : 변수 + 함수를 하나로 묶어주는 개념\n",
    "### 객체 : 클래스를 이용해서 다수의 객체를 생성\n",
    "### 객체지향 프로그램 : 객체를 이용하는 프로그램"
   ]
  },
  {
   "cell_type": "markdown",
   "id": "f6f7df44-e279-4ce8-a3e2-7a790852fb5f",
   "metadata": {},
   "source": [
    "## 객체지향 프로그램을 만드는 법\n",
    "\n",
    "1. 클래스를 만들기\n",
    "2. 클래스를 이용해 객체를 생성\n",
    "3. 객체의 함수 : 메소드를 호출\n"
   ]
  },
  {
   "cell_type": "code",
   "execution_count": 3,
   "id": "034f2b28-6133-435f-a60e-7d1b89b9f0fb",
   "metadata": {},
   "outputs": [],
   "source": [
    "# 1. 클래스를 만들기\n",
    "\n",
    "class Bicycle():\n",
    "    pass"
   ]
  },
  {
   "cell_type": "code",
   "execution_count": 5,
   "id": "6a20fd9d-ba1f-487e-8b30-e3f3e22c2ee6",
   "metadata": {},
   "outputs": [
    {
     "data": {
      "text/plain": [
       "<__main__.Bicycle at 0x1cc09009970>"
      ]
     },
     "execution_count": 5,
     "metadata": {},
     "output_type": "execute_result"
    }
   ],
   "source": [
    "# 2. 클래스를 이용해 객체를 생성\n",
    "Bicycle()"
   ]
  },
  {
   "cell_type": "code",
   "execution_count": 37,
   "id": "70870e38-9971-40ad-9dc2-d7794498e6e8",
   "metadata": {},
   "outputs": [],
   "source": [
    "# 3. 객체의 함수 : 메소드를 호출\n",
    "class Bicycle():\n",
    "    #속성추가 : 생성자     def __init__(): \n",
    "    def __init__(self, color, wheelsize):\n",
    "#    def __init__(self, color, wheelsize=20):\n",
    "\n",
    "        self.color = color\n",
    "        self.wheelsize = wheelsize  \n",
    "        \n",
    "    def move(self):\n",
    "        print(f\"{self.color}, {self.wheelsize} 자전거가 움직입니다.\")"
   ]
  },
  {
   "cell_type": "code",
   "execution_count": null,
   "id": "30ee688f-87fc-4da4-8f9a-f3bb4f516a69",
   "metadata": {},
   "outputs": [],
   "source": [
    "bi = Bicycle(\"white\",20) #객체 생성\n",
    "bi1 = Bicycle(\"red\",10)\n",
    "bi2 = Bicycle(\"blue\",30)\n",
    "\n",
    "#    def __init__(self, color, wheelsize=20):\n",
    "# bi = Bicycle(\"white\") #객체 생성\n",
    "# bi1 = Bicycle(\"red\")\n",
    "# bi2 = Bicycle(\"blue\")\n",
    "\n",
    "\n",
    "bi.move() # 객체 메소드를 호출\n",
    "bi1.move()\n",
    "bi2.move()"
   ]
  },
  {
   "cell_type": "code",
   "execution_count": 29,
   "id": "dd4b7837-cedd-4253-b974-45c4d7c4b557",
   "metadata": {},
   "outputs": [],
   "source": [
    "class Student:\n",
    "    def __init__(self, name, age):\n",
    "        self.name = name\n",
    "        self.age = age\n",
    "\n",
    "    def introduce(self):\n",
    "        print(f\"안녕하세요. 제이름은 {self.name}이고, 나이는 {self.age}살 입니다.\")"
   ]
  },
  {
   "cell_type": "code",
   "execution_count": 30,
   "id": "1ac76385-05b5-4596-b00d-6455731661e3",
   "metadata": {},
   "outputs": [
    {
     "name": "stdout",
     "output_type": "stream",
     "text": [
      "안녕하세요. 제이름은 지민이고, 나이는 20살 입니다.\n",
      "안녕하세요. 제이름은 유진이고, 나이는 22살 입니다.\n"
     ]
    }
   ],
   "source": [
    "s1 = Student(\"지민\", 20)\n",
    "s2 = Student(\"유진\", 22)\n",
    "\n",
    "s1.introduce()\n",
    "s2.introduce()"
   ]
  },
  {
   "cell_type": "markdown",
   "id": "091060b7-cfe1-45ae-bca2-f5953488c5a9",
   "metadata": {},
   "source": [
    "# 속성의 종류\n",
    "\n",
    "클래스의 속성은 크게 인스턴스 변수와 클래스 변수로 나눌 수 있다. \n",
    "\n",
    "- 인스턴스 변수는 각 객체마다 독립적으로 가지는 값이며, self를 통해 접근한다.\n",
    "- 클래스 변수는 모든 객체가 공유하는 값으로, 클래스 이름을 통해 접근할 수 있다."
   ]
  },
  {
   "cell_type": "code",
   "execution_count": 54,
   "id": "b8ee79a3-559c-4a1d-84a8-3a69a179ba5e",
   "metadata": {},
   "outputs": [],
   "source": [
    "class Car():\n",
    "    #클래스 변수\n",
    "    instance_cnt = 0\n",
    "\n",
    "    def __init__(self,size):\n",
    "        self.size = size\n",
    "        Car.instance_cnt += 1\n",
    "        \n",
    "        print(f\"자동차가 {Car.instance_cnt}대 생성되었습니다.\")\n",
    "    def move(self):\n",
    "        print(f'{self.size}의 자동차가 움직입니다.')"
   ]
  },
  {
   "cell_type": "code",
   "execution_count": 55,
   "id": "bd95706b-aa04-4838-9a68-4e8c973d1e1b",
   "metadata": {},
   "outputs": [
    {
     "name": "stdout",
     "output_type": "stream",
     "text": [
      "자동차가 1대 생성되었습니다.\n",
      "자동차가 2대 생성되었습니다.\n",
      "자동차가 3대 생성되었습니다.\n",
      "2000의 자동차가 움직입니다.\n",
      "3000의 자동차가 움직입니다.\n",
      "1500의 자동차가 움직입니다.\n"
     ]
    }
   ],
   "source": [
    "c1 = Car(2000)\n",
    "c2 = Car(3000)\n",
    "c3 = Car(1500)\n",
    "\n",
    "c1.move()\n",
    "c2.move()\n",
    "c3.move()"
   ]
  },
  {
   "cell_type": "code",
   "execution_count": 56,
   "id": "b47196d3-782c-4e31-b713-f22c5246a5dc",
   "metadata": {},
   "outputs": [
    {
     "name": "stdout",
     "output_type": "stream",
     "text": [
      "영희\n",
      "철수\n",
      "파이썬 스쿨\n"
     ]
    }
   ],
   "source": [
    "\n",
    "\n",
    "    def __init__(self, name):\n",
    "        self.name = name # 인스턴스 변수\n",
    "\n",
    "        \n",
    "s1 = Student(\"영희\")\n",
    "s2 = Student(\"철수\")\n",
    "\n",
    "print(s1.name) # 영희 (인스턴스 변수)\n",
    "print(s2.name) # 철수 (인스턴스 변수)\n",
    "print(Student.school) # 파이썬 고등학교( 클래스변수)"
   ]
  },
  {
   "cell_type": "markdown",
   "id": "3b749a69-8389-4f60-8e3c-1334b8296574",
   "metadata": {},
   "source": [
    "# 메서드의 종류\n",
    "\n",
    "클래스 내부에 정의된 함수는 메서드라고 부른다.  메서드는 객체가 **직접 수행할 수 있는 동작**이다.\n",
    "\n",
    "모든 메서드는 첫 번째 매개변수로 `self`를 사용해야 하며, 이를 통해 해당 객체의 속성과 다른 메서드에 접근할 수 있다.\n",
    "\n",
    "1. 인스턴스 메서드는 객체 자신을 참조하는 self를 첫 번째 매개변수로 받는 메서드이다. \n",
    "2. 객체의 속성에 접근하고 다른 메서드를 호출할 수 있으며, 인스턴스마다 독립적으로 동작한다.\n",
    "3. 정적 메서드는 객체와 직접적인 관련이 없는 유틸리티 함수를 정의할 때 사용된다. \n",
    "4. @staticmethod 데코레이터를 사용하며, self 매개변수를 받지 않는다. 클래스나 인스턴스의 상태에 접근하지 않고 독립적으로 동작한다.\n",
    "5. 클래스 메서드는 클래스 전체에 영향을 미치는 메서드로, @classmethod 데코레이터를 사용한다. \n",
    "6. 첫 번째 매개변수로 cls를 받으며, 이를 통해 클래스 변수에 접근하거나 클래스 레벨의 동작을 수행할 수 있다. 클래스 메서드는 인스턴스 없이도 호출이 가능하며, 클래스의 상태를 관리하거나 대체 생성자를 구현할 때 주로 사용된다."
   ]
  },
  {
   "cell_type": "markdown",
   "id": "0fc4e379-ce13-4b2e-9cd7-f4a36e33c519",
   "metadata": {},
   "source": [
    "# method\n",
    "1. 인스턴스 메소드 #instance method : slef\n",
    "2. 스태틱(정적) 메소드 : @staticmethod\n",
    "3. 클래스 메소드 : @classmethod"
   ]
  },
  {
   "cell_type": "code",
   "execution_count": 57,
   "id": "36402410-9aae-4ea9-85fe-ef578e48c8a2",
   "metadata": {},
   "outputs": [],
   "source": [
    "class Calculator:\n",
    "    def __init__(self, x, y): # instance method\n",
    "        self.x = x\n",
    "        self.y = y\n",
    "\n",
    "    def add(self): # instance method\n",
    "        return self.x + self.y\n",
    "\n",
    "    def multiply(self): # instance method\n",
    "        return self.x * self.y\n"
   ]
  },
  {
   "cell_type": "code",
   "execution_count": 61,
   "id": "2acea141-b357-4b3d-aa8c-713a211345e3",
   "metadata": {},
   "outputs": [
    {
     "data": {
      "text/plain": [
       "12"
      ]
     },
     "execution_count": 61,
     "metadata": {},
     "output_type": "execute_result"
    }
   ],
   "source": [
    "calc = Calculator(3,4) # __init__() 생성자 함수를 자동으로 호출\n",
    "calc.add() ## instance method의 호출 > 객체의 참조.메소드()\n",
    "calc.multiply()"
   ]
  },
  {
   "cell_type": "code",
   "execution_count": 154,
   "id": "f89799cf-9a5c-43f3-9739-0fbed758eff3",
   "metadata": {},
   "outputs": [],
   "source": [
    "class Car():\n",
    "    instance_cnt = 0 # 클래스 속성\n",
    "\n",
    "    def __init__(self,size):\n",
    "        self.size = size\n",
    "        Car.instance_cnt += 1\n",
    "        print(f\"자동차가 {Car.instance_cnt}대 생성되었습니다.\")\n",
    "\n",
    "    def auto_cruise(self): # instance method\n",
    "        print(\"자율주행중\")\n",
    "        \n",
    "    @staticmethod\n",
    "    def check_type(code): # @staticmethod self 를 요구하지 않는다.\n",
    "        if code > 10:\n",
    "            print(\"전기자동차\")\n",
    "        elif 10 < code < 20 :\n",
    "            print(\"가솔린자동차\")\n",
    "        else:\n",
    "            print(\"디젤\")\n",
    "    @classmethod\n",
    "    def count_instance(cls): #class method\n",
    "        print(f'자동차 대수 : {Car.instance_cnt}')"
   ]
  },
  {
   "cell_type": "code",
   "execution_count": 157,
   "id": "88b53b96-1c9a-483d-93ad-2b8cd7b3df35",
   "metadata": {},
   "outputs": [
    {
     "name": "stdout",
     "output_type": "stream",
     "text": [
      "자동차가 2대 생성되었습니다.\n",
      "전기자동차\n"
     ]
    }
   ],
   "source": [
    "c1 = Car(2000)\n",
    "Car.check_type(25)"
   ]
  },
  {
   "cell_type": "code",
   "execution_count": 158,
   "id": "d6f18ce4-20bc-451e-a5fe-483777544149",
   "metadata": {},
   "outputs": [
    {
     "name": "stdout",
     "output_type": "stream",
     "text": [
      "자동차 대수 : 2\n"
     ]
    }
   ],
   "source": [
    "Car.count_instance()"
   ]
  },
  {
   "cell_type": "markdown",
   "id": "8f4450ce-7447-4854-9599-783090a06f0f",
   "metadata": {},
   "source": [
    "# 성적 클래스"
   ]
  },
  {
   "cell_type": "code",
   "execution_count": 219,
   "id": "21c554ee-1c68-45eb-946e-af22341f17c7",
   "metadata": {},
   "outputs": [],
   "source": [
    "import random"
   ]
  },
  {
   "cell_type": "code",
   "execution_count": 220,
   "id": "c2ff5842-5cc6-47d6-8354-d4f95c22bee5",
   "metadata": {},
   "outputs": [],
   "source": [
    "\n",
    "class Student():\n",
    "    def __init__(self, num, name, kor, eng, math):\n",
    "        self.num = num\n",
    "        self.name = name\n",
    "        self.kor = kor\n",
    "        self.eng = eng\n",
    "        self.math = math\n",
    "        self.total = 0\n",
    "        self.avg = 0\n",
    "        self.order = 0\n",
    "\n",
    "    # 학생 객채의 정보 출력 메서드, instance method\n",
    "    def s_info(self):\n",
    "        print(f'{self.num}, {self.name}, {self.kor}, {self.eng}, {self.math}')\n",
    "    # 학생 객체의 총점\n",
    "    def calc_total(self):\n",
    "        self.total = self.kor + self.eng + self.math\n",
    "        self.avg = self.total/3\n"
   ]
  },
  {
   "cell_type": "code",
   "execution_count": 221,
   "id": "93efce35-4851-40e4-85f6-4584883e85ed",
   "metadata": {},
   "outputs": [],
   "source": [
    "class Classroom():\n",
    "    def __init__(self, student_list):\n",
    "        self.students = self.gen_student_data(student_list)\n",
    "\n",
    "    #클래스의 학생 목록의 생성하는 인스턴스 메소드\n",
    "    def gen_student_data(self, stu_list):\n",
    "        students = []\n",
    "        for i, s_name in enumerate(stu_list, start=1):\n",
    "            #print(i,s_name)\n",
    "            s = Student(i,s_name, \n",
    "                        random.randint(50,100),\n",
    "                        random.randint(50,100),\n",
    "                        random.randint(50,100)\n",
    "                               )\n",
    "\n",
    "            s.calc_total()\n",
    "            s.s_info()\n",
    "            \n",
    "            students.append(s)\n",
    "        \n",
    "        return students\n",
    "\n",
    "\n",
    "        #학급의 학생 순위를 계산해서 학생 객체에 설정\n",
    "    def calc_order(self):\n",
    "        #총점을 기준으로 내림차순 정렬\n",
    "        sorted_students = sorted(self.students, key=lambda s: s.total, reverse=True)\n",
    "\n",
    "        #정렬된 순서대로 등수(order)를 부여\n",
    "        for rank, stu in enumerate(sorted_students, start=1):\n",
    "            stu.order = rank\n",
    "            \n"
   ]
  },
  {
   "cell_type": "code",
   "execution_count": 222,
   "id": "97cc7e21-b461-49a0-b89f-8119a05667db",
   "metadata": {},
   "outputs": [
    {
     "name": "stdout",
     "output_type": "stream",
     "text": [
      "1, 홍길동, 100, 83, 50\n",
      "2, 박제동, 62, 65, 100\n",
      "3, 김영희, 67, 100, 58\n",
      "4, 한사랑, 79, 54, 61\n",
      "1, 김철수, 58, 68, 84\n",
      "2, 박길동, 55, 93, 82\n",
      "3, 이영희, 59, 87, 56\n",
      "4, 최사랑, 72, 90, 77\n",
      "홍길동 - 총점: 233, 평균: 77.67, 등수: 1\n",
      "박제동 - 총점: 227, 평균: 75.67, 등수: 2\n",
      "김영희 - 총점: 225, 평균: 75.00, 등수: 3\n",
      "한사랑 - 총점: 194, 평균: 64.67, 등수: 4\n"
     ]
    }
   ],
   "source": [
    "#main process\n",
    "\n",
    "a_class_stu = ['홍길동', '박제동', '김영희', '한사랑']\n",
    "b_class_stu = ['김철수', '박길동', '이영희', '최사랑']\n",
    "\n",
    "a_class = Classroom(a_class_stu)\n",
    "b_class = Classroom(b_class_stu)\n",
    "\n",
    "a_class.calc_order()\n",
    "\n",
    "for stu in a_class.students:\n",
    "    print(f'{stu.name} - 총점: {stu.total}, 평균: {stu.avg:.2f}, 등수: {stu.order}')\n",
    "    "
   ]
  },
  {
   "cell_type": "markdown",
   "id": "0f0e4962-0763-4900-b271-7cad55a9cebc",
   "metadata": {},
   "source": [
    "# 25.06.11(수) 오후수업"
   ]
  },
  {
   "cell_type": "code",
   "execution_count": 18,
   "id": "e974e0f7-e7a3-467d-b32c-fa674ea69158",
   "metadata": {},
   "outputs": [],
   "source": [
    "import random"
   ]
  },
  {
   "cell_type": "code",
   "execution_count": 19,
   "id": "85720761-5b4e-4e17-ae78-f0755a5524f1",
   "metadata": {},
   "outputs": [],
   "source": [
    "class Student():\n",
    "    def __init__(self, num, name, kor, eng, math):\n",
    "        self.num = num\n",
    "        self.name = name\n",
    "        self.kor = kor\n",
    "        self.eng = eng\n",
    "        self.math = math\n",
    "        self.total = 0\n",
    "        self.avg = 0\n",
    "        self.order = 0\n",
    "    \n",
    "    #학생 객체의 정보 출력, instance method\n",
    "    def s_info(self):\n",
    "        print(f'{self.num}, {self.name}, {self.kor}, {self.eng}, {self.math}, {self.total}, , {self.order}') \n",
    "\n",
    "    #학생 객체의 총점\n",
    "    def calc_total(self):\n",
    "        self.total = self.kor + self.eng + self.math\n",
    "        self.avg = self.total/3\n",
    "\n",
    "    #학생 객체의 등수 계산\n",
    "    def set_order(self, order):\n",
    "        self.order = order\n",
    "\n",
    "    # Object 상속 받은 메소드 재정의 overriding\n",
    "    def __str__(self):\n",
    "        return f'{self.num}. {self.name} : {self.order}등'\n",
    "\n",
    "    #학생 성적표\n",
    "    def print_score(self):\n",
    "        print(f'{self.name} : {self.avg:.2f}')\n",
    "\n",
    "    #instance method + 1"
   ]
  },
  {
   "cell_type": "code",
   "execution_count": 20,
   "id": "226c802a-a990-4c21-8564-a74762920485",
   "metadata": {},
   "outputs": [],
   "source": [
    "class Classroom():\n",
    "    #클래스 이름\n",
    "    def __init__(self, student_list):\n",
    "        self.students = self.gen_student_data(student_list)\n",
    "        self.name = ''\n",
    "\n",
    "    def set_name(self, class_name):\n",
    "        self.name = class_name\n",
    "        \n",
    "    #클래스의 학생 목록의 생성하는 인스턴스 메소드\n",
    "    def gen_student_data(self, stu_list):\n",
    "        students = []\n",
    "        for i, s_name in enumerate(stu_list, start=1):\n",
    "            #print(i,s_name)\n",
    "            s = Student(i,s_name, \n",
    "                        random.randint(50,100),\n",
    "                        random.randint(50,100),\n",
    "                        random.randint(50,100)\n",
    "                               )\n",
    "\n",
    "            s.calc_total()\n",
    "            #s.s_info()\n",
    "            \n",
    "            students.append(s)\n",
    "        \n",
    "        return students\n",
    "    \n",
    "    #학급의 학생 순위를 계산해서 학생 객체에 설정\n",
    "    def calc_order(self):\n",
    "        for s in self.students:\n",
    "            rank = 1\n",
    "            for other in self.students:\n",
    "                if other.total > s.total:\n",
    "                    rank += 1\n",
    "            s.set_order(rank)\n",
    "            #s.s_info()\n",
    "            \n",
    "    def print_class_score(self):\n",
    "        total = sum([stu.total for stu in self.students])\n",
    "        avg = total / len(self.students)\n",
    "        print(f\"{self.name} 학급 총점: {total}, 평균: {avg:.2f}\")\n",
    "\n",
    "    def print_ordered_class_member(self):\n",
    "        sorted_students = sorted(self.students, key=lambda s: s.order)\n",
    "        print(f\"[{self.name} 학급 - 순위별 학생 명단]\")\n",
    "        for stu in sorted_students:\n",
    "            print(f'{stu.order}등 - {stu.name} (총점: {stu.total}, 평균: {stu.avg:.2f})')\n",
    "\n",
    "    #학급정보 리턴함수 __str__\n",
    "    def __str__(self):\n",
    "        return f'학급명 : {self.name}'\n",
    "\n",
    "\n",
    "    def print_student_score(self):\n",
    "        print(f\"[{self.name} 학급 - 학생 목록]\")\n",
    "        for student in self.students:\n",
    "            print(student)  # Student 클래스의 __str__() 메서드가 호출됨\n"
   ]
  },
  {
   "cell_type": "code",
   "execution_count": 21,
   "id": "7014c487-dada-4eae-b6ad-4a3a50b68598",
   "metadata": {},
   "outputs": [
    {
     "name": "stdout",
     "output_type": "stream",
     "text": [
      "[ 학급 - 학생 목록]\n",
      "1. 홍길동 : 3등\n",
      "2. 박제동 : 1등\n",
      "3. 김영희 : 4등\n",
      "4. 한사랑 : 2등\n",
      "[ 학급 - 학생 목록]\n",
      "1. 김철수 : 2등\n",
      "2. 박길동 : 3등\n",
      "3. 이영희 : 5등\n",
      "4. 최사랑 : 1등\n",
      "5. 아이유 : 4등\n",
      "****************************************\n",
      "WN7 학급 총점: 852, 평균: 213.00\n",
      "[WN7 학급 - 순위별 학생 명단]\n",
      "1등 - 박제동 (총점: 232, 평균: 77.33)\n",
      "2등 - 한사랑 (총점: 220, 평균: 73.33)\n",
      "3등 - 홍길동 (총점: 215, 평균: 71.67)\n",
      "4등 - 김영희 (총점: 185, 평균: 61.67)\n",
      "****************************************\n",
      "software camp 학급 총점: 1136, 평균: 227.20\n",
      "[software camp 학급 - 순위별 학생 명단]\n",
      "1등 - 최사랑 (총점: 262, 평균: 87.33)\n",
      "2등 - 김철수 (총점: 248, 평균: 82.67)\n",
      "3등 - 박길동 (총점: 235, 평균: 78.33)\n",
      "4등 - 아이유 (총점: 201, 평균: 67.00)\n",
      "5등 - 이영희 (총점: 190, 평균: 63.33)\n"
     ]
    }
   ],
   "source": [
    "#main process\n",
    "a_class_stu = ['홍길동', '박제동', '김영희', '한사랑']\n",
    "b_class_stu = ['김철수', '박길동', '이영희', '최사랑', '아이유']\n",
    "\n",
    "a_class = Classroom(a_class_stu)\n",
    "b_class = Classroom(b_class_stu)\n",
    "\n",
    "a_class.calc_order()\n",
    "a_class.print_student_score()\n",
    "a_class.set_name('WN7')\n",
    "\n",
    "#print(a_class)\n",
    "b_class.calc_order()\n",
    "b_class.print_student_score()\n",
    "b_class.set_name('software camp')\n",
    "\n",
    "print('*'*40)\n",
    "a_class.print_class_score()\n",
    "a_class.print_ordered_class_member()\n",
    "\n",
    "print('*'*40)\n",
    "b_class.print_class_score()\n",
    "b_class.print_ordered_class_member()"
   ]
  },
  {
   "cell_type": "markdown",
   "id": "099a9404-f07b-40c0-b470-713a15c3de5e",
   "metadata": {},
   "source": [
    "# 객체와 클래스를 사용하는 이유\n",
    "1. 코드 작성과 관리가 편하다.\n",
    "2. 규모가 큰 프로그램(라이브러리)에서 사용한다.\n",
    "3. 유사한 객체가 많은 프로그램에서 사용한다 (예, 게임)\n",
    "\n",
    "# 객체 지향의 특징\n",
    "| 개념                      | 의미 요약                     | 예시                           |\n",
    "| ----------------------- | ------------------------- | ---------------------------- |\n",
    "| **캡슐화** (Encapsulation) | 데이터를 숨기고, 메서드로만 접근하게 함    | `private` 변수 + getter/setter |\n",
    "| **상속** (Inheritance)    | 기존 클래스를 확장해서 새 클래스 생성     | `class Student(Person)`      |\n",
    "| **다형성** (Polymorphism)  | 같은 이름의 메서드가 상황에 따라 다르게 동작 | `move()`가 동물마다 다르게 실행됨       |\n"
   ]
  },
  {
   "cell_type": "markdown",
   "id": "d8f39bba-09ea-4329-ad66-973ab1a9c48d",
   "metadata": {},
   "source": [
    "# 객체 지향의 특성\n",
    "\n",
    "## 캡슐화 encapsulation\n",
    "\n",
    "객체의 내부 데이터와 구현을 외부로부터 숨기고 보호하는 개념이 캡슐화이다.\n",
    "\n",
    "Python에서는 언더스코어(_)를 사용하여 접근 제어를 구현한다:\n",
    "\n",
    "- public: 언더스코어 없음 (예: name)\n",
    "- protected: 언더스코어 한 개 (예: _name)\n",
    "- private: 언더스코어 두 개 (예: __name)"
   ]
  },
  {
   "cell_type": "code",
   "execution_count": 22,
   "id": "40ab6bfd-4344-42af-a969-e20e598fc56b",
   "metadata": {},
   "outputs": [],
   "source": [
    "class MyClass():\n",
    "    def __init__(self):\n",
    "        self.var1 = 10\n",
    "        self._var2 = 20\n",
    "        self.__var = 30"
   ]
  },
  {
   "cell_type": "code",
   "execution_count": null,
   "id": "a3af9a22-154c-47f2-8eb1-083733b7ab15",
   "metadata": {},
   "outputs": [],
   "source": []
  },
  {
   "cell_type": "markdown",
   "id": "8ab0af74-d26a-46b2-92cb-bc6dc8d7ca3f",
   "metadata": {},
   "source": [
    "## 상속"
   ]
  },
  {
   "cell_type": "code",
   "execution_count": 55,
   "id": "58b43a22-67e6-4e53-b6be-0adcc72edc9f",
   "metadata": {},
   "outputs": [],
   "source": [
    "# 부모클래스\n",
    "class Calculator():\n",
    "    def __init__(self, x,y):\n",
    "        self.x = x\n",
    "        self.y = y\n",
    "        \n",
    "    def add(self):\n",
    "        self.x + self.y"
   ]
  },
  {
   "cell_type": "code",
   "execution_count": 56,
   "id": "92d05bc1-97cb-4e1c-bbce-2c44ab961551",
   "metadata": {},
   "outputs": [],
   "source": [
    "#자식클래스\n",
    "class AdvancedCalculator(Calculator): #상속\n",
    "    # def __init__(self,x,y):\n",
    "    def divide(self):\n",
    "        if self.y == 0:\n",
    "            return '0으로 나누기 금지'\n",
    "        return self.x / self.y\n",
    "\n",
    "    def add(self):\n",
    "        print('advanced calculator입니다.')\n",
    "        return super().add()"
   ]
  },
  {
   "cell_type": "code",
   "execution_count": 57,
   "id": "b2221ca6-98fd-4c7f-9e64-3a1df08984e1",
   "metadata": {},
   "outputs": [
    {
     "name": "stdout",
     "output_type": "stream",
     "text": [
      "10.0\n",
      "advanced calculator입니다.\n",
      "None\n"
     ]
    }
   ],
   "source": [
    "# 사용 예시\n",
    "acalc = AdvancedCalculator(30, 3)\n",
    "print(acalc.divide())  # 출력: 10.0\n",
    "print(acalc.add())     # 출력: advanced calculator입니다. \\n 33"
   ]
  },
  {
   "cell_type": "code",
   "execution_count": null,
   "id": "23109fd7-4463-4fad-8b9a-2442e7398d65",
   "metadata": {},
   "outputs": [],
   "source": []
  },
  {
   "cell_type": "code",
   "execution_count": null,
   "id": "f389b1b1-18e5-481b-8b4e-03794f3e1c0a",
   "metadata": {},
   "outputs": [],
   "source": []
  },
  {
   "cell_type": "code",
   "execution_count": null,
   "id": "4183cb5e-ddea-4e21-9132-e0286af4366d",
   "metadata": {},
   "outputs": [],
   "source": []
  }
 ],
 "metadata": {
  "kernelspec": {
   "display_name": "Python 3 (ipykernel)",
   "language": "python",
   "name": "python3"
  },
  "language_info": {
   "codemirror_mode": {
    "name": "ipython",
    "version": 3
   },
   "file_extension": ".py",
   "mimetype": "text/x-python",
   "name": "python",
   "nbconvert_exporter": "python",
   "pygments_lexer": "ipython3",
   "version": "3.12.1"
  }
 },
 "nbformat": 4,
 "nbformat_minor": 5
}
