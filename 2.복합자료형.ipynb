{
 "cells": [
  {
   "cell_type": "markdown",
   "id": "af33c68a-9423-4180-9b6f-7f60c93b0e17",
   "metadata": {},
   "source": [
    "# 복합자료 리스트\n",
    "\n",
    "여러개의 값을 묶어서 하나의 변수로 다루는 자료형\n",
    "\n",
    "생성법\n",
    "1. [ ] 대괄호를 사용\n",
    "2. 데이터는 , 쉼표로 구분\n",
    "3. [ ] 빈 대괄호는 초기화\n",
    "4. 숫자, 문자, 부울, 리스트 같은 객체 모두 담을 수 있다\n",
    "5. 순서 index를 가진다 0시작\n",
    "6. 음수 인덱스도 가진다\n"
   ]
  },
  {
   "cell_type": "code",
   "execution_count": 1,
   "id": "897eea32-da58-4822-87eb-90785628b959",
   "metadata": {},
   "outputs": [
    {
     "data": {
      "text/plain": [
       "30"
      ]
     },
     "execution_count": 1,
     "metadata": {},
     "output_type": "execute_result"
    }
   ],
   "source": [
    "score = [30,50,90,80,100]\n",
    "score[0] #첫번째 학생의 점수"
   ]
  },
  {
   "cell_type": "code",
   "execution_count": 3,
   "id": "52a21dab-6b3f-4d91-9277-8e2d3db14a3a",
   "metadata": {},
   "outputs": [
    {
     "data": {
      "text/plain": [
       "(list, int)"
      ]
     },
     "execution_count": 3,
     "metadata": {},
     "output_type": "execute_result"
    }
   ],
   "source": [
    "type(score), type(score[0])"
   ]
  },
  {
   "cell_type": "code",
   "execution_count": 4,
   "id": "2209d17b-5496-4287-bd21-ac2dcc61916d",
   "metadata": {
    "collapsed": true,
    "jupyter": {
     "outputs_hidden": true
    },
    "scrolled": true
   },
   "outputs": [
    {
     "data": {
      "text/plain": [
       "['__add__',\n",
       " '__class__',\n",
       " '__class_getitem__',\n",
       " '__contains__',\n",
       " '__delattr__',\n",
       " '__delitem__',\n",
       " '__dir__',\n",
       " '__doc__',\n",
       " '__eq__',\n",
       " '__format__',\n",
       " '__ge__',\n",
       " '__getattribute__',\n",
       " '__getitem__',\n",
       " '__getstate__',\n",
       " '__gt__',\n",
       " '__hash__',\n",
       " '__iadd__',\n",
       " '__imul__',\n",
       " '__init__',\n",
       " '__init_subclass__',\n",
       " '__iter__',\n",
       " '__le__',\n",
       " '__len__',\n",
       " '__lt__',\n",
       " '__mul__',\n",
       " '__ne__',\n",
       " '__new__',\n",
       " '__reduce__',\n",
       " '__reduce_ex__',\n",
       " '__repr__',\n",
       " '__reversed__',\n",
       " '__rmul__',\n",
       " '__setattr__',\n",
       " '__setitem__',\n",
       " '__sizeof__',\n",
       " '__str__',\n",
       " '__subclasshook__',\n",
       " 'append',\n",
       " 'clear',\n",
       " 'copy',\n",
       " 'count',\n",
       " 'extend',\n",
       " 'index',\n",
       " 'insert',\n",
       " 'pop',\n",
       " 'remove',\n",
       " 'reverse',\n",
       " 'sort']"
      ]
     },
     "execution_count": 4,
     "metadata": {},
     "output_type": "execute_result"
    }
   ],
   "source": [
    "dir(score)"
   ]
  },
  {
   "cell_type": "code",
   "execution_count": 11,
   "id": "e2864fa3-4439-47ac-829a-616a00d9392a",
   "metadata": {},
   "outputs": [],
   "source": [
    "ra = range(2,20,2)  #숫자의 배열, 순열"
   ]
  },
  {
   "cell_type": "code",
   "execution_count": 12,
   "id": "a6cae385-4317-4c09-bbc6-9a8b8db2638d",
   "metadata": {},
   "outputs": [
    {
     "data": {
      "text/plain": [
       "[2, 4, 6, 8, 10, 12, 14, 16, 18]"
      ]
     },
     "execution_count": 12,
     "metadata": {},
     "output_type": "execute_result"
    }
   ],
   "source": [
    "num_list = list(ra) #생성자\n",
    "num_list"
   ]
  },
  {
   "cell_type": "code",
   "execution_count": 10,
   "id": "e3f4c694-0e96-4e0e-99f8-82658e95639e",
   "metadata": {},
   "outputs": [
    {
     "data": {
      "text/plain": [
       "9"
      ]
     },
     "execution_count": 10,
     "metadata": {},
     "output_type": "execute_result"
    }
   ],
   "source": [
    "num_list[-1]"
   ]
  },
  {
   "cell_type": "code",
   "execution_count": 14,
   "id": "8ccb02a0-3464-4965-ad30-3ecca0379b95",
   "metadata": {},
   "outputs": [
    {
     "data": {
      "text/plain": [
       "9"
      ]
     },
     "execution_count": 14,
     "metadata": {},
     "output_type": "execute_result"
    }
   ],
   "source": [
    "ra.__len__() "
   ]
  },
  {
   "cell_type": "code",
   "execution_count": 16,
   "id": "b9a66121-d67b-4375-a864-b11f01ac77b5",
   "metadata": {},
   "outputs": [
    {
     "data": {
      "text/plain": [
       "1"
      ]
     },
     "execution_count": 16,
     "metadata": {},
     "output_type": "execute_result"
    }
   ],
   "source": [
    "num_list.count(2)"
   ]
  },
  {
   "cell_type": "markdown",
   "id": "52efebf0-2926-4220-a636-70ea2f65f88d",
   "metadata": {},
   "source": [
    "method와 function\n",
    "\n",
    "1. method : 객체의 한해서 동작하는 함수 > 객체명.함수()\n",
    "2. function : 함수( 매개변수 ) > 매개변수로 동작하는 함수\n",
    "\n",
    "dir() > function   \n",
    "list_obj.__len__() > method"
   ]
  },
  {
   "cell_type": "code",
   "execution_count": 18,
   "id": "012eb5be-a688-4725-be4f-5508ebe1ec7f",
   "metadata": {
    "collapsed": true,
    "jupyter": {
     "outputs_hidden": true
    },
    "scrolled": true
   },
   "outputs": [
    {
     "ename": "TypeError",
     "evalue": "'str' object does not support item assignment",
     "output_type": "error",
     "traceback": [
      "\u001b[31m---------------------------------------------------------------------------\u001b[39m",
      "\u001b[31mTypeError\u001b[39m                                 Traceback (most recent call last)",
      "\u001b[36mCell\u001b[39m\u001b[36m \u001b[39m\u001b[32mIn[18]\u001b[39m\u001b[32m, line 2\u001b[39m\n\u001b[32m      1\u001b[39m str_1 = \u001b[33m'\u001b[39m\u001b[33mhello\u001b[39m\u001b[33m'\u001b[39m\n\u001b[32m----> \u001b[39m\u001b[32m2\u001b[39m str_1[\u001b[32m0\u001b[39m] = \u001b[33m'\u001b[39m\u001b[33mH\u001b[39m\u001b[33m'\u001b[39m\n",
      "\u001b[31mTypeError\u001b[39m: 'str' object does not support item assignment"
     ]
    }
   ],
   "source": [
    "str_1 = 'hello'\n",
    "str_1[0] = 'H' #TypeError > str Immutable"
   ]
  },
  {
   "cell_type": "code",
   "execution_count": 20,
   "id": "b09ae690-1a33-43a2-9614-bc5c1df9ee20",
   "metadata": {},
   "outputs": [
    {
     "data": {
      "text/plain": [
       "['H', 'e', 'l', 'l', 'o']"
      ]
     },
     "execution_count": 20,
     "metadata": {},
     "output_type": "execute_result"
    }
   ],
   "source": [
    "str_2 = list(str_1) #문자열 > 문자열리스트\n",
    "str_2[0] = 'H'\n",
    "str_2."
   ]
  },
  {
   "cell_type": "code",
   "execution_count": 21,
   "id": "8a5bf00f-4063-472c-948e-01f650e89f1a",
   "metadata": {},
   "outputs": [
    {
     "data": {
      "text/plain": [
       "\"['H', 'e', 'l', 'l', 'o']\""
      ]
     },
     "execution_count": 21,
     "metadata": {},
     "output_type": "execute_result"
    }
   ],
   "source": [
    "str(str_2)"
   ]
  },
  {
   "cell_type": "code",
   "execution_count": 22,
   "id": "b6c4f3dc-a47a-4821-b454-9525f5740d69",
   "metadata": {},
   "outputs": [
    {
     "data": {
      "text/plain": [
       "'Hello'"
      ]
     },
     "execution_count": 22,
     "metadata": {},
     "output_type": "execute_result"
    }
   ],
   "source": [
    "''.join(str_2)"
   ]
  },
  {
   "cell_type": "code",
   "execution_count": 23,
   "id": "9c914652-a07d-42d9-9326-f3133d2c5fe8",
   "metadata": {},
   "outputs": [
    {
     "data": {
      "text/plain": [
       "[['aaa', 'bbb', 'ccc'], [1, 2, 'aaa', 'bbb']]"
      ]
     },
     "execution_count": 23,
     "metadata": {},
     "output_type": "execute_result"
    }
   ],
   "source": [
    "# 리스트의 생성\n",
    "a = list()\n",
    "a = []\n",
    "b = [1,2,3,4,5]\n",
    "c = ['aaa', 'bbb', 'ccc']\n",
    "d = [1,2,'aaa','bbb']\n",
    "e = [c,d]\n",
    "e"
   ]
  },
  {
   "cell_type": "code",
   "execution_count": null,
   "id": "96820c16-3312-4840-98f9-4c4e633efb6f",
   "metadata": {},
   "outputs": [],
   "source": []
  },
  {
   "cell_type": "code",
   "execution_count": 25,
   "id": "74202ab2-3505-462f-9ee5-dac4d563a838",
   "metadata": {},
   "outputs": [
    {
     "data": {
      "text/plain": [
       "(['aaa', 'bbb', 'ccc'], list)"
      ]
     },
     "execution_count": 25,
     "metadata": {},
     "output_type": "execute_result"
    }
   ],
   "source": [
    "e[0], type(e[0])"
   ]
  },
  {
   "cell_type": "code",
   "execution_count": 26,
   "id": "405983f7-ef63-48cb-b577-501c2da13e15",
   "metadata": {},
   "outputs": [
    {
     "data": {
      "text/plain": [
       "([1, 2, 'aaa', 'bbb'], [1, 2, 'aaa', 'bbb'])"
      ]
     },
     "execution_count": 26,
     "metadata": {},
     "output_type": "execute_result"
    }
   ],
   "source": [
    "e[1], e[-1]"
   ]
  },
  {
   "cell_type": "code",
   "execution_count": 28,
   "id": "db43a1f7-fb11-4125-a97d-3d01ac7f18c2",
   "metadata": {},
   "outputs": [
    {
     "data": {
      "text/plain": [
       "('aaa', [['aaa', 'bbb', 'ccc']])"
      ]
     },
     "execution_count": 28,
     "metadata": {},
     "output_type": "execute_result"
    }
   ],
   "source": [
    "e[1][2],  e[0:1]"
   ]
  },
  {
   "cell_type": "code",
   "execution_count": 29,
   "id": "d470f8e8-bddf-42a8-9107-6763969707d1",
   "metadata": {},
   "outputs": [
    {
     "data": {
      "text/plain": [
       "[1, 2]"
      ]
     },
     "execution_count": 29,
     "metadata": {},
     "output_type": "execute_result"
    }
   ],
   "source": [
    "e[1][:2]"
   ]
  },
  {
   "cell_type": "code",
   "execution_count": null,
   "id": "5ed5c946-59ea-4c53-b51d-51a0256202eb",
   "metadata": {},
   "outputs": [],
   "source": []
  },
  {
   "cell_type": "code",
   "execution_count": 30,
   "id": "183061a7-785d-41ae-a087-7b8f45692257",
   "metadata": {},
   "outputs": [
    {
     "data": {
      "text/plain": [
       "[[1, 2], [3, 4]]"
      ]
     },
     "execution_count": 30,
     "metadata": {},
     "output_type": "execute_result"
    }
   ],
   "source": [
    "score = [[1,2], [3,4]]\n",
    "score\n"
   ]
  },
  {
   "cell_type": "markdown",
   "id": "31cd42d0-f9f8-4d34-af98-59c3e8242a06",
   "metadata": {},
   "source": [
    "복사\n",
    "1. 얕은 복사 shallow copy\n",
    "2. 깊은 복사 deep copy"
   ]
  },
  {
   "cell_type": "code",
   "execution_count": 32,
   "id": "3c9cafd7-f594-4f6d-b9ac-de72aaaed5e5",
   "metadata": {},
   "outputs": [
    {
     "data": {
      "text/plain": [
       "[[100, 2], [3, 4]]"
      ]
     },
     "execution_count": 32,
     "metadata": {},
     "output_type": "execute_result"
    }
   ],
   "source": [
    "new_score = score[:]  #얕은카피\n",
    "new_score[0][0] = 100\n",
    "new_score"
   ]
  },
  {
   "cell_type": "code",
   "execution_count": 33,
   "id": "4d9749ae-f7c9-4e5e-9b69-7b4d4f8e4d36",
   "metadata": {},
   "outputs": [
    {
     "data": {
      "text/plain": [
       "[[100, 2], [3, 4]]"
      ]
     },
     "execution_count": 33,
     "metadata": {},
     "output_type": "execute_result"
    }
   ],
   "source": [
    "score "
   ]
  },
  {
   "cell_type": "code",
   "execution_count": 34,
   "id": "5bd6e336-f3b8-4a8e-97c0-240bf17a68ad",
   "metadata": {},
   "outputs": [
    {
     "data": {
      "text/plain": [
       "[[100, 99], [3, 4]]"
      ]
     },
     "execution_count": 34,
     "metadata": {},
     "output_type": "execute_result"
    }
   ],
   "source": [
    "import copy\n",
    "copied = copy.copy(score)\n",
    "copied[0][1] = 99\n",
    "copied"
   ]
  },
  {
   "cell_type": "code",
   "execution_count": 35,
   "id": "5e3645f7-6a78-4ae9-894c-59cd83e17abb",
   "metadata": {},
   "outputs": [
    {
     "data": {
      "text/plain": [
       "[[100, 99], [3, 4]]"
      ]
     },
     "execution_count": 35,
     "metadata": {},
     "output_type": "execute_result"
    }
   ],
   "source": [
    "score"
   ]
  },
  {
   "cell_type": "code",
   "execution_count": 36,
   "id": "da3f7368-6311-4350-b785-efb79cfafdbe",
   "metadata": {},
   "outputs": [
    {
     "data": {
      "text/plain": [
       "[[100, 99], [100, 4]]"
      ]
     },
     "execution_count": 36,
     "metadata": {},
     "output_type": "execute_result"
    }
   ],
   "source": [
    "deepcopied = copy.deepcopy(score)\n",
    "deepcopied[1][0] = 100\n",
    "deepcopied"
   ]
  },
  {
   "cell_type": "code",
   "execution_count": 37,
   "id": "ae833c79-31f0-4af5-8862-16e122c05005",
   "metadata": {},
   "outputs": [
    {
     "data": {
      "text/plain": [
       "[[100, 99], [3, 4]]"
      ]
     },
     "execution_count": 37,
     "metadata": {},
     "output_type": "execute_result"
    }
   ],
   "source": [
    "score"
   ]
  },
  {
   "cell_type": "markdown",
   "id": "b68cae17-f5a3-476b-aece-94f686627a2f",
   "metadata": {},
   "source": [
    "# 리스트의 연산\n",
    "\n",
    "- `+` __add__()\n",
    "- `*` __mul__()\n",
    "- del list[항목]\n",
    "- in list -> True/False"
   ]
  },
  {
   "cell_type": "code",
   "execution_count": 38,
   "id": "95b5506e-95f6-4e20-9f4f-637200518a40",
   "metadata": {},
   "outputs": [
    {
     "data": {
      "text/plain": [
       "['해물라면', '샐러드', '떡뽁이', '오무라이스', '볶음밥', '떡뽁이', '제육볶음', '주먹밥']"
      ]
     },
     "execution_count": 38,
     "metadata": {},
     "output_type": "execute_result"
    }
   ],
   "source": [
    "lunch1 = ['해물라면', '샐러드', '떡뽁이']\n",
    "lunch2 = ['오무라이스', '볶음밥', '떡뽁이', '제육볶음', '주먹밥']\n",
    "lunch1+lunch2"
   ]
  },
  {
   "cell_type": "code",
   "execution_count": 40,
   "id": "48dcabb1-8517-4ca8-9fed-b8ad91244030",
   "metadata": {},
   "outputs": [
    {
     "data": {
      "text/plain": [
       "['해물라면', '샐러드', '떡뽁이', '해물라면', '샐러드', '떡뽁이']"
      ]
     },
     "execution_count": 40,
     "metadata": {},
     "output_type": "execute_result"
    }
   ],
   "source": [
    "lunch1*2"
   ]
  },
  {
   "cell_type": "code",
   "execution_count": 42,
   "id": "2632b922-7c9d-46d8-a30b-ac7ac9a4f2b0",
   "metadata": {},
   "outputs": [],
   "source": [
    "del lunch1[0]\n"
   ]
  },
  {
   "cell_type": "code",
   "execution_count": 43,
   "id": "ccc5be66-a582-4df6-9cd0-818c47c66240",
   "metadata": {},
   "outputs": [
    {
     "data": {
      "text/plain": [
       "['샐러드', '떡뽁이']"
      ]
     },
     "execution_count": 43,
     "metadata": {},
     "output_type": "execute_result"
    }
   ],
   "source": [
    "lunch1"
   ]
  },
  {
   "cell_type": "code",
   "execution_count": 46,
   "id": "1f98a5e6-a595-4718-b908-eaa4a96b67c6",
   "metadata": {},
   "outputs": [
    {
     "data": {
      "text/plain": [
       "['샐러드', '오무라이스', '볶음밥', '떡뽁이', '제육볶음', '주먹밥']"
      ]
     },
     "execution_count": 46,
     "metadata": {},
     "output_type": "execute_result"
    }
   ],
   "source": [
    "# lunch1과 lunch2를 합하고 '떡뽁이' 1개를 제외하세요\n",
    "lunch3 = lunch1+lunch2\n",
    "del lunch3[1]\n",
    "lunch3"
   ]
  },
  {
   "cell_type": "code",
   "execution_count": 47,
   "id": "71539d26-499b-4ac3-83d3-d6bbcd2a94ed",
   "metadata": {},
   "outputs": [
    {
     "data": {
      "text/plain": [
       "True"
      ]
     },
     "execution_count": 47,
     "metadata": {},
     "output_type": "execute_result"
    }
   ],
   "source": [
    "'떡뽁이' in lunch3"
   ]
  },
  {
   "cell_type": "code",
   "execution_count": 55,
   "id": "af8b99e6-6a8d-485d-a8a6-7b9f9a42bc15",
   "metadata": {},
   "outputs": [
    {
     "name": "stdout",
     "output_type": "stream",
     "text": [
      "먹고 싶은 간식을 추가하세요.  단, 쉼표(,)로 연결하세요 홈런볼, 사이다\n"
     ]
    }
   ],
   "source": [
    "# 간식박스 관리 프로그램 1\n",
    "snack_box = ['초코파이']\n",
    "new_snack = input('먹고 싶은 간식을 추가하세요.  단, 쉼표(,)로 연결하세요').split(',')\n",
    "snack_box += new_snack"
   ]
  },
  {
   "cell_type": "code",
   "execution_count": 56,
   "id": "d5b20241-1be8-4164-8ce4-63903995c533",
   "metadata": {},
   "outputs": [
    {
     "data": {
      "text/plain": [
       "['초코파이', '홈런볼', ' 사이다']"
      ]
     },
     "execution_count": 56,
     "metadata": {},
     "output_type": "execute_result"
    }
   ],
   "source": [
    "snack_box"
   ]
  },
  {
   "cell_type": "code",
   "execution_count": 57,
   "id": "5414e3f7-c202-4e92-a219-0e9d016c31c5",
   "metadata": {},
   "outputs": [
    {
     "name": "stdout",
     "output_type": "stream",
     "text": [
      "간식박스 몇 세트로 포장할까요? 예: 2 -> 2box 2\n"
     ]
    }
   ],
   "source": [
    "# 간식박스 관리 프로그램 2\n",
    "qty = int(input('간식박스 몇 세트로 포장할까요? 예: 2 -> 2box'))"
   ]
  },
  {
   "cell_type": "code",
   "execution_count": 58,
   "id": "74290cfe-f70d-4832-abf1-a8f324db229b",
   "metadata": {},
   "outputs": [
    {
     "data": {
      "text/plain": [
       "['초코파이', '홈런볼', ' 사이다', '초코파이', '홈런볼', ' 사이다']"
      ]
     },
     "execution_count": 58,
     "metadata": {},
     "output_type": "execute_result"
    }
   ],
   "source": [
    "snack_box *= qty\n",
    "snack_box"
   ]
  },
  {
   "cell_type": "code",
   "execution_count": 59,
   "id": "fd906fdc-5df7-4ce0-8893-87ca15f83c0c",
   "metadata": {},
   "outputs": [
    {
     "name": "stdout",
     "output_type": "stream",
     "text": [
      "주문하신 간식상자는 초코파이,홈런볼, 사이다 등입니다. 확인해주세요.\n"
     ]
    }
   ],
   "source": [
    "print(f'주문하신 간식상자는 {snack_box[0]},{snack_box[1]},{snack_box[2]} 등입니다. 확인해주세요.')"
   ]
  },
  {
   "cell_type": "code",
   "execution_count": 63,
   "id": "e4dde5a9-5bd9-4a89-82a2-de4cae4932fb",
   "metadata": {},
   "outputs": [
    {
     "name": "stdout",
     "output_type": "stream",
     "text": [
      "혹시 빼고싶은 간식이 있으면 번호를 입력하세요 (0~5) 1\n"
     ]
    }
   ],
   "source": [
    "# 간식박스 관리 프로그램 3\n",
    "msg = f'혹시 빼고싶은 간식이 있으면 번호를 입력하세요 (0~{len(snack_box)-1})'\n",
    "snack_no = int(input(msg))"
   ]
  },
  {
   "cell_type": "code",
   "execution_count": 65,
   "id": "9885e92c-4883-4c88-909f-bc9c3ea75b1b",
   "metadata": {},
   "outputs": [],
   "source": [
    "del snack_box[snack_no]"
   ]
  },
  {
   "cell_type": "code",
   "execution_count": null,
   "id": "92948f2f-5cc2-4f06-9a66-a553a9b1bfa9",
   "metadata": {},
   "outputs": [],
   "source": [
    "# 간식박스 관리 프로그램 4\n",
    "# 찾고 싶은 간식번호를 입력하세요\n",
    "# 있어요 OR 없어요 출력"
   ]
  },
  {
   "cell_type": "code",
   "execution_count": null,
   "id": "fbe670f1-bf36-4dc3-aafc-0432e0a61be8",
   "metadata": {},
   "outputs": [],
   "source": []
  },
  {
   "cell_type": "markdown",
   "id": "02e5a8ab-1446-4172-9f4b-84fc03dc0bb3",
   "metadata": {},
   "source": [
    "## 25.05.30(오전수업)"
   ]
  },
  {
   "cell_type": "markdown",
   "id": "fb252e45-844f-4125-b76c-6b915ca28eaf",
   "metadata": {},
   "source": [
    "\n",
    "| 메서드                  | 사용 예시                    | 설명                |\n",
    "| -------------------- | ------------------------ | ----------------- |\n",
    "| append(x)          | lst.append(4)          | 맨 뒤에 x 추가       |\n",
    "| insert(i, x)       | lst.insert(1, \"a\")     | i 위치에 x 삽입    |\n",
    "| extend(iter)       | lst.extend([4, 5])     | 리스트에 여러 값 추가      |\n",
    "| remove(x)          | lst.remove(\"a\")        | x와 일치하는 첫 항목 삭제 |\n",
    "| pop()              | lst.pop()              | 마지막 항목 제거하고 반환    |\n",
    "| pop(i)             | lst.pop(0)             | i번째 항목 제거하고 반환  |\n",
    "| clear()            | lst.clear()            | 리스트 전체 비우기        |\n",
    "| index(x)           | lst.index(\"a\")         | x의 위치(인덱스) 반환   |\n",
    "| count(x)           | lst.count(\"a\")         | x의 개수 세기        |\n",
    "| sort()             | lst.sort()             | 오름차순 정렬 (원본 변경)   |\n",
    "| sort(reverse=True) | lst.sort(reverse=True) | 내림차순 정렬           |\n",
    "| reverse()          | lst.reverse()          | 항목 순서 뒤집기         |\n",
    "| copy()             | lst2 = lst.copy()      | 리스트 복사            |"
   ]
  },
  {
   "cell_type": "markdown",
   "id": "b244370a-483e-4956-80e8-a09944e536c5",
   "metadata": {},
   "source": [
    "# 연산자\n",
    "\n",
    "\n",
    "- 비식별연산자\n",
    "1. 수치연산 : 사칙연산\n",
    "    add() -> 특별메소드를 정의하고 객체에서 쓸 수 있다\n",
    "   숫자일 때는 기본 연산\n",
    "   형변환이 자동으로 일어난다 int+float > float, int/int > float\n",
    "2. 대입연산 : assign, 할당 `=`\n",
    "   변수 = 값\n",
    "   자기 자신에게 대입하는 연산 > +=, -=, *=, /= > ( ) 가 자동으로 적용\n",
    "5. 비교연산\n",
    "   `=` 와 `==`\n",
    "   `!=` `>=` `<=`\n",
    "\n",
    "   리스트의 비교 `==` > 내용이 같은가?   \n",
    "   리스트의 비교 `is` > 주소가 같은가?\n",
    "   \n",
    "   리스트의 주소 `id()` 값이 같은지를 비교 > 메모리 영역이 같은가?\n",
    "   \n",
    "7. 논리연산\n",
    "    and, or, not\n",
    "   &, &&, |, !\n",
    "   \n",
    "   \n",
    "- 식별 연산자\n",
    "  1. is , is not"
   ]
  },
  {
   "cell_type": "code",
   "execution_count": null,
   "id": "b44218d7-9fea-4a83-965a-6a2ba000cd6e",
   "metadata": {},
   "outputs": [],
   "source": [
    "lunch1 = ['주먹밥', '치킨', '칼국수']\n",
    "lunch2 = ['주먹밥', '치킨', '칼국수']\n",
    "lunch1 == lunch2  #값의 비교"
   ]
  },
  {
   "cell_type": "code",
   "execution_count": null,
   "id": "431cb5d0-3f5d-4bb8-a257-99f06a98ac9e",
   "metadata": {},
   "outputs": [],
   "source": [
    "id(lunch1) == id(lunch2)"
   ]
  },
  {
   "cell_type": "code",
   "execution_count": null,
   "id": "f3454e2b-9792-49e0-889d-b719bfcb0904",
   "metadata": {},
   "outputs": [],
   "source": [
    "lunch1 is lunch2 # 주소를 비교"
   ]
  },
  {
   "cell_type": "code",
   "execution_count": 2,
   "id": "58b50225-9d2f-4cf3-a00b-5e9ba3e4c4ac",
   "metadata": {},
   "outputs": [],
   "source": [
    "a=5\n",
    "#a = a + 5\n",
    "a += 5"
   ]
  },
  {
   "cell_type": "code",
   "execution_count": 4,
   "id": "b6b4ccf5-2723-46ad-9375-f799407f8245",
   "metadata": {},
   "outputs": [
    {
     "data": {
      "text/plain": [
       "20"
      ]
     },
     "execution_count": 4,
     "metadata": {},
     "output_type": "execute_result"
    }
   ],
   "source": [
    "a=5\n",
    "b=2\n",
    "a*= 2 + b # a= 5 * (2 + 2)  \n",
    "a"
   ]
  },
  {
   "cell_type": "code",
   "execution_count": 51,
   "id": "48ff691d-a73c-415c-9783-e657edbfa867",
   "metadata": {},
   "outputs": [
    {
     "name": "stdout",
     "output_type": "stream",
     "text": [
      "[{'num': '1', 'name': '김철수', 'kor': 90, 'eng': 80, 'math': 85, 'total': 0, 'avg': 0.0, 'order': 0}, {'num': '2', 'name': '박제동', 'kor': 90, 'eng': 85, 'math': 90, 'total': 0, 'avg': 0.0, 'order': 0}, {'num': '3', 'name': '홍길동', 'kor': 80, 'eng': 80, 'math': 80, 'total': 0, 'avg': 0.0, 'order': 0}]\n"
     ]
    }
   ],
   "source": [
    "# sample 자료 \n",
    "\n",
    "students = [\n",
    "               {'num':'1','name':'김철수','kor':90,'eng':80,'math':85,'total':0,'avg':0.0,'order':0 },\n",
    "               {'num':'2','name':'박제동','kor':90,'eng':85,'math':90,'total':0,'avg':0.0,'order':0 },\n",
    "               {'num':'3','name':'홍길동','kor':80,'eng':80,'math':80,'total':0,'avg':0.0,'order':0 }\n",
    "           ]\n",
    "print(students)\n",
    "\n"
   ]
  },
  {
   "cell_type": "code",
   "execution_count": 26,
   "id": "e17ff58b-dd56-43b5-8307-905c65bd256d",
   "metadata": {},
   "outputs": [
    {
     "name": "stdout",
     "output_type": "stream",
     "text": [
      "김철수 총점(total) 255\n",
      "박제동 총점(total) 265\n",
      "홍길동 총점(total) 240\n",
      "김철수 평균(avg) 85.0\n",
      "박제동 평균(avg) 88.33333333333333\n",
      "홍길동 평균(avg) 80.0\n"
     ]
    }
   ],
   "source": [
    "students[0]['total'] = students[0]['kor']+students[0]['eng']+students[0]['math']\n",
    "students[1]['total'] = students[1]['kor']+students[1]['eng']+students[1]['math']\n",
    "students[2]['total'] = students[2]['kor']+students[2]['eng']+students[2]['math']\n",
    "\n",
    "print(students[0]['name'],\"총점(total)\", students[0]['total'])\n",
    "print(students[1]['name'],\"총점(total)\", students[1]['total'])\n",
    "print(students[2]['name'],\"총점(total)\", students[2]['total'])\n",
    "\n",
    "students[0]['avg'] = students[0]['total'] / 3\n",
    "students[1]['avg'] = students[1]['total'] / 3\n",
    "students[2]['avg'] = students[2]['total'] / 3\n",
    "\n",
    "\n",
    "print(students[0]['name'], \"평균(avg)\", students[0]['avg']) \n",
    "print(students[1]['name'],\"평균(avg)\", students[1]['avg']) \n",
    "print(students[2]['name'],\"평균(avg)\", students[2]['avg']) \n"
   ]
  },
  {
   "cell_type": "code",
   "execution_count": null,
   "id": "5402d644-a37c-427d-9fd0-ff93ae529332",
   "metadata": {},
   "outputs": [],
   "source": []
  },
  {
   "cell_type": "code",
   "execution_count": 53,
   "id": "c284e6fc-c51e-4715-a833-db9e7eaa796b",
   "metadata": {},
   "outputs": [
    {
     "name": "stdout",
     "output_type": "stream",
     "text": [
      "{'num': '3', 'name': '홍길동', 'kor': 80, 'eng': 80, 'math': 80, 'total': 240, 'avg': 80.0, 'order': 0}\n"
     ]
    }
   ],
   "source": [
    "# for 문에서는 리스트의 요소를 하나씩 꺼낼 수 있다. : in 키워드\n",
    "for student in students : # 0,1,2 : 0 > 1 > 2\n",
    "    student['total'] = (student['kor'] + student['eng'] + student['math'])\n",
    "    student['total']\n",
    "\n",
    "print(student)"
   ]
  },
  {
   "cell_type": "code",
   "execution_count": 29,
   "id": "5856ca76-b567-48f9-9f1f-978bc269fb44",
   "metadata": {},
   "outputs": [
    {
     "name": "stdout",
     "output_type": "stream",
     "text": [
      "박제동 총점: 265 평균: 88.33 등수:1\n",
      "김철수 총점: 255 평균: 85.00 등수:2\n",
      "홍길동 총점: 240 평균: 80.00 등수:3\n"
     ]
    }
   ],
   "source": [
    "# 먼저 total 과 avg 계산\n",
    "\n",
    "for student in students:\n",
    "    student['total'] = student['kor'] + student['eng'] + student['math']\n",
    "    student['avg'] = student['total'] / 3\n",
    "\n",
    "# total을 기준으로 내림차순 정렬한 새 리스트 생성\n",
    "sorted_students = sorted(students, key=lambda x: x['total'], reverse=True)\n",
    "\n",
    "# 순위를 매겨서 원래 students 데이터에 반영\n",
    "for i, student in enumerate(sorted_students):\n",
    "    student['order'] = i +1 # 1등부터 시작 의미함.\n",
    "\n",
    "# 결과 출력\n",
    "for student in sorted_students:\n",
    "    print(f\"{student['name']} 총점: {student['total']} 평균: {student['avg']:.2f} 등수:{student['order']}\")"
   ]
  },
  {
   "cell_type": "code",
   "execution_count": 32,
   "id": "b7e28c91-6a9d-42f5-8fa4-03dad000849b",
   "metadata": {},
   "outputs": [
    {
     "name": "stdout",
     "output_type": "stream",
     "text": [
      "김철수 2\n",
      "박제동 1\n",
      "홍길동 3\n"
     ]
    }
   ],
   "source": [
    "# students order\n",
    "for student in students : # students[0] 자료를 꺼낸 것이 student\n",
    "    rank = 1\n",
    "    for other in students :\n",
    "        if other['total'] > student['total'] : \n",
    "            rank += 1\n",
    "    student['order'] = rank\n",
    "    print(student['name'], student['order'])"
   ]
  },
  {
   "cell_type": "code",
   "execution_count": 44,
   "id": "04104de1-970e-4c58-9301-3ce8870d728c",
   "metadata": {},
   "outputs": [
    {
     "name": "stdout",
     "output_type": "stream",
     "text": [
      "김철수 2 255 85.0\n",
      "박제동 1 265 88.33333333333333\n",
      "홍길동 3 240 80.0\n"
     ]
    }
   ],
   "source": [
    "for student in students:\n",
    "    print(student['name'], student['order'], student['total'], student['avg'])"
   ]
  },
  {
   "cell_type": "code",
   "execution_count": 43,
   "id": "ecb6d113-8ba7-4714-965b-2a039a6dc79a",
   "metadata": {},
   "outputs": [
    {
     "name": "stdout",
     "output_type": "stream",
     "text": [
      "리스트 내용 같나요? → True\n",
      "같은 객체인가요? → False\n",
      "lunch1의 id: 1291078585344\n",
      "lunch2의 id: 1291078225920\n"
     ]
    }
   ],
   "source": [
    "lunch1 = ['주먹밥', '치킨', '칼국수']\n",
    "lunch2 = ['주먹밥', '치킨', '칼국수']\n",
    "lunch1 == lunch2\n",
    "\n",
    "# 리스트 내용 비교 (값 비교)\n",
    "print(\"리스트 내용 같나요? →\", lunch1 == lunch2)\n",
    "\n",
    "\n",
    "# 리스트가 같은 객체인가? (id 비교)\n",
    "print(\"같은 객체인가요? →\", id(lunch1) == id(lunch2))\n",
    "\n",
    "\n",
    "# 각각의 id 출력\n",
    "print(\"lunch1의 id:\", id(lunch1))\n",
    "print(\"lunch2의 id:\", id(lunch2))"
   ]
  },
  {
   "cell_type": "markdown",
   "id": "21f06982-d9b5-4da9-ad77-d01b8040c1e3",
   "metadata": {},
   "source": [
    "# 리스트에 많이 쓰이는 내장함수들\n",
    "\n",
    "type(),\n",
    "sorted(),\n",
    "dir(),\n",
    "id(),\n",
    "len(),\n",
    "sum(), max(), min()"
   ]
  },
  {
   "cell_type": "code",
   "execution_count": 50,
   "id": "03ffc852-0f74-4c4d-b6fc-f2d0fb71cde9",
   "metadata": {},
   "outputs": [
    {
     "name": "stdout",
     "output_type": "stream",
     "text": [
      "1. type(numbers): <class 'list'>\n",
      "2. sorted(numbers): [1, 3, 4, 5, 8]\n",
      " sorted(numbers, resvers=True): [8, 5, 4, 3, 1]\n",
      " 원본리스트: [5, 3, 8, 1, 4]\n",
      "3. dir(numbers):\n",
      "['__add__', '__class__', '__class_getitem__', '__contains__', '__delattr__', '__delitem__', '__dir__', '__doc__', '__eq__', '__format__', '__ge__', '__getattribute__', '__getitem__', '__getstate__', '__gt__', '__hash__', '__iadd__', '__imul__', '__init__', '__init_subclass__', '__iter__', '__le__', '__len__', '__lt__', '__mul__', '__ne__', '__new__', '__reduce__', '__reduce_ex__', '__repr__', '__reversed__', '__rmul__', '__setattr__', '__setitem__', '__sizeof__', '__str__', '__subclasshook__', 'append', 'clear', 'copy', 'count', 'extend', 'index', 'insert', 'pop', 'remove', 'reverse', 'sort']\n",
      "4. id(numbers): 1291079446720\n",
      "5. len(numbers): 5\n",
      "6. sum(numbers): 21\n",
      "7. max(numvers): 8\n",
      "8. min(numbers): 1\n"
     ]
    }
   ],
   "source": [
    "# 리스트 예제\n",
    "numbers = [5, 3, 8, 1, 4]\n",
    "\n",
    "# 1. type() - 자료형 확인\n",
    "print(\"1. type(numbers):\", type(numbers))\n",
    "\n",
    "# 2.sorted() - 정렬 (원본은 그대로, 정렬된 새 리스트 반환)\n",
    "print(\"2. sorted(numbers):\", sorted(numbers)) # 오름차순\n",
    "print(\" sorted(numbers, resvers=True):\", sorted(numbers, reverse=True)) # 내림차순\n",
    "print(\" 원본리스트:\", numbers) # 원본은변하지않음\n",
    "\n",
    "# 3. dir() - 사용가능한 함수나 속성 목록보기\n",
    "print(\"3. dir(numbers):\")\n",
    "print(dir(numbers)) #리스트가 가진 함수들을 쭉 보여줌\n",
    "\n",
    "# 4. id() - 객체 고유 주소(메모리 위치) 보기\n",
    "print(\"4. id(numbers):\", id(numbers))\n",
    "\n",
    "# 5. len() - 요소개수\n",
    "print(\"5. len(numbers):\", len(numbers)) # 5개\n",
    "\n",
    "# 6. sum() - 총합\n",
    "print(\"6. sum(numbers):\", sum(numbers)) #5+3+8+1+4 = 21 \n",
    "\n",
    "# 7.max() - 최대값\n",
    "print(\"7. max(numvers):\", max(numbers)) #8\n",
    "\n",
    "# 8.min() - 최소값\n",
    "print(\"8. min(numbers):\", min(numbers)) #1"
   ]
  },
  {
   "cell_type": "code",
   "execution_count": 60,
   "id": "d5a3974d-c21b-4868-8862-c3b8016c866e",
   "metadata": {},
   "outputs": [
    {
     "ename": "SyntaxError",
     "evalue": "invalid syntax (2996676616.py, line 3)",
     "output_type": "error",
     "traceback": [
      "  \u001b[36mCell\u001b[39m\u001b[36m \u001b[39m\u001b[32mIn[60]\u001b[39m\u001b[32m, line 3\u001b[39m\n\u001b[31m    \u001b[39m\u001b[31mQ1. [1,3,5,4,2]라는 리스트를 [5,4,3,2,1]로 만들어보자\u001b[39m\n        ^\n\u001b[31mSyntaxError\u001b[39m\u001b[31m:\u001b[39m invalid syntax\n"
     ]
    }
   ],
   "source": [
    "# 리스트 퀴즈\n",
    "\n",
    "Q1. [1,3,5,4,2]라는 리스트를 [5,4,3,2,1]로 만들어보자\n",
    "\n",
    "Q2. ['Life','is','too','short']라는 리스트를 Life is too short라는 문자열로 만들어 출력해 보자\n",
    "\n",
    "Q3. 다음 리스트 L의 순서를 아래와 같이 변경하시오. (힌트: pop())\n",
    "\n",
    "변경 전 \n",
    "\n",
    "[1, 3, 5, 7, 9]  \n",
    "\n",
    "변경 후\n",
    "\n",
    "[3, 5, 7, 9, 1]"
   ]
  },
  {
   "cell_type": "code",
   "execution_count": 61,
   "id": "9653f331-ba74-4967-bc32-5bb5f876bb13",
   "metadata": {},
   "outputs": [
    {
     "name": "stdout",
     "output_type": "stream",
     "text": [
      "Q1 정답 [5, 4, 3, 2, 1]\n"
     ]
    }
   ],
   "source": [
    "Q1 = [1,3,5,4,2]\n",
    "Q1.sort(reverse=True) # 내림차순 정렬\n",
    "print(\"Q1 정답\", Q1)"
   ]
  },
  {
   "cell_type": "code",
   "execution_count": 58,
   "id": "a9f2486b-550a-4b6e-8c39-4a129d9f6ce7",
   "metadata": {},
   "outputs": [
    {
     "name": "stdout",
     "output_type": "stream",
     "text": [
      "Q2 정답 Life is too short\n"
     ]
    }
   ],
   "source": [
    "Q2 = ['Life', 'is', 'too', 'short']\n",
    "result = \" \".join(Q2)\n",
    "print(\"Q2 정답\", result)"
   ]
  },
  {
   "cell_type": "code",
   "execution_count": 63,
   "id": "a6980bd3-614b-452a-9765-e1116fb300bf",
   "metadata": {},
   "outputs": [
    {
     "name": "stdout",
     "output_type": "stream",
     "text": [
      "Q3 정답: [3, 5, 7, 9, 1]\n"
     ]
    }
   ],
   "source": [
    "Q3 = [1,3,5,7,9]\n",
    "\n",
    "#pop(0) 은 첫요소를 제거하면서 반환\n",
    "#append() 는 리스트 끝에 다시 추가해주는 함수\n",
    "\n",
    "first = Q3.pop(0)\n",
    "Q3.append(first)\n",
    "print(\"Q3 정답:\", Q3)\n",
    "\n"
   ]
  }
 ],
 "metadata": {
  "kernelspec": {
   "display_name": "base",
   "language": "python",
   "name": "python3"
  },
  "language_info": {
   "codemirror_mode": {
    "name": "ipython",
    "version": 3
   },
   "file_extension": ".py",
   "mimetype": "text/x-python",
   "name": "python",
   "nbconvert_exporter": "python",
   "pygments_lexer": "ipython3",
   "version": "3.12.1"
  }
 },
 "nbformat": 4,
 "nbformat_minor": 5
}
