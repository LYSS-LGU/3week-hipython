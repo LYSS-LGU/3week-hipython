{
 "cells": [
  {
   "cell_type": "markdown",
   "id": "36a35bd2-4e69-47f3-a446-b6827b041100",
   "metadata": {},
   "source": [
    "# 이터러블 & 제너레이터\n",
    "### 25.06.05 \n",
    "- Iterable : for 의 in 에 나올 수 있는 객체의 유형\n",
    "- Iterator : iter(), enumerate(), for문에서 next() 직접 호출 \n",
    "- Generator : 사용자 정의함수 중에서 yield 사용한 패턴 - 일시정지, 메모리 효율이 높다."
   ]
  },
  {
   "cell_type": "code",
   "execution_count": null,
   "id": "9b6160ad-a2ab-4286-b1d8-e029a0c7ffaa",
   "metadata": {},
   "outputs": [],
   "source": [
    "from collections.abc import Iterable\n",
    "\n",
    "isinstance('hello', Iterable)"
   ]
  },
  {
   "cell_type": "code",
   "execution_count": null,
   "id": "af1d7d9c-f8f2-4a52-98d3-71347a6349a2",
   "metadata": {},
   "outputs": [],
   "source": [
    "itr_test_str = 'hello'\n",
    "#dir(itr_test_str)"
   ]
  },
  {
   "cell_type": "code",
   "execution_count": null,
   "id": "a7aa1482-6f9b-4a8e-a730-be4523dbe801",
   "metadata": {},
   "outputs": [],
   "source": [
    "itr_obj = iter(itr_test_str)\n",
    "dir(itr_obj)"
   ]
  },
  {
   "cell_type": "code",
   "execution_count": null,
   "id": "d77c4b4a-fd05-4721-b638-e5fc78605acc",
   "metadata": {},
   "outputs": [],
   "source": [
    "#StopIteration 이터레이터의 요소가 없을 때 발생하는 오류\n",
    "itr_obj.__next__()"
   ]
  },
  {
   "cell_type": "code",
   "execution_count": null,
   "id": "e0ca7fa3-bb65-4d47-bf65-75c165c86b51",
   "metadata": {},
   "outputs": [],
   "source": [
    "itr_test_lst = [10,20,30]\n",
    "dir(itr_test_lst)"
   ]
  },
  {
   "cell_type": "code",
   "execution_count": null,
   "id": "708d9e6b-5344-458e-a586-e3949f90dd69",
   "metadata": {},
   "outputs": [],
   "source": [
    "itr_obj_1 = iter(itr_test_lst)\n",
    "type(itr_obj_1)"
   ]
  },
  {
   "cell_type": "code",
   "execution_count": null,
   "id": "e0b4c8e9-c7ed-46a9-aa5e-a66b9c835154",
   "metadata": {},
   "outputs": [],
   "source": [
    "itr_obj_1.__next__()"
   ]
  },
  {
   "cell_type": "code",
   "execution_count": null,
   "id": "2a512bdf-a558-4e77-a80d-b73825f1c6db",
   "metadata": {},
   "outputs": [],
   "source": [
    "next(itr_obj_1)"
   ]
  },
  {
   "cell_type": "code",
   "execution_count": null,
   "id": "449f8c60-3952-4e08-8e11-403a36dd91b8",
   "metadata": {},
   "outputs": [],
   "source": [
    "itr_obj_1 = iter(itr_test_lst)\n",
    "for i in itr_obj_1:\n",
    "    print(i)"
   ]
  },
  {
   "cell_type": "code",
   "execution_count": null,
   "id": "48ce9643-b0cd-4fc9-b191-0d59b31803cd",
   "metadata": {},
   "outputs": [],
   "source": [
    "for i, item in enumerate(itr_test_lst):\n",
    "    print(i, item)"
   ]
  },
  {
   "cell_type": "code",
   "execution_count": null,
   "id": "0e5988be-0c7a-47ea-be73-c5a9b7c934b2",
   "metadata": {},
   "outputs": [],
   "source": [
    "msg = 'hello'\n",
    "for i in enumerate(msg):\n",
    "    print(i)"
   ]
  },
  {
   "cell_type": "code",
   "execution_count": null,
   "id": "8082a0ab-7149-4467-930e-41935e0c36e3",
   "metadata": {},
   "outputs": [],
   "source": [
    "def gen_자판기():\n",
    "    yield '바나나1'\n",
    "    yield '바나나2'\n",
    "    yield '바나나3'\n",
    "\n",
    "gen_자판기()"
   ]
  },
  {
   "cell_type": "code",
   "execution_count": null,
   "id": "b8f656cd-6cc6-42a0-93b3-1d846241bda1",
   "metadata": {},
   "outputs": [],
   "source": [
    "gen = gen_자판기()\n",
    "next(gen)"
   ]
  },
  {
   "cell_type": "code",
   "execution_count": null,
   "id": "0a397b21-bfef-474b-9e13-c58e5a4d396d",
   "metadata": {},
   "outputs": [],
   "source": [
    "next(gen)"
   ]
  },
  {
   "cell_type": "code",
   "execution_count": null,
   "id": "fcb29d3a-320a-415b-94de-09888a69dde4",
   "metadata": {},
   "outputs": [],
   "source": [
    "def 제곱머신():\n",
    "    for x in range(10):\n",
    "        yield x**2\n",
    "\n",
    "g_m = 제곱머신()"
   ]
  },
  {
   "cell_type": "code",
   "execution_count": null,
   "id": "a6b19194-6001-4792-82f7-27a42e655222",
   "metadata": {},
   "outputs": [],
   "source": [
    "next(g_m)"
   ]
  },
  {
   "cell_type": "code",
   "execution_count": null,
   "id": "61eb0f5f-d4b8-4951-ae52-74e5cefb375e",
   "metadata": {},
   "outputs": [],
   "source": [
    "for n in g_m:\n",
    "    print(n)"
   ]
  }
 ],
 "metadata": {
  "kernelspec": {
   "display_name": "Python 3 (ipykernel)",
   "language": "python",
   "name": "python3"
  },
  "language_info": {
   "codemirror_mode": {
    "name": "ipython",
    "version": 3
   },
   "file_extension": ".py",
   "mimetype": "text/x-python",
   "name": "python",
   "nbconvert_exporter": "python",
   "pygments_lexer": "ipython3",
   "version": "3.12.1"
  }
 },
 "nbformat": 4,
 "nbformat_minor": 5
}
