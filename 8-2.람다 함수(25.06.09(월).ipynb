{
 "cells": [
  {
   "cell_type": "markdown",
   "id": "4889ca21-e36c-481f-a99c-1b0f23660852",
   "metadata": {},
   "source": [
    "# 람다 함수\n",
    "25.06.09(월) 오전수업\n",
    "\n",
    "선언 >> lambda <매개변수> : 코드\n",
    "\n",
    "호출 >> (lambda <매개변수> : 코드) (매개변수값)\n",
    "\n"
   ]
  },
  {
   "cell_type": "code",
   "execution_count": 1,
   "id": "04798f0b-81bc-4200-bc71-4aff7c72877b",
   "metadata": {},
   "outputs": [],
   "source": [
    "def aaa(a) :\n",
    "    result = a+1\n",
    "    return result\n",
    "    "
   ]
  },
  {
   "cell_type": "code",
   "execution_count": 2,
   "id": "76da5505-efa4-4ce8-a16a-f4bdf0667c42",
   "metadata": {},
   "outputs": [
    {
     "data": {
      "text/plain": [
       "<function __main__.<lambda>(a)>"
      ]
     },
     "execution_count": 2,
     "metadata": {},
     "output_type": "execute_result"
    }
   ],
   "source": [
    "lambda a : a + 1"
   ]
  },
  {
   "cell_type": "code",
   "execution_count": 33,
   "id": "85b7d0e9-e371-49f8-ad62-19776d518c57",
   "metadata": {},
   "outputs": [
    {
     "data": {
      "text/plain": [
       "3"
      ]
     },
     "execution_count": 33,
     "metadata": {},
     "output_type": "execute_result"
    }
   ],
   "source": [
    "(lambda a : a+1)(2) #람다의 정의 즉시 호출"
   ]
  },
  {
   "cell_type": "code",
   "execution_count": 4,
   "id": "a2c60ead-e23c-4e24-a355-d957ae158586",
   "metadata": {},
   "outputs": [
    {
     "data": {
      "text/plain": [
       "4"
      ]
     },
     "execution_count": 4,
     "metadata": {},
     "output_type": "execute_result"
    }
   ],
   "source": [
    "my_lambda = lambda a: a+1 #람다의 재정의\n",
    "my_lambda(3), my_lambda(4), my_lambda(5)"
   ]
  },
  {
   "cell_type": "code",
   "execution_count": 5,
   "id": "a085a14b-a3ba-4b52-ba40-75835cdb2da1",
   "metadata": {},
   "outputs": [
    {
     "data": {
      "text/plain": [
       "5"
      ]
     },
     "execution_count": 5,
     "metadata": {},
     "output_type": "execute_result"
    }
   ],
   "source": [
    "def sum1(a,b):\n",
    "    return a+b\n",
    "\n",
    "sum1(2,3)"
   ]
  },
  {
   "cell_type": "code",
   "execution_count": 9,
   "id": "1547693b-329f-4886-b170-10588e882efe",
   "metadata": {},
   "outputs": [
    {
     "data": {
      "text/plain": [
       "5"
      ]
     },
     "execution_count": 9,
     "metadata": {},
     "output_type": "execute_result"
    }
   ],
   "source": [
    "(lambda a,b : a+b) (2,3)"
   ]
  },
  {
   "cell_type": "code",
   "execution_count": 11,
   "id": "e17983a8-3453-4fc4-a030-9057b3d2c57a",
   "metadata": {},
   "outputs": [],
   "source": [
    "def calc_func(a,b, opr_func):\n",
    "    result = opr_func(a,b)\n",
    "    return result"
   ]
  },
  {
   "cell_type": "code",
   "execution_count": 12,
   "id": "b4c8e2e0-124c-420f-833b-905f3f50c3da",
   "metadata": {},
   "outputs": [
    {
     "data": {
      "text/plain": [
       "3"
      ]
     },
     "execution_count": 12,
     "metadata": {},
     "output_type": "execute_result"
    }
   ],
   "source": [
    "calc_func(1,2, lambda x,y:x+y)"
   ]
  },
  {
   "cell_type": "markdown",
   "id": "69880a29-b148-45ff-84df-9b0ea24a8940",
   "metadata": {},
   "source": [
    "# map 함수"
   ]
  },
  {
   "cell_type": "code",
   "execution_count": 15,
   "id": "b9474e95-7c39-4821-af4f-155e2183fa58",
   "metadata": {},
   "outputs": [
    {
     "data": {
      "text/plain": [
       "['APPLE', 'BANANA', 'CHERRY']"
      ]
     },
     "execution_count": 15,
     "metadata": {},
     "output_type": "execute_result"
    }
   ],
   "source": [
    "#map 함수\n",
    "fruits = ['apple', 'banana', 'cherry']\n",
    "\n",
    "# str.upper\n",
    "#fruits[0].upper()\n",
    "list(map(str.upper, fruits))"
   ]
  },
  {
   "cell_type": "code",
   "execution_count": 16,
   "id": "def1eeb9-1ce3-462c-b516-1edb88333ada",
   "metadata": {},
   "outputs": [
    {
     "data": {
      "text/plain": [
       "list[<method 'upper' of 'str' objects>, ['apple', 'banana', 'cherry']]"
      ]
     },
     "execution_count": 16,
     "metadata": {},
     "output_type": "execute_result"
    }
   ],
   "source": [
    "list[(str.upper, fruits)]"
   ]
  },
  {
   "cell_type": "code",
   "execution_count": 19,
   "id": "7fc2fb45-8f5f-4aa2-b0ad-3ef0e812cd52",
   "metadata": {},
   "outputs": [
    {
     "data": {
      "text/plain": [
       "['1', '2', '3', '4', '5']"
      ]
     },
     "execution_count": 19,
     "metadata": {},
     "output_type": "execute_result"
    }
   ],
   "source": [
    "str_number = '12345'\n",
    "list(str_number) # 문자열이 들어있는 리스트"
   ]
  },
  {
   "cell_type": "code",
   "execution_count": 20,
   "id": "1a8a11bc-6217-4ad7-a251-2befdd459160",
   "metadata": {},
   "outputs": [
    {
     "ename": "TypeError",
     "evalue": "int() argument must be a string, a bytes-like object or a real number, not 'list'",
     "output_type": "error",
     "traceback": [
      "\u001b[31m---------------------------------------------------------------------------\u001b[39m",
      "\u001b[31mTypeError\u001b[39m                                 Traceback (most recent call last)",
      "\u001b[36mCell\u001b[39m\u001b[36m \u001b[39m\u001b[32mIn[20]\u001b[39m\u001b[32m, line 1\u001b[39m\n\u001b[32m----> \u001b[39m\u001b[32m1\u001b[39m \u001b[38;5;28mint\u001b[39m(\u001b[38;5;28mlist\u001b[39m(str_number))\n",
      "\u001b[31mTypeError\u001b[39m: int() argument must be a string, a bytes-like object or a real number, not 'list'"
     ]
    }
   ],
   "source": [
    "int(list(str_number))\n",
    "\n",
    "# ---------------------------------------------------------------------------\n",
    "# TypeError                                 Traceback (most recent call last)\n",
    "# Cell In[20], line 1\n",
    "# ----> 1 int(list(str_number))\n",
    "# TypeError: int() argument must be a string, a bytes-like object or a real number, not 'list'\n"
   ]
  },
  {
   "cell_type": "code",
   "execution_count": 22,
   "id": "35f2ab03-3614-473b-b06c-77223a510dd1",
   "metadata": {},
   "outputs": [
    {
     "data": {
      "text/plain": [
       "[1, 2, 3, 4, 5]"
      ]
     },
     "execution_count": 22,
     "metadata": {},
     "output_type": "execute_result"
    }
   ],
   "source": [
    "numbers = list(map(int, str_number))\n",
    "numbers"
   ]
  },
  {
   "cell_type": "code",
   "execution_count": 25,
   "id": "e220e55f-9881-46e5-882d-2e1e478ad8f4",
   "metadata": {},
   "outputs": [
    {
     "data": {
      "text/plain": [
       "[1, 4, 9, 16, 25]"
      ]
     },
     "execution_count": 25,
     "metadata": {},
     "output_type": "execute_result"
    }
   ],
   "source": [
    "list(map( lambda x:x**2, numbers))"
   ]
  },
  {
   "cell_type": "code",
   "execution_count": 27,
   "id": "a09ceec6-eb37-4888-8d2b-1e4be33bb1cb",
   "metadata": {},
   "outputs": [
    {
     "name": "stdout",
     "output_type": "stream",
     "text": [
      "총합 리스트: [5, 7, 9]\n",
      "평균: 7.0\n",
      "최댓값: 9\n",
      "최솟값: 5\n"
     ]
    }
   ],
   "source": [
    "kor_score = [1, 2, 3]\n",
    "eng_score = [4, 5, 6]\n",
    "\n",
    "# 두 점수 리스트의 합계 리스트 만들기\n",
    "total_scores = list(map(lambda x, y: x + y, kor_score, eng_score))\n",
    "\n",
    "# 평균, 최대값, 최솟값 계산\n",
    "avg = sum(total_scores) / len(total_scores)\n",
    "max_val = max(total_scores)\n",
    "min_val = min(total_scores)\n",
    "\n",
    "# 출력\n",
    "print(\"총합 리스트:\", total_scores)\n",
    "print(\"평균:\", avg)\n",
    "print(\"최댓값:\", max_val)\n",
    "print(\"최솟값:\", min_val)\n"
   ]
  },
  {
   "cell_type": "code",
   "execution_count": 32,
   "id": "bd1e8e1d-d584-4a54-996c-6abd57baab13",
   "metadata": {},
   "outputs": [
    {
     "data": {
      "text/plain": [
       "[5, 7, 9]"
      ]
     },
     "execution_count": 32,
     "metadata": {},
     "output_type": "execute_result"
    }
   ],
   "source": [
    "list(map(lambda s : sum(s), zip(kor_score, eng_score)))"
   ]
  },
  {
   "cell_type": "markdown",
   "id": "1eae5450-edad-43a1-a0f2-5f02538f2d3c",
   "metadata": {},
   "source": [
    "# 즉, map은 함수 중심, zip은 값 중심이에요.\n"
   ]
  },
  {
   "cell_type": "code",
   "execution_count": null,
   "id": "862934ad-f7f6-4b15-b025-7b913737ffc2",
   "metadata": {},
   "outputs": [],
   "source": []
  }
 ],
 "metadata": {
  "kernelspec": {
   "display_name": "Python 3 (ipykernel)",
   "language": "python",
   "name": "python3"
  },
  "language_info": {
   "codemirror_mode": {
    "name": "ipython",
    "version": 3
   },
   "file_extension": ".py",
   "mimetype": "text/x-python",
   "name": "python",
   "nbconvert_exporter": "python",
   "pygments_lexer": "ipython3",
   "version": "3.12.1"
  }
 },
 "nbformat": 4,
 "nbformat_minor": 5
}
