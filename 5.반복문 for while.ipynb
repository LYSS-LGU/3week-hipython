{
 "cells": [
  {
   "cell_type": "markdown",
   "id": "b126c870-2ac2-4615-a41e-49786074e10b",
   "metadata": {},
   "source": [
    "# 반복문 for / while\n",
    "\n",
    "### 25.06.02(오후수업)"
   ]
  },
  {
   "cell_type": "markdown",
   "id": "4c982f2c-499e-427f-872b-8632f75c6ff7",
   "metadata": {},
   "source": [
    "for 변수 in 반복자 :\n",
    "\n",
    "반복자에는 리스트, 문자열, 튜플, 딕셔너리, 세트(집합)"
   ]
  },
  {
   "cell_type": "code",
   "execution_count": 1,
   "id": "a26405dc-b26c-4858-84d6-cee11216160b",
   "metadata": {},
   "outputs": [
    {
     "name": "stdout",
     "output_type": "stream",
     "text": [
      "0\n",
      "1\n",
      "2\n",
      "3\n",
      "4\n"
     ]
    }
   ],
   "source": [
    "data = [0,1,2,3,4]\n",
    "\n",
    "for var in data:\n",
    "    print(var)"
   ]
  },
  {
   "cell_type": "code",
   "execution_count": 2,
   "id": "df28d922-acc8-476e-a3a3-d67020172709",
   "metadata": {},
   "outputs": [
    {
     "data": {
      "text/plain": [
       "range(1, 10)"
      ]
     },
     "execution_count": 2,
     "metadata": {},
     "output_type": "execute_result"
    }
   ],
   "source": [
    "range(1,10)"
   ]
  },
  {
   "cell_type": "code",
   "execution_count": 3,
   "id": "10d9dde9-9065-4db5-bd09-39f2fa9c99e0",
   "metadata": {},
   "outputs": [
    {
     "name": "stdout",
     "output_type": "stream",
     "text": [
      "1\n",
      "2\n",
      "3\n",
      "4\n",
      "5\n",
      "6\n",
      "7\n",
      "8\n",
      "9\n"
     ]
    }
   ],
   "source": [
    "for x in range(1,10):\n",
    "    print(x)"
   ]
  },
  {
   "cell_type": "code",
   "execution_count": 4,
   "id": "a51e8227-8d06-420f-8bf5-2913b3391907",
   "metadata": {},
   "outputs": [],
   "source": [
    "# 튜플, 딕셔너리, str 연습."
   ]
  },
  {
   "cell_type": "code",
   "execution_count": 5,
   "id": "c76ed5d9-f926-4b3b-9d7a-7598296d11e9",
   "metadata": {},
   "outputs": [],
   "source": [
    "number = (1,2,3,4)\n",
    "stu = {'name':'lee', 'age':30}"
   ]
  },
  {
   "cell_type": "code",
   "execution_count": 6,
   "id": "a1e35c30-249e-4644-bfce-71a7f7580421",
   "metadata": {},
   "outputs": [
    {
     "data": {
      "text/plain": [
       "10"
      ]
     },
     "execution_count": 6,
     "metadata": {},
     "output_type": "execute_result"
    }
   ],
   "source": [
    "sum=0\n",
    "for n in number :\n",
    "    sum += n\n",
    "sum"
   ]
  },
  {
   "cell_type": "code",
   "execution_count": 9,
   "id": "5eccecd5-4ac7-4059-9f11-7dc1af928798",
   "metadata": {},
   "outputs": [
    {
     "name": "stdout",
     "output_type": "stream",
     "text": [
      "name lee\n",
      "age 30\n"
     ]
    }
   ],
   "source": [
    "for k,v in stu.items() :\n",
    "    print(k,v)"
   ]
  },
  {
   "cell_type": "code",
   "execution_count": 10,
   "id": "7726b5f2-ad4e-49d4-a07c-8505d22c519b",
   "metadata": {},
   "outputs": [
    {
     "data": {
      "text/plain": [
       "range"
      ]
     },
     "execution_count": 10,
     "metadata": {},
     "output_type": "execute_result"
    }
   ],
   "source": [
    "ran = range(1,10)\n",
    "type(ran)"
   ]
  },
  {
   "cell_type": "code",
   "execution_count": 11,
   "id": "2ddea71a-acf6-4c3e-8a2a-a69a9989d512",
   "metadata": {},
   "outputs": [
    {
     "data": {
      "text/plain": [
       "[1, 2, 3, 4, 5, 6, 7, 8, 9]"
      ]
     },
     "execution_count": 11,
     "metadata": {},
     "output_type": "execute_result"
    }
   ],
   "source": [
    "list(ran)"
   ]
  },
  {
   "cell_type": "code",
   "execution_count": 12,
   "id": "0a405bce-39b9-4f51-b8b4-ca60867cc6ac",
   "metadata": {},
   "outputs": [
    {
     "data": {
      "text/plain": [
       "list"
      ]
     },
     "execution_count": 12,
     "metadata": {},
     "output_type": "execute_result"
    }
   ],
   "source": [
    "type(list(ran))"
   ]
  },
  {
   "cell_type": "markdown",
   "id": "f475fa13-3ca6-4505-9f72-8f6f79a7bd4b",
   "metadata": {},
   "source": [
    "# range(1,10,2)\n",
    "start, stop, step=1 default"
   ]
  },
  {
   "cell_type": "code",
   "execution_count": 14,
   "id": "9b5400ae-7d22-4884-9eb4-0cf1087e7b9b",
   "metadata": {},
   "outputs": [
    {
     "data": {
      "text/plain": [
       "[0, 2, 4, 6, 8]"
      ]
     },
     "execution_count": 14,
     "metadata": {},
     "output_type": "execute_result"
    }
   ],
   "source": [
    "list(range(0,10,2))"
   ]
  },
  {
   "cell_type": "code",
   "execution_count": 19,
   "id": "9704706a-70b6-4af3-bb6b-bfb88a5e8fcb",
   "metadata": {},
   "outputs": [
    {
     "name": "stdout",
     "output_type": "stream",
     "text": [
      "5050\n"
     ]
    }
   ],
   "source": [
    "# 1 - 100 합구하기\n",
    "sum1 = 0\n",
    "for i in range(1,101):\n",
    "    sum1 += i\n",
    "print(sum1)"
   ]
  },
  {
   "cell_type": "code",
   "execution_count": 23,
   "id": "2cdd53a9-61dd-4fb6-8369-cc4234669dc8",
   "metadata": {},
   "outputs": [
    {
     "name": "stdout",
     "output_type": "stream",
     "text": [
      "3의 배수의합: 1683\n"
     ]
    }
   ],
   "source": [
    "# 3의 배수의 합 (1~100)\n",
    "sum2 = 0\n",
    "for i in range(3,100,3):\n",
    "    sum2 += i\n",
    "\n",
    "print(\"3의 배수의합:\", sum2)"
   ]
  },
  {
   "cell_type": "code",
   "execution_count": 25,
   "id": "17b2ce67-b39b-43b0-849d-8e5b8225199d",
   "metadata": {},
   "outputs": [
    {
     "name": "stdout",
     "output_type": "stream",
     "text": [
      "3의 배수의합: 1683\n"
     ]
    }
   ],
   "source": [
    "# 3의 배수의 합 (1~100)\n",
    "sum3 = 0\n",
    "for i in range(1,101):\n",
    "    if (i%3) == 0:\n",
    "        sum3 += i \n",
    "\n",
    "print(\"3의 배수의합:\", sum3)"
   ]
  },
  {
   "cell_type": "code",
   "execution_count": 26,
   "id": "038bd464-7612-4569-b66a-69355775ba2c",
   "metadata": {},
   "outputs": [
    {
     "name": "stdout",
     "output_type": "stream",
     "text": [
      "a\n",
      "b\n",
      "c\n"
     ]
    }
   ],
   "source": [
    "char_list = ['a', 'b', 'c']\n",
    "\n",
    "for x in char_list:\n",
    "    print(x)"
   ]
  },
  {
   "cell_type": "code",
   "execution_count": 27,
   "id": "3ae28ee4-d762-4470-934c-144f4fa5c030",
   "metadata": {},
   "outputs": [
    {
     "name": "stdout",
     "output_type": "stream",
     "text": [
      "0 a\n",
      "1 b\n",
      "2 c\n"
     ]
    }
   ],
   "source": [
    "for i, v in enumerate(char_list):\n",
    "    print(i,v)"
   ]
  },
  {
   "cell_type": "code",
   "execution_count": 29,
   "id": "8879cb93-c6cf-4c89-a533-b244a5f05304",
   "metadata": {},
   "outputs": [
    {
     "data": {
      "text/plain": [
       "<zip at 0x213754a7dc0>"
      ]
     },
     "execution_count": 29,
     "metadata": {},
     "output_type": "execute_result"
    }
   ],
   "source": [
    "char_list_2 = ['hello', 'hi' , 'good-bye']\n",
    "zip(char_list, char_list_2)"
   ]
  },
  {
   "cell_type": "code",
   "execution_count": 30,
   "id": "b1f782ac-e3d4-4989-980c-8098281fc243",
   "metadata": {},
   "outputs": [
    {
     "name": "stdout",
     "output_type": "stream",
     "text": [
      "('a', 'hello')\n",
      "('b', 'hi')\n",
      "('c', 'good-bye')\n"
     ]
    }
   ],
   "source": [
    "for item in zip(char_list, char_list_2):\n",
    "    print(item)"
   ]
  },
  {
   "cell_type": "code",
   "execution_count": 37,
   "id": "30bb0bdf-1e9c-49de-bc09-ad3bb2ea099d",
   "metadata": {},
   "outputs": [
    {
     "name": "stdout",
     "output_type": "stream",
     "text": [
      "2 x 1 = 2\n",
      "2 x 2 = 4\n",
      "2 x 3 = 6\n",
      "2 x 4 = 8\n",
      "2 x 5 = 10\n",
      "2 x 6 = 12\n",
      "2 x 7 = 14\n",
      "2 x 8 = 16\n",
      "2 x 9 = 18\n",
      "\n",
      "3 x 1 = 3\n",
      "3 x 2 = 6\n",
      "3 x 3 = 9\n",
      "3 x 4 = 12\n",
      "3 x 5 = 15\n",
      "3 x 6 = 18\n",
      "3 x 7 = 21\n",
      "3 x 8 = 24\n",
      "3 x 9 = 27\n",
      "\n",
      "4 x 1 = 4\n",
      "4 x 2 = 8\n",
      "4 x 3 = 12\n",
      "4 x 4 = 16\n",
      "4 x 5 = 20\n",
      "4 x 6 = 24\n",
      "4 x 7 = 28\n",
      "4 x 8 = 32\n",
      "4 x 9 = 36\n",
      "\n",
      "5 x 1 = 5\n",
      "5 x 2 = 10\n",
      "5 x 3 = 15\n",
      "5 x 4 = 20\n",
      "5 x 5 = 25\n",
      "5 x 6 = 30\n",
      "5 x 7 = 35\n",
      "5 x 8 = 40\n",
      "5 x 9 = 45\n",
      "\n",
      "6 x 1 = 6\n",
      "6 x 2 = 12\n",
      "6 x 3 = 18\n",
      "6 x 4 = 24\n",
      "6 x 5 = 30\n",
      "6 x 6 = 36\n",
      "6 x 7 = 42\n",
      "6 x 8 = 48\n",
      "6 x 9 = 54\n",
      "\n",
      "7 x 1 = 7\n",
      "7 x 2 = 14\n",
      "7 x 3 = 21\n",
      "7 x 4 = 28\n",
      "7 x 5 = 35\n",
      "7 x 6 = 42\n",
      "7 x 7 = 49\n",
      "7 x 8 = 56\n",
      "7 x 9 = 63\n",
      "\n",
      "8 x 1 = 8\n",
      "8 x 2 = 16\n",
      "8 x 3 = 24\n",
      "8 x 4 = 32\n",
      "8 x 5 = 40\n",
      "8 x 6 = 48\n",
      "8 x 7 = 56\n",
      "8 x 8 = 64\n",
      "8 x 9 = 72\n",
      "\n",
      "9 x 1 = 9\n",
      "9 x 2 = 18\n",
      "9 x 3 = 27\n",
      "9 x 4 = 36\n",
      "9 x 5 = 45\n",
      "9 x 6 = 54\n",
      "9 x 7 = 63\n",
      "9 x 8 = 72\n",
      "9 x 9 = 81\n",
      "\n"
     ]
    }
   ],
   "source": [
    "# 99단 출력해보기\n",
    "\n",
    "# 2 x 1 = 2\n",
    "# 2 x 2 = 4\n",
    "\n",
    "for rnrn in range(2,10):\n",
    "    for i in range(1,10):\n",
    "        print(f'{rnrn} x {i} = {rnrn * i}')\n",
    "    print()"
   ]
  },
  {
   "cell_type": "code",
   "execution_count": 36,
   "id": "9c485a18-74c9-4a24-8089-65f71d7ea8b4",
   "metadata": {},
   "outputs": [
    {
     "name": "stdout",
     "output_type": "stream",
     "text": [
      "2 x 1 = 2\n",
      "2 x 2 = 4\n",
      "2 x 3 = 6\n",
      "2 x 4 = 8\n",
      "2 x 5 = 10\n",
      "2 x 6 = 12\n",
      "2 x 7 = 14\n",
      "2 x 8 = 16\n",
      "2 x 9 = 18\n",
      "\n"
     ]
    }
   ],
   "source": [
    "# 99단 출력해보기\n",
    "\n",
    "# 2 x 1 = 2\n",
    "# 2 x 2 = 4\n",
    "\n",
    "rnrn = 2\n",
    "\n",
    "for i in range(1,10):\n",
    "    print(f'{rnrn} x {i} = {rnrn * i}')\n",
    "print()"
   ]
  },
  {
   "cell_type": "code",
   "execution_count": 38,
   "id": "9c1fc3ff-76bb-4e0e-9cb1-ab4610b796f9",
   "metadata": {},
   "outputs": [
    {
     "name": "stdout",
     "output_type": "stream",
     "text": [
      "영화 미션임파서블의 평점 : ㅁㅁㅁㅁ\n",
      "영화 미치광이삐에로의 평점 : ㅁㅁㅁㅁㅁ\n",
      "영화 씨너스의 평점 : ㅁㅁㅁ\n",
      "영화 울지않는아이의 평점 : ㅁㅁ\n"
     ]
    }
   ],
   "source": [
    "movie_dict = {'미션임파서블' :4, '미치광이삐에로':5, '씨너스':3, '울지않는아이':2}\n",
    "for k,v in movie_dict.items():\n",
    "    print(f'영화 {k}의 평점 : { 'ㅁ'*v}')"
   ]
  },
  {
   "cell_type": "code",
   "execution_count": 39,
   "id": "b6a99706-d582-4e69-8ddc-fdf1fea69aaf",
   "metadata": {},
   "outputs": [
    {
     "name": "stdout",
     "output_type": "stream",
     "text": [
      "💗\n",
      "💗💗\n",
      "💗💗💗\n",
      "💗💗💗💗\n",
      "💗💗💗💗💗\n"
     ]
    }
   ],
   "source": [
    "# 삼각형 만들어보기\n",
    "for i in range(1,6):\n",
    "    for j in range(i):\n",
    "        print('💗', end='')\n",
    "    print()"
   ]
  },
  {
   "cell_type": "code",
   "execution_count": 45,
   "id": "8b5cc0ab-ed2d-436d-b797-42f3c9612bd1",
   "metadata": {},
   "outputs": [
    {
     "name": "stdout",
     "output_type": "stream",
     "text": [
      "            💗\n",
      "         💗💗💗\n",
      "      💗💗💗💗💗\n",
      "   💗💗💗💗💗💗💗\n",
      "💗💗💗💗💗💗💗💗💗\n"
     ]
    }
   ],
   "source": []
  },
  {
   "cell_type": "code",
   "execution_count": null,
   "id": "095b9357-f778-43bc-ae2a-df7c36019254",
   "metadata": {},
   "outputs": [],
   "source": []
  },
  {
   "cell_type": "code",
   "execution_count": null,
   "id": "f6fc7f92-42f0-459c-bfe3-a2acac946cb9",
   "metadata": {},
   "outputs": [],
   "source": []
  },
  {
   "cell_type": "code",
   "execution_count": null,
   "id": "225896e0-2b21-423f-90ad-d10869792f1c",
   "metadata": {},
   "outputs": [],
   "source": []
  },
  {
   "cell_type": "code",
   "execution_count": null,
   "id": "6024170d-bc59-4091-bf5f-556c9cdc8c36",
   "metadata": {},
   "outputs": [],
   "source": []
  },
  {
   "cell_type": "code",
   "execution_count": null,
   "id": "4e9dca39-0803-453e-ad71-5816afe32781",
   "metadata": {},
   "outputs": [],
   "source": []
  },
  {
   "cell_type": "code",
   "execution_count": null,
   "id": "d8359187-4b1e-46fe-8288-4dd927641125",
   "metadata": {},
   "outputs": [],
   "source": []
  },
  {
   "cell_type": "code",
   "execution_count": null,
   "id": "2088fe3c-bc8a-4a5a-a342-01c3123a83b1",
   "metadata": {},
   "outputs": [],
   "source": []
  },
  {
   "cell_type": "code",
   "execution_count": null,
   "id": "238c4552-6fa1-440d-8c41-bcd8e3f93231",
   "metadata": {},
   "outputs": [],
   "source": []
  },
  {
   "cell_type": "code",
   "execution_count": null,
   "id": "17796e36-7559-43a8-84fb-d00b2e088f36",
   "metadata": {},
   "outputs": [],
   "source": []
  },
  {
   "cell_type": "code",
   "execution_count": null,
   "id": "cd7177b7-92ea-4816-9267-bf3b035e60a1",
   "metadata": {},
   "outputs": [],
   "source": []
  },
  {
   "cell_type": "code",
   "execution_count": null,
   "id": "bf4a84e6-82bd-4f7b-9c78-626c59505254",
   "metadata": {},
   "outputs": [],
   "source": []
  },
  {
   "cell_type": "code",
   "execution_count": null,
   "id": "b6fd749d-8121-429d-9d81-79b6cf0fc634",
   "metadata": {},
   "outputs": [],
   "source": []
  }
 ],
 "metadata": {
  "kernelspec": {
   "display_name": "Python 3 (ipykernel)",
   "language": "python",
   "name": "python3"
  },
  "language_info": {
   "codemirror_mode": {
    "name": "ipython",
    "version": 3
   },
   "file_extension": ".py",
   "mimetype": "text/x-python",
   "name": "python",
   "nbconvert_exporter": "python",
   "pygments_lexer": "ipython3",
   "version": "3.12.1"
  }
 },
 "nbformat": 4,
 "nbformat_minor": 5
}
