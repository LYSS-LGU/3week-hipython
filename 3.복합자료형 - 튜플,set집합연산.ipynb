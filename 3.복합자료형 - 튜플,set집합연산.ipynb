{
 "cells": [
  {
   "cell_type": "markdown",
   "id": "8d8d77cf-2563-443d-b6f1-ae0ffec848b4",
   "metadata": {},
   "source": [
    "\n",
    "# 복합자료형 - 튜플\n",
    "### 25.06.02(4주차) 오전수업 "
   ]
  },
  {
   "cell_type": "markdown",
   "id": "464557b1-0150-4bf0-acb0-1802ba540928",
   "metadata": {},
   "source": [
    "# 튜플\n",
    "리스트랑 비슷, 값 변경이 안되는 특징을 갖는다."
   ]
  },
  {
   "cell_type": "code",
   "execution_count": 3,
   "id": "18c684a6-f153-474a-a86c-8a2c1bb2559c",
   "metadata": {},
   "outputs": [
    {
     "data": {
      "text/plain": [
       "((), tuple)"
      ]
     },
     "execution_count": 3,
     "metadata": {},
     "output_type": "execute_result"
    }
   ],
   "source": [
    "a = tuple()\n",
    "a, type(a)"
   ]
  },
  {
   "cell_type": "code",
   "execution_count": 5,
   "id": "87653eac-38d3-48b0-97df-39bc6f9c4d9d",
   "metadata": {},
   "outputs": [
    {
     "data": {
      "text/plain": [
       "(1, int)"
      ]
     },
     "execution_count": 5,
     "metadata": {},
     "output_type": "execute_result"
    }
   ],
   "source": [
    "b = (1)\n",
    "b, type(b)"
   ]
  },
  {
   "cell_type": "code",
   "execution_count": 6,
   "id": "3fcbf29f-6db3-42cc-b298-bb078899a029",
   "metadata": {},
   "outputs": [
    {
     "data": {
      "text/plain": [
       "((1,), tuple)"
      ]
     },
     "execution_count": 6,
     "metadata": {},
     "output_type": "execute_result"
    }
   ],
   "source": [
    "bb = (1, )\n",
    "bb, type(bb)"
   ]
  },
  {
   "cell_type": "code",
   "execution_count": 8,
   "id": "04aec14d-e5d6-4b29-b1ae-dd6bd968d291",
   "metadata": {},
   "outputs": [
    {
     "name": "stdout",
     "output_type": "stream",
     "text": [
      "<class 'tuple'> (1, 2, (3, 4), '5')\n"
     ]
    }
   ],
   "source": [
    "c= (1,2,(3,4),'5')\n",
    "print(type(c),c)"
   ]
  },
  {
   "cell_type": "code",
   "execution_count": 9,
   "id": "04f865d5-9a0c-4067-bd6d-b9523c7743e7",
   "metadata": {},
   "outputs": [
    {
     "data": {
      "text/plain": [
       "1"
      ]
     },
     "execution_count": 9,
     "metadata": {},
     "output_type": "execute_result"
    }
   ],
   "source": [
    "c[0]"
   ]
  },
  {
   "cell_type": "code",
   "execution_count": 12,
   "id": "7c21034e-086c-49e0-aa45-085debe1b302",
   "metadata": {},
   "outputs": [
    {
     "ename": "TypeError",
     "evalue": "'tuple' object does not support item assignment",
     "output_type": "error",
     "traceback": [
      "\u001b[31m---------------------------------------------------------------------------\u001b[39m",
      "\u001b[31mTypeError\u001b[39m                                 Traceback (most recent call last)",
      "\u001b[36mCell\u001b[39m\u001b[36m \u001b[39m\u001b[32mIn[12]\u001b[39m\u001b[32m, line 1\u001b[39m\n\u001b[32m----> \u001b[39m\u001b[32m1\u001b[39m c[\u001b[32m0\u001b[39m] = \u001b[32m3\u001b[39m\n",
      "\u001b[31mTypeError\u001b[39m: 'tuple' object does not support item assignment"
     ]
    }
   ],
   "source": [
    "c[0] = 3\n",
    "# 튜플은 값을 변경하지는 못한다. typeError 발생하게됨."
   ]
  },
  {
   "cell_type": "code",
   "execution_count": 13,
   "id": "ef6795b1-df87-42be-b426-fa1f4009c3d4",
   "metadata": {},
   "outputs": [
    {
     "data": {
      "text/plain": [
       "(('사과', '복숭아', '딸기'), tuple)"
      ]
     },
     "execution_count": 13,
     "metadata": {},
     "output_type": "execute_result"
    }
   ],
   "source": [
    "# 튜플의 () 괄호는 생략해도 된다.\n",
    "# 쉼표로 요소는 하나 이상이어야 한다.\n",
    "fruits = '사과', '복숭아', '딸기'\n",
    "fruits, type(fruits)"
   ]
  },
  {
   "cell_type": "code",
   "execution_count": 14,
   "id": "d253e098-17ed-4a46-ab95-7455fc72eda4",
   "metadata": {},
   "outputs": [
    {
     "data": {
      "text/plain": [
       "(1, 2, 3)"
      ]
     },
     "execution_count": 14,
     "metadata": {},
     "output_type": "execute_result"
    }
   ],
   "source": [
    "# 패킹, 언패킹\n",
    "\n",
    "nums = [1,2,3] \n",
    "a,b,c = nums #unpacking\n",
    "a,b,c"
   ]
  },
  {
   "cell_type": "code",
   "execution_count": 16,
   "id": "17dfd413-bebc-4ae4-9ff9-3714bf2a2ab0",
   "metadata": {},
   "outputs": [
    {
     "data": {
      "text/plain": [
       "1"
      ]
     },
     "execution_count": 16,
     "metadata": {},
     "output_type": "execute_result"
    }
   ],
   "source": [
    "a"
   ]
  },
  {
   "cell_type": "code",
   "execution_count": 23,
   "id": "87481d87-2fa6-48c7-b4ad-07d30fb4b0f7",
   "metadata": {},
   "outputs": [
    {
     "name": "stdout",
     "output_type": "stream",
     "text": [
      "h\n",
      "i\n",
      "h i\n"
     ]
    }
   ],
   "source": [
    "# s = 'hello'\n",
    "s = 'hi'\n",
    "a,b = s \n",
    "print(a)\n",
    "print(b)\n",
    "print(a,b)\n",
    "# 문자열 언패킹 문제 \n",
    "# hello는 문자 5개인데, 변수는 2개 그래서 할당할 수 없어서 에러 발생하는 것"
   ]
  },
  {
   "cell_type": "code",
   "execution_count": 25,
   "id": "c8e70dd5-eb18-406f-81dc-844cc9ec7454",
   "metadata": {},
   "outputs": [
    {
     "ename": "ValueError",
     "evalue": "too many values to unpack (expected 2)",
     "output_type": "error",
     "traceback": [
      "\u001b[31m---------------------------------------------------------------------------\u001b[39m",
      "\u001b[31mValueError\u001b[39m                                Traceback (most recent call last)",
      "\u001b[36mCell\u001b[39m\u001b[36m \u001b[39m\u001b[32mIn[25]\u001b[39m\u001b[32m, line 3\u001b[39m\n\u001b[32m      1\u001b[39m s = \u001b[33m'\u001b[39m\u001b[33mhello\u001b[39m\u001b[33m'\u001b[39m\n\u001b[32m      2\u001b[39m \u001b[38;5;66;03m# s = 'hi'\u001b[39;00m\n\u001b[32m----> \u001b[39m\u001b[32m3\u001b[39m a,b = s \n\u001b[32m      4\u001b[39m \u001b[38;5;28mprint\u001b[39m(a)\n\u001b[32m      5\u001b[39m \u001b[38;5;28mprint\u001b[39m(b)\n",
      "\u001b[31mValueError\u001b[39m: too many values to unpack (expected 2)"
     ]
    }
   ],
   "source": [
    "s = 'hello'\n",
    "# s = 'hi'\n",
    "a,b = s \n",
    "print(a)\n",
    "print(b)\n",
    "print(a,b)"
   ]
  },
  {
   "cell_type": "code",
   "execution_count": 35,
   "id": "4d18e221-b910-4f33-aea6-76b2cd03c76c",
   "metadata": {},
   "outputs": [
    {
     "name": "stdout",
     "output_type": "stream",
     "text": [
      "패킹출력 ('홍길동', 20, '1학년')\n",
      "언패킹출력 이름은 홍길동 이고요, 나이는 20, 1학년학년입니다.\n"
     ]
    }
   ],
   "source": [
    "student = ('홍길동', 20, '1학년') # 패킹\n",
    "print(\"패킹출력\",student)\n",
    "\n",
    "name, age, grade = student # 언패킹\n",
    "print(\"언패킹출력\",f'이름은 {name} 이고요, 나이는 {age}, {grade}학년입니다.')"
   ]
  },
  {
   "cell_type": "code",
   "execution_count": 37,
   "id": "0d906cb9-a192-4a7c-a68d-84d78c1ea239",
   "metadata": {},
   "outputs": [
    {
     "name": "stdout",
     "output_type": "stream",
     "text": [
      "x =  2\n",
      "y =  1\n"
     ]
    }
   ],
   "source": [
    "# 미션\n",
    "x = 1\n",
    "y = 2\n",
    "\n",
    "# x=2, y=1 이 나오게 해보기\n",
    "x,y = y,x # 변수 스왑 방식\n",
    "\n",
    "print(\"x = \", x)\n",
    "print(\"y = \", y)\n",
    "\n"
   ]
  },
  {
   "cell_type": "code",
   "execution_count": 40,
   "id": "703143ff-94a2-428c-a04a-f99bcaf8174a",
   "metadata": {},
   "outputs": [
    {
     "name": "stdout",
     "output_type": "stream",
     "text": [
      "x =  2\n",
      "y =  1\n"
     ]
    }
   ],
   "source": [
    "# 미션\n",
    "# 임시 변수 사용((전통적인방식)\n",
    "\n",
    "x = 1\n",
    "y = 2\n",
    "\n",
    "# x=2, y=1 이 나오게 해보기\n",
    "temp = x \n",
    "x = y\n",
    "y = temp\n",
    "\n",
    "print(\"x = \", x)\n",
    "print(\"y = \", y)"
   ]
  },
  {
   "cell_type": "code",
   "execution_count": 51,
   "id": "e87fa0fd-bad5-4588-8480-345fed97a959",
   "metadata": {},
   "outputs": [
    {
     "name": "stdout",
     "output_type": "stream",
     "text": [
      "<class 'function'> , <function func_a at 0x000001CB502809A0>\n"
     ]
    },
    {
     "data": {
      "text/plain": [
       "(3, 4, 5)"
      ]
     },
     "execution_count": 51,
     "metadata": {},
     "output_type": "execute_result"
    }
   ],
   "source": [
    "# 함수의 정의 def\n",
    "def func_a (a,b,c) :\n",
    "    return c, b, a \n",
    "print(type(func_a),\",\",func_a)\n",
    "# 함수의 호출\n",
    "result = func_a (5,4,3)\n",
    "# 함수의 반환값\n",
    "result"
   ]
  },
  {
   "cell_type": "code",
   "execution_count": 52,
   "id": "5cd55b23-3fc8-40bb-99f7-5f2d600f744c",
   "metadata": {},
   "outputs": [
    {
     "data": {
      "text/plain": [
       "('가연', '지훈', '지희')"
      ]
     },
     "execution_count": 52,
     "metadata": {},
     "output_type": "execute_result"
    }
   ],
   "source": [
    "# tutple에 값을 추가하려면?\n",
    "# 형변환 하면됨 > tuple 에서 list 로 \n",
    "\n",
    "# def append_to_tuple(t, value):\n",
    "#    return tuple(list(t) + [value])\n",
    "\n",
    "name_tuple = ('가연', '지훈', '지희')\n",
    "name_tuple"
   ]
  },
  {
   "cell_type": "code",
   "execution_count": 53,
   "id": "57a34cb3-73c7-4c02-a44b-a4a92d7418b5",
   "metadata": {},
   "outputs": [
    {
     "data": {
      "text/plain": [
       "['가연', '지훈', '지희']"
      ]
     },
     "execution_count": 53,
     "metadata": {},
     "output_type": "execute_result"
    }
   ],
   "source": [
    "name_list = list(name_tuple)\n",
    "name_list"
   ]
  },
  {
   "cell_type": "code",
   "execution_count": 54,
   "id": "8fa8f9ac-75c5-4bc3-acf5-e6106d82f245",
   "metadata": {},
   "outputs": [
    {
     "data": {
      "text/plain": [
       "['가연', '지훈', '지희', '유석']"
      ]
     },
     "execution_count": 54,
     "metadata": {},
     "output_type": "execute_result"
    }
   ],
   "source": [
    "name_list.append('유석')\n",
    "name_list"
   ]
  },
  {
   "cell_type": "code",
   "execution_count": 55,
   "id": "66be5c91-a7f2-4a5e-9c68-1f005e0ec568",
   "metadata": {},
   "outputs": [
    {
     "data": {
      "text/plain": [
       "('가연', '지훈', '지희', '유석')"
      ]
     },
     "execution_count": 55,
     "metadata": {},
     "output_type": "execute_result"
    }
   ],
   "source": [
    "name_tuple=tuple(name_list)\n",
    "name_tuple"
   ]
  },
  {
   "cell_type": "code",
   "execution_count": 56,
   "id": "aa45579b-9510-40b0-9f9f-1e238c8fdce2",
   "metadata": {},
   "outputs": [],
   "source": [
    "# def append_to_tuple(t, value):\n",
    "#    return tuple(list(t) + [value])"
   ]
  },
  {
   "cell_type": "code",
   "execution_count": 59,
   "id": "f13c8c44-d53b-449b-929d-a11b57bb69af",
   "metadata": {},
   "outputs": [
    {
     "name": "stdout",
     "output_type": "stream",
     "text": [
      "('가연', '지훈', '지희', '유석')\n"
     ]
    }
   ],
   "source": [
    "# 한줄, 연산자 활용하면 더욱 간편하게 추가 가능하다.\n",
    "name_tuple = ('가연', '지훈', '지희')\n",
    "name_tuple = tuple(list(name_tuple) + ['유석'])\n",
    "print(name_tuple)  # ('가연', '지훈', '지희', '유석') 출력가능"
   ]
  },
  {
   "cell_type": "markdown",
   "id": "fb408471-81ec-47a3-9139-c66bcbdd6f41",
   "metadata": {},
   "source": [
    "# 집합(Set)\n",
    "- set(), {}\n",
    "- 중복이 안된다. 순서도 없다. 키도 없다. (중복된 값은 자동으로 제거되는 특징\n",
    "- 속도가 빠르다. 해싱을 하는 자료형 (딕셔너리, 집합)"
   ]
  },
  {
   "cell_type": "code",
   "execution_count": 60,
   "id": "76d1fced-3dca-40ff-8d91-ab6b7b4fab49",
   "metadata": {},
   "outputs": [
    {
     "data": {
      "text/plain": [
       "{1, 2, 3}"
      ]
     },
     "execution_count": 60,
     "metadata": {},
     "output_type": "execute_result"
    }
   ],
   "source": [
    "s = set([1,2,3,])\n",
    "s"
   ]
  },
  {
   "cell_type": "code",
   "execution_count": 62,
   "id": "ac7f70ad-c498-48b0-96d8-932773a954d9",
   "metadata": {},
   "outputs": [
    {
     "data": {
      "text/plain": [
       "{1, 2, 3}"
      ]
     },
     "execution_count": 62,
     "metadata": {},
     "output_type": "execute_result"
    }
   ],
   "source": [
    "s1 = {1,2,3}\n",
    "s1"
   ]
  },
  {
   "cell_type": "code",
   "execution_count": 63,
   "id": "82194aa6-2fa8-4e95-9847-c0defa54f61d",
   "metadata": {},
   "outputs": [
    {
     "data": {
      "text/plain": [
       "{1, 2, 3}"
      ]
     },
     "execution_count": 63,
     "metadata": {},
     "output_type": "execute_result"
    }
   ],
   "source": [
    "s2 = {1,2,3,1}\n",
    "s2"
   ]
  },
  {
   "cell_type": "code",
   "execution_count": 64,
   "id": "cde9d7d0-2f0d-40e1-82e3-66f3282ba9d0",
   "metadata": {},
   "outputs": [
    {
     "data": {
      "text/plain": [
       "[1, 2, 3, 1, 2, 3]"
      ]
     },
     "execution_count": 64,
     "metadata": {},
     "output_type": "execute_result"
    }
   ],
   "source": [
    "l2 = [1,2,3]\n",
    "l2 = l2 * 2\n",
    "l2"
   ]
  },
  {
   "cell_type": "code",
   "execution_count": 65,
   "id": "f41c2d52-09ac-4fe1-889b-97cac6b4cc20",
   "metadata": {},
   "outputs": [
    {
     "data": {
      "text/plain": [
       "{1, 2, 3}"
      ]
     },
     "execution_count": 65,
     "metadata": {},
     "output_type": "execute_result"
    }
   ],
   "source": [
    "# set 으로 중복제거 \n",
    "s3 = set(l2)\n",
    "s3"
   ]
  },
  {
   "cell_type": "code",
   "execution_count": 67,
   "id": "48dfd3dc-4154-4be1-bffd-d7c2d484df3e",
   "metadata": {},
   "outputs": [
    {
     "data": {
      "text/plain": [
       "[1, 2, 3, 1, 2, 3, [4, 5, 6], 4, 5, 6]"
      ]
     },
     "execution_count": 67,
     "metadata": {},
     "output_type": "execute_result"
    }
   ],
   "source": [
    "l3 = l2 +[4,5,6]\n",
    "l3"
   ]
  },
  {
   "cell_type": "code",
   "execution_count": 68,
   "id": "cfcf13b4-d4e4-4d7b-a993-6842314ecafd",
   "metadata": {},
   "outputs": [
    {
     "ename": "SyntaxError",
     "evalue": "invalid syntax (229937232.py, line 1)",
     "output_type": "error",
     "traceback": [
      "  \u001b[36mCell\u001b[39m\u001b[36m \u001b[39m\u001b[32mIn[68]\u001b[39m\u001b[32m, line 1\u001b[39m\n\u001b[31m    \u001b[39m\u001b[31ml2,type(!2)\u001b[39m\n            ^\n\u001b[31mSyntaxError\u001b[39m\u001b[31m:\u001b[39m invalid syntax\n"
     ]
    }
   ],
   "source": []
  },
  {
   "cell_type": "code",
   "execution_count": 69,
   "id": "926d8193-a2b5-4616-8298-b33e5ee776f0",
   "metadata": {},
   "outputs": [
    {
     "data": {
      "text/plain": [
       "2575585714152325033"
      ]
     },
     "execution_count": 69,
     "metadata": {},
     "output_type": "execute_result"
    }
   ],
   "source": [
    "hash('hi') #해시코드"
   ]
  },
  {
   "cell_type": "code",
   "execution_count": 70,
   "id": "2f1e601a-d494-461a-b1a0-3c99520deaca",
   "metadata": {},
   "outputs": [
    {
     "data": {
      "text/plain": [
       "123"
      ]
     },
     "execution_count": 70,
     "metadata": {},
     "output_type": "execute_result"
    }
   ],
   "source": [
    "hash(123)"
   ]
  },
  {
   "cell_type": "code",
   "execution_count": 71,
   "id": "b967d49d-59fa-4bd9-829a-be8d8d05681e",
   "metadata": {},
   "outputs": [
    {
     "ename": "TypeError",
     "evalue": "unhashable type: 'list'",
     "output_type": "error",
     "traceback": [
      "\u001b[31m---------------------------------------------------------------------------\u001b[39m",
      "\u001b[31mTypeError\u001b[39m                                 Traceback (most recent call last)",
      "\u001b[36mCell\u001b[39m\u001b[36m \u001b[39m\u001b[32mIn[71]\u001b[39m\u001b[32m, line 2\u001b[39m\n\u001b[32m      1\u001b[39m l1 = [\u001b[32m1\u001b[39m,\u001b[32m2\u001b[39m,\u001b[32m3\u001b[39m]\n\u001b[32m----> \u001b[39m\u001b[32m2\u001b[39m \u001b[38;5;28mhash\u001b[39m(l1)\n",
      "\u001b[31mTypeError\u001b[39m: unhashable type: 'list'"
     ]
    }
   ],
   "source": [
    "l1 = [1,2,3]\n",
    "hash(l1)"
   ]
  },
  {
   "cell_type": "code",
   "execution_count": 72,
   "id": "4d364755-c27b-49e0-8e53-cd095d961484",
   "metadata": {},
   "outputs": [
    {
     "data": {
      "text/plain": [
       "529344067295497451"
      ]
     },
     "execution_count": 72,
     "metadata": {},
     "output_type": "execute_result"
    }
   ],
   "source": [
    "hash((1,2,3))"
   ]
  },
  {
   "cell_type": "markdown",
   "id": "99d9b23a-db9d-4b16-8173-ce0d31a8485f",
   "metadata": {},
   "source": [
    "# set 집합 연산\n",
    "\n",
    "- 교집합 &, intersection()\n",
    "- 합집합 | , union()\n",
    "- 차집합 -, difference()"
   ]
  },
  {
   "cell_type": "code",
   "execution_count": 74,
   "id": "21ef5ff9-dbe6-4df5-98fe-38e21d05c89e",
   "metadata": {},
   "outputs": [],
   "source": [
    "s = set([1,2,3,4])\n",
    "x = {2,3,4}\n",
    "y = {3,4,5}"
   ]
  },
  {
   "cell_type": "code",
   "execution_count": 81,
   "id": "e1bb4e62-3345-43fe-a5f0-7a7452da80fb",
   "metadata": {},
   "outputs": [
    {
     "name": "stdout",
     "output_type": "stream",
     "text": [
      "{3, 4}\n",
      "{3, 4}\n"
     ]
    }
   ],
   "source": [
    "# 교집합 (intersection() )\n",
    "print(x & y)\n",
    "print(x.intersection(y))"
   ]
  },
  {
   "cell_type": "code",
   "execution_count": 82,
   "id": "14761a38-4846-45ae-bd6f-00fa9bdaf007",
   "metadata": {},
   "outputs": [
    {
     "name": "stdout",
     "output_type": "stream",
     "text": [
      "{2, 3, 4, 5}\n",
      "{2, 3, 4, 5}\n"
     ]
    }
   ],
   "source": [
    "# 합집합 union()\n",
    "print(x | y)\n",
    "print(x.union(y))"
   ]
  },
  {
   "cell_type": "code",
   "execution_count": 86,
   "id": "75cdd41f-56be-4873-a630-dc6485bed3e8",
   "metadata": {},
   "outputs": [
    {
     "name": "stdout",
     "output_type": "stream",
     "text": [
      "{2}\n",
      "{2}\n"
     ]
    }
   ],
   "source": [
    "# 차집합 difference()\n",
    "print(x - y)\n",
    "print(x.difference(y))"
   ]
  },
  {
   "cell_type": "code",
   "execution_count": null,
   "id": "bf0a8b81-723c-4087-b23f-37854fe62753",
   "metadata": {},
   "outputs": [],
   "source": []
  },
  {
   "cell_type": "code",
   "execution_count": null,
   "id": "7f8c24ae-ae06-4050-9135-c1a80aec975f",
   "metadata": {},
   "outputs": [],
   "source": []
  },
  {
   "cell_type": "code",
   "execution_count": null,
   "id": "90c6ac5b-e842-4112-9eeb-afb63c0b94c7",
   "metadata": {},
   "outputs": [],
   "source": []
  },
  {
   "cell_type": "code",
   "execution_count": null,
   "id": "18df2d73-bc29-4e3f-b6c7-6a3366e39929",
   "metadata": {},
   "outputs": [],
   "source": []
  },
  {
   "cell_type": "code",
   "execution_count": null,
   "id": "edcc2816-f574-4962-a364-520984181785",
   "metadata": {},
   "outputs": [],
   "source": []
  },
  {
   "cell_type": "code",
   "execution_count": null,
   "id": "2abff3ff-082e-4537-8374-e863cff56bcb",
   "metadata": {},
   "outputs": [],
   "source": []
  },
  {
   "cell_type": "code",
   "execution_count": null,
   "id": "731e78dd-6a95-4409-ab7e-13ab7b134115",
   "metadata": {},
   "outputs": [],
   "source": []
  },
  {
   "cell_type": "code",
   "execution_count": null,
   "id": "5b8a67c4-679c-4517-91a3-55695e5d551d",
   "metadata": {},
   "outputs": [],
   "source": []
  }
 ],
 "metadata": {
  "kernelspec": {
   "display_name": "Python 3 (ipykernel)",
   "language": "python",
   "name": "python3"
  },
  "language_info": {
   "codemirror_mode": {
    "name": "ipython",
    "version": 3
   },
   "file_extension": ".py",
   "mimetype": "text/x-python",
   "name": "python",
   "nbconvert_exporter": "python",
   "pygments_lexer": "ipython3",
   "version": "3.12.1"
  }
 },
 "nbformat": 4,
 "nbformat_minor": 5
}
