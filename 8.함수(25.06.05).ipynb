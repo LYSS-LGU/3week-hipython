{
 "cells": [
  {
   "cell_type": "markdown",
   "id": "591533c9-0695-41b1-b8cb-10ef5af8c677",
   "metadata": {},
   "source": [
    "# 함수\n",
    "### 25.06.05 오전수업\n",
    "\n",
    "- 인자 = 매개변수, 입력, 파라미터\n",
    "- 변환값 = 리턴값, 결과값\n",
    "- 함수이름\n",
    "\n",
    "- 함수 정의 > 호출"
   ]
  },
  {
   "cell_type": "code",
   "execution_count": 1,
   "id": "422f8690-ff00-4db9-87b2-b9e58cdd191d",
   "metadata": {},
   "outputs": [],
   "source": [
    "#definition\n",
    "def my_func():\n",
    "    print('my first function')\n",
    "    print('hello')\n",
    "    print('good job')"
   ]
  },
  {
   "cell_type": "code",
   "execution_count": 2,
   "id": "cfd81f6f-db98-4d18-b9b4-a82352cbd637",
   "metadata": {},
   "outputs": [
    {
     "name": "stdout",
     "output_type": "stream",
     "text": [
      "my first function\n",
      "hello\n",
      "good job\n"
     ]
    }
   ],
   "source": [
    "#call\n",
    "my_func()"
   ]
  },
  {
   "cell_type": "code",
   "execution_count": 3,
   "id": "cc336a5e-d436-46e2-95e1-37062b87ce2c",
   "metadata": {},
   "outputs": [
    {
     "data": {
      "text/plain": [
       "function"
      ]
     },
     "execution_count": 3,
     "metadata": {},
     "output_type": "execute_result"
    }
   ],
   "source": [
    "type(my_func)"
   ]
  },
  {
   "cell_type": "code",
   "execution_count": 4,
   "id": "ecfbb20e-4f89-4e4c-8661-d6d75bf9f0ab",
   "metadata": {},
   "outputs": [
    {
     "name": "stdout",
     "output_type": "stream",
     "text": [
      "my first function\n",
      "hello\n",
      "good job\n"
     ]
    }
   ],
   "source": [
    "#return 이 없는 경우\n",
    "my_func_var1 = my_func()"
   ]
  },
  {
   "cell_type": "raw",
   "id": "63004e2f-dbd3-4a16-a39b-6710a04862df",
   "metadata": {},
   "source": [
    "print(my_func_var1)"
   ]
  },
  {
   "cell_type": "code",
   "execution_count": null,
   "id": "ee41c4ee-cb18-4971-9420-fc2472e7b0ee",
   "metadata": {},
   "outputs": [],
   "source": [
    "#리턴이 있는 경우\n",
    "def my_func1():\n",
    "    print('my first function')\n",
    "    print('hello')\n",
    "    print('good job')\n",
    "    return 'hello'"
   ]
  },
  {
   "cell_type": "code",
   "execution_count": null,
   "id": "3e9c6cec-b4bb-4943-8a01-88001ef7882f",
   "metadata": {},
   "outputs": [],
   "source": [
    "my_func1()"
   ]
  },
  {
   "cell_type": "code",
   "execution_count": null,
   "id": "7d1836cb-cf4d-487a-b86e-47cd6e73bc1c",
   "metadata": {},
   "outputs": [],
   "source": [
    "my_func_var2 = my_func1()\n"
   ]
  },
  {
   "cell_type": "code",
   "execution_count": null,
   "id": "fae04eb0-dd28-407d-9c45-6da33d696761",
   "metadata": {},
   "outputs": [],
   "source": [
    "my_func_var2"
   ]
  },
  {
   "cell_type": "markdown",
   "id": "7f585b85-b517-4125-9fb1-11ea78555117",
   "metadata": {},
   "source": [
    "# 입력값이 있는 함수"
   ]
  },
  {
   "cell_type": "code",
   "execution_count": null,
   "id": "ba98f858-3560-4856-bc20-bfed89340215",
   "metadata": {},
   "outputs": [],
   "source": [
    "def my_calc(x):\n",
    "    print(f'{x}를 계산합니다.')"
   ]
  },
  {
   "cell_type": "code",
   "execution_count": null,
   "id": "f1f800e5-7579-47f0-be91-328dd5a3c730",
   "metadata": {},
   "outputs": [],
   "source": [
    "my_calc(10)"
   ]
  },
  {
   "cell_type": "code",
   "execution_count": null,
   "id": "870de4a1-13be-4cc0-b8e2-ab568135279c",
   "metadata": {},
   "outputs": [],
   "source": [
    "def my_calc1(x):\n",
    "    print(f'{x}를 계산합니다.')\n",
    "    z = x*20\n",
    "    return z"
   ]
  },
  {
   "cell_type": "code",
   "execution_count": null,
   "id": "0c081c6b-3413-41c9-b47e-319a8107773e",
   "metadata": {},
   "outputs": [],
   "source": [
    "result = my_calc1(10)\n",
    "print(result)"
   ]
  },
  {
   "cell_type": "code",
   "execution_count": null,
   "id": "7beb5841-7477-498a-91e3-6b09ecab36cb",
   "metadata": {},
   "outputs": [],
   "source": [
    "def my_calc2(x,y):\n",
    "    print(f'{x}와 {y}를 계산합니다.')\n",
    "    add_result = x+y\n",
    "    mul_result = x*y\n",
    "    return add_result, mul_result"
   ]
  },
  {
   "cell_type": "code",
   "execution_count": null,
   "id": "7c058b33-1cbf-4504-b712-b868b77112fd",
   "metadata": {},
   "outputs": [],
   "source": [
    "my_calc2(10,20)"
   ]
  },
  {
   "cell_type": "code",
   "execution_count": null,
   "id": "ae3f5984-e1de-4538-9223-d7acc1fc3265",
   "metadata": {},
   "outputs": [],
   "source": [
    "func_result = my_calc2(10,20)\n",
    "func_result[0] = 100"
   ]
  },
  {
   "cell_type": "code",
   "execution_count": null,
   "id": "f435c699-a9d3-4532-bb92-3861e0061984",
   "metadata": {},
   "outputs": [],
   "source": [
    "func_result1, f2 = my_calc2(10,20) #unpacking\n",
    "func_result1"
   ]
  },
  {
   "cell_type": "code",
   "execution_count": null,
   "id": "e91ec7a6-4ca8-473a-a3d3-b1bef8182d0b",
   "metadata": {},
   "outputs": [],
   "source": [
    "f2"
   ]
  },
  {
   "cell_type": "markdown",
   "id": "cbf8b25e-1a72-496e-bdf5-7e9b66dd3d4a",
   "metadata": {},
   "source": [
    "## 입력값의 타입: 수치형 vs. (리스트) 객체형\n",
    "\n",
    "- 수치형 : 값에 의한 전달 call by value\n",
    "- 객체형 : 값(참조)의 전달 call by reference > 같은 객체를 다룬다"
   ]
  },
  {
   "cell_type": "code",
   "execution_count": null,
   "id": "83601fa1-37bf-4c5f-993f-e2a75483d8f0",
   "metadata": {},
   "outputs": [],
   "source": [
    "#리스트 매개변수의 실행\n",
    "def my_calc3(a, lst1):\n",
    "    a += 1\n",
    "    lst1.append(a)\n",
    "    return a"
   ]
  },
  {
   "cell_type": "code",
   "execution_count": null,
   "id": "7c8fba71-bc19-4c99-9d27-d9096188a8cc",
   "metadata": {},
   "outputs": [],
   "source": [
    "num = 10\n",
    "lst_num =  [1,2,'12'] \n",
    "print(f'before : {num}, {lst_num}')\n",
    "\n",
    "my_calc3(num,lst_num)\n",
    "print(f'after : {num}, {lst_num}')"
   ]
  },
  {
   "cell_type": "code",
   "execution_count": null,
   "id": "ca60c8b1-e327-4b1a-958e-8486a6ec6807",
   "metadata": {},
   "outputs": [],
   "source": [
    "my_calc3(lst_num, num)"
   ]
  },
  {
   "cell_type": "code",
   "execution_count": null,
   "id": "158c686d-772d-460f-9b0f-2bc7a24f66dc",
   "metadata": {},
   "outputs": [],
   "source": [
    "my_calc3(a=num, lst1=lst_num)"
   ]
  },
  {
   "cell_type": "code",
   "execution_count": null,
   "id": "79cfe0b0-cf3e-4b8f-bdeb-aea685ebd5c2",
   "metadata": {},
   "outputs": [],
   "source": [
    "my_calc3(lst1=lst_num, a=num, )"
   ]
  },
  {
   "cell_type": "code",
   "execution_count": null,
   "id": "b9488ef5-0772-410b-8171-8f372c4abf60",
   "metadata": {},
   "outputs": [],
   "source": [
    "#기본값, 기본인자\n",
    "def greeting(name, greeting='hello'):\n",
    "    print(f'{greeting}, {name}님!')\n",
    "\n",
    "greeting('minsu', 'hello, ')\n"
   ]
  },
  {
   "cell_type": "code",
   "execution_count": null,
   "id": "983a9aa1-8f2b-4ec2-a7f7-cffdab5a7a8f",
   "metadata": {},
   "outputs": [],
   "source": [
    "greeting('alice', 'hi')"
   ]
  },
  {
   "cell_type": "code",
   "execution_count": null,
   "id": "90d90f0e-2f79-4f5f-91c8-5b03c6dd376f",
   "metadata": {},
   "outputs": [],
   "source": [
    "greeting('bob')"
   ]
  },
  {
   "cell_type": "code",
   "execution_count": null,
   "id": "77e005f4-9516-40fc-8e62-203c2d210289",
   "metadata": {},
   "outputs": [],
   "source": [
    "#가변인자\n",
    "def sum_all( *args ):\n",
    "    return sum(args)\n"
   ]
  },
  {
   "cell_type": "code",
   "execution_count": null,
   "id": "403fb981-d930-409e-8250-b7036e421575",
   "metadata": {},
   "outputs": [],
   "source": [
    "sum_all(1,2,3,4,5)"
   ]
  },
  {
   "cell_type": "code",
   "execution_count": 14,
   "id": "d4bb271f-9ad4-41e6-b352-4d2944cefb8a",
   "metadata": {},
   "outputs": [],
   "source": [
    "#def sum_all( arg1, *args , arg2):\n",
    "def sum_all( arg1, arg2, *args):\n",
    "    print(args)\n",
    "    result = arg1+arg2+sum(args)\n",
    "    return result"
   ]
  },
  {
   "cell_type": "code",
   "execution_count": null,
   "id": "50106534-d755-4d70-9b04-3ebb054224d5",
   "metadata": {},
   "outputs": [],
   "source": [
    "sum_all(1,2,3,4,5)"
   ]
  },
  {
   "cell_type": "markdown",
   "id": "fed5f058-cadb-4663-88f1-2085466d658e",
   "metadata": {},
   "source": [
    "# 매개변수의 순서가 중요"
   ]
  },
  {
   "cell_type": "code",
   "execution_count": null,
   "id": "c16f83ca-b92d-4c10-9653-ec90d1cc3cb6",
   "metadata": {},
   "outputs": [],
   "source": [
    "## **kargs\n",
    "def print_info(**kwargs):\n",
    "    for k,v in kwargs.items():\n",
    "        print(f'{k}, {v}')"
   ]
  },
  {
   "cell_type": "code",
   "execution_count": null,
   "id": "2cd34725-0108-4bb0-8185-55abd294077e",
   "metadata": {},
   "outputs": [],
   "source": [
    "print_info( name='hong', age=20, city = 'seoul', nick_name='bob' )"
   ]
  },
  {
   "cell_type": "code",
   "execution_count": null,
   "id": "d7ccb7a9-3800-4ffa-b797-2a75e8d69155",
   "metadata": {},
   "outputs": [],
   "source": [
    "import datetime\n",
    "today = datetime.date(2025,6,5)\n",
    "#type(today)\n",
    "#dir(today)\n",
    "today.weekday()"
   ]
  },
  {
   "cell_type": "code",
   "execution_count": null,
   "id": "264fac6e-dee1-40de-bbe7-4ca4f24594b9",
   "metadata": {},
   "outputs": [],
   "source": [
    "# 요일 구하는 함수 정의\n",
    "- 입력 : year, month, day\n",
    "- 출력 : '월요일'\n",
    "- 함수명 : 요일찾기()"
   ]
  },
  {
   "cell_type": "code",
   "execution_count": null,
   "id": "2bdeadcc-1722-44fa-812c-eae04c59c2af",
   "metadata": {},
   "outputs": [],
   "source": [
    "year=2025\n",
    "month=6\n",
    "day=5"
   ]
  },
  {
   "cell_type": "code",
   "execution_count": 15,
   "id": "a1dfe87d-a168-4651-aca6-378df268c030",
   "metadata": {},
   "outputs": [
    {
     "name": "stdout",
     "output_type": "stream",
     "text": [
      "739251\n",
      "739402\n",
      "739407\n",
      "목요일\n"
     ]
    }
   ],
   "source": [
    "# 날짜 - 연,월,일  year=2025 month=06, day=05\n",
    "\n",
    "total_days = 0\n",
    "#년도일수 입력년도-1 * 365\n",
    "#윤년인지 체크\n",
    "#2월이 29일\n",
    "\n",
    "for i in range(1,year):\n",
    "    #윤년: 400으로 나누어 나머지가 0, 4로 나누어 나머지가 0\n",
    "    #평년: 100으로 나누어 나머지가 0\n",
    "\n",
    "    if i%400 == 0:\n",
    "        total_days += 366\n",
    "    elif i%100 == 0:\n",
    "        total_days += 365\n",
    "    elif i%4 == 0:\n",
    "        total_days += 366\n",
    "    else:\n",
    "        total_days += 365\n",
    "\n",
    "print(total_days)\n",
    "#월일수 입력한 월 -1 * 30\n",
    "#월별 일수\n",
    "month_days = [0,31,28,31,30,31,30,31,31,30,31,30,31]\n",
    "for m in range(1,month):\n",
    "    total_days += month_days[m]\n",
    "\n",
    "#올해가 윤년인지\n",
    "if month>=3 :\n",
    "    if year%400 == 0:\n",
    "        total_days += 1\n",
    "    elif year%100 == 0:\n",
    "        total_days += 0\n",
    "    elif year%4 == 0:\n",
    "        total_days += 1\n",
    "    else:\n",
    "        total_days += 0\n",
    "        \n",
    "print(total_days)\n",
    "\n",
    "#일수 입력한 일\n",
    "total_days += day\n",
    "\n",
    "print(total_days)\n",
    "\n",
    "#요일정하기\n",
    "remain_days = total_days % 7\n",
    "\n",
    "if remain_days == 1:\n",
    "    print('월요일')\n",
    "elif remain_days == 2:\n",
    "    print('화요일')\n",
    "elif remain_days == 3:\n",
    "    print('수요일')\n",
    "elif remain_days == 4:\n",
    "    print('목요일')\n",
    "elif remain_days == 5:\n",
    "    print('금요일')\n",
    "elif remain_days == 6:\n",
    "    print('토요일')\n",
    "else:\n",
    "    print('일요일')\n",
    "\n"
   ]
  },
  {
   "cell_type": "code",
   "execution_count": null,
   "id": "0035204b-452d-4fb8-b82d-d0821259abcf",
   "metadata": {},
   "outputs": [],
   "source": [
    "def 윤년체크(year):\n",
    "    #윤년: 400으로 나누어 나머지가 0, 4로 나누어 나머지가 0\n",
    "    #평년: 100으로 나누어 나머지가 0\n",
    "   \n",
    "    if year%400 == 0:\n",
    "        return True\n",
    "    elif year%100 == 0:\n",
    "        return False\n",
    "    elif year%4 == 0:\n",
    "        return True\n",
    "    else:\n",
    "        return False\n"
   ]
  },
  {
   "cell_type": "code",
   "execution_count": null,
   "id": "00a7cbf7-17b2-4f76-b5ea-f1a21d706d22",
   "metadata": {},
   "outputs": [],
   "source": [
    "윤년체크(2028)"
   ]
  },
  {
   "cell_type": "code",
   "execution_count": null,
   "id": "835555cf-7e89-47c4-a864-d95dae0631e5",
   "metadata": {},
   "outputs": [],
   "source": [
    "def 요일찾기(year, month, day):\n",
    "    week_day_name = '일요일'\n",
    "    total_days = 0\n",
    "    \n",
    "    for i in range(1,year):\n",
    "\n",
    "        if 윤년체크(i):\n",
    "            total_days += 366\n",
    "        else :\n",
    "            total_days += 365\n",
    "        \n",
    "    #print(total_days)\n",
    "    \n",
    "    #월일수 입력한 월 -1 * 30\n",
    "    #월별 일수\n",
    "    month_days = [0,31,28,31,30,31,30,31,31,30,31,30,31]\n",
    "    for m in range(1,month):\n",
    "        total_days += month_days[m]\n",
    "    \n",
    "    #올해가 윤년인지\n",
    "    if month>=3 :\n",
    "        if 윤년체크(year):\n",
    "            total_days += 1\n",
    "            \n",
    "    #print(total_days)\n",
    "    \n",
    "    #일수 입력한 일\n",
    "    total_days += day\n",
    "    \n",
    "    #print(total_days)\n",
    "    \n",
    "    #요일정하기\n",
    "    remain_days = total_days % 7\n",
    "    \n",
    "    day_names = ['일요일','월요일','화요일','수요일','목요일','금요일','토요일']\n",
    "    week_day_name = day_names[remain_days]\n",
    "    \n",
    "        \n",
    "    return week_day_name"
   ]
  },
  {
   "cell_type": "code",
   "execution_count": null,
   "id": "89938fe3-cc9a-41bc-a2da-e4aaf3100a37",
   "metadata": {},
   "outputs": [],
   "source": [
    "year=2025\n",
    "month=6\n",
    "day=4\n",
    "\n",
    "day_name = 요일찾기(year, month, day)\n",
    "print(f'입력하신 날짜는 {day_name}입니다.')"
   ]
  },
  {
   "cell_type": "code",
   "execution_count": 9,
   "id": "044f1e5b-b14d-4932-8162-98ab88eb6110",
   "metadata": {},
   "outputs": [
    {
     "name": "stdin",
     "output_type": "stream",
     "text": [
      "연도를 입력하세요 (예: 2025):  2025\n",
      "월을 입력하세요 (예: 6):  7\n",
      "일을 입력하세요 (예: 5):  8\n"
     ]
    },
    {
     "name": "stdout",
     "output_type": "stream",
     "text": [
      "2025-07-08는 화요일입니다.\n"
     ]
    }
   ],
   "source": [
    "year = int(input(\"연도를 입력하세요 (예: 2025): \"))\n",
    "month = int(input(\"월을 입력하세요 (예: 6): \"))\n",
    "day = int(input(\"일을 입력하세요 (예: 5): \"))\n",
    "\n",
    "\n",
    "def is_leap(y):\n",
    "    return y % 4 == 0 and (y % 100 != 0 or y % 400 == 0)\n",
    "\n",
    "total_days = 0\n",
    "\n",
    "# 1. 연도 일수 계산\n",
    "for i in range(1, year):\n",
    "    total_days += 366 if is_leap(i) else 365\n",
    "\n",
    "# 2. 월 일수 계산\n",
    "month_days = [0, 31, 28, 31, 30, 31, 30, 31, 31, 30, 31, 30, 31]\n",
    "if is_leap(year):\n",
    "    month_days[2] = 29\n",
    "\n",
    "for m in range(1, month):\n",
    "    total_days += month_days[m]\n",
    "\n",
    "# 3. 일수 추가\n",
    "total_days += day\n",
    "\n",
    "# 4. 요일 계산\n",
    "weekdays = ['일요일', '월요일', '화요일', '수요일', '목요일', '금요일', '토요일']\n",
    "remain_days = total_days % 7\n",
    "print(f\"{year}-{month:02d}-{day:02d}는 {weekdays[remain_days]}입니다.\")\n"
   ]
  },
  {
   "cell_type": "markdown",
   "id": "d64be6f9-6313-44b5-b0dc-26b03940e20d",
   "metadata": {},
   "source": [
    "# 오후수업 (25.06.05)"
   ]
  },
  {
   "cell_type": "code",
   "execution_count": 12,
   "id": "5607f225-c4fb-4677-9679-a950cdfabf0b",
   "metadata": {},
   "outputs": [],
   "source": [
    "def 요일찾기(year,month,day):\n",
    "    week_day_name =\"월요일\"\n",
    "\n",
    "    return week_day_name"
   ]
  },
  {
   "cell_type": "code",
   "execution_count": 13,
   "id": "7e366768-899e-468e-9788-a91e0cc4e22d",
   "metadata": {},
   "outputs": [
    {
     "name": "stdout",
     "output_type": "stream",
     "text": [
      "입력하신 날짜는 월요일입니다.\n"
     ]
    }
   ],
   "source": [
    "year = 2025\n",
    "month = 6\n",
    "day = 5\n",
    "\n",
    "day_name = 요일찾기(year, month, day)\n",
    "print(f\"입력하신 날짜는 {day_name}입니다.\")"
   ]
  },
  {
   "cell_type": "code",
   "execution_count": null,
   "id": "d416e4d7-7269-4fb2-81ea-72854c4a9b31",
   "metadata": {},
   "outputs": [],
   "source": [
    "# 성적처리 시스템\n",
    "\n",
    "- calc_total()\n",
    "- calc_average()\n",
    "- calc__order()\n",
    "  \n",
    "- print_student(students) : 전학생의 성적을 출력\n",
    "- print_class() : 반평균, 각 과목별 평균 출력"
   ]
  },
  {
   "cell_type": "code",
   "execution_count": null,
   "id": "e0eb5861-8917-46d0-b3f1-325b52a0f1a0",
   "metadata": {},
   "outputs": [],
   "source": []
  },
  {
   "cell_type": "code",
   "execution_count": 19,
   "id": "4e43a047-2985-442e-98c9-ea300a402ed2",
   "metadata": {},
   "outputs": [
    {
     "name": "stdout",
     "output_type": "stream",
     "text": [
      "============================================================\n",
      "번호  이름    국어  영어  수학  총점  평균   등수\n",
      "------------------------------------------------------------\n",
      "  1  김철수     90   80   85   255   85.0    2\n",
      "  2  박제동     90   85   90   265  88.33    1\n",
      "  3  홍길동     80   80   80   240   80.0    3\n",
      "============================================================\n",
      "\n",
      "[반 평균]\n",
      "국어 평균: 86.67\n",
      "영어 평균: 81.67\n",
      "수학 평균: 85.00\n",
      "총점 평균: 253.33\n",
      "전체 평균: 84.44\n"
     ]
    }
   ],
   "source": [
    "students = [\n",
    "               {'num':'1','name':'김철수','kor':90,'eng':80,'math':85,'total':0,'avg':0.0,'order':0 },\n",
    "               {'num':'2','name':'박제동','kor':90,'eng':85,'math':90,'total':0,'avg':0.0,'order':0 },\n",
    "               {'num':'3','name':'홍길동','kor':80,'eng':80,'math':80,'total':0,'avg':0.0,'order':0 }\n",
    "           ]\n",
    "\n",
    "# 총점계산\n",
    "def calc_total(stus) :\n",
    "    for s in stus:\n",
    "        s['total'] = s['kor'] +  s['eng'] +  s['math'] \n",
    "\n",
    "\n",
    "#평균계산\n",
    "def calc_average(stus) :\n",
    "    for s in stus:\n",
    "        s[\"avg\"] = round(s[\"total\"] / 3, 2)\n",
    "\n",
    "# 등수계산\n",
    "def calc_order(stus):\n",
    "    sorted_list = sorted(stus, key=lambda x:x[\"total\"], reverse=True)\n",
    "    for i, s in enumerate(sorted_list):\n",
    "        s['order'] = i + 1\n",
    "        # 등수 정보를 원래 리스트에 반영\n",
    "        for s in stus:\n",
    "            for temp in sorted_list:\n",
    "                if s[\"num\"] == temp[\"num\"]:\n",
    "                    s[\"order\"] = temp[\"order\"]\n",
    "\n",
    "# 전체 학생 성적 출력\n",
    "def print_student(stus):\n",
    "    print(\"=\" * 60)\n",
    "    print(\"번호  이름    국어  영어  수학  총점  평균   등수\")\n",
    "    print(\"-\" * 60)\n",
    "    for s in stus:\n",
    "        print(f\"{s['num']:>3}  {s['name']:<5}  {s['kor']:>3}  {s['eng']:>3}  {s['math']:>3}  {s['total']:>4}  {s['avg']:>5}  {s['order']:>3}\")\n",
    "    print(\"=\" * 60)\n",
    "\n",
    "# 반평균 및 과목별 평균 출력\n",
    "def print_class(stus):\n",
    "    n = len(stus)\n",
    "    kor_avg = sum(s['kor'] for s in stus) / n\n",
    "    eng_avg = sum(s['eng'] for s in stus) / n\n",
    "    math_avg = sum(s['math'] for s in stus) / n\n",
    "    total_avg = sum(s['total'] for s in stus) / n\n",
    "    avg_avg = sum(s['avg'] for s in stus) / n\n",
    "\n",
    "    print(\"\\n[반 평균]\")\n",
    "    print(f\"국어 평균: {kor_avg:.2f}\")\n",
    "    print(f\"영어 평균: {eng_avg:.2f}\")\n",
    "    print(f\"수학 평균: {math_avg:.2f}\")\n",
    "    print(f\"총점 평균: {total_avg:.2f}\")\n",
    "    print(f\"전체 평균: {avg_avg:.2f}\")\n",
    "\n",
    "# 실행\n",
    "calc_total(students)\n",
    "calc_average(students)\n",
    "calc_order(students)\n",
    "print_student(students)\n",
    "print_class(students)"
   ]
  },
  {
   "cell_type": "code",
   "execution_count": null,
   "id": "5569c0af-729c-45a0-bd3a-52507e5aea8d",
   "metadata": {},
   "outputs": [],
   "source": []
  },
  {
   "cell_type": "code",
   "execution_count": null,
   "id": "a5fb3d1b-f86d-429b-879e-3f144cad7cc3",
   "metadata": {},
   "outputs": [],
   "source": []
  }
 ],
 "metadata": {
  "kernelspec": {
   "display_name": "Python 3 (ipykernel)",
   "language": "python",
   "name": "python3"
  },
  "language_info": {
   "codemirror_mode": {
    "name": "ipython",
    "version": 3
   },
   "file_extension": ".py",
   "mimetype": "text/x-python",
   "name": "python",
   "nbconvert_exporter": "python",
   "pygments_lexer": "ipython3",
   "version": "3.12.1"
  }
 },
 "nbformat": 4,
 "nbformat_minor": 5
}
