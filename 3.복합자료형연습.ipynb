{
 "cells": [
  {
   "cell_type": "markdown",
   "id": "6e3a771e-7303-4b7c-9c6b-c189e7540212",
   "metadata": {},
   "source": [
    "# 자료형 비교"
   ]
  },
  {
   "cell_type": "markdown",
   "id": "bb66eda3-a0b0-4380-9909-dff928a246f0",
   "metadata": {},
   "source": [
    "| 항목       | 리스트 `[]`  | 딕셔너리 `{}`      | 튜플 `()`     | 세트 `set()`          |\n",
    "| -------- | --------- | -------------- | ----------- | ------------------- |\n",
    "| 변경 가능성   | ✅ mutable | ✅ mutable      | ❌ immutable | ✅ mutable (내용)      |\n",
    "| 구분 기호    | `[]`      | `{key: value}` | `()`        | `{값, 값}` 또는 `set()` |\n",
    "| 순서       | ✅ 있음      | ✅ 있음 (3.7 이후)  | ✅ 있음        | ❌ 없음 (정렬 안 됨)       |\n",
    "| 중복 허용    | ✅ 허용      | ❌ 키 중복 불가      | ✅ 허용        | ❌ 허용 안 함            |\n",
    "| 인덱싱/슬라이싱 | ✅ 가능      | ❌ 키로 접근        | ✅ 가능        | ❌ 불가능               |\n",
    "| 주요 용도    | 순차적 자료 보관 | 키-값 쌍 저장       | 고정된 값 묶음    | 집합 연산, 중복 제거        |\n"
   ]
  },
  {
   "cell_type": "markdown",
   "id": "cf8ee87f-5215-4be4-ad13-4202ede9b391",
   "metadata": {},
   "source": [
    "1. 리스트 numbers가 다음과 같을 때, 첫 번째 원소와 마지막 원소의 합을 구하는 코드를 작성하세요.   \n"
   ]
  },
  {
   "cell_type": "code",
   "execution_count": 4,
   "id": "2895c663-4e6e-4d1c-998a-227dcea7e349",
   "metadata": {},
   "outputs": [
    {
     "name": "stdout",
     "output_type": "stream",
     "text": [
      "110\n",
      "110\n",
      "110\n"
     ]
    }
   ],
   "source": [
    "numbers = [10, 20,  30,  40,  50,  60, 70, 80, 90, 100]\n",
    "\n",
    "#답을 작성하세요.\n",
    "\n",
    "a = numbers[0] + numbers[9]\n",
    "print(a)\n",
    "\n",
    "b = numbers[0] + numbers[-1]\n",
    "print(b)\n",
    "\n",
    "c = numbers[0] + numbers[len(numbers) - 1] # len()을 활용해 마지막 요소 동적 접근, 리스트길이와 무관하게 사용가능!\n",
    "print(c)\n"
   ]
  },
  {
   "cell_type": "markdown",
   "id": "8f1dad10-7246-4f02-86c7-00917c82bba5",
   "metadata": {},
   "source": [
    "2. 리스트 colors가 다음과 같을 때, 첫 3개 원소와 마지막 2개 원소를 슬라이싱을 사용하여 출력하는 코드를 작성하세요."
   ]
  },
  {
   "cell_type": "code",
   "execution_count": 15,
   "id": "fce7b2f0-d39b-4ff6-ab94-145a8395c6b0",
   "metadata": {},
   "outputs": [
    {
     "name": "stdout",
     "output_type": "stream",
     "text": [
      "['red', 'green', 'blue']\n",
      "['red', 'green', 'blue']\n",
      "['orange', 'black']\n",
      "['orange', 'black']\n"
     ]
    }
   ],
   "source": [
    "colors = [\"red\", \"green\", \"blue\", \"yellow\", \"purple\", \"orange\", \"black\"]\n",
    "#답을 작성하세요.\n",
    "# list[start:end]\n",
    "print(colors[:3])\n",
    "print(colors[0:3])\n",
    "\n",
    "print(colors[-2:])\n",
    "print(colors[5:])"
   ]
  },
  {
   "cell_type": "markdown",
   "id": "23785129-0c8e-4f82-a308-9f19ba24d450",
   "metadata": {},
   "source": [
    "3. 다음 리스트에서 \"korean\"이라는 문자열을 찾아 출력하는 코드를 작성하세요. - indexing"
   ]
  },
  {
   "cell_type": "code",
   "execution_count": 27,
   "id": "f95f823c-5c98-4faa-982d-94b0d2ac9577",
   "metadata": {},
   "outputs": [
    {
     "name": "stdout",
     "output_type": "stream",
     "text": [
      "[[1, 2, 3], ['red', 'green', 'blue'], [False, 'korean', True]]\n",
      "[False, 'korean', True]\n",
      "korean\n",
      "korean\n"
     ]
    }
   ],
   "source": [
    "list_a = [\n",
    "    [1, 2, 3],\n",
    "    [\"red\", \"green\", \"blue\"],\n",
    "    [False, \"korean\", True]\n",
    "]\n",
    "#답을 작성하세요.\n",
    "print(list_a)\n",
    "print(list_a[2])\n",
    "print(list_a[2][1])\n",
    "\n",
    "for sub in list_a:\n",
    "    for item in sub:\n",
    "        #print(item)\n",
    "        if item == \"korean\" :\n",
    "            print(item)\n"
   ]
  },
  {
   "cell_type": "code",
   "execution_count": null,
   "id": "a8daff3e-27e4-487e-ba9e-6632623e34ab",
   "metadata": {},
   "outputs": [],
   "source": [
    "4. 리스트 list_a과 list_b가 다음과 같을 때, 두 리스트를 합쳐서 새로운 리스트 list_c를 만드는 코드를 작성하세요."
   ]
  },
  {
   "cell_type": "code",
   "execution_count": 25,
   "id": "c14088ae-3638-46bc-88c7-3c0df9a9d93d",
   "metadata": {},
   "outputs": [
    {
     "name": "stdout",
     "output_type": "stream",
     "text": [
      "[[1, 2, 3], [4, 5, 6]]\n",
      "방법1 [1, 2, 3, 4, 5, 6]\n",
      "방법2 [1, 2, 3, 4, 5, 6]\n"
     ]
    }
   ],
   "source": [
    "list_a = [1, 2, 3]\n",
    "list_b = [4, 5, 6]\n",
    "\n",
    "list_c = [list_a] + [list_b]\n",
    "print(list_c)\n",
    "list_c = list_a + list_b\n",
    "print(\"방법1\",list_c)\n",
    "list_c= list_a.copy() #원본 보호를 위해 copy()\n",
    "list_c.extend(list_b)\n",
    "print(\"방법2\",list_c)"
   ]
  },
  {
   "cell_type": "markdown",
   "id": "d1813171-7b2f-4388-99c0-f4b329a79d14",
   "metadata": {},
   "source": [
    "5. 아래의 튜플 tuple_a에서 \"banana\"를 \"blueberry\"로 변경하는 코드를 작성하세요."
   ]
  },
  {
   "cell_type": "code",
   "execution_count": 28,
   "id": "a8ee302f-22c4-40fe-bcbf-9352b929ba1a",
   "metadata": {},
   "outputs": [
    {
     "data": {
      "text/plain": [
       "('apple', 'blueberry', 'cherry')"
      ]
     },
     "execution_count": 28,
     "metadata": {},
     "output_type": "execute_result"
    }
   ],
   "source": [
    "tuple_a = (\"apple\", \"banana\", \"cherry\")\n",
    "\n",
    "list_a = list(tuple_a)\n",
    "list_a[1] = 'blueberry'\n",
    "tuple(list_a)"
   ]
  },
  {
   "cell_type": "markdown",
   "id": "6435ed7d-ba1c-47d9-8255-2dbe5f891c48",
   "metadata": {},
   "source": [
    "6. 변수 a, b, c의 값을 사용하여 튜플 tuple_a를 생성하고 출력하는 코드를 작성하세요."
   ]
  },
  {
   "cell_type": "code",
   "execution_count": 29,
   "id": "6cd65546-f7eb-4246-aa46-42d0a9cad095",
   "metadata": {},
   "outputs": [
    {
     "data": {
      "text/plain": [
       "(5, 10, 15)"
      ]
     },
     "execution_count": 29,
     "metadata": {},
     "output_type": "execute_result"
    }
   ],
   "source": [
    "a = 5\n",
    "b = 10\n",
    "c = 15\n",
    "\n",
    "tuple_a = (a,b,c)\n",
    "tuple_a"
   ]
  },
  {
   "cell_type": "markdown",
   "id": "de532269-ff54-436d-91fc-4d4436f60ba4",
   "metadata": {},
   "source": [
    "7. 튜플 numbers가 주어졌을 때, 튜플의 최대값과 최소값을 출력하는 코드를 작성하세요."
   ]
  },
  {
   "cell_type": "code",
   "execution_count": 32,
   "id": "e8571a17-8ea8-4966-b550-ca436b76e720",
   "metadata": {},
   "outputs": [
    {
     "data": {
      "text/plain": [
       "(92, 19)"
      ]
     },
     "execution_count": 32,
     "metadata": {},
     "output_type": "execute_result"
    }
   ],
   "source": [
    "numbers = (92, 89, 72, 31, 71, 33, 19)\n",
    "#dir(numbers)\n",
    "\n",
    "max(numbers), min(numbers)"
   ]
  },
  {
   "cell_type": "markdown",
   "id": "47921842-520f-4cec-a751-941396825a09",
   "metadata": {},
   "source": [
    "8. dict 타입의 student(변수명)를 생성하고, 아래의 키-값 쌍을 추가하는 코드를 작성하세요.\n",
    "\n",
    "- name: \"Alice\"\n",
    "- age: 24\n",
    "- major: \"Computer Science\""
   ]
  },
  {
   "cell_type": "code",
   "execution_count": 33,
   "id": "70351729-f3a3-403b-87fe-19f8f6782ce6",
   "metadata": {},
   "outputs": [
    {
     "data": {
      "text/plain": [
       "{'name': 'Alice', 'age': 24, 'major': 'Computer Science'}"
      ]
     },
     "execution_count": 33,
     "metadata": {},
     "output_type": "execute_result"
    }
   ],
   "source": [
    "student = {}\n",
    "student[\"name\"] = \"Alice\"\n",
    "student[\"age\"] = 24\n",
    "student[\"major\"] = \"Computer Science\"\n",
    "student"
   ]
  },
  {
   "cell_type": "markdown",
   "id": "420920df-7bfd-4c4a-84d0-b3f02b1a4f3b",
   "metadata": {},
   "source": [
    "9. 위에서 생성한 student에서, 모든 키와 값을 출력하는 코드를 작성하세요"
   ]
  },
  {
   "cell_type": "code",
   "execution_count": 36,
   "id": "776f4059-0c64-4ac9-abc2-8a28b538bc78",
   "metadata": {},
   "outputs": [
    {
     "data": {
      "text/plain": [
       "dict_items([('name', 'Alice'), ('age', 24), ('major', 'Computer Science')])"
      ]
     },
     "execution_count": 36,
     "metadata": {},
     "output_type": "execute_result"
    }
   ],
   "source": [
    "student.items()\n"
   ]
  },
  {
   "cell_type": "code",
   "execution_count": 37,
   "id": "245b0927-21ec-47c2-b099-a29bf74d20f1",
   "metadata": {},
   "outputs": [
    {
     "data": {
      "text/plain": [
       "dict_keys(['name', 'age', 'major'])"
      ]
     },
     "execution_count": 37,
     "metadata": {},
     "output_type": "execute_result"
    }
   ],
   "source": [
    "student.keys()\n"
   ]
  },
  {
   "cell_type": "code",
   "execution_count": 38,
   "id": "45b94ee4-418c-4c16-af44-dfbfa66e4e19",
   "metadata": {},
   "outputs": [
    {
     "data": {
      "text/plain": [
       "dict_values(['Alice', 24, 'Computer Science'])"
      ]
     },
     "execution_count": 38,
     "metadata": {},
     "output_type": "execute_result"
    }
   ],
   "source": [
    "student.values()\n"
   ]
  },
  {
   "cell_type": "code",
   "execution_count": 40,
   "id": "db1daf01-00c8-4f73-bed1-3c3f81d33b8b",
   "metadata": {},
   "outputs": [
    {
     "name": "stdout",
     "output_type": "stream",
     "text": [
      "name:Alice\n",
      "age:24\n",
      "major:Computer Science\n"
     ]
    }
   ],
   "source": [
    "for k, v in student.items():\n",
    "    print(f'{k}:{v}')"
   ]
  },
  {
   "cell_type": "code",
   "execution_count": null,
   "id": "22f44961-5764-44d5-ae54-8be0924742c3",
   "metadata": {},
   "outputs": [],
   "source": []
  },
  {
   "cell_type": "markdown",
   "id": "7ddaee93-c8e1-4b35-8f57-5f726e00d2aa",
   "metadata": {},
   "source": [
    "10. 위에서 생성한 student에서, age(나이)를 26으로 변경하세요."
   ]
  },
  {
   "cell_type": "code",
   "execution_count": 43,
   "id": "91562189-ed19-42db-ad6f-eb44ebe95795",
   "metadata": {},
   "outputs": [
    {
     "data": {
      "text/plain": [
       "{'name': 'Alice', 'age': 26, 'major': 'Computer Science'}"
      ]
     },
     "execution_count": 43,
     "metadata": {},
     "output_type": "execute_result"
    }
   ],
   "source": [
    "student['age'] = 26\n",
    "student"
   ]
  },
  {
   "cell_type": "code",
   "execution_count": null,
   "id": "c7f3ab7f-bb88-4d8a-9e2f-ebf26caebc7b",
   "metadata": {},
   "outputs": [],
   "source": [
    "11. 다음 딕셔너리 students에서 name의 값을 리스트(name_list)로, age의 값을 튜플(age_tuple) 만드는 코드를 작성하세요"
   ]
  },
  {
   "cell_type": "code",
   "execution_count": 44,
   "id": "22482f5a-1e32-45a5-87f4-c7d2c849c407",
   "metadata": {},
   "outputs": [
    {
     "name": "stdout",
     "output_type": "stream",
     "text": [
      "['Alice', 'Bob', 'Charlie']\n",
      "(24, 22, 23)\n"
     ]
    }
   ],
   "source": [
    "students = {\n",
    "    \"student1\": {\"name\": \"Alice\", \"age\": 24},\n",
    "    \"student2\": {\"name\": \"Bob\", \"age\": 22},\n",
    "    \"student3\": {\"name\": \"Charlie\", \"age\": 23}\n",
    "}\n",
    "\n",
    "name_list = [info[\"name\"] for info in students.values()]\n",
    "age_tuple = tuple(info[\"age\"] for info in students.values())\n",
    "\n",
    "print(name_list)   # ['Alice', 'Bob', 'Charlie']\n",
    "print(age_tuple)   # (24, 22, 23)"
   ]
  },
  {
   "cell_type": "code",
   "execution_count": 49,
   "id": "46e3ee75-0e1b-4965-a5a6-c9fbdba925e7",
   "metadata": {},
   "outputs": [
    {
     "name": "stdout",
     "output_type": "stream",
     "text": [
      "name_list = ['Alice', 'Bob', 'Charlie']\n",
      "age_tuple = (24, 22, 23)\n"
     ]
    }
   ],
   "source": [
    "students = {\n",
    "    \"student1\": {\"name\": \"Alice\", \"age\": 24},\n",
    "    \"student2\": {\"name\": \"Bob\", \"age\": 22},\n",
    "    \"student3\": {\"name\": \"Charlie\", \"age\": 23}\n",
    "}\n",
    "\n",
    "# 이름과 나이를 저장할 빈 리스트 생성\n",
    "name_list = []  # → 이름을 저장할 리스트\n",
    "age_list = []   # → 나이를 저장할 리스트\n",
    "\n",
    "# students 딕셔너리의 키만 꺼내서 반복 (student1, student2, student3)\n",
    "for key in students.keys():\n",
    "    stu = students[key]  # 해당 키의 값 (즉, {\"name\": ..., \"age\": ...}) 를 가져옴\n",
    "    name_list.append(stu['name'])  # name 값 리스트에 추가\n",
    "    age_list.append(stu['age'])    # age 값 리스트에 추가\n",
    "\n",
    "# 나이 리스트를 튜플로 변환\n",
    "age_tuple = tuple(age_list)\n",
    "\n",
    "# 결과 출력\n",
    "print(\"name_list =\", name_list)     # ['Alice', 'Bob', 'Charlie']\n",
    "print(\"age_tuple =\", age_tuple)     # (24, 22, 23)\n"
   ]
  },
  {
   "cell_type": "code",
   "execution_count": null,
   "id": "98034c19-71de-4c3b-aa1f-c7ad99586654",
   "metadata": {},
   "outputs": [],
   "source": []
  },
  {
   "cell_type": "code",
   "execution_count": null,
   "id": "ee3738f8-f8a1-4bb4-80e1-8859e1ff7b44",
   "metadata": {},
   "outputs": [],
   "source": []
  },
  {
   "cell_type": "code",
   "execution_count": null,
   "id": "9baf61a9-4c5c-49dd-bae5-b043a5d5b534",
   "metadata": {},
   "outputs": [],
   "source": []
  },
  {
   "cell_type": "code",
   "execution_count": null,
   "id": "2bebafdc-cf5d-4622-8d16-1471d41ca7b2",
   "metadata": {},
   "outputs": [],
   "source": []
  }
 ],
 "metadata": {
  "kernelspec": {
   "display_name": "Python 3 (ipykernel)",
   "language": "python",
   "name": "python3"
  },
  "language_info": {
   "codemirror_mode": {
    "name": "ipython",
    "version": 3
   },
   "file_extension": ".py",
   "mimetype": "text/x-python",
   "name": "python",
   "nbconvert_exporter": "python",
   "pygments_lexer": "ipython3",
   "version": "3.12.1"
  }
 },
 "nbformat": 4,
 "nbformat_minor": 5
}
