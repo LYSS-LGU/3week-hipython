{
 "cells": [
  {
   "cell_type": "markdown",
   "id": "b37ffcbe-08ac-4c7e-b03d-a8e1171b4b31",
   "metadata": {},
   "source": [
    "# 300제 파이썬 반복문 (131-140)"
   ]
  },
  {
   "cell_type": "code",
   "execution_count": 2,
   "id": "c73aeb0d-b7c7-41b8-9d54-2a7aaff0c1d6",
   "metadata": {},
   "outputs": [
    {
     "name": "stdout",
     "output_type": "stream",
     "text": [
      "사과\n",
      "귤\n",
      "수박\n"
     ]
    }
   ],
   "source": [
    "# 131. for 문의 실행결과를 예측하라\n",
    "\n",
    "과일 = [\"사과\", \"귤\", \"수박\"]\n",
    "for 변수 in 과일:\n",
    "    print(변수)"
   ]
  },
  {
   "cell_type": "code",
   "execution_count": 3,
   "id": "6e44c11f-c87a-411a-a1c9-71508c1f7bda",
   "metadata": {},
   "outputs": [
    {
     "name": "stdout",
     "output_type": "stream",
     "text": [
      "####\n",
      "####\n",
      "####\n"
     ]
    }
   ],
   "source": [
    "# 132 for문의 실행결과를 예측하라.\n",
    "\n",
    "과일 = [\"사과\", \"귤\", \"수박\"]\n",
    "for 변수 in 과일:\n",
    "    print(\"####\")\n",
    "\n",
    "# for문의 핵심은 \"들여쓰기된 코드가 자료구조에 저장된 데이터 개수만큼 반복된다\"\n",
    "# `과일 = [\"사과\", \"귤\", \"수박\"]` 에는 \n",
    "# 세 개의 데이터가 저장돼 있으므로 들여쓰기된 `print(\"####\")`코드가 세 번 실행됨"
   ]
  },
  {
   "cell_type": "code",
   "execution_count": 7,
   "id": "5d93c310-54d8-485a-be1e-1f2d95fc91ed",
   "metadata": {},
   "outputs": [
    {
     "name": "stdout",
     "output_type": "stream",
     "text": [
      "A\n",
      "B\n",
      "C\n",
      "**********\n",
      "A\n",
      "B\n",
      "C\n"
     ]
    }
   ],
   "source": [
    "# 133. for 문과 동일한 기능을 수행하는 코드를 작성하라.\n",
    "\n",
    "for 변수 in [\"A\",\"B\",\"C\"]:\n",
    "    print(변수)\n",
    "print(\"*\"*10)\n",
    "print(\"A\")\n",
    "print(\"B\")\n",
    "print(\"C\")"
   ]
  },
  {
   "cell_type": "code",
   "execution_count": 10,
   "id": "a0aba611-3038-4051-8ff0-ee3d323ceaab",
   "metadata": {},
   "outputs": [
    {
     "name": "stdout",
     "output_type": "stream",
     "text": [
      "출력: A\n",
      "출력: B\n",
      "출력: C\n",
      "**********\n",
      "출력: A\n",
      "출력: B\n",
      "출력: C\n"
     ]
    }
   ],
   "source": [
    "#134. for문을 풀어서 동일한 동작을하는 코드를 작성하라\n",
    "for 변수 in [\"A\", \"B\",\"C\"]:\n",
    "    print(\"출력:\", 변수)\n",
    "print(\"*\"*10)\n",
    "\n",
    "print(\"출력:\", \"A\")\n",
    "print(\"출력:\", \"B\")\n",
    "print(\"출력:\", \"C\")"
   ]
  },
  {
   "cell_type": "code",
   "execution_count": 15,
   "id": "9e614e24-9976-46e9-a312-917c385a9146",
   "metadata": {},
   "outputs": [
    {
     "name": "stdout",
     "output_type": "stream",
     "text": [
      "변환: a\n",
      "변환: b\n",
      "변환: c\n",
      "변환: a\n",
      "변환: b\n",
      "변환: c\n",
      "변환: a\n",
      "변환: b\n",
      "변환: c\n"
     ]
    }
   ],
   "source": [
    "#135. for문을 풀어서 동일한 동작을 하는 코드를 작성하라\n",
    "\n",
    "for 변수 in [\"A\", \"B\", \"C\"]:\n",
    "  b = 변수.lower()\n",
    "  print(\"변환:\", b)\n",
    "\n",
    "# 들여쓰기된 코드의 내용은 중요하지 않습니다. \n",
    "# 파이썬 인터프리터가 코드를 해석하는 순서를 익히는 것이 중요합니다. \n",
    "# 라인1의 for문이 실행되면 변수에 첫 번재 데이터를 바인딩합니다. \n",
    "#그리고 들여쓰기된 라인 2의 코드를 실행합니다.\n",
    "\n",
    "변수 = \"A\"\n",
    "b = 변수.lower()\n",
    "print(\"변환:\", b)\n",
    "\n",
    "# 들여쓰기된 코드의 실행이 끝나면 라인 1로 이동해서 변수에 두 번재 데이터를 바인딩합니다. \n",
    "# 그리고 들여쓰기된 코드를 실행\n",
    "변수 = \"B\"\n",
    "b = 변수.lower()\n",
    "print(\"변환:\", b)\n",
    "\n",
    "# 변수 \"C\"를 바인딩하고 출력\n",
    "변수 = \"C\"\n",
    "b = 변수.lower()\n",
    "print(\"변환:\", b)\n",
    "\n",
    "# 풀어쓴 전체코드\n",
    "변수 = \"A\"\n",
    "b = 변수.lower()\n",
    "print(\"변환:\", b)\n",
    "변수 = \"B\"\n",
    "b = 변수.lower()\n",
    "print(\"변환:\", b)\n",
    "변수 = \"C\"\n",
    "b = 변수.lower()\n",
    "print(\"변환:\", b)"
   ]
  },
  {
   "cell_type": "code",
   "execution_count": 16,
   "id": "ae4fc9ff-8827-46c1-b548-9637365fa6fa",
   "metadata": {},
   "outputs": [
    {
     "name": "stdout",
     "output_type": "stream",
     "text": [
      "10\n",
      "20\n",
      "30\n",
      "10\n",
      "20\n",
      "30\n"
     ]
    }
   ],
   "source": [
    "# 136 for문으로 작성하라\n",
    "\n",
    "변수 = 10\n",
    "print(변수)\n",
    "변수 = 20\n",
    "print(변수)\n",
    "변수 = 30\n",
    "print(변수)\n",
    "\n",
    "# 동일한 루틴을 반복해서 실행하는 문법\n",
    "# 문제에서 변하지 않고 반복되는 코드를 먼저 찾기\n",
    "# print(변수) 부분이죠? 변하는 부분은 변수에 값을 대입하는 코드\n",
    "\n",
    "for 변수 in [10,20,30]:\n",
    "    print(변수)\n"
   ]
  },
  {
   "cell_type": "code",
   "execution_count": 18,
   "id": "b96be1b5-168b-43bd-a18b-f0ec31494c75",
   "metadata": {},
   "outputs": [
    {
     "name": "stdout",
     "output_type": "stream",
     "text": [
      "10\n",
      "20\n",
      "30\n",
      "10\n",
      "20\n",
      "30\n"
     ]
    }
   ],
   "source": [
    "# 137 for문 작성\n",
    "\n",
    "print(10)\n",
    "print(20)\n",
    "print(30)\n",
    "\n",
    "# 변하는 부분은 for문과 함께 리스트로 처리하고 변하지 않는 코드는 들여쓰기와 함께 적어줍니다.\n",
    "\n",
    "for 변수 in [10, 20, 30]:\n",
    "  print(변수)"
   ]
  },
  {
   "cell_type": "code",
   "execution_count": 22,
   "id": "1c8c10de-9554-4fb8-8aca-82c1f2e5eb08",
   "metadata": {},
   "outputs": [
    {
     "name": "stdout",
     "output_type": "stream",
     "text": [
      "10\n",
      "-------\n",
      "20\n",
      "-------\n",
      "30\n",
      "-------\n",
      "10\n",
      "-------\n",
      "20\n",
      "-------\n",
      "30\n",
      "-------\n",
      "정답부분 ##########\n",
      "10\n",
      "-------\n",
      "20\n",
      "-------\n",
      "30\n",
      "-------\n"
     ]
    }
   ],
   "source": [
    "# 138. for문 작성\n",
    "\n",
    "print(10)\n",
    "print(\"-------\")\n",
    "print(20)\n",
    "print(\"-------\")\n",
    "print(30)\n",
    "print(\"-------\")\n",
    "\n",
    "# 변하는 값을 변수에 바인딩하고, 변수를 사용해서 나머지 코드를 작성\n",
    "\n",
    "변수 = 10\n",
    "print(변수)\n",
    "print(\"-------\")\n",
    "\n",
    "변수 = 20\n",
    "print(변수)\n",
    "print(\"-------\")\n",
    "\n",
    "변수 = 30\n",
    "print(변수)\n",
    "print(\"-------\")\n",
    "\n",
    "print(\"정답부분\",\"#\"*10)\n",
    "\n",
    "for 변수 in [10, 20, 30]:\n",
    "  print(변수)\n",
    "  print(\"-------\")"
   ]
  },
  {
   "cell_type": "code",
   "execution_count": 24,
   "id": "3a71fe3c-a729-4678-87d3-d6346f9034d8",
   "metadata": {},
   "outputs": [
    {
     "name": "stdout",
     "output_type": "stream",
     "text": [
      "++++\n",
      "10\n",
      "20\n",
      "30\n",
      "++++\n",
      "10\n",
      "20\n",
      "30\n"
     ]
    }
   ],
   "source": [
    "#139. for문 작성\n",
    "\n",
    "print(\"++++\")\n",
    "print(10)\n",
    "print(20)\n",
    "print(30)\n",
    "\n",
    "# `print(\"++++\")` 코드가 함정입니다. 파이썬 for문은 반복되는 코드에만 사용합니다.\n",
    "\n",
    "print(\"++++\")\n",
    "for 변수 in [10, 20, 30]:\n",
    "  print(변수)"
   ]
  },
  {
   "cell_type": "code",
   "execution_count": 25,
   "id": "0801cb9b-3d98-4876-adfb-693a5b6526a3",
   "metadata": {},
   "outputs": [
    {
     "name": "stdout",
     "output_type": "stream",
     "text": [
      "-------\n",
      "-------\n",
      "-------\n",
      "-------\n"
     ]
    }
   ],
   "source": [
    "#140. for문 작성\n",
    "print(\"-------\")\n",
    "print(\"-------\")\n",
    "print(\"-------\")\n",
    "print(\"-------\")\n",
    "\n",
    "# 파이썬 for문은 들여쓰기된 코드가 자료구조의 데이터 개수만큼 반복된다는 사실이 중요\n",
    "# 문제에서 원하는 것은 들여쓰기된 코드가 4번 실행되는 것\n",
    "# 그렇다면 for문의 자료구조자리에 데이터가 4개저장된 리스트가 들어가면 어떻게 될까요?\n",
    "\n",
    "#for문의 자료구조자리에 데이터가 4개저장된 리스트가 들어가면 어떻게 될까요?\n",
    "for 변수 in [\"가\", \"나\", \"다\", \"라\"]:\n",
    "  print(\"-------\")\n",
    "\n",
    "#변수에 값이 바인딩되지만 사용되지 않을뿐 실행해보면 들여쓰기된 코드가 4번 실행\n",
    "#위 예제에서는 자료구조에 \"가나다라\" 문자열 값을 넣었지만 아래와 같이 1,2,3,4 숫자 값을 넣어도 동일한 동작\n",
    "#자료구조에 네 개의 데이터가 들어있으면 됩니다.\n",
    "for 변수 in [1, 2, 3, 4]:\n",
    "  print(\"-------\")\n"
   ]
  },
  {
   "cell_type": "markdown",
   "id": "02f59f3e-10b8-4155-8d2d-fc49a457f876",
   "metadata": {},
   "source": [
    "# 파이썬 반복문 141 ~ 150"
   ]
  },
  {
   "cell_type": "code",
   "execution_count": 1,
   "id": "82b663a9-e9a9-4736-9b84-6b88f8c836f6",
   "metadata": {},
   "outputs": [
    {
     "name": "stdout",
     "output_type": "stream",
     "text": [
      "110\n",
      "210\n",
      "310\n"
     ]
    }
   ],
   "source": [
    "# 141.\n",
    "리스트 = [100, 200, 300]\n",
    "\n",
    "리스트 = [100, 200,  300]\n",
    "for 변수 in 리스트:\n",
    "    print(변수 + 10)"
   ]
  },
  {
   "cell_type": "code",
   "execution_count": 4,
   "id": "52535cd9-4132-450b-8327-8da66243bc5b",
   "metadata": {},
   "outputs": [
    {
     "name": "stdout",
     "output_type": "stream",
     "text": [
      "오늘의 메뉴: 김밥\n",
      "오늘의 메뉴: 라면\n",
      "오늘의 메뉴: 튀김\n",
      "오늘의 메뉴 : 김밥\n",
      "오늘의 메뉴 : 라면\n",
      "오늘의 메뉴 : 튀김\n",
      "오늘의 메뉴: 김밥\n",
      "오늘의 메뉴: 라면\n",
      "오늘의 메뉴: 튀김\n"
     ]
    }
   ],
   "source": [
    "# 142. for 문을 사용해서 리스트에 저장된 값을 다음과 같이 출력하라.\n",
    "리스트 = [\"김밥\", \"라면\", \"튀김\"]\n",
    "\n",
    "메뉴 = \"김밥\"\n",
    "print(\"오늘의 메뉴: \" + 메뉴)\n",
    "메뉴 = \"라면\"\n",
    "print(\"오늘의 메뉴: \" + 메뉴)\n",
    "메뉴 = \"튀김\"\n",
    "print(\"오늘의 메뉴: \" + 메뉴)\n",
    "\n",
    "리스트 = [\"김밥\", \"라면\", \"튀김\"]\n",
    "for 메뉴 in 리스트:\n",
    "    print(\"오늘의 메뉴 : \" + 메뉴)\n",
    "\n",
    "리스트 = [\"김밥\", \"라면\", \"튀김\"]\n",
    "for 메뉴 in 리스트:\n",
    "    print(\"오늘의 메뉴:\", 메뉴)"
   ]
  },
  {
   "cell_type": "code",
   "execution_count": 6,
   "id": "aceb6ed2-adc9-4bcd-a202-f49e856497da",
   "metadata": {},
   "outputs": [
    {
     "name": "stdout",
     "output_type": "stream",
     "text": [
      "6\n",
      "4\n",
      "4\n",
      "6\n",
      "4\n",
      "4\n"
     ]
    }
   ],
   "source": [
    "#143.리스트에 주식 종목이름이 저장돼 있다.저장된 문자열의 길이를 다음과 같이 출력하라.\n",
    "\n",
    "리스트 = [\"SK하이닉스\", \"삼성전자\", \"LG전자\"]\n",
    "for 종목명 in 리스트:\n",
    "    길이 = len(종목명)\n",
    "    print(길이)\n",
    "\n",
    "리스트 = [\"SK하이닉스\", \"삼성전자\", \"LG전자\"]\n",
    "for 종목명 in 리스트:\n",
    "    print(len(종목명))\n"
   ]
  },
  {
   "cell_type": "code",
   "execution_count": 7,
   "id": "800890b4-5be6-4cfa-9aa6-260b81aed83d",
   "metadata": {},
   "outputs": [
    {
     "name": "stdout",
     "output_type": "stream",
     "text": [
      "dog 3\n",
      "cat 3\n",
      "parrot 6\n"
     ]
    }
   ],
   "source": [
    "# 144. 리스트에는 동물이름이 문자열로 저장돼 있다.\n",
    "\n",
    "리스트 = ['dog', 'cat', 'parrot']\n",
    "for 이름 in 리스트:\n",
    "    print(이름, len(이름))"
   ]
  },
  {
   "cell_type": "code",
   "execution_count": 10,
   "id": "fba25ad3-b508-4841-8bc7-b0b50ecd0df2",
   "metadata": {},
   "outputs": [
    {
     "name": "stdout",
     "output_type": "stream",
     "text": [
      "d\n",
      "d\n",
      "d\n",
      "첫글자 d\n",
      "첫글자 c\n",
      "첫글자 p\n"
     ]
    }
   ],
   "source": [
    "# 145. for문을 사용해서 동물 이름의 첫 글자만 출력하라.\n",
    "\n",
    "리스트 = ['dog', 'cat', 'parrot']\n",
    "이름 = \"dog\"\n",
    "print(이름[0])\n",
    "변수 = \"cat\"\n",
    "print(이름[0])\n",
    "변수 = \"parrot\"\n",
    "print(이름[0])\n",
    "\n",
    "for 이름 in 리스트:\n",
    "    print(\"첫글자\",이름[0])"
   ]
  },
  {
   "cell_type": "code",
   "execution_count": 11,
   "id": "77b66452-33d0-4b50-9fd2-bf2a526aeeca",
   "metadata": {},
   "outputs": [
    {
     "name": "stdout",
     "output_type": "stream",
     "text": [
      "3 x1\n",
      "3 x 1\n",
      "3 x2\n",
      "3 x 2\n",
      "3 x3\n",
      "3 x 3\n"
     ]
    }
   ],
   "source": [
    "# 146.\n",
    "\n",
    "리스트 = [1,2,3]\n",
    "for 변수 in 리스트:\n",
    "    print(\"3 x\" + str(변수))\n",
    "    print(\"3 x\", 변수)"
   ]
  },
  {
   "cell_type": "code",
   "execution_count": 15,
   "id": "9c36efc9-05b6-4fbf-872f-04d1af31a05a",
   "metadata": {},
   "outputs": [
    {
     "name": "stdout",
     "output_type": "stream",
     "text": [
      "3 x  1 = 3\n",
      "3 x  2 = 6\n",
      "3 x  3 = 9\n",
      "for문 3 x  1 = 3\n",
      "문자열활용 3 x 1 = 3\n",
      "for문 3 x  2 = 6\n",
      "문자열활용 3 x 2 = 6\n",
      "for문 3 x  3 = 9\n",
      "문자열활용 3 x 3 = 9\n"
     ]
    }
   ],
   "source": [
    "# 147.\n",
    "\n",
    "리스트 = [1,2,3]\n",
    "\n",
    "변수 = 1\n",
    "print(\"3 x \", 변수, \"=\", 3*변수)\n",
    "변수 = 2\n",
    "print(\"3 x \", 변수, \"=\", 3*변수)\n",
    "변수 = 3\n",
    "print(\"3 x \", 변수, \"=\", 3*변수)\n",
    "\n",
    "for 변수 in 리스트:\n",
    "    print(\"for문\",\"3 x \", 변수, \"=\", 3* 변수)\n",
    "    print(\"문자열활용\", \"3 x {} = {}\".format(변수, 3*변수))"
   ]
  },
  {
   "cell_type": "code",
   "execution_count": 20,
   "id": "158dcc1f-9e6c-425e-a6b6-b189b14701bd",
   "metadata": {},
   "outputs": [
    {
     "name": "stdout",
     "output_type": "stream",
     "text": [
      "나다라 나\n",
      "나다라 다\n",
      "나다라 라\n",
      "리스트 가\n",
      "리스트 나\n",
      "리스트 다\n",
      "리스트 라\n",
      "슬라이싱 한번에 작성 나\n",
      "슬라이싱 한번에 작성 다\n",
      "슬라이싱 한번에 작성 라\n"
     ]
    }
   ],
   "source": [
    "#148.\n",
    "\n",
    "리스트 = [\"가\",\"나\", \"다\", \"라\"]\n",
    "나다라 = 리스트[1:]\n",
    "for 변수 in 나다라:\n",
    "    print(\"나다라\",변수)\n",
    "\n",
    "for 변수 in 리스트:\n",
    "    print(\"리스트\",변수)\n",
    "\n",
    "for 변수 in 리스트[1:]:\n",
    "    print(\"슬라이싱 한번에 작성\", 변수)"
   ]
  },
  {
   "cell_type": "code",
   "execution_count": 23,
   "id": "74592f7d-be31-4b41-b257-cd3a99cd3ea1",
   "metadata": {},
   "outputs": [
    {
     "name": "stdout",
     "output_type": "stream",
     "text": [
      "149번 출력 가\n",
      "149번 출력 다\n",
      "150번 출력 라\n",
      "150번 출력 다\n",
      "150번 출력 나\n",
      "150번 출력 가\n"
     ]
    }
   ],
   "source": [
    "# 149.\n",
    "# 리스트 슬라이싱에서 `[시작:끝:증감폭] ` 세번째 값은 값을 가져오는 단위를 의미했습니다.\n",
    "# 증감폭을 2로 설정해서 \"가\"와 \"다\" 값만 슬라이싱\n",
    "리스트 = [\"가\", \"나\", \"다\", \"라\"]\n",
    "for 변수 in 리스트[: :2]:\n",
    "    print(\"149번 출력\",변수)\n",
    "\n",
    "# 150.증감폭을 음수로 설정하면 끝에서 앞방향으로 값을 슬라이싱합니다.\n",
    "for 변수 in 리스트[: :-1]:\n",
    "    print(\"150번 출력\",변수)"
   ]
  },
  {
   "cell_type": "markdown",
   "id": "bf770805-2b56-4bbd-a0c5-df80a4336eca",
   "metadata": {},
   "source": [
    "# 파이썬 반복문 151 ~ 160\n"
   ]
  },
  {
   "cell_type": "code",
   "execution_count": 24,
   "id": "3f359e80-87a6-484f-a155-1b6627c74a20",
   "metadata": {},
   "outputs": [
    {
     "name": "stdout",
     "output_type": "stream",
     "text": [
      "-20\n",
      "-3\n"
     ]
    }
   ],
   "source": [
    "# 151. for문을 사용해서 리스트의 음수를 출력하라.\n",
    "\n",
    "리스트 = [3, -20, -3, 44]\n",
    "for 변수 in 리스트:\n",
    "    if 변수 < 0:\n",
    "        print(변수)\n",
    "\n",
    "\n",
    "# 리스트에 저장된 모든 값에 접근해서 음수 여부를 판단해야 합니다. \n",
    "# 라인 3을 제외하면 리스트에 저장된 모든 값을 출력하는 코드입니다. \n",
    "# 라인 3의 분기문의 사용으로 모든 값을 출력하는 것이 아니라 조건이 참인 경우에만 if문의 들여쓰기된 코드가 실행됩니다.\n",
    "\n",
    "# 인터프리터가 실행하는 순서를 정리해보면 다음과 같습니다.\n",
    "# (변수 3 바인딩 - 분기문 비교:거짓) \n",
    "# (변수 -20 바인딩 - 분기문 비교:참 - 코드 실행)\n",
    "# (변수 -3 바인딩 - 분기문 비교:참 - 코드 실행)\n",
    "# (변수 44 바인딩 - 분기문 비교:거짓)"
   ]
  },
  {
   "cell_type": "code",
   "execution_count": 25,
   "id": "b450028c-1cd7-404b-a0f4-30a1aeab3d77",
   "metadata": {},
   "outputs": [
    {
     "name": "stdout",
     "output_type": "stream",
     "text": [
      "3\n"
     ]
    }
   ],
   "source": [
    "#152. for문 이용 3배수만 출력\n",
    "\n",
    "리스트 = [3, 100, 23, 44]\n",
    "for 변수 in 리스트:\n",
    "    if 변수 % 3 == 0:\n",
    "        print(변수)\n",
    "\n",
    "# 3의 배수는 3으로 나눈 나머지가 0이면 3의 배수입니다. `변수 % 3`은 변수를 3으로 나눈 나머지를 의미"
   ]
  },
  {
   "cell_type": "code",
   "execution_count": 26,
   "id": "20cb2453-4a71-4019-8b15-1a60d97f0edd",
   "metadata": {},
   "outputs": [
    {
     "name": "stdout",
     "output_type": "stream",
     "text": [
      "12\n",
      "18\n"
     ]
    }
   ],
   "source": [
    "#153.\n",
    "리스트 = [13,21,12,14,30,18]\n",
    "for 변수 in 리스트:\n",
    "    if (변수 < 20) and (변수 % 3 == 0):\n",
    "        print(변수)"
   ]
  },
  {
   "cell_type": "code",
   "execution_count": 28,
   "id": "f93bfd9f-e8da-4279-a703-06bf4b665530",
   "metadata": {},
   "outputs": [
    {
     "name": "stdout",
     "output_type": "stream",
     "text": [
      "study\n",
      "python\n",
      "language\n"
     ]
    }
   ],
   "source": [
    "#154. 리스트에서 세 글자 이상의 문자를 화면에 출력하라\n",
    "\n",
    "\n",
    "리스트 = [\"I\", \"study\", \"python\", \"language\", \"!\"]\n",
    "for 변수 in 리스트:\n",
    "    if len(변수) >= 3:\n",
    "        print(변수)\n",
    "\n",
    "# 모든 문자열 중에서 문자열의 길이가 3이상인 문자열만 출력합니다. \n",
    "# 문자열의 길이를 계산하는 len() 함수와 분기문을 사용"
   ]
  },
  {
   "cell_type": "code",
   "execution_count": 30,
   "id": "19b2c3f9-6a5e-4b9c-ae5a-3b4af1971828",
   "metadata": {},
   "outputs": [
    {
     "name": "stdout",
     "output_type": "stream",
     "text": [
      "A\n",
      "D\n"
     ]
    }
   ],
   "source": [
    "#155. 리스트에 대문자만 화면에 출력하라.\n",
    "리스트 = [\"A\", \"b\", \"c\", \"D\"]\n",
    "for 변수 in 리스트:\n",
    "    if 변수.isupper():\n",
    "        print(변수)"
   ]
  },
  {
   "cell_type": "code",
   "execution_count": 31,
   "id": "b68633ea-eefa-4371-8886-bccc2de71de0",
   "metadata": {},
   "outputs": [
    {
     "name": "stdout",
     "output_type": "stream",
     "text": [
      "b\n",
      "c\n"
     ]
    }
   ],
   "source": [
    "#156. 소문자만 출력하라.\n",
    "리스트 = [\"A\", \"b\", \"c\", \"D\"]\n",
    "for 변수 in 리스트:\n",
    "    if 변수.isupper() == False:\n",
    "        print(변수)"
   ]
  },
  {
   "cell_type": "code",
   "execution_count": 32,
   "id": "0b6a3154-877b-4dcf-95a9-74d928381e58",
   "metadata": {},
   "outputs": [
    {
     "name": "stdout",
     "output_type": "stream",
     "text": [
      "b\n",
      "c\n"
     ]
    }
   ],
   "source": [
    "#156-1\n",
    "리스트 = [\"A\", \"b\", \"c\", \"D\"]\n",
    "for 변수 in 리스트:\n",
    "  if 변수.isupper() != True:\n",
    "    print(변수)\n"
   ]
  },
  {
   "cell_type": "code",
   "execution_count": 34,
   "id": "468e97f5-a5c6-4877-b819-0acaa776089a",
   "metadata": {},
   "outputs": [
    {
     "name": "stdout",
     "output_type": "stream",
     "text": [
      "b\n",
      "c\n"
     ]
    }
   ],
   "source": [
    "#156.2 논리 연산자 not을 사용할 수도 있습니다.\n",
    "\n",
    "리스트 = [\"A\", \"b\", \"c\", \"D\"]\n",
    "for 변수 in 리스트:\n",
    "  if not 변수.isupper():\n",
    "    print(변수)\n"
   ]
  },
  {
   "cell_type": "code",
   "execution_count": 37,
   "id": "e09402fd-e58d-437f-8753-6166905763e9",
   "metadata": {},
   "outputs": [
    {
     "name": "stdout",
     "output_type": "stream",
     "text": [
      "Dog\n",
      "Cat\n",
      "Parrot\n",
      "Dog\n",
      "Cat\n",
      "Parrot\n"
     ]
    }
   ],
   "source": [
    "#157. 첫 글자를 대문자로 변경해서 출력하라.\n",
    "리스트 = ['dog', 'cat', 'parrot']\n",
    "for 변수 in 리스트:\n",
    "    첫글자 = 변수[0]             #1)\n",
    "    대문자 = 첫글자.upper()      #2)\n",
    "    print(대문자 + 변수[1:])     #3)\n",
    "\n",
    "\n",
    "for 변수 in 리스트:\n",
    "    print(변수[0].upper() + 변수[1:])\n",
    "\n",
    "# 지금까지 배웠던 내용을 모두 응용해야 하는 문제입니다. \n",
    "# 첫 번째 단어만 대문자로 변경해야하기 때문에 아래의 순서로 처리해야 합니다. \n",
    "# 1) 인덱싱으로 첫번째 문자를 가져온다. \n",
    "# 2) upper() 함수로 대문자로 변경한다. \n",
    "# 3) 변경한 대문자와 나머지 문자를 이어붙인다. \n",
    "# 정리한 내용을 코드로 작성하면 다음과 같습니다."
   ]
  },
  {
   "cell_type": "code",
   "execution_count": 40,
   "id": "d3120385-22fa-4894-8e4b-3587c1cb6158",
   "metadata": {},
   "outputs": [
    {
     "name": "stdout",
     "output_type": "stream",
     "text": [
      "['ab', 'def']\n",
      "hello\n",
      "ex01\n",
      "intro\n"
     ]
    }
   ],
   "source": [
    "#158. 파일 이름이 저장된 리스트에서 확장자를 제거하고 파일 이름만 화면에 출력하라. (힌트: split() 메서드)\n",
    "리스트 = ['hello.py', 'ex01.py', 'intro.hwp']\n",
    "\n",
    "# split() 메서드는 문자열을 입력된 구분자로 분할해서 리스트로 반환합니다. 다음 예제 코드의 결과를 예상해봅시다.\n",
    "변수 = \"abcdef\"\n",
    "print(변수.split(\"c\"))\n",
    "\n",
    "\n",
    "리스트 = ['hello.py', 'ex01.py', 'intro.hwp']\n",
    "for 변수 in 리스트:\n",
    "    split = 변수.split(\".\")\n",
    "    print(split[0])"
   ]
  },
  {
   "cell_type": "code",
   "execution_count": 42,
   "id": "4ff74d48-e23d-4394-899c-4d8e8e45b6ab",
   "metadata": {},
   "outputs": [
    {
     "name": "stdout",
     "output_type": "stream",
     "text": [
      "intra.h\n",
      "define.h\n"
     ]
    }
   ],
   "source": [
    "#159. 파일 이름이 저장된 리스트에서 확장자가 .h인 파일 이름을 출력하라.\n",
    "리스트 = ['intra.h', 'intra.c','define.h','run.py']\n",
    "for 변수 in 리스트:\n",
    "    split = 변수.split(\".\")\n",
    "    if split[1] == \"h\":\n",
    "        print(변수)\n",
    "\n",
    "# split() 메서드로 문자열을 분할하고 확장자가 \"h\"인지 분기문으로 비교합니다. \n",
    "#확장자가 \"h\"라면 파일 이름을 출력합니다."
   ]
  },
  {
   "cell_type": "code",
   "execution_count": 44,
   "id": "10820ee4-eb74-4a23-bb0c-ff15ba7a401b",
   "metadata": {},
   "outputs": [
    {
     "name": "stdout",
     "output_type": "stream",
     "text": [
      "intra.h\n",
      "intra.c\n",
      "define.h\n"
     ]
    }
   ],
   "source": [
    "#160. 파일 이름이 저장된 리스트에서 확장자가 .h나 .c인 파일을 화면에 출력하라.\n",
    "\n",
    "리스트 = ['intra.h', 'intra.c', 'define.h', 'run.py']\n",
    "for 변수 in 리스트:\n",
    "    split = 변수.split(\".\")\n",
    "    if (split[1] == \"h\") or (split[1] == \"c\"):\n",
    "        print(변수)"
   ]
  },
  {
   "cell_type": "code",
   "execution_count": null,
   "id": "7b8c9608-ef6d-4e59-b6e6-376b60515118",
   "metadata": {},
   "outputs": [],
   "source": []
  }
 ],
 "metadata": {
  "kernelspec": {
   "display_name": "Python 3 (ipykernel)",
   "language": "python",
   "name": "python3"
  },
  "language_info": {
   "codemirror_mode": {
    "name": "ipython",
    "version": 3
   },
   "file_extension": ".py",
   "mimetype": "text/x-python",
   "name": "python",
   "nbconvert_exporter": "python",
   "pygments_lexer": "ipython3",
   "version": "3.12.1"
  }
 },
 "nbformat": 4,
 "nbformat_minor": 5
}
