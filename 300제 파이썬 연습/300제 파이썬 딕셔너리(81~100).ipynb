{
 "cells": [
  {
   "cell_type": "markdown",
   "id": "52250e31-e7d4-47c6-9231-e1cb9a6598f8",
   "metadata": {},
   "source": [
    "# 300제 파이썬 딕셔너리(81~100)"
   ]
  },
  {
   "cell_type": "markdown",
   "id": "3ab21906-c752-454c-88d3-cc0fd3c61ef7",
   "metadata": {},
   "source": [
    "# 81. 별 표현식\n",
    "\n",
    "- 기본적으로 데이터 언패킹은 좌변의 변수와 우변 데이터 개수가 같아야 합니다.\n",
    "- 하지만 star expression을 사용하면 변수의 개수가 달라도 데이터 언패킹을 할 수 있습니다. \n",
    "- 튜플에 저장된 데이터 중에서 앞에 있는 두 개의 데이터만 필요할 경우 나머지 데이터의 언패킹 코드를 작성할 필요가 없습니다."
   ]
  },
  {
   "cell_type": "code",
   "execution_count": 12,
   "id": "ce471335-3403-4ae1-8755-0ca93bd2396e",
   "metadata": {},
   "outputs": [
    {
     "name": "stdout",
     "output_type": "stream",
     "text": [
      "좌측8개 [1, 2, 3, 4, 5, 6, 7, 8]\n"
     ]
    }
   ],
   "source": [
    "# 81. 별표현식\n",
    "\n",
    "a, b, *c = (0, 1, 2, 3, 4, 5)\n",
    "a\n",
    "0\n",
    "b\n",
    "1\n",
    "c\n",
    "[2, 3, 4, 5]\n",
    "\n",
    "# 10개의 값이 저장된 scores 리스트가 있을 때, \n",
    "#start expression을 사용하여 좌측 8개의 값을 valid_score 변수에 바인딩\n",
    "\n",
    "scores = [1, 2, 3, 4, 5, 6, 7, 8, 9, 10]\n",
    "*valid_score, _, _= scores\n",
    "print(\"좌측8개\",valid_score)\n"
   ]
  },
  {
   "cell_type": "code",
   "execution_count": 14,
   "id": "ad40d3ff-c5a7-4338-b36e-8c260daeefb3",
   "metadata": {},
   "outputs": [
    {
     "name": "stdout",
     "output_type": "stream",
     "text": [
      "우측8개 [3, 4, 5, 6, 7, 8, 9, 10]\n"
     ]
    }
   ],
   "source": [
    "# 82.start expression을 사용하여 우측 8개의 값을 valid_score 변수에 바인딩하여라.\n",
    "\n",
    "scores = [1, 2, 3, 4, 5, 6, 7, 8, 9, 10]\n",
    "a,b, *valid_score = scores\n",
    "print(\"우측8개\",valid_score)"
   ]
  },
  {
   "cell_type": "code",
   "execution_count": 15,
   "id": "c6527b9f-81d1-47b7-86b7-4ff84745e877",
   "metadata": {},
   "outputs": [
    {
     "name": "stdout",
     "output_type": "stream",
     "text": [
      "[2, 3, 4, 5, 6, 7, 8, 9]\n"
     ]
    }
   ],
   "source": [
    "# 83.  start expression을 사용하여 가운데 있는 8개의 값을 valid_score 변수에 바인딩\n",
    "\n",
    "scores = [1, 2, 3, 4, 5, 6, 7, 8, 9, 10]\n",
    "a, *valid_score, b = scores\n",
    "print(valid_score)"
   ]
  },
  {
   "cell_type": "code",
   "execution_count": 17,
   "id": "60bf62a1-d4e3-41cd-9010-e590cfa99636",
   "metadata": {},
   "outputs": [
    {
     "name": "stdout",
     "output_type": "stream",
     "text": [
      "{}\n"
     ]
    }
   ],
   "source": [
    "# 84. 비어있는 딕셔너리\n",
    "temp = {}\n",
    "print(temp)"
   ]
  },
  {
   "cell_type": "code",
   "execution_count": 19,
   "id": "86144f57-0bb6-495d-b342-7d20ddbdb079",
   "metadata": {},
   "outputs": [
    {
     "name": "stdout",
     "output_type": "stream",
     "text": [
      "{'메로나': 1000, '폴라포': 1200, '빵빠레': 1800}\n",
      "{'메로나': 1000, '폴라포': 1200, '빵빠레': 1800, '죠스바': 1200, '월드콘': 1500}\n"
     ]
    }
   ],
   "source": [
    "# 85. 아이스크림 이름과 희망 가격을 딕셔너리로 구성하라.\n",
    "ice = {\"메로나\" : 1000, \"폴라포\": 1200, \"빵빠레\": 1800}\n",
    "print(ice)\n",
    "\n",
    "# 86. 항목추가\n",
    "ice = {\"메로나\" : 1000, \"폴라포\": 1200, \"빵빠레\": 1800}\n",
    "ice[\"죠스바\"] = 1200\n",
    "ice[\"월드콘\"] = 1500\n",
    "print(ice)"
   ]
  },
  {
   "cell_type": "code",
   "execution_count": 25,
   "id": "9a8034b1-d887-4cd3-bff0-9f80f2693673",
   "metadata": {},
   "outputs": [
    {
     "name": "stdout",
     "output_type": "stream",
     "text": [
      "메로나 가격: 1000\n"
     ]
    }
   ],
   "source": [
    "# 87. 딕셔너리를 사용 메로나 가격 출력\n",
    "\n",
    "ice = {'메로나': 1000,\n",
    "       '폴로포': 1200,\n",
    "       '빵빠레': 1800,\n",
    "       '죠스바': 1200,\n",
    "       '월드콘': 1500}\n",
    "print(\"메로나 가격:\", ice[\"메로나\"])"
   ]
  },
  {
   "cell_type": "code",
   "execution_count": 27,
   "id": "2149277c-a988-4ea5-a3f5-982a4edbbc51",
   "metadata": {},
   "outputs": [
    {
     "name": "stdout",
     "output_type": "stream",
     "text": [
      "{'메로나': 1300, '폴로포': 1200, '빵빠레': 1800, '죠스바': 1200, '월드콘': 1500}\n"
     ]
    }
   ],
   "source": [
    "# 88. 딕셔너리에서 메로나의 가격 1300으로 수정\n",
    "\n",
    "ice = {'메로나': 1000,\n",
    "       '폴로포': 1200,\n",
    "       '빵빠레': 1800,\n",
    "       '죠스바': 1200,\n",
    "       '월드콘': 1500}\n",
    "ice[\"메로나\"] = 1300\n",
    "print(ice)"
   ]
  },
  {
   "cell_type": "code",
   "execution_count": 29,
   "id": "617b75d3-0444-4efd-8cd3-f1d15cbcd33f",
   "metadata": {},
   "outputs": [
    {
     "name": "stdout",
     "output_type": "stream",
     "text": [
      "{'메로나': 1000, '폴로포': 1200, '빵빠레': 1800, '죠스바': 1200, '월드콘': 1500}\n",
      "{'폴로포': 1200, '빵빠레': 1800, '죠스바': 1200, '월드콘': 1500}\n"
     ]
    }
   ],
   "source": [
    "# 89. 딕셔너리에서 메로나 삭제\n",
    "ice = {'메로나': 1000,\n",
    "       '폴로포': 1200,\n",
    "       '빵빠레': 1800,\n",
    "       '죠스바': 1200,\n",
    "       '월드콘': 1500}\n",
    "print(ice)\n",
    "del ice[\"메로나\"]\n",
    "print(ice)"
   ]
  },
  {
   "cell_type": "code",
   "execution_count": 30,
   "id": "9bc9b528-344e-4ae5-be4e-9f809020598a",
   "metadata": {},
   "outputs": [
    {
     "ename": "KeyError",
     "evalue": "'누가바'",
     "output_type": "error",
     "traceback": [
      "\u001b[31m---------------------------------------------------------------------------\u001b[39m",
      "\u001b[31mKeyError\u001b[39m                                  Traceback (most recent call last)",
      "\u001b[36mCell\u001b[39m\u001b[36m \u001b[39m\u001b[32mIn[30]\u001b[39m\u001b[32m, line 2\u001b[39m\n\u001b[32m      1\u001b[39m icecream = {\u001b[33m'\u001b[39m\u001b[33m폴라포\u001b[39m\u001b[33m'\u001b[39m:\u001b[32m1200\u001b[39m, \u001b[33m'\u001b[39m\u001b[33m빵빠레\u001b[39m\u001b[33m'\u001b[39m:\u001b[32m1800\u001b[39m, \u001b[33m'\u001b[39m\u001b[33m월드콘\u001b[39m\u001b[33m'\u001b[39m:\u001b[32m1500\u001b[39m, \u001b[33m'\u001b[39m\u001b[33m메로나\u001b[39m\u001b[33m'\u001b[39m:\u001b[32m1000\u001b[39m}\n\u001b[32m----> \u001b[39m\u001b[32m2\u001b[39m icecream[\u001b[33m'\u001b[39m\u001b[33m누가바\u001b[39m\u001b[33m'\u001b[39m]\n",
      "\u001b[31mKeyError\u001b[39m: '누가바'"
     ]
    }
   ],
   "source": [
    "# 딕셔너리에 없는 키 입력시 에러\n",
    "icecream = {'폴라포':1200, '빵빠레':1800, '월드콘':1500, '메로나':1000}\n",
    "icecream['누가바']\n",
    "\n"
   ]
  },
  {
   "cell_type": "code",
   "execution_count": 31,
   "id": "d67d97c8-4ced-4cc5-b6dd-bfb8f1140fda",
   "metadata": {},
   "outputs": [
    {
     "name": "stdout",
     "output_type": "stream",
     "text": [
      "{'메로나': [300, 20], '비비빅': [400, 3], '죠스바': [250, 100]}\n"
     ]
    }
   ],
   "source": [
    "# 91. 딕셔너리 생성\n",
    "inventory = {\"메로나\": [300,20],\n",
    "             \"비비빅\": [400,3],\n",
    "             \"죠스바\": [250,100]}\n",
    "print(inventory)"
   ]
  },
  {
   "cell_type": "code",
   "execution_count": 34,
   "id": "bf172ab3-4519-499f-9b3d-4ad34dfacdc2",
   "metadata": {},
   "outputs": [
    {
     "name": "stdout",
     "output_type": "stream",
     "text": [
      "300 원\n",
      "20 개\n"
     ]
    }
   ],
   "source": [
    "# 92. 딕셔너리 인덱싱\n",
    "inventory = {\"메로나\": [300,20],\n",
    "             \"비비빅\": [400,3],\n",
    "             \"죠스바\": [250,100]}\n",
    "print(inventory[\"메로나\"][0], \"원\")\n",
    "\n",
    "# 93. 재고출력\n",
    "print(inventory[\"메로나\"][1], \"개\")"
   ]
  },
  {
   "cell_type": "code",
   "execution_count": 36,
   "id": "32aa03c8-b4ba-44f6-9653-894d6ab8b5db",
   "metadata": {},
   "outputs": [
    {
     "name": "stdout",
     "output_type": "stream",
     "text": [
      "{'메로나': [300, 20], '비비빅': [400, 3], '죠스바': [250, 100]}\n",
      "{'메로나': [300, 20], '비비빅': [400, 3], '죠스바': [250, 100], '월드콘': [500, 7]}\n"
     ]
    }
   ],
   "source": [
    "# 94. 딕셔너리 추가\n",
    "inventory = {\"메로나\": [300, 20],\n",
    "              \"비비빅\": [400, 3],\n",
    "              \"죠스바\": [250, 100]}\n",
    "print(inventory)\n",
    "inventory[\"월드콘\"] = [500, 7]\n",
    "print(inventory)"
   ]
  },
  {
   "cell_type": "code",
   "execution_count": 37,
   "id": "cd829913-8bd4-4a8b-bd25-23994b9ed702",
   "metadata": {},
   "outputs": [
    {
     "name": "stdout",
     "output_type": "stream",
     "text": [
      "['탱크보이', '폴라포', '빵빠레', '월드콘', '메로나']\n"
     ]
    }
   ],
   "source": [
    "# 95. 딕셔너리 keys() 메서드\n",
    "icecream = {'탱크보이': 1200, '폴라포': 1200, '빵빠레': 1800, '월드콘': 1500, '메로나': 1000}\n",
    "ice = list(icecream.keys())\n",
    "print(ice)"
   ]
  },
  {
   "cell_type": "code",
   "execution_count": 46,
   "id": "cad2b62d-6534-40ee-9c8c-e87ef180ed08",
   "metadata": {},
   "outputs": [
    {
     "name": "stdout",
     "output_type": "stream",
     "text": [
      "values만출력 [1200, 1200, 1800, 1500, 1000]\n",
      "values합계 6700\n"
     ]
    }
   ],
   "source": [
    "# 96. 딕셔너리 values() 메서드\n",
    "icecream = {'탱크보이': 1200, '폴라포': 1200, '빵빠레': 1800, '월드콘': 1500, '메로나': 1000}\n",
    "price = list(icecream.values())\n",
    "print(\"values만출력\",price)\n",
    "# 97. 딕셔너리 values() 메서드\n",
    "print(\"values합계\",sum(icecream.values()))"
   ]
  },
  {
   "cell_type": "code",
   "execution_count": 48,
   "id": "812809ec-f811-4e0b-814f-69fdd35fd577",
   "metadata": {},
   "outputs": [
    {
     "name": "stdout",
     "output_type": "stream",
     "text": [
      "{'탱크보이': 1200, '폴라포': 1200, '빵빠레': 1800, '월드콘': 1500, '메로나': 1000, '팥빙수': 2700, '아맛나': 1000}\n"
     ]
    }
   ],
   "source": [
    "# 98. 딕셔너리 update 메서드\n",
    "icecream = {'탱크보이': 1200, '폴라포': 1200, '빵빠레': 1800, '월드콘': 1500, '메로나': 1000}\n",
    "new_product = {'팥빙수':2700, '아맛나':1000}\n",
    "icecream.update(new_product)\n",
    "print(icecream)"
   ]
  },
  {
   "cell_type": "markdown",
   "id": "ccf09d62-58c0-45df-94d7-ea3d5ae9328e",
   "metadata": {},
   "source": [
    "### 99. zip 과 dict\n",
    "- 아래 두 개의 튜플을 하나의 딕셔너리로 변환하라. keys를 키로, vals를 값으로 result 이름의 딕셔너리로 저장한다."
   ]
  },
  {
   "cell_type": "code",
   "execution_count": 51,
   "id": "1b285bb7-9ad4-4a7f-a64c-d7407eb05fcb",
   "metadata": {},
   "outputs": [
    {
     "name": "stdout",
     "output_type": "stream",
     "text": [
      "{'apple': 300, 'pear': 250, 'peach': 400}\n",
      "{'09/05': 10500, '09/06': 10300, '09/07': 10100, '09/08': 10800, '09/09': 11000}\n"
     ]
    }
   ],
   "source": [
    "# 99. zip과 dict\n",
    "\n",
    "keys = (\"apple\", \"pear\", \"peach\")\n",
    "vals = (300, 250, 400)\n",
    "\n",
    "result = dict(zip(keys, vals))\n",
    "print(result)\n",
    "\n",
    "# 100 date와 close_price 두 개의 리스트를 close_table 이름의 딕셔너리로 생성하라.\n",
    "date = ['09/05', '09/06', '09/07', '09/08', '09/09']\n",
    "close_price = [10500, 10300, 10100, 10800, 11000]\n",
    "close_table = dict(zip(date, close_price))\n",
    "print(close_table)"
   ]
  },
  {
   "cell_type": "code",
   "execution_count": null,
   "id": "2eb40d6a-7ccf-4a6b-8f58-7ecf25e425bc",
   "metadata": {},
   "outputs": [],
   "source": []
  },
  {
   "cell_type": "code",
   "execution_count": null,
   "id": "ba9b03af-9e14-412a-9c26-045e56f2336f",
   "metadata": {},
   "outputs": [],
   "source": []
  }
 ],
 "metadata": {
  "kernelspec": {
   "display_name": "Python 3 (ipykernel)",
   "language": "python",
   "name": "python3"
  },
  "language_info": {
   "codemirror_mode": {
    "name": "ipython",
    "version": 3
   },
   "file_extension": ".py",
   "mimetype": "text/x-python",
   "name": "python",
   "nbconvert_exporter": "python",
   "pygments_lexer": "ipython3",
   "version": "3.12.1"
  }
 },
 "nbformat": 4,
 "nbformat_minor": 5
}
