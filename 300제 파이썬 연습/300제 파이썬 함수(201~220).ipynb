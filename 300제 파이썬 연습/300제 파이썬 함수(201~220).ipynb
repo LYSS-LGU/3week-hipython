{
 "cells": [
  {
   "cell_type": "markdown",
   "id": "60f69602",
   "metadata": {},
   "source": [
    "# 300제 파이썬 함수( 201 ~ 220 )"
   ]
  },
  {
   "cell_type": "code",
   "execution_count": null,
   "id": "b5894b45",
   "metadata": {},
   "outputs": [],
   "source": [
    "# 201. \"비트코인\" 문자열을 화면에 출력하는 print_coin() 함수를 정의하라.\n",
    "\n",
    "def print_coin():\n",
    "    print(\"비트코인\")"
   ]
  },
  {
   "cell_type": "code",
   "execution_count": null,
   "id": "2d732d18",
   "metadata": {},
   "outputs": [],
   "source": [
    "# 202. 201번에서 정의한 함수를 호출하라.\n",
    "\n",
    "print_coin()\n"
   ]
  },
  {
   "cell_type": "code",
   "execution_count": null,
   "id": "051afd88",
   "metadata": {},
   "outputs": [],
   "source": [
    "# 203. 201번에서 정의한 print_coin 함수를 100번호출하라.\n",
    "\n",
    "for i in range(100):\n",
    "    print_coin()"
   ]
  },
  {
   "cell_type": "code",
   "execution_count": 4,
   "id": "a9120d6b",
   "metadata": {},
   "outputs": [],
   "source": [
    "# 204. \"비트코인\" 문자열을 100번 화면에 출력하는 print_coins() 함수를 정의하라.\n",
    "\n",
    "def print_coins():\n",
    "    for i in range(100):\n",
    "        print(\"비트코인\")"
   ]
  },
  {
   "cell_type": "code",
   "execution_count": 6,
   "id": "f6fa2079",
   "metadata": {},
   "outputs": [
    {
     "ename": "NameError",
     "evalue": "name 'hello' is not defined",
     "output_type": "error",
     "traceback": [
      "\u001b[31m---------------------------------------------------------------------------\u001b[39m",
      "\u001b[31mNameError\u001b[39m                                 Traceback (most recent call last)",
      "\u001b[36mCell\u001b[39m\u001b[36m \u001b[39m\u001b[32mIn[6]\u001b[39m\u001b[32m, line 3\u001b[39m\n\u001b[32m      1\u001b[39m \u001b[38;5;66;03m# 205. 아래의 에러가 발생하는 이유에 대해 설명하라.\u001b[39;00m\n\u001b[32m----> \u001b[39m\u001b[32m3\u001b[39m hello()\n\u001b[32m      4\u001b[39m \u001b[38;5;28;01mdef\u001b[39;00m\u001b[38;5;250m \u001b[39m\u001b[34mhello\u001b[39m():\n\u001b[32m      5\u001b[39m     \u001b[38;5;28mprint\u001b[39m(\u001b[33m\"\u001b[39m\u001b[33mHi\u001b[39m\u001b[33m\"\u001b[39m)\n",
      "\u001b[31mNameError\u001b[39m: name 'hello' is not defined"
     ]
    }
   ],
   "source": [
    "# 205. 아래의 에러가 발생하는 이유에 대해 설명하라.\n",
    "\n",
    "hello()\n",
    "def hello():\n",
    "    print(\"Hi\")\n",
    "\n",
    "    # NameError: name 'hello' is not defined\n",
    "    # 함수가 정의되기 전에 호출되어서 에러가 발생합니다.\n",
    "\n"
   ]
  },
  {
   "cell_type": "code",
   "execution_count": 7,
   "id": "71f64cc9",
   "metadata": {},
   "outputs": [
    {
     "name": "stdout",
     "output_type": "stream",
     "text": [
      "A\n",
      "B\n",
      "C\n",
      "A\n",
      "B\n"
     ]
    }
   ],
   "source": [
    "# 206. 아래 코드의 실행 결과를 예측하라.\n",
    "\n",
    "def message():\n",
    "    print(\"A\")\n",
    "    print(\"B\")\n",
    "\n",
    "message()\n",
    "print(\"C\")\n",
    "message()"
   ]
  },
  {
   "cell_type": "code",
   "execution_count": 9,
   "id": "bbe115bb",
   "metadata": {},
   "outputs": [
    {
     "name": "stdout",
     "output_type": "stream",
     "text": [
      "A\n",
      "C\n",
      "B\n"
     ]
    }
   ],
   "source": [
    "# 207. 아래 코드의 실행 결과를 예측하라. (읽기 어려운 코드의 예입니다.)\n",
    "\n",
    "print(\"A\")        # 👉 바로 실행 → 출력: A\n",
    "\n",
    "def message():    # 👉 함수 정의 (실행 X)\n",
    "\n",
    "    print(\"B\")\n",
    "\n",
    "print(\"C\")        # 👉 바로 실행 → 출력: C\n",
    "\n",
    "message()         # 👉 함수 호출 → message() 실행 → 출력: B\n"
   ]
  },
  {
   "cell_type": "code",
   "execution_count": 10,
   "id": "0d0d177b",
   "metadata": {},
   "outputs": [
    {
     "name": "stdout",
     "output_type": "stream",
     "text": [
      "A\n",
      "C\n",
      "B\n",
      "E\n",
      "D\n"
     ]
    }
   ],
   "source": [
    "# 208. 아래 코드의 실행 결과를 예측하라. (읽기 어려운 코드의 예입니다.)\n",
    "\n",
    "print(\"A\")\n",
    "def message1():\n",
    "    print(\"B\")\n",
    "print(\"C\")\n",
    "def message2():\n",
    "    print(\"D\")\n",
    "message1()\n",
    "print(\"E\")\n",
    "message2()\n"
   ]
  },
  {
   "cell_type": "code",
   "execution_count": 11,
   "id": "46fbd004",
   "metadata": {},
   "outputs": [
    {
     "name": "stdout",
     "output_type": "stream",
     "text": [
      "B\n",
      "A\n"
     ]
    }
   ],
   "source": [
    "# 209. 아래 코드의 실행 결과를 예측하라.\n",
    "\n",
    "def message1():\n",
    "    print(\"A\")\n",
    "\n",
    "def message2():\n",
    "    print(\"B\")\n",
    "    message1()\n",
    "\n",
    "message2()\n"
   ]
  },
  {
   "cell_type": "code",
   "execution_count": 12,
   "id": "7681b852",
   "metadata": {},
   "outputs": [
    {
     "name": "stdout",
     "output_type": "stream",
     "text": [
      "B\n",
      "C\n",
      "B\n",
      "C\n",
      "B\n",
      "C\n",
      "B\n"
     ]
    }
   ],
   "source": [
    "# 210. 아래 코드의 실행 결과를 예측하라.\n",
    "\n",
    "def message1():\n",
    "    print(\"A\")\n",
    "\n",
    "def message2():\n",
    "    print(\"B\")\n",
    "\n",
    "def message3():\n",
    "    for i in range (3) :\n",
    "        message2()\n",
    "        print(\"C\")\n",
    "    message()\n",
    "\n",
    "message3()"
   ]
  },
  {
   "cell_type": "markdown",
   "id": "4bb4afbd",
   "metadata": {},
   "source": [
    "# 211 ~ 220"
   ]
  },
  {
   "cell_type": "code",
   "execution_count": 13,
   "id": "04e9d9f4",
   "metadata": {},
   "outputs": [
    {
     "name": "stdout",
     "output_type": "stream",
     "text": [
      "안녕\n",
      "Hi\n"
     ]
    }
   ],
   "source": [
    "# 211. 함수의 호출 결과를 예측하라.\n",
    "\n",
    "def 함수(문자열) :\n",
    "    print(문자열)\n",
    "\n",
    "함수(\"안녕\")\n",
    "함수(\"Hi\")"
   ]
  },
  {
   "cell_type": "code",
   "execution_count": 14,
   "id": "0fdf2115",
   "metadata": {},
   "outputs": [
    {
     "name": "stdout",
     "output_type": "stream",
     "text": [
      "7\n",
      "15\n"
     ]
    }
   ],
   "source": [
    "# 212. 함수의 호출 결과를 예측하라.\n",
    "\n",
    "def 함수(a,b) :\n",
    "    print(a + b)\n",
    "함수(3,4)\n",
    "함수(7,8)"
   ]
  },
  {
   "cell_type": "code",
   "execution_count": null,
   "id": "2f172d6a",
   "metadata": {},
   "outputs": [],
   "source": [
    "# 213. 아래와 같은 에러가 발생하는 원인을 설명하라.\n",
    "\n",
    "def 함수(문자열) : \n",
    "    print(문자열)\n",
    "\n",
    "# 함수()\n",
    "# TypeError: 함수() missing 1 required positional argument: '문자열'\n",
    "# 함수에 정의와 다르게 함수를 호출하고 있다. \n",
    "# 함수를 호출할 때 하나의 파라미터를 입력해야한다."
   ]
  },
  {
   "cell_type": "code",
   "execution_count": null,
   "id": "8bb3b93a",
   "metadata": {},
   "outputs": [
    {
     "ename": "TypeError",
     "evalue": "can only concatenate str (not \"int\") to str",
     "output_type": "error",
     "traceback": [
      "\u001b[31m---------------------------------------------------------------------------\u001b[39m",
      "\u001b[31mTypeError\u001b[39m                                 Traceback (most recent call last)",
      "\u001b[36mCell\u001b[39m\u001b[36m \u001b[39m\u001b[32mIn[17]\u001b[39m\u001b[32m, line 8\u001b[39m\n\u001b[32m      5\u001b[39m \u001b[38;5;28;01mdef\u001b[39;00m\u001b[38;5;250m \u001b[39m\u001b[34m함수\u001b[39m(a, b) :\n\u001b[32m      6\u001b[39m     \u001b[38;5;28mprint\u001b[39m(a + b)\n\u001b[32m----> \u001b[39m\u001b[32m8\u001b[39m 함수(\u001b[33m\"\u001b[39m\u001b[33m안녕\u001b[39m\u001b[33m\"\u001b[39m, \u001b[32m3\u001b[39m)\n",
      "\u001b[36mCell\u001b[39m\u001b[36m \u001b[39m\u001b[32mIn[17]\u001b[39m\u001b[32m, line 6\u001b[39m, in \u001b[36m함수\u001b[39m\u001b[34m(a, b)\u001b[39m\n\u001b[32m      5\u001b[39m \u001b[38;5;28;01mdef\u001b[39;00m\u001b[38;5;250m \u001b[39m\u001b[34m함수\u001b[39m(a, b) :\n\u001b[32m----> \u001b[39m\u001b[32m6\u001b[39m     \u001b[38;5;28mprint\u001b[39m(a + b)\n",
      "\u001b[31mTypeError\u001b[39m: can only concatenate str (not \"int\") to str"
     ]
    }
   ],
   "source": [
    "#214. 아래와 같은 에러가 발생하는 원인을 설명하라.\n",
    "\n",
    "def 함수(a, b) :\n",
    "    print(a + b)\n",
    "\n",
    "함수(\"안녕\", 3)\n",
    "\n",
    "# TypeError: must be str, not int\n",
    "\n",
    "# 정의된 함수는 같은 타입의 두 개의 값을 입력 받아 덧셈 연산을 적용하려는 의도로 설계됐습니다.\n",
    "# 하지만 함수를 호출 할때 문자열과 숫자를 입력해서 문자열과 숫자는 더할 수 없다는 에러가 발생합니다.\n"
   ]
  },
  {
   "cell_type": "code",
   "execution_count": 18,
   "id": "d6faf7a7",
   "metadata": {},
   "outputs": [],
   "source": [
    "# 215. 하나의 문자를 입력받아 문자열 끝에 \n",
    "# \":D\" 스마일 문자열을 이어 붙여 출력하는 print_with_smile 함수를 정의하라.\n",
    "\n",
    "def print_with_smile (string) :\n",
    "    print(string + \":D\")"
   ]
  },
  {
   "cell_type": "code",
   "execution_count": 19,
   "id": "e1e401fd",
   "metadata": {},
   "outputs": [
    {
     "name": "stdout",
     "output_type": "stream",
     "text": [
      "안녕하세요:D\n"
     ]
    }
   ],
   "source": [
    "# 216. 215에서 정의한 함수를 호출하라. 파라미터는 \"안녕하세요\"로 입력하라.\n",
    "print_with_smile(\"안녕하세요\")\n",
    "\n"
   ]
  },
  {
   "cell_type": "code",
   "execution_count": 20,
   "id": "63dae055",
   "metadata": {},
   "outputs": [],
   "source": [
    "# 217. 현재 가격을 입력 받아 상한가 (30%)를 출력하는 \n",
    "# print_upper_price 함수를 정의하라.\n",
    "\n",
    "def print_upper_price(price) :\n",
    "    print(price * 1.3)"
   ]
  },
  {
   "cell_type": "code",
   "execution_count": 22,
   "id": "bb3000b0",
   "metadata": {},
   "outputs": [],
   "source": [
    "#218. 두 개의 숫자를 입력받아 두 수의 합을 출력하는 print_sum 함수를 정의하라.\n",
    "\n",
    "def print_sum (a,b) :\n",
    "    print(a + b)"
   ]
  },
  {
   "cell_type": "code",
   "execution_count": 26,
   "id": "cc08127e",
   "metadata": {},
   "outputs": [
    {
     "name": "stdout",
     "output_type": "stream",
     "text": [
      "3 + 4 = 7\n",
      "3 - 4 = -1\n",
      "3 * 4 = 12\n",
      "3 / 4 = 0.75\n"
     ]
    }
   ],
   "source": [
    "# 219. 두 개의 숫자를 입력받아 합/차/곱/나눗셈을 출력하는\n",
    "# print_arithmetic_operation 함수를 작성하라.\n",
    "\n",
    "# print_arithmetic_operation(3, 4)\n",
    "\n",
    "def print_arithmetic_operation(a, b):\n",
    "    print(a, \"+\", b, \"=\", a + b)\n",
    "    print(a, \"-\", b, \"=\", a - b)\n",
    "    print(a, \"*\", b, \"=\", a * b)\n",
    "    print(a, \"/\", b, \"=\", a / b)\n",
    "\n",
    "print_arithmetic_operation(3, 4)\n",
    "\n"
   ]
  },
  {
   "cell_type": "code",
   "execution_count": 32,
   "id": "8f3c4370",
   "metadata": {},
   "outputs": [
    {
     "name": "stdout",
     "output_type": "stream",
     "text": [
      "2\n",
      "2\n"
     ]
    }
   ],
   "source": [
    "# 220. 세 개의 숫자를 입력받아 가장 큰수를 출력하는 print_max 함수를 정의하라. 단 if 문을 사용해서 수를 비교하라.\n",
    "\n",
    "def print_max(a, b, c):\n",
    "    max_val = 0\n",
    "    if a > max_val:\n",
    "        max_val = a\n",
    "    if b > max_val:\n",
    "        max_val = b\n",
    "    if c > max_val:\n",
    "        max_val = c\n",
    "    print(max_val)\n",
    "\n",
    "    print(max(2, -2, 0))  # 이건 참고용: 내장 함수 결과\n",
    "\n",
    "# ✅ 함수 호출!\n",
    "print_max(2, -2, 0)\n"
   ]
  },
  {
   "cell_type": "code",
   "execution_count": 29,
   "id": "c73f8ba3",
   "metadata": {},
   "outputs": [
    {
     "name": "stdout",
     "output_type": "stream",
     "text": [
      "25\n",
      "-3\n"
     ]
    }
   ],
   "source": [
    "def print_max(a, b, c):\n",
    "    max_val = a               # 처음엔 a를 최대값으로 설정\n",
    "    if b > max_val:\n",
    "        max_val = b           # b가 더 크면 max_val 갱신\n",
    "    if c > max_val:\n",
    "        max_val = c           # c가 더 크면 max_val 갱신\n",
    "    print(max_val)            # 최종 결과 출력\n",
    "\n",
    "print_max(10, 25, 17)   # 출력: 25\n",
    "print_max(-5, -3, -10)  # 출력: -3\n"
   ]
  },
  {
   "cell_type": "code",
   "execution_count": null,
   "id": "577e3631",
   "metadata": {},
   "outputs": [],
   "source": []
  }
 ],
 "metadata": {
  "kernelspec": {
   "display_name": "base",
   "language": "python",
   "name": "python3"
  },
  "language_info": {
   "codemirror_mode": {
    "name": "ipython",
    "version": 3
   },
   "file_extension": ".py",
   "mimetype": "text/x-python",
   "name": "python",
   "nbconvert_exporter": "python",
   "pygments_lexer": "ipython3",
   "version": "3.12.1"
  }
 },
 "nbformat": 4,
 "nbformat_minor": 5
}
