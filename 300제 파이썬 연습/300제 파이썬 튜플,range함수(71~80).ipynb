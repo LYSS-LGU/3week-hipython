{
 "cells": [
  {
   "cell_type": "markdown",
   "id": "9806dbc2-73ad-4fcc-afac-aeda69b4dc8c",
   "metadata": {},
   "source": [
    "# 파이썬 튜플 ( 71~80)"
   ]
  },
  {
   "cell_type": "code",
   "execution_count": 1,
   "id": "22bfeb1f-152a-4561-b58f-5f205657213e",
   "metadata": {},
   "outputs": [
    {
     "name": "stdout",
     "output_type": "stream",
     "text": [
      "<class 'tuple'>\n"
     ]
    }
   ],
   "source": [
    "# 71 my_variable 이름의 비어있는 튜플을 만들라.\n",
    "\n",
    "my_variable = ()\n",
    "print(type(my_variable))\n"
   ]
  },
  {
   "cell_type": "code",
   "execution_count": 6,
   "id": "5bd34caa-935b-4c49-a27e-0d048932381c",
   "metadata": {},
   "outputs": [
    {
     "name": "stdout",
     "output_type": "stream",
     "text": [
      "<class 'tuple'>\n",
      "('닥터 스트레인지', '스플릿', '럭키')\n"
     ]
    }
   ],
   "source": [
    "# 72. 2016년 11월 영화 예매 순위 기준 top3는 다음과 같다. \n",
    "# 영화 제목을 movie_rank 이름의 튜플에 저장하라. (순위 정보는 저장하지 않는다.)\n",
    "\n",
    "movie_rank = (\"닥터 스트레인지\", \"스플릿\", \"럭키\")\n",
    "print(type(movie_rank))\n",
    "print(movie_rank)"
   ]
  },
  {
   "cell_type": "code",
   "execution_count": 12,
   "id": "3cf7155b-e09e-4295-8163-9c47544dbfd6",
   "metadata": {},
   "outputs": [
    {
     "name": "stdout",
     "output_type": "stream",
     "text": [
      "(1,)\n",
      "<class 'tuple'>\n"
     ]
    }
   ],
   "source": [
    "# 73. 숫자 1이 저장된 튜플을 생성하라\n",
    "\n",
    "my_tuple = (1)\n",
    "type (my_tuple)\n",
    "\n",
    "# 하나의 데이터가 저장되는 경우, 아래와 같이 쉼표를 입력해만 합니다.\n",
    "\n",
    "my_tuple = (1, )\n",
    "print(my_tuple)\n",
    "print(type(my_tuple))"
   ]
  },
  {
   "cell_type": "code",
   "execution_count": 16,
   "id": "c9a52e03-1b74-4e8e-a5c9-f21f8cb07f16",
   "metadata": {},
   "outputs": [
    {
     "ename": "TypeError",
     "evalue": "'tuple' object does not support item assignment",
     "output_type": "error",
     "traceback": [
      "\u001b[31m---------------------------------------------------------------------------\u001b[39m",
      "\u001b[31mTypeError\u001b[39m                                 Traceback (most recent call last)",
      "\u001b[36mCell\u001b[39m\u001b[36m \u001b[39m\u001b[32mIn[16]\u001b[39m\u001b[32m, line 4\u001b[39m\n\u001b[32m      1\u001b[39m \u001b[38;5;66;03m# 74. 다음 코드를 실행해보고 오류가 발생하는 원인을 설명하라.\u001b[39;00m\n\u001b[32m      3\u001b[39m t = (\u001b[32m1\u001b[39m,\u001b[32m2\u001b[39m,\u001b[32m3\u001b[39m)\n\u001b[32m----> \u001b[39m\u001b[32m4\u001b[39m t[\u001b[32m0\u001b[39m] = \u001b[33m'\u001b[39m\u001b[33ma\u001b[39m\u001b[33m'\u001b[39m\n",
      "\u001b[31mTypeError\u001b[39m: 'tuple' object does not support item assignment"
     ]
    }
   ],
   "source": [
    "# 74. 다음 코드를 실행해보고 오류가 발생하는 원인을 설명하라.\n",
    "\n",
    "t = (1,2,3)\n",
    "t[0] = 'a'\n",
    "\n",
    "# TypeError:'tuple' object does not support item assignment\n",
    "# tuple은 원소(element)의 값을 변경할 수 없습니다.\n"
   ]
  },
  {
   "cell_type": "code",
   "execution_count": 23,
   "id": "b515a456-bbea-4a00-8766-1128665ca7a9",
   "metadata": {},
   "outputs": [
    {
     "name": "stdout",
     "output_type": "stream",
     "text": [
      "<class 'tuple'>\n"
     ]
    }
   ],
   "source": [
    "# 75. 아래와 같이 t에는 1, 2, 3, 4 데이터가 바인딩되어 있다. \n",
    "# t가 바인딩하는 데이터 타입은 무엇인가?\n",
    "\n",
    "t = 1,2,3,4\n",
    "print(type(t))\n",
    "\n",
    "# 원칙적으로 튜플은 괄호와 함께 데이터를 정의해야 하지만, \n",
    "#사용자 편의를 위해 괄호 없이도 동작합니다.\n"
   ]
  },
  {
   "cell_type": "code",
   "execution_count": 29,
   "id": "d45be551-f0bd-449c-b95f-5ac02c879f5c",
   "metadata": {},
   "outputs": [
    {
     "ename": "TypeError",
     "evalue": "'tuple' object does not support item assignment",
     "output_type": "error",
     "traceback": [
      "\u001b[31m---------------------------------------------------------------------------\u001b[39m",
      "\u001b[31mTypeError\u001b[39m                                 Traceback (most recent call last)",
      "\u001b[36mCell\u001b[39m\u001b[36m \u001b[39m\u001b[32mIn[29]\u001b[39m\u001b[32m, line 6\u001b[39m\n\u001b[32m      4\u001b[39m t = (\u001b[33m'\u001b[39m\u001b[33ma\u001b[39m\u001b[33m'\u001b[39m,\u001b[33m'\u001b[39m\u001b[33mb\u001b[39m\u001b[33m'\u001b[39m,\u001b[33m'\u001b[39m\u001b[33mc\u001b[39m\u001b[33m'\u001b[39m)\n\u001b[32m      5\u001b[39m \u001b[38;5;66;03m# 튜플의 값은 변경할 수 없기 때문에, 리스트와 달리 아래 코드는 동작하지 않습니다.\u001b[39;00m\n\u001b[32m----> \u001b[39m\u001b[32m6\u001b[39m t[\u001b[32m0\u001b[39m] = \u001b[33m'\u001b[39m\u001b[33mA\u001b[39m\u001b[33m'\u001b[39m\n\u001b[32m      7\u001b[39m \u001b[38;5;66;03m# 새로운 튜플을 만들고 t 라는 변수를 업데이트 해야 합니다.\u001b[39;00m\n\u001b[32m      8\u001b[39m \u001b[38;5;66;03m#기존의 튜플 ('a', 'b', 'c')은 자동으로 삭제됩니다.\u001b[39;00m\n\u001b[32m      9\u001b[39m t = (\u001b[33m'\u001b[39m\u001b[33mA\u001b[39m\u001b[33m'\u001b[39m,\u001b[33m'\u001b[39m\u001b[33mb\u001b[39m\u001b[33m'\u001b[39m,\u001b[33m'\u001b[39m\u001b[33mc\u001b[39m\u001b[33m'\u001b[39m)\n",
      "\u001b[31mTypeError\u001b[39m: 'tuple' object does not support item assignment"
     ]
    }
   ],
   "source": [
    "# 76. 변수 t에는 아래와 같은 값이 저장되어 있다.\n",
    "# 변수 t가 (`A`,`b`,`c`) 튜플을 가리키도록 수정하라\n",
    "\n",
    "t = ('a','b','c')\n",
    "# 튜플의 값은 변경할 수 없기 때문에, 리스트와 달리 아래 코드는 동작하지 않습니다.\n",
    "t[0] = 'A'\n",
    "# 새로운 튜플을 만들고 t 라는 변수를 업데이트 해야 합니다.\n",
    "#기존의 튜플 ('a', 'b', 'c')은 자동으로 삭제됩니다.\n",
    "t = ('A','b','c')\n"
   ]
  },
  {
   "cell_type": "code",
   "execution_count": 30,
   "id": "b1970edc-cdb1-42b4-a57d-6e70ec61cae2",
   "metadata": {},
   "outputs": [
    {
     "name": "stdout",
     "output_type": "stream",
     "text": [
      "('A', 'b', 'c')\n"
     ]
    }
   ],
   "source": [
    "t = ('a', 'b', 'c')\n",
    "temp = list(t)     # 튜플 → 리스트\n",
    "temp[0] = 'A'      # 값 수정\n",
    "t = tuple(temp)    # 리스트 → 튜플\n",
    "\n",
    "print(t)  # ('A', 'b', 'c')\n"
   ]
  },
  {
   "cell_type": "code",
   "execution_count": 40,
   "id": "1419d5ca-484e-41b9-a77f-2c1e88b0615b",
   "metadata": {},
   "outputs": [
    {
     "name": "stdout",
     "output_type": "stream",
     "text": [
      "튜플을 리스트로 <class 'list'> ['삼성전자', 'LG전자', 'SK하이닉스']\n",
      "리스트를 튜플로 <class 'tuple'> ('삼성전자', 'LG전자', 'SK하이닉스')\n"
     ]
    }
   ],
   "source": [
    "# 77. 튜플을 리스트로 변환하라.\n",
    "\n",
    "interest = ('삼성전자', 'LG전자', 'SK하이닉스')\n",
    "data = list(interest)  # ← 튜플을 리스트로 변환\n",
    "print(\"튜플을 리스트로\", type(data), data)  # ← 여기 고쳤음!\n",
    "\n",
    "# 78. 리스트를 튜플로 변경하라 \n",
    "interest = ['삼성전자', 'LG전자', 'SK하이닉스']  # ← []리스트로 먼저 설정!\n",
    "data = tuple(interest)\n",
    "print(\"리스트를 튜플로\", type(data), data)    # ← 여기 고쳤음!\n"
   ]
  },
  {
   "cell_type": "code",
   "execution_count": 41,
   "id": "e2b9ed86-a6fa-418e-9708-eb732e4559f5",
   "metadata": {},
   "outputs": [
    {
     "name": "stdout",
     "output_type": "stream",
     "text": [
      "apple banana cake\n"
     ]
    }
   ],
   "source": [
    "# 79. 튜플 언팩킹\n",
    "\n",
    "temp = ('apple', 'banana', 'cake')\n",
    "a,b,c = temp\n",
    "print(a,b,c)\n"
   ]
  },
  {
   "cell_type": "markdown",
   "id": "7dda0da4-7877-40c0-bc98-d666e637469f",
   "metadata": {},
   "source": [
    "# 80. range 함수"
   ]
  },
  {
   "cell_type": "code",
   "execution_count": 43,
   "id": "86c117bb-5e11-483e-88b3-32586095a370",
   "metadata": {},
   "outputs": [
    {
     "name": "stdout",
     "output_type": "stream",
     "text": [
      "(2, 4, 6, 8, 10, 12, 14, 16, 18, 20, 22, 24, 26, 28, 30, 32, 34, 36, 38, 40, 42, 44, 46, 48, 50, 52, 54, 56, 58, 60, 62, 64, 66, 68, 70, 72, 74, 76, 78, 80, 82, 84, 86, 88, 90, 92, 94, 96, 98)\n"
     ]
    }
   ],
   "source": [
    "# 1부터 99까지의 정수 중 짝수만 저장된 튜플을 생성하라.\n",
    "\n",
    "# range(2, 100, 2):\n",
    "# - 2부터 시작해서\n",
    "# - 100보다 작을 때까지\n",
    "# - 2씩 증가하는 숫자들을 생성 (즉, 짝수만 생성)\n",
    "# 예: 2, 4, 6, ..., 98\n",
    "\n",
    "# tuple(...) :\n",
    "# - range로 만들어진 숫자 시퀀스를 튜플로 변환\n",
    "# - 불변(immutable)한 형태로 짝수 리스트를 저장\n",
    "\n",
    "data = tuple(range(2, 100, 2))\n",
    "\n",
    "# 결과 출력: 생성된 짝수 튜플을 화면에 출력\n",
    "print(data)\n"
   ]
  }
 ],
 "metadata": {
  "kernelspec": {
   "display_name": "Python 3 (ipykernel)",
   "language": "python",
   "name": "python3"
  },
  "language_info": {
   "codemirror_mode": {
    "name": "ipython",
    "version": 3
   },
   "file_extension": ".py",
   "mimetype": "text/x-python",
   "name": "python",
   "nbconvert_exporter": "python",
   "pygments_lexer": "ipython3",
   "version": "3.12.1"
  }
 },
 "nbformat": 4,
 "nbformat_minor": 5
}
