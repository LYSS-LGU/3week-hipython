{
 "cells": [
  {
   "cell_type": "code",
   "execution_count": 2,
   "id": "341e2574-9b46-4513-be70-ea22a333dc44",
   "metadata": {},
   "outputs": [
    {
     "name": "stdout",
     "output_type": "stream",
     "text": [
      "['닥터 스트레인지', '스플릿', '럭키', '베트맨']\n"
     ]
    }
   ],
   "source": [
    "# 51. 리스트생성\n",
    "\n",
    "movie_rank = [\"닥터 스트레인지\", \"스플릿\", \"럭키\"]\n",
    "\n",
    "# 52.리스트에 원소 추가\n",
    "movie_rank.append(\"베트맨\")\n",
    "print(movie_rank)"
   ]
  },
  {
   "cell_type": "code",
   "execution_count": 5,
   "id": "3bcfe3a0-4fcc-4a48-b03b-c044a2aea8e5",
   "metadata": {},
   "outputs": [
    {
     "name": "stdout",
     "output_type": "stream",
     "text": [
      "['닥터 스트레인지', '슈퍼맨', '스플릿', '럭키', '베트맨']\n"
     ]
    }
   ],
   "source": [
    "# 53. 항목추가\n",
    "\n",
    "movie_rank = [\"닥터 스트레인지\", \"스플릿\", \"럭키\", \"베트맨\"]\n",
    "movie_rank.insert(1, \"슈퍼맨\")\n",
    "print(movie_rank)\n"
   ]
  },
  {
   "cell_type": "code",
   "execution_count": 6,
   "id": "131968c8-100d-44a1-abca-cfce3ade4a97",
   "metadata": {},
   "outputs": [
    {
     "name": "stdout",
     "output_type": "stream",
     "text": [
      "['닥터 스트레인지', '슈퍼맨', '스플릿', '베트맨']\n"
     ]
    }
   ],
   "source": [
    "# 54.항목삭제\n",
    "\n",
    "movie_rank = ['닥터 스트레인지', '슈퍼맨', '스플릿', '럭키', '베트맨']\n",
    "del movie_rank[3]\n",
    "print(movie_rank)"
   ]
  },
  {
   "cell_type": "code",
   "execution_count": 8,
   "id": "34f24175-90c5-49e5-a7f1-abb8d967c2fd",
   "metadata": {},
   "outputs": [
    {
     "name": "stdout",
     "output_type": "stream",
     "text": [
      "['닥터 스트레인지', '슈퍼맨']\n"
     ]
    }
   ],
   "source": [
    "# 55.항목삭제 스플릿과 베트맨 삭제\n",
    "\n",
    "movie_rank = ['닥터 스트레인지', '슈퍼맨', '스플릿', '베트맨']\n",
    "del movie_rank[2]\n",
    "del movie_rank[2]\n",
    "print(movie_rank)"
   ]
  },
  {
   "cell_type": "code",
   "execution_count": 12,
   "id": "1e42912a-c09f-40eb-94de-e8357f5a3258",
   "metadata": {},
   "outputs": [
    {
     "name": "stdout",
     "output_type": "stream",
     "text": [
      "['C', 'C++', 'JAVA', 'python', 'Go', 'C#']\n"
     ]
    }
   ],
   "source": [
    "# 56. 리스트 합치기\n",
    "lang1 = [\"C\", \"C++\", \"JAVA\"]\n",
    "lang2 = [\"python\", \"Go\", \"C#\"]\n",
    "langs = lang1 + lang2\n",
    "print(langs)"
   ]
  },
  {
   "cell_type": "code",
   "execution_count": 13,
   "id": "2496b6ef-e1bc-40bb-b20e-0b22882eb75c",
   "metadata": {},
   "outputs": [
    {
     "name": "stdout",
     "output_type": "stream",
     "text": [
      "max:  7\n",
      "min:  1\n"
     ]
    }
   ],
   "source": [
    "# 57. 최댓값과 최솟값 출력하기 (힌트 : min(),max() 함수 사용)\n",
    "\n",
    "nums = [1,2,3,4,5,6,7]\n",
    "print(\"max: \", max(nums))\n",
    "print(\"min: \", min(nums))"
   ]
  },
  {
   "cell_type": "code",
   "execution_count": 14,
   "id": "c04742ad-d889-49e2-b990-6a265a6bed95",
   "metadata": {},
   "outputs": [
    {
     "name": "stdout",
     "output_type": "stream",
     "text": [
      "15\n"
     ]
    }
   ],
   "source": [
    "# 58. 리스트의 합을 출력\n",
    "\n",
    "nums = [1,2,3,4,5]\n",
    "print(sum(nums))"
   ]
  },
  {
   "cell_type": "code",
   "execution_count": 15,
   "id": "2686c5e7-8a7b-42b7-9e5d-62bad69689e7",
   "metadata": {},
   "outputs": [
    {
     "name": "stdout",
     "output_type": "stream",
     "text": [
      "12\n"
     ]
    }
   ],
   "source": [
    "# 59. 리스트에 저장된 데이터 개수 화면 출력 len()\n",
    "\n",
    "cook = [\"피자\", \"김밥\" , \"만두\", \"양념치킨\", \"족발\", \"피자\", \"김치만두\", \"쫄면\", \"소시지\", \"라면\", \"팥빙수\", \"김치전\"]\n",
    "print(len(cook))"
   ]
  },
  {
   "cell_type": "code",
   "execution_count": 17,
   "id": "85bfd613-3b1c-402c-9f9c-1a8175e6abd2",
   "metadata": {},
   "outputs": [
    {
     "name": "stdout",
     "output_type": "stream",
     "text": [
      "3.0\n"
     ]
    }
   ],
   "source": [
    "# 60. 리스트의 평균 출력\n",
    "\n",
    "nums = [1,2,3,4,5]\n",
    "average = sum(nums) / len(nums)\n",
    "print(average)"
   ]
  },
  {
   "cell_type": "code",
   "execution_count": 21,
   "id": "708a8115-a957-4615-8700-3a829aab578d",
   "metadata": {},
   "outputs": [
    {
     "name": "stdout",
     "output_type": "stream",
     "text": [
      "[100, 130, 140, 150, 160, 170]\n",
      "[1, 3, 5, 7, 9]\n",
      "[2, 4, 6, 8, 10]\n"
     ]
    }
   ],
   "source": [
    "# 61. price 변수에는 날짜와 종가 정보가 저장돼 있다. \n",
    "# 날짜 정보를 제외하고 가격 정보만을 출력하라. (힌트 : 슬라이싱)\n",
    "\n",
    "price = ['20180728', 100, 130, 140, 150, 160, 170]\n",
    "print(price[1:])\n",
    "\n",
    "# 62. 슬라이싱 홀수만 출력\n",
    "nums = [1,2,3,4,5,6,7,8,9,10]\n",
    "print(nums[::2])\n",
    "\n",
    "# 63. 슬라이싱 짝수만 출력\n",
    "nums = [1,2,3,4,5,6,7,8,9,10]\n",
    "print(nums[1::2])"
   ]
  },
  {
   "cell_type": "code",
   "execution_count": 22,
   "id": "7bcb82e7-b80f-4324-92e4-9f6f9c742f78",
   "metadata": {},
   "outputs": [
    {
     "name": "stdout",
     "output_type": "stream",
     "text": [
      "[5, 4, 3, 2, 1]\n"
     ]
    }
   ],
   "source": [
    "# 64. 슬라이싱 역방향 출력\n",
    "nums = [1,2,3,4,5]\n",
    "print(nums[::-1])"
   ]
  },
  {
   "cell_type": "code",
   "execution_count": 23,
   "id": "dd4f541a-79f9-4e3a-a95d-9f3a18cd16b6",
   "metadata": {},
   "outputs": [
    {
     "name": "stdout",
     "output_type": "stream",
     "text": [
      "삼성전자 Naver\n"
     ]
    }
   ],
   "source": [
    "# 65.리스트 내에 원하는 항목 출력하기\n",
    "interest = ['삼성전자', 'LG전자', 'Naver']\n",
    "print(interest[0], interest[2])"
   ]
  },
  {
   "cell_type": "code",
   "execution_count": 31,
   "id": "5104f5b6-bb3a-4172-b9c4-02ef2a31eddd",
   "metadata": {},
   "outputs": [
    {
     "name": "stdout",
     "output_type": "stream",
     "text": [
      "66. 삼성전자 LG전자 Naver SK하이닉스 미래에셋대우\n",
      "67. 삼성전자/LG전자/Naver/SK하이닉스/미래에셋대우\n",
      "68. 삼성전자\n",
      "LG전자\n",
      "Naver\n",
      "SK하이닉스\n",
      "미래에셋대우\n"
     ]
    }
   ],
   "source": [
    "# 66. join 메서드\n",
    "\n",
    "interest = ['삼성전자' ,'LG전자', 'Naver', 'SK하이닉스', '미래에셋대우']\n",
    "print(\"66.\",\" \".join(interest))\n",
    "\n",
    "# 67. (\"/\".join(interest))\n",
    "interest = ['삼성전자' ,'LG전자', 'Naver', 'SK하이닉스', '미래에셋대우']\n",
    "print(\"67.\",\"/\".join(interest))\n",
    "\n",
    "# 68. print(\"\\n\".join(interest))\n",
    "interest = ['삼성전자' ,'LG전자', 'Naver', 'SK하이닉스', '미래에셋대우']\n",
    "print(\"68.\",\"\\n\".join(interest))"
   ]
  },
  {
   "cell_type": "code",
   "execution_count": 32,
   "id": "15d5bd42-b4d7-4608-aaea-b2b6ff14fd61",
   "metadata": {},
   "outputs": [
    {
     "name": "stdout",
     "output_type": "stream",
     "text": [
      "['삼성전자', 'LG전자', 'Naver']\n"
     ]
    }
   ],
   "source": [
    "# 69. 문자열 split 메서드\n",
    "\n",
    "string = \"삼성전자/LG전자/Naver\"\n",
    "interest = string.split(\"/\")\n",
    "print(interest)"
   ]
  },
  {
   "cell_type": "code",
   "execution_count": 36,
   "id": "cbb7c4a9-c0dd-47e5-90ed-f1dcc20ff3a3",
   "metadata": {},
   "outputs": [
    {
     "name": "stdout",
     "output_type": "stream",
     "text": [
      "70. [1, 2, 3, 4, 5, 9, 10]\n",
      "70-1 [1, 2, 3, 4, 5, 9, 10]\n"
     ]
    }
   ],
   "source": [
    "# 70. 리스트 정렬\n",
    "data = [2,4,3,1,5,10,9]\n",
    "data.sort()\n",
    "print(\"70.\", data)\n",
    "\n",
    "date2 = sorted(data)\n",
    "print(\"70-1\", data)"
   ]
  },
  {
   "cell_type": "code",
   "execution_count": null,
   "id": "23639f7e-8f9f-41bd-b60f-b677f9c83ee4",
   "metadata": {},
   "outputs": [],
   "source": []
  },
  {
   "cell_type": "code",
   "execution_count": null,
   "id": "909a5271-0c3c-43e1-827a-ca089c539e35",
   "metadata": {},
   "outputs": [],
   "source": []
  }
 ],
 "metadata": {
  "kernelspec": {
   "display_name": "Python 3 (ipykernel)",
   "language": "python",
   "name": "python3"
  },
  "language_info": {
   "codemirror_mode": {
    "name": "ipython",
    "version": 3
   },
   "file_extension": ".py",
   "mimetype": "text/x-python",
   "name": "python",
   "nbconvert_exporter": "python",
   "pygments_lexer": "ipython3",
   "version": "3.12.1"
  }
 },
 "nbformat": 4,
 "nbformat_minor": 5
}
