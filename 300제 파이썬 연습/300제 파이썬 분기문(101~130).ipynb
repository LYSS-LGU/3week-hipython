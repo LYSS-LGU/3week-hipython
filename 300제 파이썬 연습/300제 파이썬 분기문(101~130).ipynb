{
 "cells": [
  {
   "cell_type": "markdown",
   "id": "b91ba7c1-ac1c-485c-9f69-7bf366afbcc6",
   "metadata": {},
   "source": [
    "# 300제 파이썬 분기문(101~130)"
   ]
  },
  {
   "cell_type": "code",
   "execution_count": null,
   "id": "a7267437-da2b-4e1d-9b71-ad717d777060",
   "metadata": {},
   "outputs": [],
   "source": [
    "# 101. 파이썬에서 True 혹은 False를 갖는 데이터 타입은 무엇인가?\n",
    "\n",
    "# 'bool' 타입입니다.\n",
    "\n",
    "# 102. 아래 코드의 출력 결과를 예상하라.\n",
    "print (\"102번\",3==5)\n",
    "print (\"103번\",3 <5)\n",
    "# 104.\n",
    "x = 4\n",
    "print (\"104번\",1 < x < 5)\n",
    "# 105.\n",
    "print (\"105번\",(3==3) and ( 4 != 3))\n",
    "\n"
   ]
  },
  {
   "cell_type": "code",
   "execution_count": null,
   "id": "2097c216-697d-473a-ba27-234406da63a1",
   "metadata": {},
   "outputs": [],
   "source": [
    "# 106.\n",
    "# print (\"106번\",(3 => 4)\n",
    "print(\"106번\", \"SyntaxError: invalid syntax\", \"지원하지 않는 연산자입니다.\")"
   ]
  },
  {
   "cell_type": "code",
   "execution_count": null,
   "id": "3db741df-da32-429f-8d3b-bf3bf172dd6d",
   "metadata": {},
   "outputs": [],
   "source": [
    "# 107.\n",
    "if 4 < 3:\n",
    "    print(\"Hello World\")\n",
    "print(\"107번\", \"조건을 만족하지 않기 때문에 아무 결과도 출력되지 않습니다.\")"
   ]
  },
  {
   "cell_type": "code",
   "execution_count": null,
   "id": "a6068989-c0a1-430c-b13c-02e15f662f16",
   "metadata": {},
   "outputs": [],
   "source": [
    "# 108.\n",
    "if 4 < 3:\n",
    "    print(\"Hello World.\")\n",
    "else:\n",
    "    print(\"Hi, there.\")\n",
    "    #조건을 만족하지 않기 때문에 else에서 들여쓰기 된 문장이 실행됩니다.\n"
   ]
  },
  {
   "cell_type": "code",
   "execution_count": null,
   "id": "0d3f6ef9-b85a-4331-9029-f0f392aa2bf5",
   "metadata": {},
   "outputs": [],
   "source": [
    "# 109.\n",
    "if True :\n",
    "    print(\"1\")\n",
    "    print(\"2\")\n",
    "else : \n",
    "    print(\"3\")\n",
    "print(\"4\")"
   ]
  },
  {
   "cell_type": "code",
   "execution_count": null,
   "id": "5243b912-fa10-4b5c-b7c2-4b099e010e4e",
   "metadata": {},
   "outputs": [],
   "source": [
    "# 110.\n",
    "if True :\n",
    "    if False:\n",
    "        print(\"1\")\n",
    "        print(\"2\")\n",
    "    else:\n",
    "        print(\"3\")\n",
    "else :\n",
    "    print(\"4\")\n",
    "print(\"5\")"
   ]
  },
  {
   "cell_type": "code",
   "execution_count": null,
   "id": "5d6e0b0f-f5ca-46ad-8ce6-994d8fe063e3",
   "metadata": {},
   "outputs": [],
   "source": [
    "# 111. 사용자로부터 입력받은 문자열을 두 번 출력하라.\n",
    "user = input(\"입력:\")\n",
    "print(user * 2 )\n"
   ]
  },
  {
   "cell_type": "code",
   "execution_count": null,
   "id": "5abb88b3-6d44-4722-91e1-c17c223a1743",
   "metadata": {},
   "outputs": [],
   "source": [
    "# 112. 사용자로부터 하나의 숫자를 입력받고, 입력 받은 숫자에 10을 더해 출력하라.\n",
    "\n",
    "user = input(\"숫자를 입력하세요:\")\n",
    "print(10 +int(user))"
   ]
  },
  {
   "cell_type": "code",
   "execution_count": null,
   "id": "fbcaeacc-a4b7-422d-9397-4349725ed1e3",
   "metadata": {},
   "outputs": [],
   "source": [
    "# 113. 사용자로부터 하나의 숫자를 입력 받고 짝수/홀수를 판별하라.\n",
    "\n",
    "user = input(\"\")\n",
    "if int(user) % 2 == 0:\n",
    "    print(\"짝수\")\n",
    "else:\n",
    "    print(\"홀수\")"
   ]
  },
  {
   "cell_type": "code",
   "execution_count": null,
   "id": "f64f914e-e08c-4f67-9e4c-2f86fc2d9791",
   "metadata": {},
   "outputs": [],
   "source": [
    "# 114. 사용자로부터 값을 입력받은 후 해당 값에 20을 더한 값을 출력하라. \n",
    "# 단 사용자가 입력한 값과 20을 더한 계산 값이 255를 초과하는 경우 255를 출력해야 한다.\n",
    "\n",
    "user = input(\"입력값: \")\n",
    "num = 20 + int(user)\n",
    "if num > 255:\n",
    "    print(255)\n",
    "else:\n",
    "    print(num)"
   ]
  },
  {
   "cell_type": "code",
   "execution_count": null,
   "id": "aa8f7212-3a6e-44e1-bab1-5f3cc755aaca",
   "metadata": {},
   "outputs": [],
   "source": [
    "# 115. 사용자로부터 하나의 값을 입력받은 후 해당 값에 20을 뺀 값을 출력하라. \n",
    "# 단 출력 값의 범위는 0~255이다.\n",
    "# 예를 들어 결괏값이 0보다 작은 값이되는 경우 0을 출력하고 255보다 큰 값이 되는 경우 255를 출력해야 한다.\n",
    "\n",
    "user = input(\"입력값:\")\n",
    "num = int(user) - 20\n",
    "if num > 255:\n",
    "    print(255)\n",
    "elif num < 0:\n",
    "    print(0)\n",
    "else:\n",
    "    print(num)"
   ]
  },
  {
   "cell_type": "code",
   "execution_count": null,
   "id": "7e8be710-a1b3-45a5-8569-f1be9707517a",
   "metadata": {},
   "outputs": [],
   "source": [
    "# 116. 사용자로부터 입력 받은 시간이 정각인지 판별하라.\n",
    "\n",
    "time = input(\"현재시간:\")\n",
    "if time[-2:] == \"00\":\n",
    "    print(\"정각 입니다.\")\n",
    "else:\n",
    "    print(\"정각이 아닙니다.\")"
   ]
  },
  {
   "cell_type": "code",
   "execution_count": null,
   "id": "15f752fc-695e-406f-b737-a938fba0f392",
   "metadata": {},
   "outputs": [],
   "source": [
    "# 117. 사용자로 입력받은 단어가 아래 fruit 리스트에 포함되어 있는지를 확인하라. \n",
    "# 포함되었다면 \"정답입니다\"를 아닐 경우 \"오답입니다\" 출력하라.\n",
    "\n",
    "fruit = [\"사과\", \"포도\", \"홍시\"]\n",
    "user = input(\"좋아하는 과일은?\")\n",
    "if user in fruit:\n",
    "    print(\"정답입니다.\")\n",
    "else:\n",
    "    pirnt(\"오답입니다.\")"
   ]
  },
  {
   "cell_type": "code",
   "execution_count": null,
   "id": "02ed10d0-335d-4afd-b415-0e43db1808e8",
   "metadata": {},
   "outputs": [],
   "source": [
    "# 118. 투자경고 출력 프로그램\n",
    "\n",
    "warn_investment_list = [\"Microsoft\", \"Google\", \"Naver\", \"Kakao\", \"SAMSUNG\", \"LG\"]\n",
    "\n",
    "종목 = input(\"종목명: \")\n",
    "if 종목 in warn_investment_list:\n",
    "    print(\"투자 경고 종목입니다.\")\n",
    "else:\n",
    "    print(\"투자 경고 종목이 아닙니다.\")\n"
   ]
  },
  {
   "cell_type": "code",
   "execution_count": null,
   "id": "476d9be5-b319-40c5-af60-b32259395314",
   "metadata": {},
   "outputs": [],
   "source": [
    "# 119. 아래와 같이 fruit 딕셔너리가 정의되어 있다. \n",
    "# 사용자가 입력한 값이 딕셔너리 키 (key) 값에 포함되었다면 \"정답입니다\"를 아닐 경우 \"오답입니다\" 출력하라.\n",
    "\n",
    "fruit = {\"봄\" : \"딸기\", \"여름\" :\"토마토\", \"가을\":\"사과\"}\n",
    "user = input(\"제가좋아하는계절은: \")\n",
    "if user in fruit:\n",
    "    print(\"정답입니다.\")\n",
    "else:\n",
    "    print(\"오답입니다.\")"
   ]
  },
  {
   "cell_type": "code",
   "execution_count": null,
   "id": "8e5651b8-1b9f-4fe4-bd3b-0cbc3fb2817b",
   "metadata": {},
   "outputs": [],
   "source": [
    "# 120. 사용자가 입력한 값이 딕셔너리 값 (value)에 포함되었다면 \"정답입니다\"를 아닐 경우 \"오답입니다\" 출력하라.\n",
    "fruit = {\"봄\" : \"딸기\", \"여름\" : \"토마토\", \"가을\" : \"사과\"}\n",
    "user = input(\"좋아하는 과일은?\")\n",
    "if user in fruit.values():\n",
    "    print(\"정답입니다.\")\n",
    "else:\n",
    "    print(\"오답입니다.\")"
   ]
  },
  {
   "cell_type": "code",
   "execution_count": null,
   "id": "bf48ee5d-4a5f-4950-8edb-f8310ee433bf",
   "metadata": {},
   "outputs": [],
   "source": [
    "# 121. 사용자로부터 문자 한 개를 입력 받고, 소문자일 경우 대문자로, 대문자 일 경우, 소문자로 변경해서 출력하라.\n",
    "\n",
    "user = input(\"\")\n",
    "if user.islower():\n",
    "    print(user.upper())\n",
    "else:\n",
    "    print(user.lower())\n",
    "\n",
    "\n",
    "# 힌트-1 : islower() 함수는 문자의 소문자 여부를 판별합니다. 만약 소문자일 경우 True, 대문자일 경우 False를 반환합니다. \n",
    "# 힌트-2 : upper() 함수는 대문자로, lower() 함수는 소문자로 변경합니다."
   ]
  },
  {
   "cell_type": "code",
   "execution_count": null,
   "id": "b54c154b-4dd8-43d4-a3d4-1c5dc4301005",
   "metadata": {},
   "outputs": [],
   "source": [
    "# 122. 사용자로부터 score를 입력받아 학점을 출력하라.\n",
    "score = input(\"score:\")\n",
    "score = int(score)\n",
    "if 81 <= score <= 100:\n",
    "    print(\"grade is A\")\n",
    "elif 61 <= score <= 80:\n",
    "    print(\"grade is B\")\n",
    "elif 41 <= score <= 60:\n",
    "    print(\"grade is C\")\n",
    "elif 21 <= score <= 40:\n",
    "    print(\"grade is D\")\n",
    "else:\n",
    "    print(\"grade is E\")\n",
    "    "
   ]
  },
  {
   "cell_type": "code",
   "execution_count": null,
   "id": "6ca7553a-4e2c-45a8-9112-34cfcb3686d1",
   "metadata": {},
   "outputs": [],
   "source": [
    "# 123. 사용자로부터 달러, 엔, 유로, 또는 위안 금액을 입력받은 후 이를 원으로 변환하는 프로그램을 작성하라.\n",
    "# 금액과 통화명 사이에 공백을 넣어 입력한다고 가정한다.\n",
    "\n",
    "환율 = {\"달러\": 1167, \"엔\": 1.096, \"유료\": 1268, \"위안\": 171}\n",
    "\n",
    "user = input(\"입력 (예: '1500 달러'): \")\n",
    "\n",
    "try:\n",
    "    num, currency = user.split()\n",
    "    result = float(num) * 환율[currency]\n",
    "    print(f\"{result:,} 원\")\n",
    "except ValueError:\n",
    "    print(\"❗ 입력은 '숫자 통화' 형식으로 해주세요. 예: 1500 달러\")\n",
    "except KeyError:\n",
    "    print(\"❗ 지원하지 않는 통화입니다. (예: 달러, 엔, 유료, 위안)\")\n"
   ]
  },
  {
   "cell_type": "code",
   "execution_count": 6,
   "id": "ecb62de0-a45b-448a-b6bc-35a89e72700c",
   "metadata": {},
   "outputs": [
    {
     "data": {
      "application/vnd.jupyter.widget-view+json": {
       "model_id": "8ed258c10aeb441fb2576ac5de52b982",
       "version_major": 2,
       "version_minor": 0
      },
      "text/plain": [
       "HBox(children=(Button(button_style='success', description='➕ +1', style=ButtonStyle()), Button(button_style='d…"
      ]
     },
     "metadata": {},
     "output_type": "display_data"
    },
    {
     "data": {
      "application/vnd.jupyter.widget-view+json": {
       "model_id": "3a6627ac0ece460292d54364af8ceca1",
       "version_major": 2,
       "version_minor": 0
      },
      "text/plain": [
       "Output()"
      ]
     },
     "metadata": {},
     "output_type": "display_data"
    }
   ],
   "source": [
    "from ipywidgets import Button, Output, HBox\n",
    "from IPython.display import display\n",
    "\n",
    "count = 0  # 초기 카운터 값\n",
    "out = Output()\n",
    "\n",
    "def update_output():\n",
    "    with out:\n",
    "        out.clear_output()\n",
    "        print(f\"📟 현재 값: {count}\")\n",
    "\n",
    "def on_plus_clicked(b):\n",
    "    global count\n",
    "    count += 1\n",
    "    update_output()\n",
    "\n",
    "def on_minus_clicked(b):\n",
    "    global count\n",
    "    count -= 1\n",
    "    update_output()\n",
    "\n",
    "def on_reset_clicked(b):\n",
    "    global count\n",
    "    count = 0\n",
    "    update_output()\n",
    "\n",
    "# 버튼 생성\n",
    "plus_btn = Button(description=\"➕ +1\", button_style='success')\n",
    "minus_btn = Button(description=\"➖ -1\", button_style='danger')\n",
    "reset_btn = Button(description=\"🔁 초기화\", button_style='warning')\n",
    "\n",
    "# 버튼 이벤트 연결\n",
    "plus_btn.on_click(on_plus_clicked)\n",
    "minus_btn.on_click(on_minus_clicked)\n",
    "reset_btn.on_click(on_reset_clicked)\n",
    "\n",
    "# 출력\n",
    "display(HBox([plus_btn, minus_btn, reset_btn]), out)\n",
    "update_output()  # 처음 출력\n"
   ]
  },
  {
   "cell_type": "code",
   "execution_count": 9,
   "id": "5d58ef39-5697-46fd-a203-f67c8c200ee2",
   "metadata": {},
   "outputs": [
    {
     "name": "stdin",
     "output_type": "stream",
     "text": [
      "input number1:  18\n",
      "input number2:  1\n",
      "input number3:  17\n"
     ]
    },
    {
     "name": "stdout",
     "output_type": "stream",
     "text": [
      "18\n"
     ]
    }
   ],
   "source": [
    "# 124.사용자로부터 세 개의 숫자를 입력 받은 후 가장 큰 숫자를 출력\n",
    "num1 = input(\"input number1: \")\n",
    "num2 = input(\"input number2: \")\n",
    "num3 = input(\"input number3: \")\n",
    "num1 = int(num1)\n",
    "num2 = int(num2)\n",
    "num3 = int(num3)\n",
    "\n",
    "if num1 >= num2 and num1 >= num3:\n",
    "    print(num1)\n",
    "elif num2 >= num1 and num2 >= num3:\n",
    "    print(num2)\n",
    "else:\n",
    "    print(num3)"
   ]
  },
  {
   "cell_type": "code",
   "execution_count": null,
   "id": "0257ace1-7497-46d0-ace8-98fb6ff5b139",
   "metadata": {},
   "outputs": [],
   "source": [
    "# 125. 사용자로부터 휴대전화 번호를 입력 받고, 통신사를 출력하는 프로그램을 작성하라."
   ]
  },
  {
   "cell_type": "code",
   "execution_count": 10,
   "id": "36449147-065d-42ff-b473-dbc8b4349d33",
   "metadata": {},
   "outputs": [
    {
     "name": "stdin",
     "output_type": "stream",
     "text": [
      "휴대전화 번호 입력:  010\n"
     ]
    },
    {
     "name": "stdout",
     "output_type": "stream",
     "text": [
      "당신은 알수없음 사용자입니다.\n"
     ]
    }
   ],
   "source": [
    "number = input(\"휴대전화 번호 입력: \")\n",
    "num = number.split(\"-\")[0]\n",
    "if num == \"011\":\n",
    "    com = \"SKT\"\n",
    "elif num == \"016\":\n",
    "    com = \"KT\"\n",
    "elif num == \"019\":\n",
    "    com = \"LGU\"\n",
    "else:\n",
    "    com = \"알수없음\"\n",
    "print(f\"당신은 {com} 사용자입니다.\")\n"
   ]
  },
  {
   "cell_type": "code",
   "execution_count": 12,
   "id": "5c748c13-fb12-4356-85ca-1a441dd368e5",
   "metadata": {},
   "outputs": [
    {
     "name": "stdin",
     "output_type": "stream",
     "text": [
      "우편번호:  013\n"
     ]
    },
    {
     "name": "stdout",
     "output_type": "stream",
     "text": [
      "노원구\n"
     ]
    }
   ],
   "source": [
    "# 126. 우편번호는 5자리로 구성되는데, 앞의 세자리는 구를 나타낸다. \n",
    "# 예를들어, 강북구의 경우 010, 011, 012 세 자리로 시작한다.\n",
    "\n",
    "우편번호 = input(\"우편번호: \")\n",
    "우편번호 = 우편번호[:3]\n",
    "if 우편번호 in [\"010\", \"011\", \"012\"]:\n",
    "    print(\"강북구\")\n",
    "elif 우편번호 in [\"014\", \"015\", \"016\"]:\n",
    "    print(\"도봉구\")\n",
    "else:\n",
    "    print(\"노원구\")\n"
   ]
  },
  {
   "cell_type": "code",
   "execution_count": 13,
   "id": "3bbdf7b7-357b-48d2-8500-7c3ebe3045e5",
   "metadata": {},
   "outputs": [
    {
     "name": "stdin",
     "output_type": "stream",
     "text": [
      "주민등록번호:  21132132125\n"
     ]
    },
    {
     "ename": "IndexError",
     "evalue": "list index out of range",
     "output_type": "error",
     "traceback": [
      "\u001b[31m---------------------------------------------------------------------------\u001b[39m",
      "\u001b[31mIndexError\u001b[39m                                Traceback (most recent call last)",
      "\u001b[36mCell\u001b[39m\u001b[36m \u001b[39m\u001b[32mIn[13]\u001b[39m\u001b[32m, line 4\u001b[39m\n\u001b[32m      1\u001b[39m \u001b[38;5;66;03m# 127. 주민등록번호 뒷 자리 7자리 중 첫째 자리는 성별을 나타내는데, 1, 3은 남자 2, 4는 여자를 의미한다. \u001b[39;00m\n\u001b[32m      2\u001b[39m \u001b[38;5;66;03m#사용자로부터 13자리의 주민등록번호를 입력 받은 후 성별 (남자, 여자)를 출력하는 프로그램을 작성하라.\u001b[39;00m\n\u001b[32m      3\u001b[39m 주민번호 = \u001b[38;5;28minput\u001b[39m(\u001b[33m\"\u001b[39m\u001b[33m주민등록번호: \u001b[39m\u001b[33m\"\u001b[39m)\n\u001b[32m----> \u001b[39m\u001b[32m4\u001b[39m 주민번호 = 주민번호.split(\u001b[33m\"\u001b[39m\u001b[33m-\u001b[39m\u001b[33m\"\u001b[39m)[\u001b[32m1\u001b[39m]\n\u001b[32m      5\u001b[39m \u001b[38;5;28;01mif\u001b[39;00m 주민번호[\u001b[32m0\u001b[39m] == \u001b[33m\"\u001b[39m\u001b[33m1\u001b[39m\u001b[33m\"\u001b[39m \u001b[38;5;129;01mor\u001b[39;00m 주민번호[\u001b[32m0\u001b[39m] == \u001b[33m\"\u001b[39m\u001b[33m3\u001b[39m\u001b[33m\"\u001b[39m:\n\u001b[32m      6\u001b[39m     \u001b[38;5;28mprint\u001b[39m(\u001b[33m\"\u001b[39m\u001b[33m남자\u001b[39m\u001b[33m\"\u001b[39m)\n",
      "\u001b[31mIndexError\u001b[39m: list index out of range"
     ]
    }
   ],
   "source": [
    "# 127. 주민등록번호 뒷 자리 7자리 중 첫째 자리는 성별을 나타내는데, 1, 3은 남자 2, 4는 여자를 의미한다. \n",
    "#사용자로부터 13자리의 주민등록번호를 입력 받은 후 성별 (남자, 여자)를 출력하는 프로그램을 작성하라.\n",
    "주민번호 = input(\"주민등록번호: \")\n",
    "주민번호 = 주민번호.split(\"-\")[1]\n",
    "if 주민번호[0] == \"1\" or 주민번호[0] == \"3\":\n",
    "    print(\"남자\")\n",
    "else:\n",
    "    print(\"여자\")\n",
    "\n"
   ]
  },
  {
   "cell_type": "code",
   "execution_count": 14,
   "id": "86cdc4b3-845d-4b8b-8667-6832836d0231",
   "metadata": {},
   "outputs": [
    {
     "name": "stdin",
     "output_type": "stream",
     "text": [
      "주민등록번호:  1\n"
     ]
    },
    {
     "ename": "IndexError",
     "evalue": "list index out of range",
     "output_type": "error",
     "traceback": [
      "\u001b[31m---------------------------------------------------------------------------\u001b[39m",
      "\u001b[31mIndexError\u001b[39m                                Traceback (most recent call last)",
      "\u001b[36mCell\u001b[39m\u001b[36m \u001b[39m\u001b[32mIn[14]\u001b[39m\u001b[32m, line 4\u001b[39m\n\u001b[32m      1\u001b[39m \u001b[38;5;66;03m#128. 주민등록번호의 뒷 자리 7자리 중 두번째와 세번째는 지역코드를 의미한다. \u001b[39;00m\n\u001b[32m      2\u001b[39m \u001b[38;5;66;03m#주민 등록 번호를 입력 받은 후 출생지가 서울인지 아닌지 판단하는 코드를 작성하라\u001b[39;00m\n\u001b[32m      3\u001b[39m 주민번호 = \u001b[38;5;28minput\u001b[39m(\u001b[33m\"\u001b[39m\u001b[33m주민등록번호: \u001b[39m\u001b[33m\"\u001b[39m)\n\u001b[32m----> \u001b[39m\u001b[32m4\u001b[39m 뒷자리 = 주민번호.split(\u001b[33m\"\u001b[39m\u001b[33m-\u001b[39m\u001b[33m\"\u001b[39m)[\u001b[32m1\u001b[39m]\n\u001b[32m      5\u001b[39m \u001b[38;5;28;01mif\u001b[39;00m \u001b[32m0\u001b[39m <= \u001b[38;5;28mint\u001b[39m(뒷자리[\u001b[32m1\u001b[39m:\u001b[32m3\u001b[39m]) <= \u001b[32m8\u001b[39m:\n\u001b[32m      6\u001b[39m     \u001b[38;5;28mprint\u001b[39m(\u001b[33m\"\u001b[39m\u001b[33m서울입니다.\u001b[39m\u001b[33m\"\u001b[39m)\n",
      "\u001b[31mIndexError\u001b[39m: list index out of range"
     ]
    }
   ],
   "source": [
    "#128. 주민등록번호의 뒷 자리 7자리 중 두번째와 세번째는 지역코드를 의미한다. \n",
    "#주민 등록 번호를 입력 받은 후 출생지가 서울인지 아닌지 판단하는 코드를 작성하라\n",
    "주민번호 = input(\"주민등록번호: \")\n",
    "뒷자리 = 주민번호.split(\"-\")[1]\n",
    "if 0 <= int(뒷자리[1:3]) <= 8:\n",
    "    print(\"서울입니다.\")\n",
    "else:\n",
    "    print(\"서울이 아닙니다.\")\n"
   ]
  },
  {
   "cell_type": "code",
   "execution_count": null,
   "id": "895cd009-dc9f-43ab-963b-44c54fbb22d1",
   "metadata": {},
   "outputs": [],
   "source": [
    "# 129. 주민번호 유효성검증\n",
    "\n",
    "num = input(\"주민등록번호: \")\n",
    "계산1 = int(num[0]) * 2 + int(num[1]) * 3 + int(num[2]) * 4 + int(num[3]) * 5 + int(num[4]) * 6 + \\\n",
    "        int(num[5]) * 7 + int(num[7]) * 8 + int(num[8]) * 9 + int(num[9]) * 2 + int(num[10])* 3 + \\\n",
    "        int(num[11])* 4 + int(num[12]) * 5\n",
    "계산2 = 11 - (계산1 % 11)\n",
    "계산3 = str(계산2)\n",
    "\n",
    "if num[-1] == 계산3[-1]:\n",
    "    print(\"유효한 주민등록번호입니다.\")\n",
    "else:\n",
    "    print(\"유효하지 않은 주민등록번호입니다.\")\n"
   ]
  },
  {
   "cell_type": "code",
   "execution_count": null,
   "id": "4c1451d0-3e5c-4be7-a7cb-120d624b50d5",
   "metadata": {},
   "outputs": [],
   "source": [
    "# 130. 비트코인의 가격 정보를 딕셔너리로 가져오는 코드\n",
    "\n",
    "import requests\n",
    "btc = requests.get(\"https://api.bithumb.com/public/ticker/\").json()['data']\n",
    "\n",
    "변동폭 = float(btc['max_price']) - float(btc['min_price'])\n",
    "시가 = float(btc['opening_price'])\n",
    "최고가 = float(btc['max_price'])\n",
    "\n",
    "if (시가+변동폭) > 최고가:\n",
    "    print(\"상승장\")\n",
    "else:\n",
    "    print(\"하락장\")\n"
   ]
  }
 ],
 "metadata": {
  "kernelspec": {
   "display_name": "Python 3 (ipykernel)",
   "language": "python",
   "name": "python3"
  },
  "language_info": {
   "codemirror_mode": {
    "name": "ipython",
    "version": 3
   },
   "file_extension": ".py",
   "mimetype": "text/x-python",
   "name": "python",
   "nbconvert_exporter": "python",
   "pygments_lexer": "ipython3",
   "version": "3.12.1"
  }
 },
 "nbformat": 4,
 "nbformat_minor": 5
}
