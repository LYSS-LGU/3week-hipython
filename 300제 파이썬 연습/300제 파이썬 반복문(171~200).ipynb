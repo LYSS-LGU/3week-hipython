{
 "cells": [
  {
   "cell_type": "markdown",
   "id": "b9612b2f-7889-4b45-8f74-6cbf0e395040",
   "metadata": {},
   "source": [
    "# 파이썬 반복문 171~180"
   ]
  },
  {
   "cell_type": "code",
   "execution_count": 1,
   "id": "4fdae0c8-cdb2-40d1-a649-26603bcf2664",
   "metadata": {},
   "outputs": [
    {
     "name": "stdout",
     "output_type": "stream",
     "text": [
      "32100\n",
      "32150\n",
      "32000\n",
      "32500\n",
      "32100\n",
      "32150\n",
      "32000\n",
      "32500\n"
     ]
    }
   ],
   "source": [
    "# 171. 리스트의 데이터를 출력하라. 단, for문과 range문을 사용하라.\n",
    "\n",
    "price_list = [32100, 32150, 32000, 32500]\n",
    "\n",
    "for i in range(4):\n",
    "    print(price_list[i])\n",
    "# len() 함수를 사용하면 price_list 가 변해도 코드의 수정이 필요없습니다. 아래가 더 좋은 코드입니다.\n",
    "for i in range(len(price_list)):\n",
    "    print(price_list[i])"
   ]
  },
  {
   "cell_type": "code",
   "execution_count": 2,
   "id": "dddd89da-0a8e-424d-ba05-dc2afb5282fe",
   "metadata": {},
   "outputs": [
    {
     "name": "stdout",
     "output_type": "stream",
     "text": [
      "0 32100\n",
      "1 32150\n",
      "2 32000\n",
      "3 32500\n"
     ]
    }
   ],
   "source": [
    "# 172.리스트의 데이터를 출력하라. 단, for문과 range문을 사용하라.\n",
    "\n",
    "price_list = [32100, 32150, 32000, 32500]\n",
    "for i, data in enumerate(price_list):\n",
    "    print(i,data)"
   ]
  },
  {
   "cell_type": "code",
   "execution_count": 5,
   "id": "c395701c-d42c-43cd-a4c7-4f2cca98b21a",
   "metadata": {},
   "outputs": [
    {
     "name": "stdout",
     "output_type": "stream",
     "text": [
      "3 0 32100\n",
      "3 -1 32150\n",
      "3 -2 32000\n",
      "3 -3 32500\n",
      "3 32100\n",
      "2 32150\n",
      "1 32000\n",
      "0 32500\n"
     ]
    }
   ],
   "source": [
    "# 173. 리스트의 데이터를 출력하라. 단, for문과 range문을 사용하라.\n",
    "\n",
    "for i in range(len(price_list)):\n",
    "    print(3, -i, price_list[i])\n",
    "\n",
    "# 3이라는 숫자보다는 일반적인 형태로 아래와 같이 코딩하는게 좋습니다.\n",
    "\n",
    "for i in range(len(price_list)):\n",
    "    print((len(price_list) -1) - i, price_list[i])"
   ]
  },
  {
   "cell_type": "code",
   "execution_count": 6,
   "id": "c1387f9b-16b1-4d01-9313-4807c228dc82",
   "metadata": {},
   "outputs": [
    {
     "name": "stdout",
     "output_type": "stream",
     "text": [
      "100 32150\n",
      "110 32000\n",
      "120 32500\n"
     ]
    }
   ],
   "source": [
    "# 174. 리스트의 데이터를 출력하라. 단, for문과 range문을 사용하라.\n",
    "price_list = [32100, 32150, 32000, 32500]\n",
    "\n",
    "for i in range(1,4):\n",
    "    print(90 + 10 * i, price_list[i])"
   ]
  },
  {
   "cell_type": "code",
   "execution_count": 9,
   "id": "3197067f-2012-44a5-bd71-ac5c06a5a4d7",
   "metadata": {},
   "outputs": [
    {
     "name": "stdout",
     "output_type": "stream",
     "text": [
      "가 나\n",
      "나 다\n",
      "다 라\n",
      "가\n",
      "나\n",
      "다\n",
      "가 나\n",
      "나 다\n",
      "다 라\n",
      "가 나\n",
      "나 다\n",
      "다 라\n",
      "가 나\n",
      "나 다\n",
      "다 라\n"
     ]
    }
   ],
   "source": [
    "# 175. my_list를 아래와 같이 출력하라.\n",
    "\n",
    "my_list = [\"가\", \"나\", \"다\", \"라\"]\n",
    "\n",
    "# for문을 사용하지 않고 인덱싱만을 사용해서 코드를 작성해보면 인덱스간의 규칙관계가 눈에 들어옵니다.\n",
    "# 같은 행에 있는 두 개의 데이터는 인덱스가 +1 차이납니다.\n",
    "# 또한 행이 증가할 때마다 인덱스가 +1 씩 증가합니다.\n",
    "\n",
    "print(my_list[0], my_list[1])\n",
    "print(my_list[1], my_list[2])\n",
    "print(my_list[2], my_list[3])\n",
    "\n",
    "# 분석한 규칙을 바탕으로 반복문을 작성합시다. \n",
    "# 아래는 첫 열 \"가 나 다\" 를 한 라인에 하나씩 출력하는 코드입니다. \n",
    "# for 문이 인덱스를 0, 1, 2 차례로 바인딩하고 인덱싱을 사용해 값을 출력합니다.\n",
    "\n",
    "for i in [0, 1, 2]:\n",
    "    print(my_list[i])\n",
    "\n",
    "# 한 행에 두 개의 데이터를 출력하고 싶기 때문에 이전 코드의 print 문에 출력하고 싶은 데이터를 추가합니다.\n",
    "# 같은 행의 두 데이터는 인덱스 차이가 +1 이라는 것을 잊지마세요. \n",
    "# * i가 0일 때는 0, 1 위치의 값이 출력됩니다. \n",
    "# * i가 1일 때는 1, 2 위치의 값이 출력됩니다. \n",
    "# * i가 2일 때는 2, 3 위치의 값이 출력됩니다.\n",
    "\n",
    "for i in [0, 1, 2]:\n",
    "    print(my_list[i], my_list[i+1])\n",
    "\n",
    "# 위의 코드를 사용해도 원하는 출력값을 얻을 수 있지만 아래는 코드를 보다 일반적인 형태로 변경했습니다. \n",
    "# len 함수를 사용한 것을 눈여겨 보세요.\n",
    "\n",
    "for i in range( len(my_list) - 1 ) :\n",
    "    print(my_list[i], my_list[i+1])\n",
    "\n",
    "# 아래와 같이 작성해도 됩니다. 인덱스를 갖고 노는 겁니다. for문을 단계별로 풀어 써가며 확인해보세요.\n",
    "for i in range( 1, len(my_list) ) :\n",
    "    print(my_list[i-1], my_list[i])\n"
   ]
  },
  {
   "cell_type": "code",
   "execution_count": 14,
   "id": "a74d5052-8c56-4c23-9052-d66baf160bb7",
   "metadata": {},
   "outputs": [
    {
     "name": "stdout",
     "output_type": "stream",
     "text": [
      "가 나 다\n",
      "나 다 라\n",
      "다 라 마\n",
      "가 나 다\n",
      "나 다 라\n",
      "다 라 마\n",
      "가 나 다\n",
      "나 다 라\n",
      "다 라 마\n",
      "가 나 다\n",
      "나 다 라\n",
      "다 라 마\n",
      "가 나 다\n",
      "나 다 라\n",
      "다 라 마\n"
     ]
    }
   ],
   "source": [
    "#176. 리스트를 아래와 같이 출력하라.\n",
    "\n",
    "my_list = [\"가\", \"나\", \"다\", \"라\", \"마\"]\n",
    "\n",
    "# 인덱싱을 사용해서 코드를 작성해보면 인덱스간의 규칙관계가 눈에 들어옵니다. \n",
    "# 같은 행에 있는 두 개의 데이터는 인덱스가 +1 차이납니다. \n",
    "# 또한 행이 증가할 때마다 인덱스가 +1 씩 증가합니다. \n",
    "# 045번 문제와 다른점은 한 행에 출력되는 데이터가 3개라는 것입니다.\n",
    "\n",
    "print(my_list[0], my_list[1], my_list[2])\n",
    "print(my_list[1], my_list[2], my_list[3])\n",
    "print(my_list[2], my_list[3], my_list[4])\n",
    "\n",
    "# for문내의 print 문에 출력하고 싶은 값의 위치를 나열합니다. \n",
    "# * i가 0일 때는 0, 1, 2 위치의 값이 출력됩니다. \n",
    "# * i가 1일 때는 1, 2, 3 위치의 값이 출력됩니다. \n",
    "# * i가 2일 때는 2, 3, 4 위치의 값이 출력됩니다.\n",
    "\n",
    "for i in [0, 1, 2]:\n",
    "    print(my_list[i], my_list[i+1], my_list[i+2])\n",
    "\n",
    "# 보다 일반적인 형태로 코드를 변경해 봅시다.\n",
    "# 아래 세 개의 코드는 모두 동일한 결과를 출력합니다.\n",
    "# 인덱스를 만들어 내는 것과, 인덱싱의 코드가 변하는 것을 눈여겨 보세요.\n",
    "\n",
    "for i in range( len(my_list) - 2):\n",
    "    print(my_list[i], my_list[i+1], my_list[i+2])\n",
    "\n",
    "for i in range( 1, len(my_list) - 1 ):\n",
    "    print(my_list[i-1], my_list[i], my_list[i+1])\n",
    "\n",
    "for i in range( 2, len(my_list) ):\n",
    "    print(my_list[i-2], my_list[i-1], my_list[i])\n"
   ]
  },
  {
   "cell_type": "code",
   "execution_count": 22,
   "id": "299aeb13-f5a7-4bbb-925f-fa9bcf254241",
   "metadata": {},
   "outputs": [
    {
     "name": "stdout",
     "output_type": "stream",
     "text": [
      "라 다\n",
      "다 나\n",
      "나 가\n",
      "예시1 라 다\n",
      "예시1 다 나\n",
      "예시1 나 가\n",
      "예시-2 라 다\n",
      "예시-2 다 나\n",
      "예시-2 나 가\n",
      "예시3 라 다\n",
      "예시3 다 나\n",
      "예시3 나 가\n",
      "예시-4 라 다\n",
      "예시-4 다 나\n",
      "예시-4 나 가\n",
      "예시5 라 다\n",
      "예시5 다 나\n",
      "예시5 나 가\n"
     ]
    }
   ],
   "source": [
    "# 177.반복문과 range 함수를 사용해서 my_list를 아래와 같이 출력하라.\n",
    "\n",
    "my_list = [\"가\", \"나\", \"다\", \"라\"]\n",
    "\n",
    "# 어렵다면 우선은 for문을 사용하지 않고 아래와 같이 인덱싱을 사용해서 코드를 작성합니다. \n",
    "# 규칙이 눈에 들어오나요?\n",
    "\n",
    "print(my_list[3], my_list[2])\n",
    "print(my_list[2], my_list[1])\n",
    "print(my_list[1], my_list[0])\n",
    "\n",
    "# 각 라인마다 인덱스가 1씩 감소하고, 같은 라인에서 우측 인덱스는 좌측 보다 1 작다고 분석할 수 있습니다. 이를 코드로 옮기면 아래와 같습니다.\n",
    "\n",
    "for i in [3,2,1] :\n",
    "    print(\"예시1\",my_list[i], my_list[i-1])\n",
    "\n",
    "# 인덱스를 만들어내는 방법에 따라 호출하는 코드가 달라집니다. \n",
    "# 우변을 기준으로 인덱스를 만들고 좌변을 접근할 때는 +1 이 필요합니다.\n",
    "\n",
    "for i in [2,1,0] :\n",
    "    print(\"예시-2\",my_list[i+1], my_list[i])\n",
    "\n",
    "for i in [0, 1, 2] :\n",
    "    print(\"예시3\",my_list[3 - i], my_list[2 - i])\n",
    "\n",
    "# 일반적인 형태로 코드를 수정하면 아래와 같습니다.\n",
    "for i in range(len(my_list) - 1, 0, -1):\n",
    "    print(\"예시-4\", my_list[i], my_list[i-1])\n",
    "\n",
    "# 인덱스를 만들어내는 방법에 따라 답은 여러개가 될 수 있습니다.\n",
    "\n",
    "for i in range(len(my_list) - 1):\n",
    "    print(\"예시5\",my_list[len(my_list) - 1 - i], my_list[len(my_list) - 2 - i])\n"
   ]
  },
  {
   "cell_type": "code",
   "execution_count": 23,
   "id": "98b5925a-b7ea-48b7-a112-847385a3e552",
   "metadata": {},
   "outputs": [
    {
     "name": "stdout",
     "output_type": "stream",
     "text": [
      "100\n",
      "0\n",
      "200\n"
     ]
    }
   ],
   "source": [
    "# 178. 리스트에는 네 개의 정수가 저장되어 있다. \n",
    "# 각각의 데이터에 대해서 자신과 우측값과의 차분값을 화면에 출력하라.\n",
    "\n",
    "my_list = [100, 200, 400, 800]\n",
    "\n",
    "# 예를들어 100을 기준으로 우측에 위치한 200과의 차분 값를 화면에 출력하고, \n",
    "# 200을 기준으로 우측에 위치한 400과의 차분값을 화면에 출력한다. \n",
    "# 이어서 400을 기준으로 우측에 위치한 800과의 차분값을 화면에 출력한다.\n",
    "\n",
    "print(abs(my_list[1] - my_list[0]))\n",
    "print(abs(my_list[1] - my_list[1]))\n",
    "print(abs(my_list[1] - my_list[2]))\n",
    "\n",
    "# 인덱스의 관계를 파악했다면 기준으로 사용할 인덱스를 결정합니다. \n",
    "# 이번에는 우측에 있는 인덱스를 활용해서 for문을 작성해 보겠습니다.\n",
    "\n",
    "for i in [0, 1, 2]:\n",
    "    print(abs(my_list[i+1] - my_list[i]))\n",
    "\n",
    "for i in range(len(my_list) - 1):\n",
    "    print(abs(my_list[i+1] - my_list[i]))\n"
   ]
  },
  {
   "cell_type": "code",
   "execution_count": 24,
   "id": "085e544f-c537-4706-950c-71cadf7fb222",
   "metadata": {},
   "outputs": [],
   "source": [
    "# 179. 리스트에는 6일 간의 종가 데이터가 저장되어 있다. \n",
    "# 종가 데이터의 3일 이동 평균을 계산하고 이를 화면에 출력하라.\n",
    "\n",
    "my_list = [100, 200, 400, 800, 1000, 1300]\n",
    "\n",
    "# 첫 번째 줄에는 100, 200, 400의 평균값이 출력된다. \n",
    "# 두 번째 줄에는 200, 400, 800의 평균값이 출력된다.\n",
    "# 같은 방식으로 나머지 데이터의 평균을 출력한다.\n",
    "\n",
    "# print 함수와 인덱싱만으로 결과를 표현해봅니다.\n",
    "\n",
    "print(abs(my_list[0] + my_list[1] + my_list[2])/3)\n",
    "print(abs(my_list[1] + my_list[2] + my_list[3])/3)\n",
    "print(abs(my_list[2] + my_list[3] + my_list[4])/3)\n",
    "print(abs(my_list[3] + my_list[4] + my_list[5])/3)\n",
    "\n",
    "# 인덱스 간의 관계를 파악했다면 기준으로 사용할 인덱스를 결정합니다. \n",
    "# 이번에는 가운데에 있는 인덱스를 활용해서 for문을 작성해 보겠습니다.\n",
    "\n",
    "for i in [1, 2, 3, 4]:\n",
    "    print(abs(my_list[i-1] + my_list[i] + my_list[i+1]) / 3)\n",
    "\n",
    "# 다음으로 코드를 다듬어 줍니다.\n",
    "for i in range(1, len(my_list) - 1):\n",
    "    print(abs(my_list[i-1] + my_list[i] + my_list[i+1]) / 3)\n"
   ]
  },
  {
   "cell_type": "code",
   "execution_count": 26,
   "id": "55642042-8ee9-4d09-bf2c-d02d6af8f111",
   "metadata": {},
   "outputs": [],
   "source": [
    "# 180. 리스트에 5일간의 저가, 고가 정보가 저장돼 있다.\n",
    "# 고가와 저가의 차를 변동폭이라고 정의할 때, \n",
    "# low, high 두 개의 리스트를 사용해서 5일간의 변동폭을 volatility 리스트에 저장하라.\n",
    "\n",
    "low_prices  = [100, 200, 400, 800, 1000]\n",
    "high_prices = [150, 300, 430, 880, 1000]\n",
    "\n",
    "volatility = []\n",
    "for i in range(len(low_prices)):\n",
    "    volatility.append(high_prices[i] - low_prices[i])"
   ]
  },
  {
   "cell_type": "markdown",
   "id": "030e202b-df6e-46d1-9a34-f95d96d0e80a",
   "metadata": {},
   "source": [
    "# 파이썬 반복문 181 - 190"
   ]
  },
  {
   "cell_type": "code",
   "execution_count": 3,
   "id": "76be8355-121f-4efa-ac44-8542176bd307",
   "metadata": {},
   "outputs": [
    {
     "name": "stdout",
     "output_type": "stream",
     "text": [
      "[['101호', '102호'], ['201호', '202호'], ['301호', '302호']]\n"
     ]
    }
   ],
   "source": [
    "# 181.  하나의 행을 하나의 리스트로, 총 3개의 리스트를 갖는 이차원 리스트 apart를 정의하라.\n",
    "\n",
    "apart = [ [\"101호\", \"102호\"], [\"201호\", \"202호\"], [\"301호\", \"302호\"]]\n",
    "print(apart)"
   ]
  },
  {
   "cell_type": "code",
   "execution_count": 5,
   "id": "aa7f315e-5647-44f3-8968-7d1b8a1d4b1e",
   "metadata": {},
   "outputs": [
    {
     "name": "stdout",
     "output_type": "stream",
     "text": [
      "[['시가', 100, 200, 300], ['종가', 80, 210, 330]]\n"
     ]
    }
   ],
   "source": [
    "#182. 하나의 열을 하나의 리스트로, 총 2개의 리스트를 갖는 이차원 리스트 stock을 정의하라.\n",
    "\n",
    "stock = [[\"시가\", 100,200,300], [\"종가\", 80, 210, 330]]\n",
    "print(stock)"
   ]
  },
  {
   "cell_type": "code",
   "execution_count": 8,
   "id": "0b87e61d-5a4c-47f8-a0e7-c0ab63e170ab",
   "metadata": {},
   "outputs": [
    {
     "name": "stdout",
     "output_type": "stream",
     "text": [
      "{'시가': [100, 200, 300], '종가': [80, 210, 330]}\n"
     ]
    }
   ],
   "source": [
    "# 183. stock 이름의 딕셔너리로 표현하라.시가를 key로 저장하고, \n",
    "# 나머지 같은 열의 데이터를 리스트로 저장해서 value로 저장한다.\n",
    "# 종가 역시 key로 저장하고 나머지 같은 열의 데이터를 리스트로 저장해서 value로 저장한다.\n",
    "\n",
    "stock = {\"시가\" : [100, 200, 300], \"종가\":[ 80,210, 330]}\n",
    "print(stock)"
   ]
  },
  {
   "cell_type": "code",
   "execution_count": 9,
   "id": "06b4003f-a3b0-466c-b02c-5c1b1d7b0a9d",
   "metadata": {},
   "outputs": [],
   "source": [
    "#184.stock 이라는 이름의 딕셔너리로 표현하라.\n",
    "#날짜를 key로 저장하고, \n",
    "#나머지 같은 행의 데이터를 리스트로 저장해서 value로 저장한다. \n",
    "#첫 열이 날짜이다.\n",
    "\n",
    "stock = {\"10/10\": [80,110,70,90], \"10/11\":[210, 230, 190, 200]}"
   ]
  },
  {
   "cell_type": "code",
   "execution_count": 11,
   "id": "3bcaca5b-3751-4c8e-838b-5c401a68beab",
   "metadata": {},
   "outputs": [
    {
     "name": "stdout",
     "output_type": "stream",
     "text": [
      "101호 호\n",
      "102호 호\n",
      "201호 호\n",
      "202호 호\n",
      "301호 호\n",
      "302호 호\n"
     ]
    }
   ],
   "source": [
    "# 185. 리스트에 저장된 데이터를 아래와 같이 출력하라.\n",
    "\n",
    "aprt = [[101, 102], [201,202], [301,302]]\n",
    "\n",
    "for row in apart:\n",
    "    for col in row:\n",
    "        print(col,\"호\")"
   ]
  },
  {
   "cell_type": "code",
   "execution_count": 12,
   "id": "cc9aff54-03d0-4527-a668-817e07ec88cd",
   "metadata": {},
   "outputs": [
    {
     "name": "stdout",
     "output_type": "stream",
     "text": [
      "301 호\n",
      "302 호\n",
      "201 호\n",
      "202 호\n",
      "101 호\n",
      "102 호\n"
     ]
    }
   ],
   "source": [
    "#186. 리스트에 저장된 데이터를 아래와 같이 출력하라.\n",
    "\n",
    "apart = [ [101, 102], [201, 202], [301, 302] ]\n",
    "\n",
    "for row in apart[::-1]:\n",
    "    for col in row:\n",
    "        print(col, \"호\")"
   ]
  },
  {
   "cell_type": "code",
   "execution_count": 13,
   "id": "09124cdd-3c12-45e5-991f-4067619c48b5",
   "metadata": {},
   "outputs": [
    {
     "name": "stdout",
     "output_type": "stream",
     "text": [
      "302 호\n",
      "301 호\n",
      "202 호\n",
      "201 호\n",
      "102 호\n",
      "101 호\n"
     ]
    }
   ],
   "source": [
    "#187. 리스트에 저장된 데이터를 아래와 같이 출력하라.\n",
    "\n",
    "apart = [ [101, 102], [201, 202], [301, 302] ]\n",
    "\n",
    "for row in apart[::-1]:\n",
    "    for col in row[::-1]:\n",
    "        print(col, \"호\")\n"
   ]
  },
  {
   "cell_type": "code",
   "execution_count": 14,
   "id": "3495e617-8a80-4b9e-b43a-4c5995637594",
   "metadata": {},
   "outputs": [
    {
     "name": "stdout",
     "output_type": "stream",
     "text": [
      "101 호\n",
      "-----\n",
      "102 호\n",
      "-----\n",
      "201 호\n",
      "-----\n",
      "202 호\n",
      "-----\n",
      "301 호\n",
      "-----\n",
      "302 호\n",
      "-----\n"
     ]
    }
   ],
   "source": [
    "# 188, 리스트에 저장된 데이터를 아래와 같이 출력하라.\n",
    "apart = [ [101, 102], [201, 202], [301, 302] ]\n",
    "\n",
    "for row in apart:\n",
    "    for col in row:\n",
    "        print(col, \"호\")\n",
    "        print(\"-\" * 5)\n"
   ]
  },
  {
   "cell_type": "code",
   "execution_count": 15,
   "id": "bc56c68d-89fa-4aaa-afee-cfd3e155b391",
   "metadata": {},
   "outputs": [
    {
     "name": "stdout",
     "output_type": "stream",
     "text": [
      "101 호\n",
      "102 호\n",
      "-----\n",
      "201 호\n",
      "202 호\n",
      "-----\n",
      "301 호\n",
      "302 호\n",
      "-----\n"
     ]
    }
   ],
   "source": [
    "# 189. 리스트에 저장된 데이터를 아래와 같이 출력하라.\n",
    "\n",
    "apart = [ [101, 102], [201, 202], [301, 302] ]\n",
    "\n",
    "for row in apart:\n",
    "    for col in row:\n",
    "        print(col, \"호\")\n",
    "    print(\"-----\")\n"
   ]
  },
  {
   "cell_type": "code",
   "execution_count": 17,
   "id": "23c3e0b4-df1b-4569-958a-38d5fdd7400a",
   "metadata": {},
   "outputs": [
    {
     "name": "stdout",
     "output_type": "stream",
     "text": [
      "101 호\n",
      "102 호\n",
      "201 호\n",
      "202 호\n",
      "301 호\n",
      "302 호\n",
      "-----\n"
     ]
    }
   ],
   "source": [
    "# 190. 리스트에 저장된 데이터를 아래와 같이 출력하라.\n",
    "\n",
    "apart = [ [101, 102], [201, 202], [301, 302] ]\n",
    "for row in apart:\n",
    "    for col in row:\n",
    "        print(col, \"호\")\n",
    "print(\"-\" * 5)\n"
   ]
  },
  {
   "cell_type": "markdown",
   "id": "c427739a-c963-461a-bb8a-b90071929ad1",
   "metadata": {},
   "source": [
    "# 191 ~ 200"
   ]
  },
  {
   "cell_type": "code",
   "execution_count": 1,
   "id": "e697e590-112e-4b8d-9a6b-9352e7284706",
   "metadata": {},
   "outputs": [],
   "source": [
    "#191.data에는 매수한 종목들의 OHLC (open/high/low/close) 가격 정보가 바인딩 되어있다.\n",
    "\n",
    "data = [\n",
    "    [ 2000,  3050,  2050,  1980],\n",
    "    [ 7500,  2050,  2050,  1980],\n",
    "    [15450, 15050, 15550, 14900]\n",
    "]\n",
    "\n",
    "# 수수료를 0.014 %로 가정할 때, 각 가격에 수수료를 포함한 가격을 한라인에 하나씩 출력하라."
   ]
  },
  {
   "cell_type": "code",
   "execution_count": 2,
   "id": "895f2116-ce7a-477b-ac26-023eab95260d",
   "metadata": {},
   "outputs": [
    {
     "name": "stdout",
     "output_type": "stream",
     "text": [
      "2000.28\n",
      "3050.427\n",
      "2050.2870000000003\n",
      "1980.2772\n",
      "7501.05\n",
      "2050.2870000000003\n",
      "2050.2870000000003\n",
      "1980.2772\n",
      "15452.163\n",
      "15052.107\n",
      "15552.177\n",
      "14902.086000000001\n"
     ]
    }
   ],
   "source": [
    "for line in data:\n",
    "    for colum in line:\n",
    "        print(colum * 1.00014)"
   ]
  },
  {
   "cell_type": "code",
   "execution_count": 3,
   "id": "4a7d1345-b9d3-49e4-aa6a-a0cd5b525e53",
   "metadata": {},
   "outputs": [
    {
     "name": "stdout",
     "output_type": "stream",
     "text": [
      "14902.086000000001\n",
      "14902.086000000001\n",
      "14902.086000000001\n",
      "14902.086000000001\n",
      "---\n",
      "14902.086000000001\n",
      "14902.086000000001\n",
      "14902.086000000001\n",
      "14902.086000000001\n",
      "---\n",
      "14902.086000000001\n",
      "14902.086000000001\n",
      "14902.086000000001\n",
      "14902.086000000001\n",
      "---\n"
     ]
    }
   ],
   "source": [
    "#192. 191번의 출력 결과에 행단위로 \"----\" 구분자를 추가하라.\n",
    "\n",
    "for line in data:\n",
    "    for column in line:\n",
    "        print(colum * 1.00014)\n",
    "    print(\"---\")"
   ]
  },
  {
   "cell_type": "code",
   "execution_count": 4,
   "id": "d78cc731-612e-4c18-8675-9c1ac639b7d9",
   "metadata": {},
   "outputs": [
    {
     "name": "stdout",
     "output_type": "stream",
     "text": [
      "[14902.086000000001, 14902.086000000001, 14902.086000000001, 14902.086000000001, 14902.086000000001, 14902.086000000001, 14902.086000000001, 14902.086000000001, 14902.086000000001, 14902.086000000001, 14902.086000000001, 14902.086000000001]\n"
     ]
    }
   ],
   "source": [
    "#193. 192 번 문제의 결괏값을 result 이름의 리스트에 1차원 배열로 저장하라.\n",
    "\n",
    "result = []\n",
    "for list in data:\n",
    "    for column in line:\n",
    "        result.append(colum * 1.00014)\n",
    "print(result)"
   ]
  },
  {
   "cell_type": "code",
   "execution_count": 5,
   "id": "0f99dca5-0ef2-4e55-b2b8-4e5dfdcd4e24",
   "metadata": {},
   "outputs": [
    {
     "name": "stdout",
     "output_type": "stream",
     "text": [
      "[[2000.28, 3050.427, 2050.2870000000003, 1980.2772], [7501.05, 2050.2870000000003, 2050.2870000000003, 1980.2772], [15452.163, 15052.107, 15552.177, 14902.086000000001]]\n"
     ]
    }
   ],
   "source": [
    "#194. 191번 문제의 결괏값을 result 이름의 리스트에 2차원 배열로 저장하라. \n",
    "#저장 포맷은 아래와 같다. 각 행에 대한 데이터끼리 리스트에 저장되어야 한다.\n",
    "\n",
    "result = []\n",
    "for line in data:\n",
    "    sub = []\n",
    "    for column in line:\n",
    "        sub.append(column * 1.00014)\n",
    "    result.append(sub)\n",
    "print(result)"
   ]
  },
  {
   "cell_type": "code",
   "execution_count": 6,
   "id": "89726918-8d20-4e18-9c2c-9b31c5d42e24",
   "metadata": {},
   "outputs": [
    {
     "name": "stdout",
     "output_type": "stream",
     "text": [
      "100\n",
      "190\n",
      "310\n"
     ]
    }
   ],
   "source": [
    "#195. ohlc 리스트에는 시가(open), 고가 (high), 저가 (low) , 종가(close)가 날짜별로 저장돼 있다.\n",
    "# 화면에 종가데이터를 출력하라.\n",
    "\n",
    "ohlc = [[\"open\", \"high\", \"low\", \"close\"],\n",
    "        [100, 110, 70, 100],\n",
    "        [200, 210, 180, 190],\n",
    "        [300, 310, 300, 310]]\n",
    "\n",
    "for row in ohlc[1:]:\n",
    "    print(row[3])"
   ]
  },
  {
   "cell_type": "code",
   "execution_count": 7,
   "id": "f48012fc-3f4b-4dc6-bda5-e0e455e210ac",
   "metadata": {},
   "outputs": [
    {
     "name": "stdout",
     "output_type": "stream",
     "text": [
      "190\n",
      "310\n"
     ]
    }
   ],
   "source": [
    "# 196.ohlc 리스트에는 시가(open), 고가 (high), 저가 (low) , 종가(close)가 날짜별로 저장돼 있다.\n",
    "# 종가가 150원보다 큰경우에만 종가를 출력하라.\n",
    "\n",
    "ohlc = [[\"open\", \"high\", \"low\", \"close\"],\n",
    "        [100, 110, 70, 100],\n",
    "        [200, 210, 180, 190],\n",
    "        [300, 310, 300, 310]]\n",
    "\n",
    "for row in ohlc[1:]:\n",
    "    if (row[3] > 150):\n",
    "        print(row[3])"
   ]
  },
  {
   "cell_type": "code",
   "execution_count": 8,
   "id": "33ac2209-e949-4cb1-baa9-eac6453a683a",
   "metadata": {},
   "outputs": [
    {
     "name": "stdout",
     "output_type": "stream",
     "text": [
      "100\n",
      "310\n"
     ]
    }
   ],
   "source": [
    "#197. ohlc 리스트에는 시가(open), 고가 (high), 저가 (low) , 종가(close)가 날짜별로 저장돼 있다. \n",
    "# 종가가 시가 보다 크거나 같은 경우에만 종가를 출력하라.\n",
    "\n",
    "for row in ohlc[1:]:\n",
    "    if (row[3] >= row[0]):\n",
    "        print(row[3])\n"
   ]
  },
  {
   "cell_type": "code",
   "execution_count": 10,
   "id": "47865f11-6527-4148-9787-70bc6df2c30f",
   "metadata": {},
   "outputs": [
    {
     "name": "stdout",
     "output_type": "stream",
     "text": [
      "[40, 30, 10]\n"
     ]
    }
   ],
   "source": [
    "# 198. ohlc 리스트에는 시가(open), 고가 (high), 저가 (low) , 종가(close)가 날짜별로 저장돼 있다. \n",
    "# 고가와 저가의 차이를 변동폭으로 정의할 때 변동폭을 volatility 이름의 리스트에 저장하라.\n",
    "\n",
    "volatility = []\n",
    "for row in ohlc[1:]:\n",
    "    volatility.append(row[1]-row[2])\n",
    "\n",
    "# range 구문을 사용해서도 문제를 풀 수 있습니다.\n",
    "\n",
    "volatility = []\n",
    "for i in range(1, len(ohlc)):\n",
    "    volatility.append(ohlc[i][1]-ohlc[i][2])\n",
    "print(volatility)"
   ]
  },
  {
   "cell_type": "code",
   "execution_count": 11,
   "id": "8f7c174e-a583-4def-8f5f-55b1a942ae77",
   "metadata": {},
   "outputs": [
    {
     "name": "stdout",
     "output_type": "stream",
     "text": [
      "10\n"
     ]
    }
   ],
   "source": [
    "#199. 리스트에는 3일 간의 ohlc 데이터가 저장돼 있다. \n",
    "# 종가가 시가보다 높은 날의 변동성 (고가 - 저가)을 화면에 출력하라.\n",
    "\n",
    "ohlc = [[\"open\", \"high\", \"low\", \"close\"],\n",
    "        [100, 110, 70, 100],\n",
    "        [200, 210, 180, 190],\n",
    "        [300, 310, 300, 310]]\n",
    "\n",
    "# 종가가 시가보다 높은 거래일의 OHLC는 [300, 310, 300, 310] 이다. \n",
    "# 따라서 이 거래일의 변동성은 10 (310 - 300)이다.\n",
    "\n",
    "for row in ohlc[1:]:\n",
    "    if row[3] > row[0]:\n",
    "        print(row[1]-row[2])"
   ]
  },
  {
   "cell_type": "code",
   "execution_count": 15,
   "id": "6f8b3a30-0273-4a64-99b9-420fbe5f8ae4",
   "metadata": {},
   "outputs": [
    {
     "name": "stdout",
     "output_type": "stream",
     "text": [
      "0\n"
     ]
    }
   ],
   "source": [
    "#200.리스트에는 3일 간의 ohlc 데이터가 저장돼 있다. \n",
    "# 시가에 매수해서 종가에 매도 했을 경우 총 수익금을 계산하라.\n",
    "\n",
    "ohlc = [[\"open\", \"high\", \"low\", \"close\"],\n",
    "        [100, 110, 70, 100],\n",
    "        [200, 210, 180, 190],\n",
    "        [300, 310, 300, 310]]\n",
    "\n",
    "profit = 0\n",
    "for row in ohlc[1:]:\n",
    "    profit += (row[3] - row[0])\n",
    "\n",
    "print(profit)"
   ]
  },
  {
   "cell_type": "code",
   "execution_count": null,
   "id": "b1383252-f87e-45b7-92cb-3728ac7e9d19",
   "metadata": {},
   "outputs": [],
   "source": []
  }
 ],
 "metadata": {
  "kernelspec": {
   "display_name": "Python 3 (ipykernel)",
   "language": "python",
   "name": "python3"
  },
  "language_info": {
   "codemirror_mode": {
    "name": "ipython",
    "version": 3
   },
   "file_extension": ".py",
   "mimetype": "text/x-python",
   "name": "python",
   "nbconvert_exporter": "python",
   "pygments_lexer": "ipython3",
   "version": "3.12.1"
  }
 },
 "nbformat": 4,
 "nbformat_minor": 5
}
