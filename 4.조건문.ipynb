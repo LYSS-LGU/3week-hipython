{
 "cells": [
  {
   "cell_type": "markdown",
   "id": "79ad2b45-934a-42f9-8cbf-9f0b36d5aada",
   "metadata": {},
   "source": [
    "# 4. 조건문\n",
    "### 25.06.20(월)"
   ]
  },
  {
   "cell_type": "code",
   "execution_count": 1,
   "id": "3455cd33-2059-46b7-8098-942452034889",
   "metadata": {},
   "outputs": [
    {
     "data": {
      "text/plain": [
       "False"
      ]
     },
     "execution_count": 1,
     "metadata": {},
     "output_type": "execute_result"
    }
   ],
   "source": [
    "# 연산자\n",
    "2+3 # 산술연산자\n",
    "a = 2 # 대입연산자\n",
    "a > 2 # 비교연산자"
   ]
  },
  {
   "cell_type": "code",
   "execution_count": 3,
   "id": "9ed03c21-b9dd-403d-b46a-9776b1e1fdc4",
   "metadata": {},
   "outputs": [
    {
     "data": {
      "text/plain": [
       "(2, 2, 2, 2)"
      ]
     },
     "execution_count": 3,
     "metadata": {},
     "output_type": "execute_result"
    }
   ],
   "source": [
    "b=c=d=a # 대입연산자\n",
    "b,c,d,a"
   ]
  },
  {
   "cell_type": "code",
   "execution_count": 4,
   "id": "7d80b543-3944-43a0-a5e7-84b7a4825d44",
   "metadata": {},
   "outputs": [
    {
     "data": {
      "text/plain": [
       "True"
      ]
     },
     "execution_count": 4,
     "metadata": {},
     "output_type": "execute_result"
    }
   ],
   "source": [
    "id(b) == id(c) #비교연산자"
   ]
  },
  {
   "cell_type": "markdown",
   "id": "d9b1b60a-72a2-44f1-a22f-01999bf958fc",
   "metadata": {},
   "source": [
    "# 조건문 \n",
    "- 비교연산자를 이용한 부울값이 출력되어야한다.\n",
    "- 이후 영역표시는 들여쓰기로 맞추어야 한다."
   ]
  },
  {
   "cell_type": "code",
   "execution_count": 8,
   "id": "2409c6d9-1b95-46af-ae7a-a2f18e093324",
   "metadata": {},
   "outputs": [
    {
     "name": "stdout",
     "output_type": "stream",
     "text": [
      "pass\n"
     ]
    }
   ],
   "source": [
    "kor_score = 95\n",
    "\n",
    "if kor_score >80:\n",
    "    print('pass')"
   ]
  },
  {
   "cell_type": "code",
   "execution_count": 15,
   "id": "07932994-7639-421f-8376-dcba51f7504a",
   "metadata": {},
   "outputs": [
    {
     "name": "stdout",
     "output_type": "stream",
     "text": [
      "pass\n",
      "pass\n"
     ]
    }
   ],
   "source": [
    "# 한줄로 작성가능\n",
    "# True 일때 실행문 if 조건식 else 'false 일때 실행문\n",
    "if kor_score > 90 : print('pass')\n",
    "print('pass') if kor_score > 90 else print('fail')"
   ]
  },
  {
   "cell_type": "code",
   "execution_count": 11,
   "id": "4c963889-53c1-4b3a-abec-c7701ade1ddc",
   "metadata": {},
   "outputs": [
    {
     "name": "stdout",
     "output_type": "stream",
     "text": [
      "pass\n"
     ]
    }
   ],
   "source": [
    "if kor_score > 90:\n",
    "    print('pass')\n",
    "else : \n",
    "    print('fail')"
   ]
  },
  {
   "cell_type": "code",
   "execution_count": 14,
   "id": "a6413b03-d896-4964-b65f-b8c2d59badf8",
   "metadata": {},
   "outputs": [
    {
     "name": "stdout",
     "output_type": "stream",
     "text": [
      "pass\n"
     ]
    }
   ],
   "source": [
    "if kor_score > 90 : print('pass')\n",
    "else : print('fail')"
   ]
  },
  {
   "cell_type": "markdown",
   "id": "b2b29fa9-f499-498b-92cb-2f15033d99f0",
   "metadata": {},
   "source": [
    "# 25.06.02(월) 오후수업"
   ]
  },
  {
   "cell_type": "code",
   "execution_count": null,
   "id": "110d07ee-1632-4866-ba6d-f35617d07e98",
   "metadata": {},
   "outputs": [],
   "source": [
    "# 수우미양가\n",
    ">=90"
   ]
  },
  {
   "cell_type": "code",
   "execution_count": 18,
   "id": "703001a7-da90-4d7e-9916-24767ab82cba",
   "metadata": {},
   "outputs": [
    {
     "name": "stdout",
     "output_type": "stream",
     "text": [
      "점수를 입력하세요. 숫자로요 55\n"
     ]
    },
    {
     "name": "stdout",
     "output_type": "stream",
     "text": [
      "가\n"
     ]
    }
   ],
   "source": [
    "\n",
    "score = int(input('점수를 입력하세요. 숫자로요'))\n",
    "# 중첩 if 문)\n",
    "if score >= 90 :\n",
    "    print('수')\n",
    "else: # 89~\n",
    "    if score >= 80:\n",
    "        print('우')\n",
    "    else:\n",
    "        if score >= 70:\n",
    "            print('미')\n",
    "        else:\n",
    "            if score >=60:\n",
    "                print('양')\n",
    "            else :\n",
    "                print('가')"
   ]
  },
  {
   "cell_type": "code",
   "execution_count": 20,
   "id": "6570e232-cb79-4480-9b2e-b587fe1a7fa3",
   "metadata": {},
   "outputs": [
    {
     "name": "stdout",
     "output_type": "stream",
     "text": [
      "점수를 입력하세요. 숫자로요 555\n"
     ]
    },
    {
     "name": "stdout",
     "output_type": "stream",
     "text": [
      "수\n"
     ]
    }
   ],
   "source": [
    "score = int(input('점수를 입력하세요. 숫자로요'))\n",
    "\n",
    "if score >= 90:\n",
    "    print('수')\n",
    "elif score >= 80:\n",
    "    print('우')\n",
    "elif score >= 70:\n",
    "    print('미')\n",
    "else:\n",
    "    print('가')"
   ]
  },
  {
   "cell_type": "code",
   "execution_count": 25,
   "id": "a6e18824-6c83-4874-83a6-a2fa97b52126",
   "metadata": {},
   "outputs": [
    {
     "name": "stdout",
     "output_type": "stream",
     "text": [
      "수식을 입력하세요. (예: 20*40 또는 20 * 40) 11\n"
     ]
    },
    {
     "name": "stdout",
     "output_type": "stream",
     "text": [
      "잘못된 수식 형식입니다.\n"
     ]
    }
   ],
   "source": [
    "import re\n",
    "\n",
    "formula = input(\"수식을 입력하세요. (예: 20*40 또는 20 * 40)\")\n",
    "match = re.match(r\"(\\d+)\\s*([+\\-*/])\\s*(\\d+)\", formula)\n",
    "\n",
    "if match:\n",
    "    num1, opr, num2 = match.groups()\n",
    "    print(num1, opr, num2)\n",
    "else:\n",
    "    print(\"잘못된 수식 형식입니다.\")\n"
   ]
  },
  {
   "cell_type": "code",
   "execution_count": 35,
   "id": "4e80674a-db2a-4f97-b9a1-53ad300b6bba",
   "metadata": {},
   "outputs": [
    {
     "name": "stdout",
     "output_type": "stream",
     "text": [
      "수식을 입력하세요 (예: 20 * 30) → 꼭 공백 포함! 22 * 22\n"
     ]
    },
    {
     "name": "stdout",
     "output_type": "stream",
     "text": [
      "22.0 * 22.0 = 484.0\n"
     ]
    }
   ],
   "source": [
    "# 사용자 입력 받기\n",
    "formula = input(\"수식을 입력하세요 (예: 20 * 30) → 꼭 공백 포함!\")\n",
    "num1, opr, num2 = formula.split()\n",
    "\n",
    "num1 = float(num1)\n",
    "num2 = float(num2)\n",
    "\n",
    "opr_list = ['+', '-','*'] # 연산자\n",
    "\n",
    "if opr == '+':\n",
    "    result = num1 + num2\n",
    "elif opr == '-' :\n",
    "    result = num1 - num2\n",
    "elif opr == '*' :\n",
    "    result = num1 * num2\n",
    "elif opr == '/':\n",
    "    # 0으로 나누는 경우 처리\n",
    "    result = '0으로 나눌 수 없습니다' if num2 == 0 else num1 / num2\n",
    "elif opr == '//':\n",
    "    result = '0으로 나눌 수 없습니다' if num2 == 0 else num1 // num2\n",
    "elif opr == '%':\n",
    "    result = '0으로 나눌 수 없습니다' if num2 == 0 else num1 % num2\n",
    "elif opr == '**':\n",
    "    result = num1 ** num2\n",
    "else:\n",
    "    result = '지원하지 않는 연산자 입니다'\n",
    "\n",
    "print(f'{num1} {opr} {num2} = {result}')"
   ]
  },
  {
   "cell_type": "code",
   "execution_count": 39,
   "id": "01c23b41-f368-40b7-a6cd-30a9d30c91c4",
   "metadata": {},
   "outputs": [
    {
     "name": "stdout",
     "output_type": "stream",
     "text": [
      "수식을 입력하세요 (예: 20*30 또는 20 * 30) → exit 입력 시 종료:  20\n"
     ]
    },
    {
     "name": "stdout",
     "output_type": "stream",
     "text": [
      "❗ 형식이 잘못되었습니다. 예: 20 * 30 또는 100+5\n"
     ]
    },
    {
     "name": "stdout",
     "output_type": "stream",
     "text": [
      "수식을 입력하세요 (예: 20*30 또는 20 * 30) → exit 입력 시 종료:  2+30\n"
     ]
    },
    {
     "name": "stdout",
     "output_type": "stream",
     "text": [
      "2.0 + 30.0 = 32.0\n",
      "----------------------------------------\n"
     ]
    },
    {
     "name": "stdout",
     "output_type": "stream",
     "text": [
      "수식을 입력하세요 (예: 20*30 또는 20 * 30) → exit 입력 시 종료:  555\n"
     ]
    },
    {
     "name": "stdout",
     "output_type": "stream",
     "text": [
      "❗ 형식이 잘못되었습니다. 예: 20 * 30 또는 100+5\n"
     ]
    },
    {
     "name": "stdout",
     "output_type": "stream",
     "text": [
      "수식을 입력하세요 (예: 20*30 또는 20 * 30) → exit 입력 시 종료:  30*30\n"
     ]
    },
    {
     "name": "stdout",
     "output_type": "stream",
     "text": [
      "30.0 * 30.0 = 900.0\n",
      "----------------------------------------\n"
     ]
    },
    {
     "name": "stdout",
     "output_type": "stream",
     "text": [
      "수식을 입력하세요 (예: 20*30 또는 20 * 30) → exit 입력 시 종료:  exit\n"
     ]
    },
    {
     "name": "stdout",
     "output_type": "stream",
     "text": [
      "계산기를 종료합니다.\n"
     ]
    }
   ],
   "source": [
    "import re\n",
    "\n",
    "while True:\n",
    "    try:\n",
    "        formula = input(\"수식을 입력하세요 (예: 20*30 또는 20 * 30) → exit 입력 시 종료: \")\n",
    "        if formula.lower() == 'exit':\n",
    "            print(\"계산기를 종료합니다.\")\n",
    "            break\n",
    "\n",
    "        # 정규식으로 숫자, 연산자, 숫자를 추출 (공백 없이 입력해도 OK)\n",
    "        match = re.match(r\"\\s*(\\d+(?:\\.\\d+)?)\\s*([+\\-*/%//**]+)\\s*(\\d+(?:\\.\\d+)?)\\s*\", formula)\n",
    "        \n",
    "        if not match:\n",
    "            print(\"❗ 형식이 잘못되었습니다. 예: 20 * 30 또는 100+5\")\n",
    "            continue\n",
    "\n",
    "        num1, opr, num2 = match.groups()\n",
    "        num1 = float(num1)\n",
    "        num2 = float(num2)\n",
    "\n",
    "        # 연산 수행\n",
    "        if opr == '+':\n",
    "            result = num1 + num2\n",
    "        elif opr == '-':\n",
    "            result = num1 - num2\n",
    "        elif opr == '*':\n",
    "            result = num1 * num2\n",
    "        elif opr == '/':30*\n",
    "            result = '0으로 나눌 수 없습니다' if num2 == 0 else num1 / num2\n",
    "        elif opr == '//':\n",
    "            result = '0으로 나눌 수 없습니다' if num2 == 0 else num1 // num2\n",
    "        elif opr == '%':\n",
    "            result = '0으로 나눌 수 없습니다' if num2 == 0 else num1 % num2\n",
    "        elif opr == '**':\n",
    "            result = num1 ** num2\n",
    "        else:\n",
    "            result = '지원하지 않는 연산자입니다.'\n",
    "\n",
    "        print(f'{num1} {opr} {num2} = {result}')\n",
    "        print(\"-\" * 40)\n",
    "\n",
    "    except Exception as e:\n",
    "        print(\"❗ 오류 발생:\", e)\n"
   ]
  },
  {
   "cell_type": "markdown",
   "id": "0266d680-6591-4de2-b97c-b40a2e5296f0",
   "metadata": {},
   "source": [
    "# 1줄로 쓰기"
   ]
  },
  {
   "cell_type": "code",
   "execution_count": 40,
   "id": "8db286f5-e9ac-4b3d-ab09-e328a32a4921",
   "metadata": {},
   "outputs": [
    {
     "name": "stdout",
     "output_type": "stream",
     "text": [
      "홀수\n"
     ]
    }
   ],
   "source": [
    "num = 7\n",
    "# if num % 2 : print('짝수') else print('홀수')\n",
    "print('짝수' if num % 2 == 0 else '홀수')"
   ]
  },
  {
   "cell_type": "code",
   "execution_count": 43,
   "id": "deb692b6-03d5-418f-8b23-2fafb8ec5fa5",
   "metadata": {},
   "outputs": [
    {
     "name": "stdout",
     "output_type": "stream",
     "text": [
      "지금 졸려요? (y / n):  n\n"
     ]
    },
    {
     "name": "stdout",
     "output_type": "stream",
     "text": [
      "화이팅\n"
     ]
    }
   ],
   "source": [
    "# 졸려 = True , 쉽쉬다,화이팅 = false\n",
    "\n",
    "졸려입력 = input(\"지금 졸려요? (y / n): \")\n",
    "\n",
    "졸려 = 졸려입력.lower() == \"y\"  # \"yes\"를 True로 처리\n",
    "\n",
    "action = \"쉽시다\" if 졸려 else \"화이팅\"\n",
    "print(action)\n"
   ]
  },
  {
   "cell_type": "code",
   "execution_count": 46,
   "id": "62a4ada5-ff75-4b1e-8cc9-2f516106a6fa",
   "metadata": {},
   "outputs": [
    {
     "data": {
      "text/plain": [
       "'패'"
      ]
     },
     "execution_count": 46,
     "metadata": {},
     "output_type": "execute_result"
    }
   ],
   "source": [
    "# 가위 바위 보\n",
    "\n",
    "player = '가위'\n",
    "computer ='바위'\n",
    "#result = '승' '패' '무승부'\n",
    "result = '승' if (player == '가위' and computer == '보') else '무승부' if player == computer else '패'\n",
    "result"
   ]
  },
  {
   "cell_type": "code",
   "execution_count": 48,
   "id": "c7179e3b-f989-4929-adb2-3c8166faa20b",
   "metadata": {},
   "outputs": [
    {
     "name": "stdout",
     "output_type": "stream",
     "text": [
      "점수를 입력하세요: 99\n"
     ]
    },
    {
     "name": "stdout",
     "output_type": "stream",
     "text": [
      "학점은 A 입니다.\n"
     ]
    }
   ],
   "source": [
    "# 학점 A,B,C,D 출력하는 1줄 조건식\n",
    "\n",
    "score = int(input(\"점수를 입력하세요:\"))\n",
    "grade = 'A' if score >=90 else 'B' if score >= 80 else 'C' if score >=70 else 'D' if score >=60 else 'F'\n",
    "print(f'학점은 {grade} 입니다.')"
   ]
  },
  {
   "cell_type": "code",
   "execution_count": 49,
   "id": "25ed3afd-f1f2-4ef9-8545-75d7d18e0b0b",
   "metadata": {},
   "outputs": [
    {
     "name": "stdout",
     "output_type": "stream",
     "text": [
      "점수를 입력하세요 (종료하려면 'exit'):  1\n"
     ]
    },
    {
     "name": "stdout",
     "output_type": "stream",
     "text": [
      "학점은 F 입니다.\n",
      "\n"
     ]
    },
    {
     "name": "stdout",
     "output_type": "stream",
     "text": [
      "점수를 입력하세요 (종료하려면 'exit'):  50\n"
     ]
    },
    {
     "name": "stdout",
     "output_type": "stream",
     "text": [
      "학점은 F 입니다.\n",
      "\n"
     ]
    },
    {
     "name": "stdout",
     "output_type": "stream",
     "text": [
      "점수를 입력하세요 (종료하려면 'exit'):  60\n"
     ]
    },
    {
     "name": "stdout",
     "output_type": "stream",
     "text": [
      "학점은 D 입니다.\n",
      "\n"
     ]
    },
    {
     "name": "stdout",
     "output_type": "stream",
     "text": [
      "점수를 입력하세요 (종료하려면 'exit'):  70\n"
     ]
    },
    {
     "name": "stdout",
     "output_type": "stream",
     "text": [
      "학점은 C 입니다.\n",
      "\n"
     ]
    },
    {
     "name": "stdout",
     "output_type": "stream",
     "text": [
      "점수를 입력하세요 (종료하려면 'exit'):  80\n"
     ]
    },
    {
     "name": "stdout",
     "output_type": "stream",
     "text": [
      "학점은 B 입니다.\n",
      "\n"
     ]
    },
    {
     "name": "stdout",
     "output_type": "stream",
     "text": [
      "점수를 입력하세요 (종료하려면 'exit'):  90\n"
     ]
    },
    {
     "name": "stdout",
     "output_type": "stream",
     "text": [
      "학점은 A 입니다.\n",
      "\n"
     ]
    },
    {
     "name": "stdout",
     "output_type": "stream",
     "text": [
      "점수를 입력하세요 (종료하려면 'exit'):  ㅁ\n"
     ]
    },
    {
     "name": "stdout",
     "output_type": "stream",
     "text": [
      "숫자를 입력하거나 'exit'를 입력하세요.\n",
      "\n"
     ]
    },
    {
     "name": "stdout",
     "output_type": "stream",
     "text": [
      "점수를 입력하세요 (종료하려면 'exit'):  ㅂ\n"
     ]
    },
    {
     "name": "stdout",
     "output_type": "stream",
     "text": [
      "숫자를 입력하거나 'exit'를 입력하세요.\n",
      "\n"
     ]
    },
    {
     "name": "stdout",
     "output_type": "stream",
     "text": [
      "점수를 입력하세요 (종료하려면 'exit'):  ㄷ\n"
     ]
    },
    {
     "name": "stdout",
     "output_type": "stream",
     "text": [
      "숫자를 입력하거나 'exit'를 입력하세요.\n",
      "\n"
     ]
    },
    {
     "name": "stdout",
     "output_type": "stream",
     "text": [
      "점수를 입력하세요 (종료하려면 'exit'):  ㅈ\n"
     ]
    },
    {
     "name": "stdout",
     "output_type": "stream",
     "text": [
      "숫자를 입력하거나 'exit'를 입력하세요.\n",
      "\n"
     ]
    },
    {
     "name": "stdout",
     "output_type": "stream",
     "text": [
      "점수를 입력하세요 (종료하려면 'exit'):  exit\n"
     ]
    },
    {
     "name": "stdout",
     "output_type": "stream",
     "text": [
      "학점 계산기를 종료합니다.\n"
     ]
    }
   ],
   "source": [
    "while True:\n",
    "    score_input = input(\"점수를 입력하세요 (종료하려면 'exit'): \")\n",
    "\n",
    "    if score_input.lower() == 'exit':\n",
    "        print(\"학점 계산기를 종료합니다.\")\n",
    "        break  # 반복 종료\n",
    "\n",
    "    if not score_input.isdigit():\n",
    "        print(\"숫자를 입력하거나 'exit'를 입력하세요.\\n\")\n",
    "        continue\n",
    "\n",
    "    score = int(score_input)\n",
    "    grade = 'A' if score >=90 else 'B' if score >= 80 else 'C' if score >=70 else 'D' if score >=60 else 'F'\n",
    "    print(f'학점은 {grade} 입니다.\\n')\n"
   ]
  },
  {
   "cell_type": "code",
   "execution_count": 51,
   "id": "3a32b3c6-40f8-491e-a3df-178b7fc3ce0a",
   "metadata": {},
   "outputs": [],
   "source": [
    "for i in range(1, 11):\n",
    "    if 1 % 2 != 0: # 홀수인 경우\n",
    "        continue\n",
    "    print(i) # 짝수만 출력"
   ]
  },
  {
   "cell_type": "markdown",
   "id": "3bbafedc-4b20-4918-8aa7-98f20b6dd08a",
   "metadata": {},
   "source": [
    "# break/continue/pass 문"
   ]
  },
  {
   "cell_type": "code",
   "execution_count": null,
   "id": "5a398879-0cca-4137-87f3-884578df1366",
   "metadata": {},
   "outputs": [],
   "source": [
    "for : \n",
    "\tif  조건식 : \n",
    "\t\tbreak : \n",
    "\telse :"
   ]
  },
  {
   "cell_type": "code",
   "execution_count": null,
   "id": "e0173d3a-375d-47c3-80bb-c80d44ddd206",
   "metadata": {},
   "outputs": [],
   "source": []
  },
  {
   "cell_type": "code",
   "execution_count": null,
   "id": "844001c0-6b8d-45e1-8653-e69634e2b96f",
   "metadata": {},
   "outputs": [],
   "source": []
  },
  {
   "cell_type": "code",
   "execution_count": null,
   "id": "3181286c-086e-400c-bf63-7c1bf23e19e7",
   "metadata": {},
   "outputs": [],
   "source": []
  },
  {
   "cell_type": "code",
   "execution_count": null,
   "id": "2fdfed95-99c4-4b0f-9b0c-fba458962fcf",
   "metadata": {},
   "outputs": [],
   "source": []
  }
 ],
 "metadata": {
  "kernelspec": {
   "display_name": "Python 3 (ipykernel)",
   "language": "python",
   "name": "python3"
  },
  "language_info": {
   "codemirror_mode": {
    "name": "ipython",
    "version": 3
   },
   "file_extension": ".py",
   "mimetype": "text/x-python",
   "name": "python",
   "nbconvert_exporter": "python",
   "pygments_lexer": "ipython3",
   "version": "3.12.1"
  }
 },
 "nbformat": 4,
 "nbformat_minor": 5
}
