{
 "cells": [
  {
   "cell_type": "code",
   "execution_count": null,
   "id": "d7218672",
   "metadata": {},
   "outputs": [],
   "source": [
    "import pandas as pd"
   ]
  },
  {
   "cell_type": "markdown",
   "id": "ef671097",
   "metadata": {},
   "source": [
    "# data/gapminder.tsv 를 읽어 데이터 프레임 만들기"
   ]
  },
  {
   "cell_type": "code",
   "execution_count": 1,
   "id": "21cb0a91",
   "metadata": {},
   "outputs": [
    {
     "name": "stdout",
     "output_type": "stream",
     "text": [
      "       country continent  year  lifeExp       pop   gdpPercap\n",
      "0  Afghanistan      Asia  1952   28.801   8425333  779.445314\n",
      "1  Afghanistan      Asia  1957   30.332   9240934  820.853030\n",
      "2  Afghanistan      Asia  1962   31.997  10267083  853.100710\n",
      "3  Afghanistan      Asia  1967   34.020  11537966  836.197138\n",
      "4  Afghanistan      Asia  1972   36.088  13079460  739.981106\n"
     ]
    }
   ],
   "source": [
    "import pandas as pd\n",
    "\n",
    "# tab으로 구분된 gapminder.tsv 파일을 읽어서 데이터프레임 생성\n",
    "df = pd.read_csv(\"data/gapminder.tsv\", sep=\"\\t\")\n",
    "\n",
    "# 데이터프레임 상위 5개 행 출력\n",
    "print(df.head())\n"
   ]
  },
  {
   "cell_type": "markdown",
   "id": "542f6407",
   "metadata": {},
   "source": [
    "# 미리보기\n",
    "\n",
    "### 데이터프레임 사용\n",
    "\n",
    "**미리보기 기능 :** 데이터프레임에서 먼저 데이터의 구조와 내용을 빠르게 파악하기 위한 기능\n",
    "\n",
    "- head(): 데이터프레임의 처음 5개 행을 보여준다 (매개변수로 다른 숫자 지정 가능)\n",
    "- tail(): 데이터프레임의 마지막 5개 행을 보여준다\n",
    "- info(): 데이터프레임의 기본 정보 (행/열 개수, 데이터 타입, 메모리 사용량 등)를 표시\n",
    "- describe(): 수치형 열에 대한 요약 통계량 (평균, 표준편차, 최소/최대값 등)을 계산"
   ]
  },
  {
   "cell_type": "code",
   "execution_count": 2,
   "id": "28635ccc",
   "metadata": {},
   "outputs": [
    {
     "name": "stdout",
     "output_type": "stream",
     "text": [
      "       country continent  year  lifeExp       pop   gdpPercap\n",
      "0  Afghanistan      Asia  1952   28.801   8425333  779.445314\n",
      "1  Afghanistan      Asia  1957   30.332   9240934  820.853030\n",
      "2  Afghanistan      Asia  1962   31.997  10267083  853.100710\n",
      "3  Afghanistan      Asia  1967   34.020  11537966  836.197138\n",
      "4  Afghanistan      Asia  1972   36.088  13079460  739.981106\n",
      "       country continent  year  lifeExp       pop   gdpPercap\n",
      "1699  Zimbabwe    Africa  1987   62.351   9216418  706.157306\n",
      "1700  Zimbabwe    Africa  1992   60.377  10704340  693.420786\n",
      "1701  Zimbabwe    Africa  1997   46.809  11404948  792.449960\n",
      "1702  Zimbabwe    Africa  2002   39.989  11926563  672.038623\n",
      "1703  Zimbabwe    Africa  2007   43.487  12311143  469.709298\n",
      "(1704, 6)\n",
      "Index(['country', 'continent', 'year', 'lifeExp', 'pop', 'gdpPercap'], dtype='object')\n",
      "             year      lifeExp           pop      gdpPercap\n",
      "count  1704.00000  1704.000000  1.704000e+03    1704.000000\n",
      "mean   1979.50000    59.474439  2.960121e+07    7215.327081\n",
      "std      17.26533    12.917107  1.061579e+08    9857.454543\n",
      "min    1952.00000    23.599000  6.001100e+04     241.165876\n",
      "25%    1965.75000    48.198000  2.793664e+06    1202.060309\n",
      "50%    1979.50000    60.712500  7.023596e+06    3531.846988\n",
      "75%    1993.25000    70.845500  1.958522e+07    9325.462346\n",
      "max    2007.00000    82.603000  1.318683e+09  113523.132900\n"
     ]
    }
   ],
   "source": [
    "import pandas as pd\n",
    "\n",
    "df = pd.read_csv(\"data/gapminder.tsv\", sep=\"\\t\")\n",
    "\n",
    "# 1. 상위 5개 행 미리보기\n",
    "print(df.head())\n",
    "\n",
    "# 2. 하위 5개 행 미리보기\n",
    "print(df.tail())\n",
    "\n",
    "# 3. 전체 shape(행/열 수) 확인\n",
    "print(df.shape)  # (행 개수, 열 개수)\n",
    "\n",
    "# 4. 열 이름만 보기\n",
    "print(df.columns)\n",
    "\n",
    "# 5. 간단한 통계 요약\n",
    "print(df.describe())\n"
   ]
  },
  {
   "cell_type": "markdown",
   "id": "5699034e",
   "metadata": {
    "vscode": {
     "languageId": "plaintext"
    }
   },
   "source": [
    "# country 열 추출하기"
   ]
  },
  {
   "cell_type": "code",
   "execution_count": 5,
   "id": "2baa3704",
   "metadata": {},
   "outputs": [
    {
     "data": {
      "text/plain": [
       "pandas.core.series.Series"
      ]
     },
     "execution_count": 5,
     "metadata": {},
     "output_type": "execute_result"
    }
   ],
   "source": [
    "type(df[\"country\"])  # pandas.core.series.Series\n"
   ]
  },
  {
   "cell_type": "code",
   "execution_count": 4,
   "id": "71d88dde",
   "metadata": {},
   "outputs": [
    {
     "data": {
      "text/plain": [
       "0       Afghanistan\n",
       "1       Afghanistan\n",
       "2       Afghanistan\n",
       "3       Afghanistan\n",
       "4       Afghanistan\n",
       "           ...     \n",
       "1699       Zimbabwe\n",
       "1700       Zimbabwe\n",
       "1701       Zimbabwe\n",
       "1702       Zimbabwe\n",
       "1703       Zimbabwe\n",
       "Name: country, Length: 1704, dtype: object"
      ]
     },
     "execution_count": 4,
     "metadata": {},
     "output_type": "execute_result"
    }
   ],
   "source": [
    "df.loc[:,'country']\n",
    "# 나중에 조건 지정이 많아지면 df.loc[row, col] 형태로 넘어가게 돼.\n"
   ]
  },
  {
   "cell_type": "markdown",
   "id": "ac495b0d",
   "metadata": {},
   "source": [
    "# 'country', 'continent', 'year' 열 추출하기"
   ]
  },
  {
   "cell_type": "code",
   "execution_count": 7,
   "id": "7722a051",
   "metadata": {},
   "outputs": [
    {
     "name": "stdout",
     "output_type": "stream",
     "text": [
      "       country continent  year\n",
      "0  Afghanistan      Asia  1952\n",
      "1  Afghanistan      Asia  1957\n",
      "2  Afghanistan      Asia  1962\n",
      "3  Afghanistan      Asia  1967\n",
      "4  Afghanistan      Asia  1972\n"
     ]
    }
   ],
   "source": [
    "# 방법 1: df[[\"열1\", \"열2\", \"열3\"]] 방식 (가장 많이 씀)\n",
    "df[[\"country\", \"continent\", \"year\"]]\n",
    "\n",
    "print(df[[\"country\", \"continent\", \"year\"]].head())"
   ]
  },
  {
   "cell_type": "code",
   "execution_count": 8,
   "id": "887382d1",
   "metadata": {},
   "outputs": [
    {
     "name": "stdout",
     "output_type": "stream",
     "text": [
      "       country continent  year\n",
      "0  Afghanistan      Asia  1952\n",
      "1  Afghanistan      Asia  1957\n",
      "2  Afghanistan      Asia  1962\n",
      "3  Afghanistan      Asia  1967\n",
      "4  Afghanistan      Asia  1972\n"
     ]
    }
   ],
   "source": [
    "# 방법 2: .loc 사용\n",
    "df.loc[:, [\"country\", \"continent\", \"year\"]]\n",
    "# .loc는 행과 열을 동시에 다룰 수 있으니까, 조건 추가하고 싶을 때 유용해.\n",
    "\n",
    "print(df[[\"country\", \"continent\", \"year\"]].head())"
   ]
  },
  {
   "cell_type": "markdown",
   "id": "04bbb2ec",
   "metadata": {},
   "source": [
    "# [0], [99] , [-1] 행을 각각 추출하기"
   ]
  },
  {
   "cell_type": "code",
   "execution_count": 9,
   "id": "bf3d74e9",
   "metadata": {},
   "outputs": [
    {
     "name": "stdout",
     "output_type": "stream",
     "text": [
      "country      Afghanistan\n",
      "continent           Asia\n",
      "year                1952\n",
      "lifeExp           28.801\n",
      "pop              8425333\n",
      "gdpPercap     779.445314\n",
      "Name: 0, dtype: object\n",
      "country      Bangladesh\n",
      "continent          Asia\n",
      "year               1967\n",
      "lifeExp          43.453\n",
      "pop            62821884\n",
      "gdpPercap    721.186086\n",
      "Name: 99, dtype: object\n",
      "country        Zimbabwe\n",
      "continent        Africa\n",
      "year               2007\n",
      "lifeExp          43.487\n",
      "pop            12311143\n",
      "gdpPercap    469.709298\n",
      "Name: 1703, dtype: object\n"
     ]
    }
   ],
   "source": [
    "# ✅ 특정 행 추출: .iloc[] 사용\n",
    "\n",
    "# 0번째 행\n",
    "print(df.iloc[0])\n",
    "\n",
    "# 99번째 행\n",
    "print(df.iloc[99])\n",
    "\n",
    "# 마지막 행\n",
    "print(df.iloc[-1])\n"
   ]
  },
  {
   "cell_type": "code",
   "execution_count": 12,
   "id": "f10032f2",
   "metadata": {},
   "outputs": [
    {
     "name": "stdout",
     "output_type": "stream",
     "text": [
      "          country continent  year  lifeExp       pop   gdpPercap\n",
      "0     Afghanistan      Asia  1952   28.801   8425333  779.445314\n",
      "99     Bangladesh      Asia  1967   43.453  62821884  721.186086\n",
      "1703     Zimbabwe    Africa  2007   43.487  12311143  469.709298\n"
     ]
    }
   ],
   "source": [
    "# ✅ 여러 행을 동시에 추출하려면?\n",
    "\n",
    "print(df.iloc[[0, 99, -1]])\n"
   ]
  },
  {
   "cell_type": "code",
   "execution_count": null,
   "id": "8c5cde80",
   "metadata": {},
   "outputs": [],
   "source": []
  }
 ],
 "metadata": {
  "kernelspec": {
   "display_name": "base",
   "language": "python",
   "name": "python3"
  },
  "language_info": {
   "codemirror_mode": {
    "name": "ipython",
    "version": 3
   },
   "file_extension": ".py",
   "mimetype": "text/x-python",
   "name": "python",
   "nbconvert_exporter": "python",
   "pygments_lexer": "ipython3",
   "version": "3.12.1"
  }
 },
 "nbformat": 4,
 "nbformat_minor": 5
}
